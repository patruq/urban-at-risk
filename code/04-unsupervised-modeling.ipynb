{
 "cells": [
  {
   "cell_type": "code",
   "execution_count": 65,
   "metadata": {
    "ExecuteTime": {
     "end_time": "2020-06-05T21:51:20.145774Z",
     "start_time": "2020-06-05T21:51:20.136682Z"
    }
   },
   "outputs": [],
   "source": [
    "# STANDARD LIBRARIES\n",
    "import pandas as pd\n",
    "import numpy as np\n",
    "import pickle\n",
    "\n",
    "# VISUALS\n",
    "import matplotlib.pyplot as plt\n",
    "import matplotlib.gridspec as gridspec\n",
    "import seaborn as sns\n",
    "import mglearn\n",
    "\n",
    "# FEATURE ENGINEERING AND PREPROCESSING\n",
    "from sklearn.preprocessing import StandardScaler, normalize\n",
    "from sklearn.pipeline import Pipeline\n",
    "from sklearn.model_selection import GridSearchCV, train_test_split\n",
    "from sklearn.neighbors import NearestNeighbors, NearestCentroid\n",
    "from sklearn import metrics\n",
    "\n",
    "# MODELING\n",
    "from sklearn.cluster import DBSCAN, OPTICS, cluster_optics_dbscan\n",
    "\n",
    "# METRICS\n",
    "from sklearn.metrics import silhouette_score\n",
    "import kneed\n",
    "from kneed import knee_locator, KneeLocator\n",
    "\n",
    "%matplotlib inline"
   ]
  },
  {
   "cell_type": "markdown",
   "metadata": {
    "heading_collapsed": true
   },
   "source": [
    "# Read Files"
   ]
  },
  {
   "cell_type": "code",
   "execution_count": 54,
   "metadata": {
    "ExecuteTime": {
     "end_time": "2020-06-05T21:43:24.346421Z",
     "start_time": "2020-06-05T21:43:23.640920Z"
    },
    "hidden": true
   },
   "outputs": [],
   "source": [
    "main = pd.read_csv(\"../data/clean-data/main-engineered.csv\", low_memory=False)\n",
    "main.drop(columns=\"Unnamed: 0\", inplace=True)"
   ]
  },
  {
   "cell_type": "code",
   "execution_count": 55,
   "metadata": {
    "ExecuteTime": {
     "end_time": "2020-06-05T21:43:24.819328Z",
     "start_time": "2020-06-05T21:43:24.784506Z"
    },
    "hidden": true,
    "scrolled": true
   },
   "outputs": [
    {
     "name": "stdout",
     "output_type": "stream",
     "text": [
      "(97515, 104)\n",
      "0\n"
     ]
    },
    {
     "data": {
      "text/html": [
       "<div>\n",
       "<style scoped>\n",
       "    .dataframe tbody tr th:only-of-type {\n",
       "        vertical-align: middle;\n",
       "    }\n",
       "\n",
       "    .dataframe tbody tr th {\n",
       "        vertical-align: top;\n",
       "    }\n",
       "\n",
       "    .dataframe thead th {\n",
       "        text-align: right;\n",
       "    }\n",
       "</style>\n",
       "<table border=\"1\" class=\"dataframe\">\n",
       "  <thead>\n",
       "    <tr style=\"text-align: right;\">\n",
       "      <th></th>\n",
       "      <th>zip_street</th>\n",
       "      <th>sum_land_value_street</th>\n",
       "      <th>sum_bldg_value_street</th>\n",
       "      <th>sum_total_value_street</th>\n",
       "      <th>sum_gross_tax_street</th>\n",
       "      <th>avg_land_value_street</th>\n",
       "      <th>avg_bldg_value_street</th>\n",
       "      <th>avg_total_value_street</th>\n",
       "      <th>avg_gross_tax_street</th>\n",
       "      <th>sum_land_value_zip</th>\n",
       "      <th>...</th>\n",
       "      <th>avg_fire_content_loss_zip</th>\n",
       "      <th>reason_category</th>\n",
       "      <th>source_category</th>\n",
       "      <th>requests_total_prop</th>\n",
       "      <th>requests_total_street</th>\n",
       "      <th>requests_total_zip</th>\n",
       "      <th>req_open_status_prop</th>\n",
       "      <th>req_open_status_street</th>\n",
       "      <th>req_open_status_zip</th>\n",
       "      <th>label_zip</th>\n",
       "    </tr>\n",
       "  </thead>\n",
       "  <tbody>\n",
       "    <tr>\n",
       "      <th>0</th>\n",
       "      <td>beacon 02108</td>\n",
       "      <td>188299425</td>\n",
       "      <td>1264932993</td>\n",
       "      <td>1453232418</td>\n",
       "      <td>2540703954</td>\n",
       "      <td>399786.464968</td>\n",
       "      <td>2.685633e+06</td>\n",
       "      <td>3.085419e+06</td>\n",
       "      <td>5.394276e+06</td>\n",
       "      <td>1429494339</td>\n",
       "      <td>...</td>\n",
       "      <td>126.363636</td>\n",
       "      <td>0.0</td>\n",
       "      <td>0.0</td>\n",
       "      <td>0.0</td>\n",
       "      <td>0.0</td>\n",
       "      <td>0.0</td>\n",
       "      <td>0.0</td>\n",
       "      <td>0.0</td>\n",
       "      <td>0.0</td>\n",
       "      <td>1</td>\n",
       "    </tr>\n",
       "    <tr>\n",
       "      <th>1</th>\n",
       "      <td>beacon 02108</td>\n",
       "      <td>188299425</td>\n",
       "      <td>1264932993</td>\n",
       "      <td>1453232418</td>\n",
       "      <td>2540703954</td>\n",
       "      <td>399786.464968</td>\n",
       "      <td>2.685633e+06</td>\n",
       "      <td>3.085419e+06</td>\n",
       "      <td>5.394276e+06</td>\n",
       "      <td>1429494339</td>\n",
       "      <td>...</td>\n",
       "      <td>0.000000</td>\n",
       "      <td>0.0</td>\n",
       "      <td>0.0</td>\n",
       "      <td>0.0</td>\n",
       "      <td>0.0</td>\n",
       "      <td>0.0</td>\n",
       "      <td>0.0</td>\n",
       "      <td>0.0</td>\n",
       "      <td>0.0</td>\n",
       "      <td>1</td>\n",
       "    </tr>\n",
       "    <tr>\n",
       "      <th>2</th>\n",
       "      <td>beacon 02108</td>\n",
       "      <td>188299425</td>\n",
       "      <td>1264932993</td>\n",
       "      <td>1453232418</td>\n",
       "      <td>2540703954</td>\n",
       "      <td>399786.464968</td>\n",
       "      <td>2.685633e+06</td>\n",
       "      <td>3.085419e+06</td>\n",
       "      <td>5.394276e+06</td>\n",
       "      <td>1429494339</td>\n",
       "      <td>...</td>\n",
       "      <td>126.363636</td>\n",
       "      <td>0.0</td>\n",
       "      <td>0.0</td>\n",
       "      <td>0.0</td>\n",
       "      <td>0.0</td>\n",
       "      <td>0.0</td>\n",
       "      <td>0.0</td>\n",
       "      <td>0.0</td>\n",
       "      <td>0.0</td>\n",
       "      <td>1</td>\n",
       "    </tr>\n",
       "    <tr>\n",
       "      <th>3</th>\n",
       "      <td>beacon 02108</td>\n",
       "      <td>188299425</td>\n",
       "      <td>1264932993</td>\n",
       "      <td>1453232418</td>\n",
       "      <td>2540703954</td>\n",
       "      <td>399786.464968</td>\n",
       "      <td>2.685633e+06</td>\n",
       "      <td>3.085419e+06</td>\n",
       "      <td>5.394276e+06</td>\n",
       "      <td>1429494339</td>\n",
       "      <td>...</td>\n",
       "      <td>0.000000</td>\n",
       "      <td>0.0</td>\n",
       "      <td>0.0</td>\n",
       "      <td>0.0</td>\n",
       "      <td>0.0</td>\n",
       "      <td>0.0</td>\n",
       "      <td>0.0</td>\n",
       "      <td>0.0</td>\n",
       "      <td>0.0</td>\n",
       "      <td>1</td>\n",
       "    </tr>\n",
       "    <tr>\n",
       "      <th>4</th>\n",
       "      <td>beacon 02108</td>\n",
       "      <td>188299425</td>\n",
       "      <td>1264932993</td>\n",
       "      <td>1453232418</td>\n",
       "      <td>2540703954</td>\n",
       "      <td>399786.464968</td>\n",
       "      <td>2.685633e+06</td>\n",
       "      <td>3.085419e+06</td>\n",
       "      <td>5.394276e+06</td>\n",
       "      <td>1429494339</td>\n",
       "      <td>...</td>\n",
       "      <td>126.363636</td>\n",
       "      <td>0.0</td>\n",
       "      <td>0.0</td>\n",
       "      <td>0.0</td>\n",
       "      <td>0.0</td>\n",
       "      <td>0.0</td>\n",
       "      <td>0.0</td>\n",
       "      <td>0.0</td>\n",
       "      <td>0.0</td>\n",
       "      <td>1</td>\n",
       "    </tr>\n",
       "  </tbody>\n",
       "</table>\n",
       "<p>5 rows × 104 columns</p>\n",
       "</div>"
      ],
      "text/plain": [
       "     zip_street  sum_land_value_street  sum_bldg_value_street  \\\n",
       "0  beacon 02108              188299425             1264932993   \n",
       "1  beacon 02108              188299425             1264932993   \n",
       "2  beacon 02108              188299425             1264932993   \n",
       "3  beacon 02108              188299425             1264932993   \n",
       "4  beacon 02108              188299425             1264932993   \n",
       "\n",
       "   sum_total_value_street  sum_gross_tax_street  avg_land_value_street  \\\n",
       "0              1453232418            2540703954          399786.464968   \n",
       "1              1453232418            2540703954          399786.464968   \n",
       "2              1453232418            2540703954          399786.464968   \n",
       "3              1453232418            2540703954          399786.464968   \n",
       "4              1453232418            2540703954          399786.464968   \n",
       "\n",
       "   avg_bldg_value_street  avg_total_value_street  avg_gross_tax_street  \\\n",
       "0           2.685633e+06            3.085419e+06          5.394276e+06   \n",
       "1           2.685633e+06            3.085419e+06          5.394276e+06   \n",
       "2           2.685633e+06            3.085419e+06          5.394276e+06   \n",
       "3           2.685633e+06            3.085419e+06          5.394276e+06   \n",
       "4           2.685633e+06            3.085419e+06          5.394276e+06   \n",
       "\n",
       "   sum_land_value_zip  ...  avg_fire_content_loss_zip  reason_category  \\\n",
       "0          1429494339  ...                 126.363636              0.0   \n",
       "1          1429494339  ...                   0.000000              0.0   \n",
       "2          1429494339  ...                 126.363636              0.0   \n",
       "3          1429494339  ...                   0.000000              0.0   \n",
       "4          1429494339  ...                 126.363636              0.0   \n",
       "\n",
       "   source_category  requests_total_prop  requests_total_street  \\\n",
       "0              0.0                  0.0                    0.0   \n",
       "1              0.0                  0.0                    0.0   \n",
       "2              0.0                  0.0                    0.0   \n",
       "3              0.0                  0.0                    0.0   \n",
       "4              0.0                  0.0                    0.0   \n",
       "\n",
       "   requests_total_zip  req_open_status_prop  req_open_status_street  \\\n",
       "0                 0.0                   0.0                     0.0   \n",
       "1                 0.0                   0.0                     0.0   \n",
       "2                 0.0                   0.0                     0.0   \n",
       "3                 0.0                   0.0                     0.0   \n",
       "4                 0.0                   0.0                     0.0   \n",
       "\n",
       "   req_open_status_zip  label_zip  \n",
       "0                  0.0          1  \n",
       "1                  0.0          1  \n",
       "2                  0.0          1  \n",
       "3                  0.0          1  \n",
       "4                  0.0          1  \n",
       "\n",
       "[5 rows x 104 columns]"
      ]
     },
     "execution_count": 55,
     "metadata": {},
     "output_type": "execute_result"
    }
   ],
   "source": [
    "print(main.shape)\n",
    "print(main.isna().sum().sum())\n",
    "main.head()"
   ]
  },
  {
   "cell_type": "code",
   "execution_count": 57,
   "metadata": {
    "ExecuteTime": {
     "end_time": "2020-06-05T21:43:37.063620Z",
     "start_time": "2020-06-05T21:43:37.059702Z"
    },
    "hidden": true
   },
   "outputs": [
    {
     "data": {
      "text/plain": [
       "34"
      ]
     },
     "execution_count": 57,
     "metadata": {},
     "output_type": "execute_result"
    }
   ],
   "source": [
    "main[\"label_zip\"].nunique()"
   ]
  },
  {
   "cell_type": "markdown",
   "metadata": {},
   "source": [
    "# Features and Preprocessing"
   ]
  },
  {
   "cell_type": "code",
   "execution_count": 66,
   "metadata": {
    "ExecuteTime": {
     "end_time": "2020-06-05T21:51:29.384957Z",
     "start_time": "2020-06-05T21:51:29.177335Z"
    }
   },
   "outputs": [],
   "source": [
    "#=============================================================\n",
    "X = main.drop(columns=[\n",
    "    \"label_zip\",\n",
    "    \"zip_street\"\n",
    "])\n",
    "y = main[\"label_zip\"]\n",
    "\n",
    "#=============================================================\n",
    "# CLUSTER ON THE ENTIRE DF\n",
    "# Z = main.drop(columns=[\n",
    "#     \"label_zip\",\n",
    "#     \"label_street\",\n",
    "#     \"zipcode\",\n",
    "#     \"zip_street\",\n",
    "#     \"zip_num_street\"\n",
    "# ])\n",
    "ss = StandardScaler()\n",
    "Z = ss.fit_transform(X)\n",
    "# NORMALIZE TO FOLLOW A GAUSSIAN DIST\n",
    "Z = normalize(Z)\n",
    "\n",
    "#=============================================================\n",
    "\n",
    "# CREATE SUBSET GROUPS TO CLUSTER ON\n",
    "# prop_cols = [col for col in main.columns if \"pw_\" in col]\n",
    "pw_cols = [col for col in main.columns if \"pw_\" in col]\n",
    "fire_cols = [col for col in main.columns if \"fire_\" in col]\n",
    "req_cols = [col for col in main.columns if \"req_\" in col]\n",
    "#=============================================================\n",
    "\n",
    "# PW VIOLATIONS\n",
    "Z_pw = main[pw_cols].copy()\n",
    "Z_pw[\"label_zip\"] = main[\"label_zip\"].copy()\n",
    "    \n",
    "ss = StandardScaler()\n",
    "Z_pw = ss.fit_transform(Z_pw)\n",
    "#=============================================================\n",
    "\n",
    "# FIRE INCIDENTS \n",
    "Z_fire= main[fire_cols].copy()\n",
    "Z_fire[\"label_zip\"] = main[\"label_zip\"].copy()\n",
    "    \n",
    "ss = StandardScaler()\n",
    "Z_fire= ss.fit_transform(Z_fire)\n",
    "#============================================================="
   ]
  },
  {
   "cell_type": "markdown",
   "metadata": {},
   "source": [
    "# Functions"
   ]
  },
  {
   "cell_type": "code",
   "execution_count": 61,
   "metadata": {
    "ExecuteTime": {
     "end_time": "2020-06-05T21:44:53.930735Z",
     "start_time": "2020-06-05T21:44:53.927302Z"
    }
   },
   "outputs": [],
   "source": [
    "def nearest_nb(x):\n",
    "    nb = NearestNeighbors(n_neighbors=5, algorithm=\"auto\", metric=\"euclidean\").fit(x)\n",
    "    distances, indices = nb.kneighbors(x)\n",
    "    \n",
    "    return distances, indices\n",
    "# https://stackoverflow.com/questions/51305370/calculating-average-distance-of-nearest-neighbours-in-pandas-dataframe"
   ]
  },
  {
   "cell_type": "markdown",
   "metadata": {},
   "source": [
    "# DBSCAN"
   ]
  },
  {
   "cell_type": "markdown",
   "metadata": {},
   "source": [
    "**Limitations**\n",
    "\n",
    "Implicit assumptions in this approach:\n",
    "\n",
    "- Densities across all the clusters are the same.\n",
    "- Cluster sizes or standard deviations are the same."
   ]
  },
  {
   "cell_type": "markdown",
   "metadata": {},
   "source": [
    "## Main"
   ]
  },
  {
   "cell_type": "markdown",
   "metadata": {},
   "source": [
    "**Distance**"
   ]
  },
  {
   "cell_type": "code",
   "execution_count": 68,
   "metadata": {
    "ExecuteTime": {
     "end_time": "2020-06-05T21:54:36.668894Z",
     "start_time": "2020-06-05T21:54:28.992963Z"
    }
   },
   "outputs": [
    {
     "name": "stdout",
     "output_type": "stream",
     "text": [
      "(97515, 5)\n",
      "0.0\n"
     ]
    },
    {
     "data": {
      "text/plain": [
       "<Figure size 2160x1440 with 0 Axes>"
      ]
     },
     "metadata": {},
     "output_type": "display_data"
    },
    {
     "data": {
      "text/plain": [
       "<Figure size 360x360 with 0 Axes>"
      ]
     },
     "metadata": {},
     "output_type": "display_data"
    },
    {
     "data": {
      "image/png": "[encoded data removed]",
      "text/plain": [
       "<Figure size 432x432 with 1 Axes>"
      ]
     },
     "metadata": {
      "needs_background": "light"
     },
     "output_type": "display_data"
    }
   ],
   "source": [
    "# COMMENT/UNCOMMENT OUT FOR DISTANCES\n",
    "#=========================\n",
    "# CALL FUNCTION TO FIND NEAREST NEIGHBORS (nearest_nb)\n",
    "distances_main, indices_main = nearest_nb(Z)\n",
    "\n",
    "#=========================\n",
    "# SAVE THE DISTANCES AND INDICES\n",
    "#=========================\n",
    "filename = \"../assets/variables/main-nb-distances\"\n",
    "outfile = open(filename, \"wb\")\n",
    "pickle.dump(distances_main, outfile)\n",
    "outfile.close()\n",
    "\n",
    "filename = \"../assets/variables/main-nb-indices\"\n",
    "outfile = open(filename, \"wb\")\n",
    "pickle.dump(indices_main, outfile)\n",
    "outfile.close()\n",
    "#=========================\n",
    "\n",
    "# READ IN THE DISTANCE AND INDICES FILES SAVED ABOVE\n",
    "# distances_main = pd.read_pickle(\"../assets/variables/main-nb-distances\")\n",
    "\n",
    "# indices_main = pd.read_pickle(\"../assets/variables/main-nb-indices\")\n",
    "#=========================\n",
    "\n",
    "# PRINT SHAPE OF DISTANCES\n",
    "print(distances_main.shape)\n",
    "\n",
    "distances_main = np.sort(distances_main, axis=0)\n",
    "# BELOW SHOULD BE RAN ONLY ONCE, COMMENT OUT WHEN RAN THE FIRST TIME\n",
    "distances_main = distances_main[:, 1]\n",
    "\n",
    "# plt.figure(figsize=(12, 8))\n",
    "\n",
    "# plt.plot(distances_main);\n",
    "\n",
    "# https://towardsdatascience.com/how-to-use-dbscan-effectively-ed212c02e62\n",
    "# THIS PLOT SHOWS THE POINT OF MAX DISTANCE BETWEEN 2 POINTS\n",
    "    # IT IS THE POINT OF 'GREATEST DEPARTURE'\n",
    "plt.figure(figsize=(30, 20))\n",
    "\n",
    "i = np.arange(len(distances_main))\n",
    "knee = KneeLocator(i, distances_main, S=1, curve='convex', direction='increasing', interp_method='polynomial')\n",
    "fig = plt.figure(figsize=(5, 5))\n",
    "knee.plot_knee()\n",
    "plt.xlabel(\"Points\")\n",
    "plt.ylabel(\"Distance\");\n",
    "\n",
    "print(distances_main[knee.knee])\n",
    "\n",
    "# SAVE THE MAX POINT FOR USE IN DBSCAN CLUSTERING\n",
    "knee_point_main = distances_main[knee.knee]"
   ]
  },
  {
   "cell_type": "markdown",
   "metadata": {},
   "source": [
    "**DBSCAN**"
   ]
  },
  {
   "cell_type": "code",
   "execution_count": 71,
   "metadata": {
    "ExecuteTime": {
     "end_time": "2020-06-05T21:59:15.949335Z",
     "start_time": "2020-06-05T21:57:18.217697Z"
    }
   },
   "outputs": [],
   "source": [
    "# RULE OF THUMB: min_samples SHOULD BE SET TO MIN NUM OF FEATURES\n",
    "# https://towardsdatascience.com/cluster-analysis-create-visualize-and-interpret-customer-segments-474e55d00ebb\n",
    "\n",
    "# Provide a value for epsilon which defines the maximum distance between two points\n",
    "# Find a suitable value for epsilon by calculating the distance to \n",
    "    # the nearest n points for each point, sorting and plotting the results\n",
    "# https://towardsdatascience.com/machine-learning-clustering-dbscan-determine-the-optimal-value-for-epsilon-eps-python-example-3100091cfbc\n",
    "\n",
    "#==========================\n",
    "# CLUSTER ON THE ENTIRE MAIN DF\n",
    "dbscan = DBSCAN(eps=0.5,\n",
    "                min_samples=main.shape[1])\n",
    "dbscan.fit(Z)\n",
    "#==========================\n",
    "# SAVE FITTED MAIN - DBSCAN\n",
    "filename = \"../assets/models/dbscan-fitted\"\n",
    "outfile = open(filename, \"wb\")\n",
    "pickle.dump(dbscan, outfile)\n",
    "outfile.close()\n",
    "#==========================\n",
    "# READ IN THE FITTED DBSCAN FILE\n",
    "db = pd.read_pickle(\"../assets/models/dbscan-fitted\")\n",
    "#=========================="
   ]
  },
  {
   "cell_type": "markdown",
   "metadata": {},
   "source": [
    "**Visualize DBSCAN**"
   ]
  },
  {
   "cell_type": "code",
   "execution_count": 74,
   "metadata": {
    "ExecuteTime": {
     "end_time": "2020-06-05T22:04:07.551608Z",
     "start_time": "2020-06-05T22:02:46.422496Z"
    }
   },
   "outputs": [
    {
     "name": "stdout",
     "output_type": "stream",
     "text": [
      "[42 42 42 42 42 42 42 42 42 42]\n",
      "Estimated number of clusters: 46\n",
      "Estimated number of noise points: 2718\n",
      "Homogeneity: 0.888\n",
      "Completeness: 0.806\n",
      "V-measure: 0.845\n",
      "Adjusted Rand Index: 0.785\n",
      "Adjusted Mutual Information: 0.845\n",
      "Silhouette Coefficient: 0.090\n"
     ]
    },
    {
     "data": {
      "image/png": "[encoded data removed]",
      "text/plain": [
       "<Figure size 432x288 with 1 Axes>"
      ]
     },
     "metadata": {
      "needs_background": "light"
     },
     "output_type": "display_data"
    }
   ],
   "source": [
    "# The labels_ property contains the list of clusters and their respective points.\n",
    "labels = db.labels_\n",
    "print(labels[91_000:91_010])\n",
    "\n",
    "# db = dbscan\n",
    "labels_true = y\n",
    "\n",
    "# https://scikit-learn.org/stable/auto_examples/cluster/plot_dbscan.html\n",
    "core_samples_mask = np.zeros_like(db.labels_, dtype=bool)\n",
    "core_samples_mask[db.core_sample_indices_] = True\n",
    "labels = db.labels_\n",
    "\n",
    "# Number of clusters in labels, ignoring noise if present.\n",
    "n_clusters_ = len(set(labels)) - (1 if -1 in labels else 0)\n",
    "n_noise_ = list(labels).count(-1)\n",
    "\n",
    "print('Estimated number of clusters: %d' % n_clusters_)\n",
    "print('Estimated number of noise points: %d' % n_noise_)\n",
    "print(\"Homogeneity: %0.3f\" % metrics.homogeneity_score(labels_true, labels))\n",
    "print(\"Completeness: %0.3f\" % metrics.completeness_score(labels_true, labels))\n",
    "print(\"V-measure: %0.3f\" % metrics.v_measure_score(labels_true, labels))\n",
    "print(\"Adjusted Rand Index: %0.3f\"\n",
    "      % metrics.adjusted_rand_score(labels_true, labels))\n",
    "print(\"Adjusted Mutual Information: %0.3f\"\n",
    "      % metrics.adjusted_mutual_info_score(labels_true, labels))\n",
    "print(\"Silhouette Coefficient: %0.3f\"\n",
    "      % metrics.silhouette_score(X, labels))\n",
    "\n",
    "# CAN ALSO USE X_train.iloc[:,:]\n",
    "# X = np.array(X)\n",
    "\n",
    "# Black removed and is used for noise instead.\n",
    "unique_labels = set(labels)\n",
    "colors = [plt.cm.Spectral(each)\n",
    "          for each in np.linspace(0, 1, len(unique_labels))]\n",
    "for k, col in zip(unique_labels, colors):\n",
    "    if k == -1:\n",
    "        # Black used for noise.\n",
    "        col = [0, 0, 0, 1]\n",
    "\n",
    "    class_member_mask = (labels == k)\n",
    "\n",
    "    xy = Z[class_member_mask & core_samples_mask]\n",
    "    plt.plot(xy[:, 0], xy[:, 1], 'o', markerfacecolor=tuple(col),\n",
    "             markeredgecolor='k', markersize=14)\n",
    "\n",
    "    xy = Z[class_member_mask & ~core_samples_mask]\n",
    "    plt.plot(xy[:, 0], xy[:, 1], 'o', markerfacecolor=tuple(col),\n",
    "             markeredgecolor='k', markersize=6)\n",
    "\n",
    "plt.title('Estimated number of clusters: %d' % n_clusters_)\n",
    "plt.show()"
   ]
  },
  {
   "cell_type": "code",
   "execution_count": 84,
   "metadata": {
    "ExecuteTime": {
     "end_time": "2020-06-05T22:07:20.291817Z",
     "start_time": "2020-06-05T22:07:20.271237Z"
    }
   },
   "outputs": [],
   "source": [
    "unique_labels = set(labels)\n",
    "\n",
    "main[\"clusters\"] = labels"
   ]
  },
  {
   "cell_type": "code",
   "execution_count": 90,
   "metadata": {
    "ExecuteTime": {
     "end_time": "2020-06-05T22:19:34.615319Z",
     "start_time": "2020-06-05T22:19:34.603500Z"
    }
   },
   "outputs": [
    {
     "data": {
      "text/plain": [
       "18    276\n",
       "21    192\n",
       "31    186\n",
       "14    176\n",
       "11    153\n",
       "9     152\n",
       "27    150\n",
       "26    138\n",
       "19    135\n",
       "20    133\n",
       "15    127\n",
       "16    101\n",
       "10     96\n",
       "8      92\n",
       "25     91\n",
       "17     72\n",
       "13     70\n",
       "2      66\n",
       "6      63\n",
       "22     59\n",
       "23     58\n",
       "12     49\n",
       "7      29\n",
       "4      24\n",
       "1      11\n",
       "3       7\n",
       "30      7\n",
       "34      3\n",
       "24      1\n",
       "28      1\n",
       "Name: label_zip, dtype: int64"
      ]
     },
     "execution_count": 90,
     "metadata": {},
     "output_type": "execute_result"
    }
   ],
   "source": [
    "# HOW ARE EACH OF THESE SIMILAR TO EACH OTHER, INTRA CLUSTER?\n",
    "# ARE THESE GROUPED BY ZIP?\n",
    "main.loc[main[\"clusters\"] == -1]\n",
    "main.loc[main[\"clusters\"] == -1][\"label_zip\"].value_counts()"
   ]
  },
  {
   "cell_type": "markdown",
   "metadata": {},
   "source": [
    "# OPTICS"
   ]
  },
  {
   "cell_type": "markdown",
   "metadata": {},
   "source": [
    "## Main"
   ]
  },
  {
   "cell_type": "code",
   "execution_count": null,
   "metadata": {
    "ExecuteTime": {
     "end_time": "2020-06-05T20:30:34.931865Z",
     "start_time": "2020-06-05T20:30:32.310Z"
    }
   },
   "outputs": [],
   "source": [
    "print(Z_fire.shape)\n",
    "Z_fire = Z_fire[:1_000]"
   ]
  },
  {
   "cell_type": "code",
   "execution_count": null,
   "metadata": {
    "ExecuteTime": {
     "end_time": "2020-06-05T20:30:34.932660Z",
     "start_time": "2020-06-05T20:30:32.311Z"
    }
   },
   "outputs": [],
   "source": [
    "opt = OPTICS()\n",
    "opt.fit(Z_fire)"
   ]
  },
  {
   "cell_type": "code",
   "execution_count": 67,
   "metadata": {
    "ExecuteTime": {
     "end_time": "2020-06-05T21:52:18.941105Z",
     "start_time": "2020-06-05T21:52:18.688419Z"
    },
    "scrolled": true
   },
   "outputs": [
    {
     "ename": "IndexError",
     "evalue": "boolean index did not match indexed array along dimension 0; dimension is 97515 but corresponding boolean dimension is 1000",
     "output_type": "error",
     "traceback": [
      "\u001b[0;31m---------------------------------------------------------------------------\u001b[0m",
      "\u001b[0;31mIndexError\u001b[0m                                Traceback (most recent call last)",
      "\u001b[0;32m<ipython-input-67-24d11b1208af>\u001b[0m in \u001b[0;36m<module>\u001b[0;34m\u001b[0m\n\u001b[1;32m     22\u001b[0m \u001b[0mcolors\u001b[0m \u001b[0;34m=\u001b[0m \u001b[0;34m[\u001b[0m\u001b[0;34m'g.'\u001b[0m\u001b[0;34m,\u001b[0m \u001b[0;34m'r.'\u001b[0m\u001b[0;34m,\u001b[0m \u001b[0;34m'b.'\u001b[0m\u001b[0;34m,\u001b[0m \u001b[0;34m'y.'\u001b[0m\u001b[0;34m,\u001b[0m \u001b[0;34m'c.'\u001b[0m\u001b[0;34m]\u001b[0m\u001b[0;34m\u001b[0m\u001b[0;34m\u001b[0m\u001b[0m\n\u001b[1;32m     23\u001b[0m \u001b[0;32mfor\u001b[0m \u001b[0mklass\u001b[0m\u001b[0;34m,\u001b[0m \u001b[0mcolor\u001b[0m \u001b[0;32min\u001b[0m \u001b[0mzip\u001b[0m\u001b[0;34m(\u001b[0m\u001b[0mrange\u001b[0m\u001b[0;34m(\u001b[0m\u001b[0;36m0\u001b[0m\u001b[0;34m,\u001b[0m \u001b[0;36m5\u001b[0m\u001b[0;34m)\u001b[0m\u001b[0;34m,\u001b[0m \u001b[0mcolors\u001b[0m\u001b[0;34m)\u001b[0m\u001b[0;34m:\u001b[0m\u001b[0;34m\u001b[0m\u001b[0;34m\u001b[0m\u001b[0m\n\u001b[0;32m---> 24\u001b[0;31m     \u001b[0mXk\u001b[0m \u001b[0;34m=\u001b[0m \u001b[0mspace\u001b[0m\u001b[0;34m[\u001b[0m\u001b[0mlabels\u001b[0m \u001b[0;34m==\u001b[0m \u001b[0mklass\u001b[0m\u001b[0;34m]\u001b[0m\u001b[0;34m\u001b[0m\u001b[0;34m\u001b[0m\u001b[0m\n\u001b[0m\u001b[1;32m     25\u001b[0m     \u001b[0mRk\u001b[0m \u001b[0;34m=\u001b[0m \u001b[0mreachability\u001b[0m\u001b[0;34m[\u001b[0m\u001b[0mlabels\u001b[0m \u001b[0;34m==\u001b[0m \u001b[0mklass\u001b[0m\u001b[0;34m]\u001b[0m\u001b[0;34m\u001b[0m\u001b[0;34m\u001b[0m\u001b[0m\n\u001b[1;32m     26\u001b[0m     \u001b[0max1\u001b[0m\u001b[0;34m.\u001b[0m\u001b[0mplot\u001b[0m\u001b[0;34m(\u001b[0m\u001b[0mXk\u001b[0m\u001b[0;34m,\u001b[0m \u001b[0mRk\u001b[0m\u001b[0;34m,\u001b[0m \u001b[0mcolor\u001b[0m\u001b[0;34m,\u001b[0m \u001b[0malpha\u001b[0m\u001b[0;34m=\u001b[0m\u001b[0;36m0.3\u001b[0m\u001b[0;34m)\u001b[0m\u001b[0;34m\u001b[0m\u001b[0;34m\u001b[0m\u001b[0m\n",
      "\u001b[0;31mIndexError\u001b[0m: boolean index did not match indexed array along dimension 0; dimension is 97515 but corresponding boolean dimension is 1000"
     ]
    },
    {
     "data": {
      "image/png": "[encoded data removed]",
      "text/plain": [
       "<Figure size 720x504 with 4 Axes>"
      ]
     },
     "metadata": {
      "needs_background": "light"
     },
     "output_type": "display_data"
    }
   ],
   "source": [
    "#===================================================\n",
    "# https://scikit-learn.org/stable/auto_examples/cluster/plot_optics.html#sphx-glr-auto-examples-cluster-plot-optics-py\n",
    "labels_050 = cluster_optics_dbscan(reachability=opt.reachability_,\n",
    "                                   core_distances=opt.core_distances_,\n",
    "                                   ordering=opt.ordering_, eps=0.5)\n",
    "labels_200 = cluster_optics_dbscan(reachability=opt.reachability_,\n",
    "                                   core_distances=opt.core_distances_,\n",
    "                                   ordering=opt.ordering_, eps=2)\n",
    "space = np.arange(len(Z_fire))\n",
    "reachability = opt.reachability_[opt.ordering_]\n",
    "labels = opt.labels_[opt.ordering_]\n",
    "\n",
    "plt.figure(figsize=(10, 7))\n",
    "G = gridspec.GridSpec(2, 3)\n",
    "ax1 = plt.subplot(G[0, :])\n",
    "ax2 = plt.subplot(G[1, 0])\n",
    "ax3 = plt.subplot(G[1, 1])\n",
    "ax4 = plt.subplot(G[1, 2])\n",
    "\n",
    "#===================================================\n",
    "# Reachability plot\n",
    "colors = ['g.', 'r.', 'b.', 'y.', 'c.']\n",
    "for klass, color in zip(range(0, 5), colors):\n",
    "    Xk = space[labels == klass]\n",
    "    Rk = reachability[labels == klass]\n",
    "    ax1.plot(Xk, Rk, color, alpha=0.3)\n",
    "ax1.plot(space[labels == -1], reachability[labels == -1], 'k.', alpha=0.3)\n",
    "ax1.plot(space, np.full_like(space, 2., dtype=float), 'k-', alpha=0.5)\n",
    "ax1.plot(space, np.full_like(space, 0.5, dtype=float), 'k-.', alpha=0.5)\n",
    "ax1.set_ylabel('Reachability (epsilon distance)')\n",
    "ax1.set_title('Reachability Plot')\n",
    "\n",
    "#===================================================\n",
    "\n",
    "# OPTICS\n",
    "# colors = ['g.', 'r.', 'b.', 'y.', 'c.']\n",
    "# for klass, color in zip(range(0, 5), colors):\n",
    "#     Xk = Z_fire[opt.labels_ == klass]\n",
    "#     ax2.plot(Xk[:, 0], Xk[:, 1], color, alpha=0.3)\n",
    "# ax2.plot(X[opt.labels_ == -1, 0], Z_fire[opt.labels_ == -1, 1], 'k+', alpha=0.1)\n",
    "# ax2.set_title('Automatic Clustering\\nOPTICS')"
   ]
  },
  {
   "cell_type": "markdown",
   "metadata": {
    "heading_collapsed": true
   },
   "source": [
    "# PCA"
   ]
  },
  {
   "cell_type": "code",
   "execution_count": null,
   "metadata": {
    "ExecuteTime": {
     "end_time": "2020-06-05T20:30:34.934094Z",
     "start_time": "2020-06-05T20:30:32.314Z"
    },
    "hidden": true
   },
   "outputs": [],
   "source": [
    "data_cols = pd.read_pickle(\"../assets/variables/data_cols\")\n",
    "pw_cols = pd.read_pickle(\"../assets/variables/pw_cols\")\n",
    "fire_cols = pd.read_pickle(\"../assets/variables/fire_cols\")\n",
    "requests_cols = pd.read_pickle(\"../assets/variables/requests_cols\")\n",
    "\n",
    "data_main_df = main[data_cols]\n",
    "pw_main_df = main[pw_cols]\n",
    "fire_main_df = main[fire_cols]\n",
    "requests_main_df = main[requests_cols]\n",
    "\n",
    "main_scaler = StandardScaler()\n",
    "data_main_sc = main_scaler.fit_transform(data_main_df)\n",
    "pw_main_sc = main_scaler.fit_transform(pw_main_df)\n",
    "fire_main_sc = main_scaler.fit_transform(fire_main_df)\n",
    "requests_main_sc = main_scaler.fit_transform(requests_main_df)\n",
    "\n",
    "data_main_sc_df = pd.DataFrame(data_main_sc)\n",
    "pw_main_sc_df = pd.DataFrame(pw_main_sc)\n",
    "fire_main_sc_df = pd.DataFrame(fire_main_sc)\n",
    "requests_main_sc_df = pd.DataFrame(requests_main_sc)"
   ]
  },
  {
   "cell_type": "markdown",
   "metadata": {
    "heading_collapsed": true,
    "hidden": true
   },
   "source": [
    "## Data Cols"
   ]
  },
  {
   "cell_type": "code",
   "execution_count": null,
   "metadata": {
    "ExecuteTime": {
     "end_time": "2020-06-05T20:30:34.934867Z",
     "start_time": "2020-06-05T20:30:32.316Z"
    },
    "hidden": true
   },
   "outputs": [],
   "source": [
    "pca_data = PCA(n_components=5,\n",
    "          random_state=42)\n",
    "pca_data.fit(data_main_sc_df)\n",
    "\n",
    "var_exp = pca_data.explained_variance_ratio_\n",
    "cum_var_exp = np.cumsum(var_exp)\n",
    "\n",
    "print(f\"Explained Variance (first 20 components): {np.round(var_exp[:20], 3)}\")\n",
    "print(\"\")\n",
    "print(f\"Cumulative Variance (first 20 components): {np.round(cum_var_exp[:20], 3)}\")"
   ]
  },
  {
   "cell_type": "markdown",
   "metadata": {
    "heading_collapsed": true,
    "hidden": true
   },
   "source": [
    "## PW Violations Cols"
   ]
  },
  {
   "cell_type": "code",
   "execution_count": null,
   "metadata": {
    "ExecuteTime": {
     "end_time": "2020-06-05T20:30:34.935640Z",
     "start_time": "2020-06-05T20:30:32.317Z"
    },
    "hidden": true
   },
   "outputs": [],
   "source": [
    "pca_pw = PCA(n_components=5,\n",
    "          random_state=42)\n",
    "pca_pw.fit(pw_main_sc_df)\n",
    "\n",
    "var_exp = pca_pw.explained_variance_ratio_\n",
    "cum_var_exp = np.cumsum(var_exp)\n",
    "\n",
    "print(f\"Explained Variance (first 20 components): {np.round(var_exp[:20], 3)}\")\n",
    "print(\"\")\n",
    "print(f\"Cumulative Variance (first 20 components): {np.round(cum_var_exp[:20], 3)}\")"
   ]
  },
  {
   "cell_type": "markdown",
   "metadata": {
    "heading_collapsed": true,
    "hidden": true
   },
   "source": [
    "## Fire Cols"
   ]
  },
  {
   "cell_type": "code",
   "execution_count": null,
   "metadata": {
    "ExecuteTime": {
     "end_time": "2020-06-05T20:30:34.936369Z",
     "start_time": "2020-06-05T20:30:32.318Z"
    },
    "hidden": true
   },
   "outputs": [],
   "source": [
    "pca_fire = PCA(n_components=3,\n",
    "          random_state=42)\n",
    "pca_fire.fit(fire_main_sc_df)\n",
    "\n",
    "var_exp = pca_fire.explained_variance_ratio_\n",
    "cum_var_exp = np.cumsum(var_exp)\n",
    "\n",
    "print(f\"Explained Variance (first 5 components): {np.round(var_exp[:5], 3)}\")\n",
    "print(\"\")\n",
    "print(f\"Cumulative Variance (first 5 components): {np.round(cum_var_exp[:5], 3)}\")"
   ]
  },
  {
   "cell_type": "markdown",
   "metadata": {
    "heading_collapsed": true,
    "hidden": true
   },
   "source": [
    "## Requests Cols"
   ]
  },
  {
   "cell_type": "code",
   "execution_count": null,
   "metadata": {
    "ExecuteTime": {
     "end_time": "2020-06-05T20:30:34.937080Z",
     "start_time": "2020-06-05T20:30:32.320Z"
    },
    "hidden": true
   },
   "outputs": [],
   "source": [
    "pca_requests = PCA(n_components=5,\n",
    "          random_state=42)\n",
    "pca_requests.fit(requests_main_sc_df)\n",
    "\n",
    "var_exp = pca_requests.explained_variance_ratio_\n",
    "cum_var_exp = np.cumsum(var_exp)\n",
    "\n",
    "print(f\"Explained Variance (first 20 components): {np.round(var_exp[:20], 3)}\")\n",
    "print(\"\")\n",
    "print(f\"Cumulative Variance (first 20 components): {np.round(cum_var_exp[:20], 3)}\")"
   ]
  },
  {
   "cell_type": "markdown",
   "metadata": {
    "heading_collapsed": true,
    "hidden": true
   },
   "source": [
    "## Entire Main DataFrame"
   ]
  },
  {
   "cell_type": "code",
   "execution_count": null,
   "metadata": {
    "ExecuteTime": {
     "end_time": "2020-06-05T20:30:34.937854Z",
     "start_time": "2020-06-05T20:30:32.322Z"
    },
    "hidden": true
   },
   "outputs": [],
   "source": [
    "# BASIC MOST MODEL\n",
    "pca_main = PCA(n_components=5,\n",
    "               random_state=42)\n",
    "pca_main.fit(X_sc)\n",
    "\n",
    "var_exp = pca_main.explained_variance_ratio_\n",
    "cum_var_exp = np.cumsum(var_exp)\n",
    "\n",
    "print(f\"Explained Variance (first 20 components): {np.round(var_exp[:40], 3)}\")\n",
    "print(\"\")\n",
    "print(f\"Cumulative Variance (first 20 components): {np.round(cum_var_exp[:40], 3)}\")"
   ]
  },
  {
   "cell_type": "code",
   "execution_count": null,
   "metadata": {
    "hidden": true
   },
   "outputs": [],
   "source": []
  },
  {
   "cell_type": "code",
   "execution_count": null,
   "metadata": {
    "hidden": true
   },
   "outputs": [],
   "source": []
  },
  {
   "cell_type": "markdown",
   "metadata": {
    "heading_collapsed": true,
    "hidden": true
   },
   "source": [
    "## For Supervised Learning Models"
   ]
  },
  {
   "cell_type": "code",
   "execution_count": null,
   "metadata": {
    "ExecuteTime": {
     "end_time": "2020-06-05T20:30:34.938540Z",
     "start_time": "2020-06-05T20:30:32.325Z"
    },
    "hidden": true
   },
   "outputs": [],
   "source": [
    "X = main.drop(columns=\"label\")\n",
    "y = main[\"label\"]"
   ]
  },
  {
   "cell_type": "code",
   "execution_count": null,
   "metadata": {
    "ExecuteTime": {
     "end_time": "2020-06-05T20:30:34.939291Z",
     "start_time": "2020-06-05T20:30:32.330Z"
    },
    "hidden": true
   },
   "outputs": [],
   "source": [
    "X_train, X_test, y_train, y_test = train_test_split(X, y,\n",
    "                                                    stratify=y,\n",
    "                                                    random_state=42)"
   ]
  },
  {
   "cell_type": "code",
   "execution_count": null,
   "metadata": {
    "ExecuteTime": {
     "end_time": "2020-06-05T20:30:34.940409Z",
     "start_time": "2020-06-05T20:30:32.331Z"
    },
    "hidden": true
   },
   "outputs": [],
   "source": [
    "ss = StandardScaler()\n",
    "Z_train =  ss.fit_transform(X_train)\n",
    "Z_test = ss.transform(X_test)"
   ]
  },
  {
   "cell_type": "code",
   "execution_count": null,
   "metadata": {
    "ExecuteTime": {
     "end_time": "2020-06-05T20:30:34.941317Z",
     "start_time": "2020-06-05T20:30:32.332Z"
    },
    "hidden": true
   },
   "outputs": [],
   "source": [
    "pca_pipe = Pipeline([\n",
    "    (\"ss\", StandardScaler()),\n",
    "    (\"pca\", PCA()),\n",
    "    (\"logreg\", LogisticRegression())\n",
    "])"
   ]
  },
  {
   "cell_type": "code",
   "execution_count": null,
   "metadata": {
    "ExecuteTime": {
     "end_time": "2020-06-05T20:30:34.942207Z",
     "start_time": "2020-06-05T20:30:32.333Z"
    },
    "hidden": true
   },
   "outputs": [],
   "source": [
    "pca_pipe.get_params();"
   ]
  },
  {
   "cell_type": "code",
   "execution_count": null,
   "metadata": {
    "ExecuteTime": {
     "end_time": "2020-06-05T20:30:34.943079Z",
     "start_time": "2020-06-05T20:30:32.334Z"
    },
    "hidden": true
   },
   "outputs": [],
   "source": [
    "params = {\n",
    "    \"pca__n_components\": np.arange(1, 10, 1), # THERE ARE 118 COLUMNS\n",
    "    \"pca__random_state\": [41],\n",
    "    \"logreg__penalty\": [\"l1\", \"l2\"],\n",
    "    \"logreg__C\": [0.01, 0.1, 1],\n",
    "    \"logreg__verbose\": [100]\n",
    "}\n",
    "\n",
    "gs = GridSearchCV(\n",
    "    pca_pipe,\n",
    "    params,\n",
    "    cv=5\n",
    ")"
   ]
  },
  {
   "cell_type": "code",
   "execution_count": null,
   "metadata": {
    "ExecuteTime": {
     "end_time": "2020-06-05T20:30:34.943978Z",
     "start_time": "2020-06-05T20:30:32.335Z"
    },
    "hidden": true
   },
   "outputs": [],
   "source": [
    "Z_train"
   ]
  },
  {
   "cell_type": "code",
   "execution_count": null,
   "metadata": {
    "ExecuteTime": {
     "end_time": "2020-06-05T20:30:34.944814Z",
     "start_time": "2020-06-05T20:30:32.337Z"
    },
    "hidden": true
   },
   "outputs": [],
   "source": [
    "gs.fit(Z_train, y_train)"
   ]
  },
  {
   "cell_type": "code",
   "execution_count": null,
   "metadata": {
    "hidden": true
   },
   "outputs": [],
   "source": []
  },
  {
   "cell_type": "code",
   "execution_count": null,
   "metadata": {
    "hidden": true
   },
   "outputs": [],
   "source": []
  },
  {
   "cell_type": "code",
   "execution_count": null,
   "metadata": {
    "hidden": true
   },
   "outputs": [],
   "source": []
  },
  {
   "cell_type": "code",
   "execution_count": null,
   "metadata": {
    "hidden": true
   },
   "outputs": [],
   "source": []
  },
  {
   "cell_type": "code",
   "execution_count": null,
   "metadata": {
    "hidden": true
   },
   "outputs": [],
   "source": []
  },
  {
   "cell_type": "markdown",
   "metadata": {
    "heading_collapsed": true
   },
   "source": [
    "# X"
   ]
  },
  {
   "cell_type": "markdown",
   "metadata": {
    "heading_collapsed": true,
    "hidden": true
   },
   "source": [
    "## PW"
   ]
  },
  {
   "cell_type": "markdown",
   "metadata": {
    "hidden": true
   },
   "source": [
    "**Distance**"
   ]
  },
  {
   "cell_type": "code",
   "execution_count": null,
   "metadata": {
    "ExecuteTime": {
     "end_time": "2020-06-05T20:30:34.929577Z",
     "start_time": "2020-06-05T20:30:32.306Z"
    },
    "hidden": true
   },
   "outputs": [],
   "source": [
    "# CALL FUNCTION TO FIND NEAREST NEIGHBORS (nearest_nb)\n",
    "distances_pw, indices_pw = nearest_nb(Z_pw)\n",
    "\n",
    "# SAVE THE DISTANCES AND INDICES\n",
    "#=========================\n",
    "filename = \"../assets/variables/pw-nb-distances\"\n",
    "outfile = open(filename, \"wb\")\n",
    "pickle.dump(distances_pw, outfile)\n",
    "outfile.close()\n",
    "\n",
    "filename = \"../assets/variables/pw-nb-indices\"\n",
    "outfile = open(filename, \"wb\")\n",
    "pickle.dump(indices_pw, outfile)\n",
    "outfile.close()\n",
    "#=========================\n",
    "\n",
    "# READ IN THE DISTANCE AND INDICES FILES SAVED ABOVE\n",
    "distances_pw = pd.read_pickle(\"../assets/variables/pw-nb-distances\")\n",
    "\n",
    "indices_pw = pd.read_pickle(\"../assets/variables/pw-nb-indices\")\n",
    "#=========================\n",
    "\n",
    "# PRINT SHAPE OF DISTANCES\n",
    "print(distances_pw.shape)\n",
    "\n",
    "distances_pw = np.sort(distances_pw, axis=0)\n",
    "# BELOW SHOULD BE RAN ONLY ONCE, COMMENT OUT WHEN RAN THE FIRST TIME\n",
    "distances_pw = distances_pw[:, 1]\n",
    "\n",
    "# plt.figure(figsize=(12, 8))\n",
    "# plt.plot(distances_pw);\n",
    "#=========================\n",
    "\n",
    "# https://towardsdatascience.com/how-to-use-dbscan-effectively-ed212c02e62\n",
    "# THIS PLOT SHOWS THE POINT OF MAX DISTANCE BETWEEN 2 POINTS\n",
    "    # IT IS THE POINT OF 'GREATEST DEPARTURE'\n",
    "plt.figure(figsize=(30, 20))\n",
    "\n",
    "i = np.arange(len(distances))\n",
    "knee = KneeLocator(i, distances_pw, S=1, curve='convex', direction='increasing', interp_method='polynomial')\n",
    "fig = plt.figure(figsize=(5, 5));\n",
    "knee.plot_knee()\n",
    "plt.xlabel(\"Points\");\n",
    "plt.ylabel(\"Distance\");\n",
    "\n",
    "print(distances_pw[knee.knee])\n",
    "\n",
    "# SAVE THE MAX POINT FOR USE IN DBSCAN CLUSTERING\n",
    "knee_point_pw = distances_pw[knee.knee]"
   ]
  },
  {
   "cell_type": "markdown",
   "metadata": {
    "hidden": true
   },
   "source": [
    "**DBSCAN**"
   ]
  },
  {
   "cell_type": "code",
   "execution_count": null,
   "metadata": {
    "ExecuteTime": {
     "end_time": "2020-06-05T20:30:34.930316Z",
     "start_time": "2020-06-05T20:30:32.307Z"
    },
    "hidden": true
   },
   "outputs": [],
   "source": [
    "# RULE OF THUMB: min_samples SHOULD BE SET TO MIN NUM OF FEATURES\n",
    "\n",
    "# Provide a value for epsilon which defines the maximum distance between two points\n",
    "# Find a suitable value for epsilon by calculating the distance to \n",
    "    # the nearest n points for each point, sorting and plotting the results\n",
    "\n",
    "#==========================\n",
    "# CLUSTER ON PW VIOLATIONS AND ZIP\n",
    "db_pw = DBSCAN(eps=knee_point_pw,\n",
    "                min_samples=Z_pw.shape[1])\n",
    "db_pw.fit(Z_pw)\n",
    "#==========================\n",
    "# SAVE FITTED PW - DBSCAN\n",
    "filename = \"../assets/models/dbscan_pw-fitted\"\n",
    "outfile = open(filename, \"wb\")\n",
    "pickle.dump(db_pw, outfile)\n",
    "outfile.close()\n",
    "#==========================\n",
    "# READ IN THE FITTED DBSCAN FILE\n",
    "db_pw = pd.read_pickle(\"../assets/models/dbscan_pw-fitted\")\n",
    "#=========================="
   ]
  },
  {
   "cell_type": "markdown",
   "metadata": {
    "hidden": true
   },
   "source": [
    "**Visualize**"
   ]
  },
  {
   "cell_type": "code",
   "execution_count": null,
   "metadata": {
    "ExecuteTime": {
     "end_time": "2020-06-05T20:30:34.931087Z",
     "start_time": "2020-06-05T20:30:32.308Z"
    },
    "hidden": true
   },
   "outputs": [],
   "source": [
    "# The labels_ property contains the list of clusters and their respective points.\n",
    "labels = db_pw.labels_\n",
    "print(labels[91_000:91_010])\n",
    "\n",
    "labels_true = y\n",
    "\n",
    "# https://scikit-learn.org/stable/auto_examples/cluster/plot_dbscan.html\n",
    "core_samples_mask = np.zeros_like(db_pw.labels_, dtype=bool)\n",
    "core_samples_mask[db_pw.core_sample_indices_] = True\n",
    "labels = db_pw.labels_\n",
    "\n",
    "# Number of clusters in labels, ignoring noise if present.\n",
    "n_clusters_ = len(set(labels)) - (1 if -1 in labels else 0)\n",
    "n_noise_ = list(labels).count(-1)\n",
    "\n",
    "print('Estimated number of clusters: %d' % n_clusters_)\n",
    "print('Estimated number of noise points: %d' % n_noise_)\n",
    "print(\"Homogeneity: %0.3f\" % metrics.homogeneity_score(labels_true, labels))\n",
    "print(\"Completeness: %0.3f\" % metrics.completeness_score(labels_true, labels))\n",
    "print(\"V-measure: %0.3f\" % metrics.v_measure_score(labels_true, labels))\n",
    "print(\"Adjusted Rand Index: %0.3f\"\n",
    "      % metrics.adjusted_rand_score(labels_true, labels))\n",
    "print(\"Adjusted Mutual Information: %0.3f\"\n",
    "      % metrics.adjusted_mutual_info_score(labels_true, labels))\n",
    "print(\"Silhouette Coefficient: %0.3f\"\n",
    "      % metrics.silhouette_score(X, labels))\n",
    "\n",
    "# CAN ALSO USE X_train.iloc[:,:]\n",
    "# X = np.array(X)\n",
    "\n",
    "# Black removed and is used for noise instead.\n",
    "unique_labels = set(labels)\n",
    "colors = [plt.cm.Spectral(each)\n",
    "          for each in np.linspace(0, 1, len(unique_labels))]\n",
    "for k, col in zip(unique_labels, colors):\n",
    "    if k == -1:\n",
    "        # Black used for noise.\n",
    "        col = [0, 0, 0, 1]\n",
    "\n",
    "    class_member_mask = (labels == k)\n",
    "\n",
    "    xy = np.array(Z_pw)[class_member_mask & core_samples_mask]\n",
    "    plt.plot(xy[:, 0], xy[:, 1], 'o', markerfacecolor=tuple(col),\n",
    "             markeredgecolor='k', markersize=14)\n",
    "\n",
    "    xy = X[class_member_mask & ~core_samples_mask]\n",
    "    plt.plot(xy[:, 0], xy[:, 1], 'o', markerfacecolor=tuple(col),\n",
    "             markeredgecolor='k', markersize=6)\n",
    "\n",
    "plt.title('Estimated number of clusters: %d' % n_clusters_)\n",
    "plt.show()"
   ]
  },
  {
   "cell_type": "code",
   "execution_count": null,
   "metadata": {
    "hidden": true
   },
   "outputs": [],
   "source": []
  },
  {
   "cell_type": "code",
   "execution_count": null,
   "metadata": {
    "ExecuteTime": {
     "end_time": "2020-06-05T20:30:34.945662Z",
     "start_time": "2020-06-05T20:30:32.342Z"
    },
    "hidden": true,
    "scrolled": true
   },
   "outputs": [],
   "source": [
    "mglearn.plots.plot_dbscan()"
   ]
  },
  {
   "cell_type": "code",
   "execution_count": null,
   "metadata": {
    "ExecuteTime": {
     "end_time": "2020-06-05T20:30:34.946418Z",
     "start_time": "2020-06-05T20:30:32.343Z"
    },
    "hidden": true
   },
   "outputs": [],
   "source": [
    "silhouette_score(Z, clusters)"
   ]
  },
  {
   "cell_type": "code",
   "execution_count": null,
   "metadata": {
    "ExecuteTime": {
     "end_time": "2020-06-05T20:30:34.947119Z",
     "start_time": "2020-06-05T20:30:32.344Z"
    },
    "hidden": true
   },
   "outputs": [],
   "source": [
    "clusters[clusters == -1].size"
   ]
  },
  {
   "cell_type": "code",
   "execution_count": null,
   "metadata": {
    "ExecuteTime": {
     "end_time": "2020-06-05T20:30:34.947830Z",
     "start_time": "2020-06-05T20:30:32.345Z"
    },
    "hidden": true,
    "scrolled": true
   },
   "outputs": [],
   "source": [
    "X[\"clusters\"] = clusters\n",
    "X[\"clusters\"].value_counts(normalize=True)"
   ]
  },
  {
   "cell_type": "code",
   "execution_count": null,
   "metadata": {
    "hidden": true
   },
   "outputs": [],
   "source": []
  }
 ],
 "metadata": {
  "kernelspec": {
   "display_name": "Python 3",
   "language": "python",
   "name": "python3"
  },
  "language_info": {
   "codemirror_mode": {
    "name": "ipython",
    "version": 3
   },
   "file_extension": ".py",
   "mimetype": "text/x-python",
   "name": "python",
   "nbconvert_exporter": "python",
   "pygments_lexer": "ipython3",
   "version": "3.7.6"
  },
  "toc": {
   "base_numbering": 1,
   "nav_menu": {},
   "number_sections": true,
   "sideBar": true,
   "skip_h1_title": false,
   "title_cell": "Table of Contents",
   "title_sidebar": "Contents",
   "toc_cell": false,
   "toc_position": {},
   "toc_section_display": true,
   "toc_window_display": false
  }
 },
 "nbformat": 4,
 "nbformat_minor": 4
}
