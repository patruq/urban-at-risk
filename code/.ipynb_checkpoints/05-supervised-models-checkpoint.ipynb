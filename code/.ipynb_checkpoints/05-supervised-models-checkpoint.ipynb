{
 "cells": [
  {
   "cell_type": "code",
   "execution_count": 62,
   "metadata": {
    "ExecuteTime": {
     "end_time": "2020-06-06T23:36:52.764952Z",
     "start_time": "2020-06-06T23:36:52.760545Z"
    }
   },
   "outputs": [],
   "source": [
    "# STANDARD LIBRARIES\n",
    "import pandas as pd\n",
    "import numpy as np\n",
    "import pickle\n",
    "\n",
    "# VISUALS\n",
    "import matplotlib.pyplot as plt\n",
    "import seaborn as sns\n",
    "\n",
    "# FEATURE ENGINEERING AND PREPROCESSING\n",
    "from sklearn.preprocessing import StandardScaler\n",
    "from sklearn.pipeline import Pipeline\n",
    "from sklearn.model_selection import GridSearchCV, train_test_split\n",
    "\n",
    "# MODELING\n",
    "from sklearn.decomposition import PCA\n",
    "from sklearn.linear_model import LogisticRegression\n",
    "from sklearn.feature_selection import SelectFromModel, SelectKBest, chi2\n",
    "\n",
    "# METRICS\n",
    "from sklearn.metrics import confusion_matrix"
   ]
  },
  {
   "cell_type": "markdown",
   "metadata": {
    "heading_collapsed": true
   },
   "source": [
    "# Setup Features and Preprocessing"
   ]
  },
  {
   "cell_type": "code",
   "execution_count": 63,
   "metadata": {
    "ExecuteTime": {
     "end_time": "2020-06-06T23:36:56.034507Z",
     "start_time": "2020-06-06T23:36:55.633241Z"
    },
    "hidden": true
   },
   "outputs": [],
   "source": [
    "main = pd.read_csv(\"../data/clean-data/main-engineered.csv\")\n",
    "main.drop(columns=[\"Unnamed: 0\"], inplace=True)"
   ]
  },
  {
   "cell_type": "code",
   "execution_count": 64,
   "metadata": {
    "ExecuteTime": {
     "end_time": "2020-06-06T23:36:56.464170Z",
     "start_time": "2020-06-06T23:36:56.416061Z"
    },
    "hidden": true
   },
   "outputs": [
    {
     "name": "stdout",
     "output_type": "stream",
     "text": [
      "(97515, 101)\n"
     ]
    }
   ],
   "source": [
    "# DROPPING ROWS WHERE THE TARGET HAS ONLY 1 VALUE\n",
    "# TO HELP WITH PREDICTION MODEL\n",
    "y_least_pop_classes = main.groupby(\"label_zip\").filter(lambda x: len(x) == 1).index\n",
    "\n",
    "print(main.shape)\n",
    "main.drop(y_least_pop_classes, inplace=True)"
   ]
  },
  {
   "cell_type": "code",
   "execution_count": 65,
   "metadata": {
    "ExecuteTime": {
     "end_time": "2020-06-06T23:36:57.633719Z",
     "start_time": "2020-06-06T23:36:57.352795Z"
    },
    "hidden": true
   },
   "outputs": [],
   "source": [
    "X = main.drop(columns=[\n",
    "    \"label_zip\",\n",
    "#     \"label_street\",\n",
    "#     \"zipcode\",\n",
    "#     \"zip_street\"\n",
    "    \"zip_num_street\"\n",
    "])\n",
    "y = main[\"label_zip\"]\n",
    "\n",
    "X_train, X_test, y_train, y_test = train_test_split(X, y,\n",
    "                                                    test_size=0.33,\n",
    "                                                    random_state=42)\n",
    "\n",
    "ss = StandardScaler()\n",
    "Z = ss.fit_transform(X)\n",
    "Z_train =  ss.fit_transform(X_train)\n",
    "Z_test = ss.transform(X_test)"
   ]
  },
  {
   "cell_type": "code",
   "execution_count": 66,
   "metadata": {
    "ExecuteTime": {
     "end_time": "2020-06-06T23:37:02.973063Z",
     "start_time": "2020-06-06T23:37:02.970951Z"
    },
    "hidden": true,
    "scrolled": true
   },
   "outputs": [],
   "source": [
    "# y.value_counts()"
   ]
  },
  {
   "cell_type": "markdown",
   "metadata": {},
   "source": [
    "# Model "
   ]
  },
  {
   "cell_type": "markdown",
   "metadata": {
    "heading_collapsed": true
   },
   "source": [
    "## Logistic Regression"
   ]
  },
  {
   "cell_type": "code",
   "execution_count": 12,
   "metadata": {
    "ExecuteTime": {
     "end_time": "2020-06-06T23:02:54.407268Z",
     "start_time": "2020-06-06T22:49:21.163075Z"
    },
    "hidden": true
   },
   "outputs": [
    {
     "name": "stdout",
     "output_type": "stream",
     "text": [
      "[LibLinear][LibLinear][LibLinear][LibLinear][LibLinear][LibLinear][LibLinear][LibLinear][LibLinear][LibLinear][LibLinear][LibLinear][LibLinear][LibLinear][LibLinear][LibLinear][LibLinear][LibLinear][LibLinear][LibLinear][LibLinear]"
     ]
    }
   ],
   "source": [
    "logreg_pipe = Pipeline([\n",
    "    (\"ss\", StandardScaler()),\n",
    "    (\"logreg\", LogisticRegression())\n",
    "])\n",
    "\n",
    "logreg_pipe.get_params()\n",
    "\n",
    "params = {\n",
    "    \"logreg__C\": [0.75, 0.85, 1, 1.1],\n",
    "    \"logreg__solver\": [\"liblinear\"],\n",
    "    \"logreg__penalty\": [\"l1\"],\n",
    "    \"logreg__verbose\": [10]\n",
    "}\n",
    "\n",
    "gs = GridSearchCV(\n",
    "    logreg_pipe,\n",
    "    params,\n",
    "    cv=5\n",
    ")\n",
    "\n",
    "gs = gs.fit(Z_train, y_train);\n",
    "\n",
    "# SAVE NEWEST ITERATIONS OF MODEL WITH PARAMS TO FILE\n",
    "filename = \"../assets/models/logreg_pipe_gs\"\n",
    "outfile = open(filename, \"wb\")\n",
    "pickle.dump(gs, outfile)\n",
    "outfile.close()"
   ]
  },
  {
   "cell_type": "code",
   "execution_count": 13,
   "metadata": {
    "ExecuteTime": {
     "end_time": "2020-06-06T23:06:49.626114Z",
     "start_time": "2020-06-06T23:06:49.620483Z"
    },
    "hidden": true
   },
   "outputs": [],
   "source": [
    "#UNCOMMENT TO RESET DICT\n",
    "# model_iterations = {1: {}}\n",
    "\n",
    "# DEFINE DICTIONARY TO STORE MODEL ITERATION RESULTS\n",
    "def model_params(dct, key):\n",
    "    dct[key][\"coefs\"] = gs.best_estimator_[1].coef_\n",
    "    dct[key][\"base_params\"] = params\n",
    "    dct[key][\"best_params\"] = gs.best_params_\n",
    "    dct[key][\"best_score\"] = gs.best_score_\n",
    "    dct[key][\"cv_results\"] = gs.cv_results_\n",
    "    dct[key][\"train_score\"] = gs.score(Z_train, y_train)\n",
    "    dct[key][\"test_score\"] = gs.score(Z_test, y_test)\n",
    "    dct[key][\"preds\"] = gs.predict(Z_test)\n",
    "    \n",
    "    \n",
    "    return dct"
   ]
  },
  {
   "cell_type": "code",
   "execution_count": 14,
   "metadata": {
    "ExecuteTime": {
     "end_time": "2020-06-06T23:06:55.655579Z",
     "start_time": "2020-06-06T23:06:55.573845Z"
    },
    "hidden": true
   },
   "outputs": [],
   "source": [
    "model_params(model_iterations, 1)\n",
    "\n",
    "# SAVE UPDATED DICT TO FILE\n",
    "filename = \"../assets/models/model_iterations\"\n",
    "outfile = open(filename, \"wb\")\n",
    "pickle.dump(model_iterations, outfile)\n",
    "outfile.close()"
   ]
  },
  {
   "cell_type": "code",
   "execution_count": 15,
   "metadata": {
    "ExecuteTime": {
     "end_time": "2020-06-06T23:07:06.463837Z",
     "start_time": "2020-06-06T23:07:06.456453Z"
    },
    "hidden": true
   },
   "outputs": [
    {
     "data": {
      "text/plain": [
       "{1: {'coefs': array([[0., 0., 0., ..., 0., 0., 0.],\n",
       "         [0., 0., 0., ..., 0., 0., 0.],\n",
       "         [0., 0., 0., ..., 0., 0., 0.],\n",
       "         ...,\n",
       "         [0., 0., 0., ..., 0., 0., 0.],\n",
       "         [0., 0., 0., ..., 0., 0., 0.],\n",
       "         [0., 0., 0., ..., 0., 0., 0.]]),\n",
       "  'base_params': {'logreg__C': [0.75, 0.85, 1, 1.1],\n",
       "   'logreg__solver': ['liblinear'],\n",
       "   'logreg__penalty': ['l1'],\n",
       "   'logreg__verbose': [10]},\n",
       "  'best_params': {'logreg__C': 0.85,\n",
       "   'logreg__penalty': 'l1',\n",
       "   'logreg__solver': 'liblinear',\n",
       "   'logreg__verbose': 10},\n",
       "  'best_score': 0.9998775494583597,\n",
       "  'cv_results': {'mean_fit_time': array([38.76960969, 38.05905571, 38.22778983, 37.08115921]),\n",
       "   'std_fit_time': array([2.69931988, 2.3123963 , 3.36814968, 2.29430517]),\n",
       "   'mean_score_time': array([0.00686274, 0.00754266, 0.00722566, 0.00812421]),\n",
       "   'std_score_time': array([0.00056993, 0.00179684, 0.00057026, 0.00273595]),\n",
       "   'param_logreg__C': masked_array(data=[0.75, 0.85, 1, 1.1],\n",
       "                mask=[False, False, False, False],\n",
       "          fill_value='?',\n",
       "               dtype=object),\n",
       "   'param_logreg__penalty': masked_array(data=['l1', 'l1', 'l1', 'l1'],\n",
       "                mask=[False, False, False, False],\n",
       "          fill_value='?',\n",
       "               dtype=object),\n",
       "   'param_logreg__solver': masked_array(data=['liblinear', 'liblinear', 'liblinear', 'liblinear'],\n",
       "                mask=[False, False, False, False],\n",
       "          fill_value='?',\n",
       "               dtype=object),\n",
       "   'param_logreg__verbose': masked_array(data=[10, 10, 10, 10],\n",
       "                mask=[False, False, False, False],\n",
       "          fill_value='?',\n",
       "               dtype=object),\n",
       "   'params': [{'logreg__C': 0.75,\n",
       "     'logreg__penalty': 'l1',\n",
       "     'logreg__solver': 'liblinear',\n",
       "     'logreg__verbose': 10},\n",
       "    {'logreg__C': 0.85,\n",
       "     'logreg__penalty': 'l1',\n",
       "     'logreg__solver': 'liblinear',\n",
       "     'logreg__verbose': 10},\n",
       "    {'logreg__C': 1,\n",
       "     'logreg__penalty': 'l1',\n",
       "     'logreg__solver': 'liblinear',\n",
       "     'logreg__verbose': 10},\n",
       "    {'logreg__C': 1.1,\n",
       "     'logreg__penalty': 'l1',\n",
       "     'logreg__solver': 'liblinear',\n",
       "     'logreg__verbose': 10}],\n",
       "   'split0_test_score': array([0.99977041, 0.99992347, 0.99992347, 0.99992347]),\n",
       "   'split1_test_score': array([0.99992347, 0.99992347, 0.99992347, 0.99992347]),\n",
       "   'split2_test_score': array([0.99984694, 0.99984694, 0.99984694, 0.99984694]),\n",
       "   'split3_test_score': array([0.9997704 , 0.99984693, 0.99984693, 0.99984693]),\n",
       "   'split4_test_score': array([0.99969386, 0.99984693, 0.99984693, 0.99984693]),\n",
       "   'mean_test_score': array([0.99980102, 0.99987755, 0.99987755, 0.99987755]),\n",
       "   'std_test_score': array([7.80520373e-05, 3.74950596e-05, 3.74950596e-05, 3.74950596e-05]),\n",
       "   'rank_test_score': array([4, 1, 1, 1], dtype=int32)},\n",
       "  'train_score': 0.9999234689972908,\n",
       "  'test_score': 0.999875695329252,\n",
       "  'preds': array([16, 15, 21, ..., 22, 14, 15])}}"
      ]
     },
     "execution_count": 15,
     "metadata": {},
     "output_type": "execute_result"
    }
   ],
   "source": [
    "model_iterations"
   ]
  },
  {
   "cell_type": "code",
   "execution_count": null,
   "metadata": {
    "hidden": true
   },
   "outputs": [],
   "source": []
  },
  {
   "cell_type": "markdown",
   "metadata": {},
   "source": [
    "## Transfer from SelectFromModel"
   ]
  },
  {
   "cell_type": "code",
   "execution_count": 28,
   "metadata": {
    "ExecuteTime": {
     "end_time": "2020-06-06T23:18:39.597381Z",
     "start_time": "2020-06-06T23:17:51.047280Z"
    }
   },
   "outputs": [
    {
     "data": {
      "text/plain": [
       "SelectFromModel(estimator=LogisticRegression(C=0.85, class_weight=None,\n",
       "                                             dual=False, fit_intercept=True,\n",
       "                                             intercept_scaling=1, l1_ratio=None,\n",
       "                                             max_iter=100, multi_class='auto',\n",
       "                                             n_jobs=None, penalty='l1',\n",
       "                                             random_state=None,\n",
       "                                             solver='liblinear', tol=0.0001,\n",
       "                                             verbose=0, warm_start=False),\n",
       "                max_features=None, norm_order=1, prefit=False, threshold=None)"
      ]
     },
     "execution_count": 28,
     "metadata": {},
     "output_type": "execute_result"
    }
   ],
   "source": [
    "# https://towardsdatascience.com/feature-selection-using-regularisation-a3678b71e499\n",
    "sel_ = SelectFromModel(LogisticRegression(C=.85, penalty=\"l1\", solver=\"liblinear\"))\n",
    "sel_.fit(Z_train, y_train)"
   ]
  },
  {
   "cell_type": "code",
   "execution_count": 59,
   "metadata": {
    "ExecuteTime": {
     "end_time": "2020-06-06T23:32:43.037891Z",
     "start_time": "2020-06-06T23:32:43.031745Z"
    }
   },
   "outputs": [
    {
     "name": "stdout",
     "output_type": "stream",
     "text": [
      "Total Features: 99\n",
      "Total Selected Features: 40\n",
      "Features with Zero'd Coefs from Lasso: 59\n"
     ]
    }
   ],
   "source": [
    "# CREATE LIST OF THE REMOVED FEATURES\n",
    "removed_features = []\n",
    "for col in list(X_train.columns):\n",
    "    if col not in list(selected_features):\n",
    "        removed_features.append(col)\n",
    "\n",
    "# THE NON-ZERO'D FEATURES VIA LASSO\n",
    "selected_features = X_train.columns[sel_.get_support()]\n",
    "\n",
    "print(\"Total Features: %d\" % (X_train.shape[1]))\n",
    "print(\"Total Selected Features: %d\" % (len(selected_features)))\n",
    "# NOPE:\n",
    "print(\"Features with Zero'd Coefs from Lasso: %d\" % (len(removed_features)))\n",
    "\n",
    "X_train_selected = sel_.transform(X_train)\n",
    "X_test_selected = sel_.transform(X_test)\n",
    "print(X_train_selected.shape, X_test_selected.shape)"
   ]
  },
  {
   "cell_type": "markdown",
   "metadata": {},
   "source": [
    "## Transfer from SelectKBest"
   ]
  },
  {
   "cell_type": "code",
   "execution_count": null,
   "metadata": {},
   "outputs": [],
   "source": []
  },
  {
   "cell_type": "markdown",
   "metadata": {
    "heading_collapsed": true
   },
   "source": [
    "# X"
   ]
  },
  {
   "cell_type": "code",
   "execution_count": 70,
   "metadata": {
    "ExecuteTime": {
     "end_time": "2020-06-06T21:03:41.036635Z",
     "start_time": "2020-06-06T21:03:41.027479Z"
    },
    "collapsed": true,
    "hidden": true
   },
   "outputs": [
    {
     "ename": "TypeError",
     "evalue": "'function' object is not subscriptable",
     "output_type": "error",
     "traceback": [
      "\u001b[0;31m---------------------------------------------------------------------------\u001b[0m",
      "\u001b[0;31mTypeError\u001b[0m                                 Traceback (most recent call last)",
      "\u001b[0;32m<ipython-input-70-764860bcb865>\u001b[0m in \u001b[0;36m<module>\u001b[0;34m\u001b[0m\n\u001b[0;32m----> 1\u001b[0;31m \u001b[0mmodel_iterations\u001b[0m\u001b[0;34m[\u001b[0m\u001b[0;36m1\u001b[0m\u001b[0;34m]\u001b[0m\u001b[0;34m[\u001b[0m\u001b[0;34m\"best_params\"\u001b[0m\u001b[0;34m]\u001b[0m \u001b[0;34m=\u001b[0m \u001b[0mgs\u001b[0m\u001b[0;34m.\u001b[0m\u001b[0mbest_params_\u001b[0m\u001b[0;34m\u001b[0m\u001b[0;34m\u001b[0m\u001b[0m\n\u001b[0m\u001b[1;32m      2\u001b[0m \u001b[0mmodel_iterations\u001b[0m\u001b[0;34m[\u001b[0m\u001b[0;36m1\u001b[0m\u001b[0;34m]\u001b[0m\u001b[0;34m[\u001b[0m\u001b[0;34m\"best_snore\"\u001b[0m\u001b[0;34m]\u001b[0m \u001b[0;34m=\u001b[0m \u001b[0mgs\u001b[0m\u001b[0;34m.\u001b[0m\u001b[0mbest_params_\u001b[0m\u001b[0;34m\u001b[0m\u001b[0;34m\u001b[0m\u001b[0m\n\u001b[1;32m      3\u001b[0m \u001b[0mmodel_iterations\u001b[0m\u001b[0;34m[\u001b[0m\u001b[0;36m1\u001b[0m\u001b[0;34m]\u001b[0m\u001b[0;34m[\u001b[0m\u001b[0;34m\"cv_results\"\u001b[0m\u001b[0;34m]\u001b[0m \u001b[0;34m=\u001b[0m \u001b[0mgs\u001b[0m\u001b[0;34m.\u001b[0m\u001b[0mcv_results_\u001b[0m\u001b[0;34m\u001b[0m\u001b[0;34m\u001b[0m\u001b[0m\n\u001b[1;32m      4\u001b[0m \u001b[0mmodel_iterations\u001b[0m\u001b[0;34m[\u001b[0m\u001b[0;36m1\u001b[0m\u001b[0;34m]\u001b[0m\u001b[0;34m[\u001b[0m\u001b[0;34m\"train_score\"\u001b[0m\u001b[0;34m]\u001b[0m \u001b[0;34m=\u001b[0m \u001b[0mgs\u001b[0m\u001b[0;34m.\u001b[0m\u001b[0mscore\u001b[0m\u001b[0;34m(\u001b[0m\u001b[0mZ_train\u001b[0m\u001b[0;34m,\u001b[0m \u001b[0my_train\u001b[0m\u001b[0;34m)\u001b[0m\u001b[0;34m\u001b[0m\u001b[0;34m\u001b[0m\u001b[0m\n\u001b[1;32m      5\u001b[0m \u001b[0mmodel_iterations\u001b[0m\u001b[0;34m[\u001b[0m\u001b[0;36m1\u001b[0m\u001b[0;34m]\u001b[0m\u001b[0;34m[\u001b[0m\u001b[0;34m\"test_score\"\u001b[0m\u001b[0;34m]\u001b[0m \u001b[0;34m=\u001b[0m \u001b[0mgs\u001b[0m\u001b[0;34m.\u001b[0m\u001b[0mscore\u001b[0m\u001b[0;34m(\u001b[0m\u001b[0mZ_test\u001b[0m\u001b[0;34m,\u001b[0m \u001b[0my_test\u001b[0m\u001b[0;34m)\u001b[0m\u001b[0;34m\u001b[0m\u001b[0;34m\u001b[0m\u001b[0m\n",
      "\u001b[0;31mTypeError\u001b[0m: 'function' object is not subscriptable"
     ]
    }
   ],
   "source": [
    "model_iterations = {1: {}}\n",
    "model_iterations[1][\"best_params\"] = gs.best_params_\n",
    "model_iterations[1][\"best_snore\"] = gs.best_params_\n",
    "model_iterations[1][\"cv_results\"] = gs.cv_results_\n",
    "model_iterations[1][\"train_score\"] = gs.score(Z_train, y_train)\n",
    "model_iterations[1][\"test_score\"] = gs.score(Z_test, y_test)\n",
    "\n",
    "model_preds = gs.predict(Z_test)\n",
    "model_cm = confusion_matrix(y_test, model_preds)\n",
    "model_cm_df = pd.DataFrame(model_cm)"
   ]
  },
  {
   "cell_type": "code",
   "execution_count": 26,
   "metadata": {
    "ExecuteTime": {
     "end_time": "2020-06-06T20:21:00.857444Z",
     "start_time": "2020-06-06T20:21:00.738184Z"
    },
    "hidden": true
   },
   "outputs": [
    {
     "name": "stdout",
     "output_type": "stream",
     "text": [
      "0.09646412163640342\n",
      "0.09352311415562574\n"
     ]
    }
   ],
   "source": [
    "model_iterations = {2: {}}\n",
    "\n",
    "model_iterations[2][\"best_params\"] = gs.best_params_\n",
    "model_iterations[2][\"best_snore\"] = gs.best_params_\n",
    "model_iterations[2][\"cv_results\"] = gs.cv_results_\n",
    "model_iterations[2][\"train_score\"] = gs.score(Z_train, y_train)\n",
    "model_iterations[2][\"test_score\"] = gs.score(Z_test, y_test)\n",
    "\n",
    "model_preds = gs.predict(Z_test)\n",
    "model_iterations[2][\"preds\"] = gs.predict(Z_test)\n",
    "model_cm = confusion_matrix(y_test, model_preds)\n",
    "model_cm_df2 = pd.DataFrame(model_cm)\n",
    "cm_df = pd.concat([model_cm_df, model_cm_df2],\n",
    "                  axis=1,\n",
    "                  sort=False)"
   ]
  }
 ],
 "metadata": {
  "kernelspec": {
   "display_name": "Python 3",
   "language": "python",
   "name": "python3"
  },
  "language_info": {
   "codemirror_mode": {
    "name": "ipython",
    "version": 3
   },
   "file_extension": ".py",
   "mimetype": "text/x-python",
   "name": "python",
   "nbconvert_exporter": "python",
   "pygments_lexer": "ipython3",
   "version": "3.7.6"
  },
  "toc": {
   "base_numbering": 1,
   "nav_menu": {},
   "number_sections": true,
   "sideBar": true,
   "skip_h1_title": false,
   "title_cell": "Table of Contents",
   "title_sidebar": "Contents",
   "toc_cell": false,
   "toc_position": {},
   "toc_section_display": true,
   "toc_window_display": false
  }
 },
 "nbformat": 4,
 "nbformat_minor": 4
}
