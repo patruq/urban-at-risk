{
 "cells": [
  {
   "cell_type": "code",
   "execution_count": 2,
   "metadata": {
    "ExecuteTime": {
     "end_time": "2020-06-04T23:13:22.453392Z",
     "start_time": "2020-06-04T23:13:21.848656Z"
    }
   },
   "outputs": [],
   "source": [
    "# STANDARD LIBRARIES\n",
    "import pandas as pd\n",
    "import numpy as np\n",
    "import glob\n",
    "import pickle\n",
    "import datetime "
   ]
  },
  {
   "cell_type": "markdown",
   "metadata": {
    "heading_collapsed": true
   },
   "source": [
    "# Read Dataframes"
   ]
  },
  {
   "cell_type": "code",
   "execution_count": 3,
   "metadata": {
    "ExecuteTime": {
     "end_time": "2020-06-04T23:13:25.754157Z",
     "start_time": "2020-06-04T23:13:24.078390Z"
    },
    "hidden": true
   },
   "outputs": [],
   "source": [
    "# data = pd.read_csv(\"../data/fy19fullpropassess.csv\", low_memory=False)\n",
    "pw_df = pd.read_csv(\"../data/public-works-violations/tmpcmn0p2r0.csv\", low_memory=False)\n",
    "# requests_df = pd.read_csv(\"../data/311-requests/311_service_requests_2019.csv\", low_memory=False)\n",
    "\n",
    "# FIRE DATA IS ACROSS SEVERAL CSVs\n",
    "# path = r\"../data/fire-incident-reporting/\"\n",
    "# files = glob.glob(path + \"/*.csv\")\n",
    "\n",
    "data_list = []\n",
    "\n",
    "# for file in files:\n",
    "#     df = pd.read_csv(file, index_col=None, header=0)\n",
    "#     data_list.append(df)\n",
    "    \n",
    "# fire_df = pd.concat(data_list, axis=0, ignore_index=True)\n",
    "# https://stackoverflow.com/questions/20906474/import-multiple-csv-files-into-pandas-and-concatenate-into-one-dataframe"
   ]
  },
  {
   "cell_type": "code",
   "execution_count": 3,
   "metadata": {
    "ExecuteTime": {
     "end_time": "2020-06-04T17:02:53.404164Z",
     "start_time": "2020-06-04T17:02:53.237328Z"
    },
    "hidden": true
   },
   "outputs": [],
   "source": [
    "data = pd.read_csv(\"../data/clean-data/data-clean.csv\", low_memory=False)\n",
    "pw_df = pd.read_csv(\"../data/clean-data/pw_df-clean.csv\", low_memory=False)\n",
    "fire_df = pd.read_csv(\"../data/clean-data/fire_df-clean.csv\")\n",
    "# requests_df = pd.read_csv(\"../data/clean-data/requests_df-clean.csv\", low_memory=False)\n",
    "\n",
    "df_list = [\n",
    "    data,\n",
    "    pw_df,\n",
    "#     requests_df,\n",
    "    fire_df\n",
    "]\n",
    "\n",
    "for df in df_list:\n",
    "    try:\n",
    "        df.drop(columns=\"Unnamed: 0\", inplace=True)\n",
    "    except KeyError:\n",
    "        pass"
   ]
  },
  {
   "cell_type": "markdown",
   "metadata": {
    "heading_collapsed": true
   },
   "source": [
    "# Check Data"
   ]
  },
  {
   "cell_type": "markdown",
   "metadata": {
    "heading_collapsed": true,
    "hidden": true
   },
   "source": [
    "## Data"
   ]
  },
  {
   "cell_type": "code",
   "execution_count": 561,
   "metadata": {
    "ExecuteTime": {
     "end_time": "2020-06-03T02:54:43.699757Z",
     "start_time": "2020-06-03T02:54:43.676747Z"
    },
    "hidden": true,
    "scrolled": true
   },
   "outputs": [
    {
     "name": "stdout",
     "output_type": "stream",
     "text": [
      "(174668, 75)\n"
     ]
    },
    {
     "data": {
      "text/html": [
       "<div>\n",
       "<style scoped>\n",
       "    .dataframe tbody tr th:only-of-type {\n",
       "        vertical-align: middle;\n",
       "    }\n",
       "\n",
       "    .dataframe tbody tr th {\n",
       "        vertical-align: top;\n",
       "    }\n",
       "\n",
       "    .dataframe thead th {\n",
       "        text-align: right;\n",
       "    }\n",
       "</style>\n",
       "<table border=\"1\" class=\"dataframe\">\n",
       "  <thead>\n",
       "    <tr style=\"text-align: right;\">\n",
       "      <th></th>\n",
       "      <th>PID</th>\n",
       "      <th>CM_ID</th>\n",
       "      <th>GIS_ID</th>\n",
       "      <th>ST_NUM</th>\n",
       "      <th>ST_NAME</th>\n",
       "      <th>ST_NAME_SUF</th>\n",
       "      <th>UNIT_NUM</th>\n",
       "      <th>ZIPCODE</th>\n",
       "      <th>PTYPE</th>\n",
       "      <th>LU</th>\n",
       "      <th>...</th>\n",
       "      <th>U_BTH_STYLE2</th>\n",
       "      <th>U_BTH_STYLE3</th>\n",
       "      <th>U_KITCH_TYPE</th>\n",
       "      <th>U_KITCH_STYLE</th>\n",
       "      <th>U_HEAT_TYP</th>\n",
       "      <th>U_AC</th>\n",
       "      <th>U_FPLACE</th>\n",
       "      <th>U_INT_FIN</th>\n",
       "      <th>U_INT_CND</th>\n",
       "      <th>U_VIEW</th>\n",
       "    </tr>\n",
       "  </thead>\n",
       "  <tbody>\n",
       "    <tr>\n",
       "      <th>0</th>\n",
       "      <td>502550008</td>\n",
       "      <td>502550000.0</td>\n",
       "      <td>502550000</td>\n",
       "      <td>87</td>\n",
       "      <td>BEACON</td>\n",
       "      <td>ST</td>\n",
       "      <td>2-F</td>\n",
       "      <td>2108.0</td>\n",
       "      <td>102</td>\n",
       "      <td>CD</td>\n",
       "      <td>...</td>\n",
       "      <td>M</td>\n",
       "      <td>NaN</td>\n",
       "      <td>O</td>\n",
       "      <td>M</td>\n",
       "      <td>W</td>\n",
       "      <td>N</td>\n",
       "      <td>1.0</td>\n",
       "      <td>N</td>\n",
       "      <td>G</td>\n",
       "      <td>A</td>\n",
       "    </tr>\n",
       "    <tr>\n",
       "      <th>1</th>\n",
       "      <td>502550010</td>\n",
       "      <td>502550000.0</td>\n",
       "      <td>502550000</td>\n",
       "      <td>87</td>\n",
       "      <td>BEACON</td>\n",
       "      <td>ST</td>\n",
       "      <td>2-R</td>\n",
       "      <td>2108.0</td>\n",
       "      <td>102</td>\n",
       "      <td>CD</td>\n",
       "      <td>...</td>\n",
       "      <td>NaN</td>\n",
       "      <td>NaN</td>\n",
       "      <td>O</td>\n",
       "      <td>S</td>\n",
       "      <td>W</td>\n",
       "      <td>N</td>\n",
       "      <td>1.0</td>\n",
       "      <td>N</td>\n",
       "      <td>A</td>\n",
       "      <td>A</td>\n",
       "    </tr>\n",
       "    <tr>\n",
       "      <th>2</th>\n",
       "      <td>502550012</td>\n",
       "      <td>502550000.0</td>\n",
       "      <td>502550000</td>\n",
       "      <td>87</td>\n",
       "      <td>BEACON</td>\n",
       "      <td>ST</td>\n",
       "      <td>3-F</td>\n",
       "      <td>2108.0</td>\n",
       "      <td>102</td>\n",
       "      <td>CD</td>\n",
       "      <td>...</td>\n",
       "      <td>S</td>\n",
       "      <td>NaN</td>\n",
       "      <td>O</td>\n",
       "      <td>M</td>\n",
       "      <td>W</td>\n",
       "      <td>N</td>\n",
       "      <td>1.0</td>\n",
       "      <td>N</td>\n",
       "      <td>A</td>\n",
       "      <td>G</td>\n",
       "    </tr>\n",
       "    <tr>\n",
       "      <th>3</th>\n",
       "      <td>502550014</td>\n",
       "      <td>502550000.0</td>\n",
       "      <td>502550000</td>\n",
       "      <td>87</td>\n",
       "      <td>BEACON</td>\n",
       "      <td>ST</td>\n",
       "      <td>3-R</td>\n",
       "      <td>2108.0</td>\n",
       "      <td>102</td>\n",
       "      <td>CD</td>\n",
       "      <td>...</td>\n",
       "      <td>NaN</td>\n",
       "      <td>NaN</td>\n",
       "      <td>O</td>\n",
       "      <td>N</td>\n",
       "      <td>W</td>\n",
       "      <td>N</td>\n",
       "      <td>1.0</td>\n",
       "      <td>S</td>\n",
       "      <td>A</td>\n",
       "      <td>G</td>\n",
       "    </tr>\n",
       "    <tr>\n",
       "      <th>4</th>\n",
       "      <td>502550016</td>\n",
       "      <td>502550000.0</td>\n",
       "      <td>502550000</td>\n",
       "      <td>87</td>\n",
       "      <td>BEACON</td>\n",
       "      <td>ST</td>\n",
       "      <td>4</td>\n",
       "      <td>2108.0</td>\n",
       "      <td>102</td>\n",
       "      <td>CD</td>\n",
       "      <td>...</td>\n",
       "      <td>M</td>\n",
       "      <td>M</td>\n",
       "      <td>O</td>\n",
       "      <td>L</td>\n",
       "      <td>W</td>\n",
       "      <td>C</td>\n",
       "      <td>2.0</td>\n",
       "      <td>N</td>\n",
       "      <td>E</td>\n",
       "      <td>G</td>\n",
       "    </tr>\n",
       "  </tbody>\n",
       "</table>\n",
       "<p>5 rows × 75 columns</p>\n",
       "</div>"
      ],
      "text/plain": [
       "         PID        CM_ID     GIS_ID ST_NUM ST_NAME ST_NAME_SUF UNIT_NUM  \\\n",
       "0  502550008  502550000.0  502550000     87  BEACON          ST      2-F   \n",
       "1  502550010  502550000.0  502550000     87  BEACON          ST      2-R   \n",
       "2  502550012  502550000.0  502550000     87  BEACON          ST      3-F   \n",
       "3  502550014  502550000.0  502550000     87  BEACON          ST      3-R   \n",
       "4  502550016  502550000.0  502550000     87  BEACON          ST        4   \n",
       "\n",
       "   ZIPCODE  PTYPE  LU  ... U_BTH_STYLE2 U_BTH_STYLE3 U_KITCH_TYPE  \\\n",
       "0   2108.0    102  CD  ...            M          NaN            O   \n",
       "1   2108.0    102  CD  ...          NaN          NaN            O   \n",
       "2   2108.0    102  CD  ...            S          NaN            O   \n",
       "3   2108.0    102  CD  ...          NaN          NaN            O   \n",
       "4   2108.0    102  CD  ...            M            M            O   \n",
       "\n",
       "  U_KITCH_STYLE U_HEAT_TYP U_AC  U_FPLACE  U_INT_FIN  U_INT_CND  U_VIEW  \n",
       "0             M          W    N       1.0          N          G       A  \n",
       "1             S          W    N       1.0          N          A       A  \n",
       "2             M          W    N       1.0          N          A       G  \n",
       "3             N          W    N       1.0          S          A       G  \n",
       "4             L          W    C       2.0          N          E       G  \n",
       "\n",
       "[5 rows x 75 columns]"
      ]
     },
     "execution_count": 561,
     "metadata": {},
     "output_type": "execute_result"
    }
   ],
   "source": [
    "print(data.shape)\n",
    "data.head()"
   ]
  },
  {
   "cell_type": "code",
   "execution_count": 562,
   "metadata": {
    "ExecuteTime": {
     "end_time": "2020-06-03T02:54:43.860645Z",
     "start_time": "2020-06-03T02:54:43.701045Z"
    },
    "hidden": true
   },
   "outputs": [
    {
     "data": {
      "text/html": [
       "<div>\n",
       "<style scoped>\n",
       "    .dataframe tbody tr th:only-of-type {\n",
       "        vertical-align: middle;\n",
       "    }\n",
       "\n",
       "    .dataframe tbody tr th {\n",
       "        vertical-align: top;\n",
       "    }\n",
       "\n",
       "    .dataframe thead th {\n",
       "        text-align: right;\n",
       "    }\n",
       "</style>\n",
       "<table border=\"1\" class=\"dataframe\">\n",
       "  <thead>\n",
       "    <tr style=\"text-align: right;\">\n",
       "      <th></th>\n",
       "      <th>PID</th>\n",
       "      <th>CM_ID</th>\n",
       "      <th>GIS_ID</th>\n",
       "      <th>ST_NUM</th>\n",
       "      <th>ST_NAME</th>\n",
       "      <th>ST_NAME_SUF</th>\n",
       "      <th>UNIT_NUM</th>\n",
       "      <th>ZIPCODE</th>\n",
       "      <th>PTYPE</th>\n",
       "      <th>LU</th>\n",
       "      <th>...</th>\n",
       "      <th>U_BTH_STYLE2</th>\n",
       "      <th>U_BTH_STYLE3</th>\n",
       "      <th>U_KITCH_TYPE</th>\n",
       "      <th>U_KITCH_STYLE</th>\n",
       "      <th>U_HEAT_TYP</th>\n",
       "      <th>U_AC</th>\n",
       "      <th>U_FPLACE</th>\n",
       "      <th>U_INT_FIN</th>\n",
       "      <th>U_INT_CND</th>\n",
       "      <th>U_VIEW</th>\n",
       "    </tr>\n",
       "  </thead>\n",
       "  <tbody>\n",
       "    <tr>\n",
       "      <th>0</th>\n",
       "      <td>502550008</td>\n",
       "      <td>502550000.0</td>\n",
       "      <td>502550000</td>\n",
       "      <td>87</td>\n",
       "      <td>BEACON</td>\n",
       "      <td>ST</td>\n",
       "      <td>2-F</td>\n",
       "      <td>2108.0</td>\n",
       "      <td>102</td>\n",
       "      <td>CD</td>\n",
       "      <td>...</td>\n",
       "      <td>M</td>\n",
       "      <td>NaN</td>\n",
       "      <td>O</td>\n",
       "      <td>M</td>\n",
       "      <td>W</td>\n",
       "      <td>N</td>\n",
       "      <td>1.0</td>\n",
       "      <td>N</td>\n",
       "      <td>G</td>\n",
       "      <td>A</td>\n",
       "    </tr>\n",
       "    <tr>\n",
       "      <th>5</th>\n",
       "      <td>502551000</td>\n",
       "      <td>502551000.0</td>\n",
       "      <td>502551000</td>\n",
       "      <td>88</td>\n",
       "      <td>BEACON</td>\n",
       "      <td>ST</td>\n",
       "      <td>NaN</td>\n",
       "      <td>2108.0</td>\n",
       "      <td>995</td>\n",
       "      <td>CM</td>\n",
       "      <td>...</td>\n",
       "      <td>NaN</td>\n",
       "      <td>NaN</td>\n",
       "      <td>NaN</td>\n",
       "      <td>NaN</td>\n",
       "      <td>NaN</td>\n",
       "      <td>NaN</td>\n",
       "      <td>NaN</td>\n",
       "      <td>NaN</td>\n",
       "      <td>NaN</td>\n",
       "      <td>NaN</td>\n",
       "    </tr>\n",
       "    <tr>\n",
       "      <th>12</th>\n",
       "      <td>502552000</td>\n",
       "      <td>NaN</td>\n",
       "      <td>502552000</td>\n",
       "      <td>89</td>\n",
       "      <td>BEACON</td>\n",
       "      <td>ST</td>\n",
       "      <td>NaN</td>\n",
       "      <td>2108.0</td>\n",
       "      <td>112</td>\n",
       "      <td>A</td>\n",
       "      <td>...</td>\n",
       "      <td>NaN</td>\n",
       "      <td>NaN</td>\n",
       "      <td>NaN</td>\n",
       "      <td>NaN</td>\n",
       "      <td>NaN</td>\n",
       "      <td>NaN</td>\n",
       "      <td>NaN</td>\n",
       "      <td>NaN</td>\n",
       "      <td>NaN</td>\n",
       "      <td>NaN</td>\n",
       "    </tr>\n",
       "    <tr>\n",
       "      <th>13</th>\n",
       "      <td>502553000</td>\n",
       "      <td>502553000.0</td>\n",
       "      <td>502553000</td>\n",
       "      <td>90</td>\n",
       "      <td>BEACON</td>\n",
       "      <td>ST</td>\n",
       "      <td>NaN</td>\n",
       "      <td>2108.0</td>\n",
       "      <td>995</td>\n",
       "      <td>CM</td>\n",
       "      <td>...</td>\n",
       "      <td>NaN</td>\n",
       "      <td>NaN</td>\n",
       "      <td>NaN</td>\n",
       "      <td>NaN</td>\n",
       "      <td>NaN</td>\n",
       "      <td>NaN</td>\n",
       "      <td>NaN</td>\n",
       "      <td>NaN</td>\n",
       "      <td>NaN</td>\n",
       "      <td>NaN</td>\n",
       "    </tr>\n",
       "    <tr>\n",
       "      <th>21</th>\n",
       "      <td>502554000</td>\n",
       "      <td>502554000.0</td>\n",
       "      <td>502554000</td>\n",
       "      <td>91</td>\n",
       "      <td>BEACON</td>\n",
       "      <td>ST</td>\n",
       "      <td>NaN</td>\n",
       "      <td>2108.0</td>\n",
       "      <td>995</td>\n",
       "      <td>CM</td>\n",
       "      <td>...</td>\n",
       "      <td>NaN</td>\n",
       "      <td>NaN</td>\n",
       "      <td>NaN</td>\n",
       "      <td>NaN</td>\n",
       "      <td>NaN</td>\n",
       "      <td>NaN</td>\n",
       "      <td>NaN</td>\n",
       "      <td>NaN</td>\n",
       "      <td>NaN</td>\n",
       "      <td>NaN</td>\n",
       "    </tr>\n",
       "    <tr>\n",
       "      <th>...</th>\n",
       "      <td>...</td>\n",
       "      <td>...</td>\n",
       "      <td>...</td>\n",
       "      <td>...</td>\n",
       "      <td>...</td>\n",
       "      <td>...</td>\n",
       "      <td>...</td>\n",
       "      <td>...</td>\n",
       "      <td>...</td>\n",
       "      <td>...</td>\n",
       "      <td>...</td>\n",
       "      <td>...</td>\n",
       "      <td>...</td>\n",
       "      <td>...</td>\n",
       "      <td>...</td>\n",
       "      <td>...</td>\n",
       "      <td>...</td>\n",
       "      <td>...</td>\n",
       "      <td>...</td>\n",
       "      <td>...</td>\n",
       "      <td>...</td>\n",
       "    </tr>\n",
       "    <tr>\n",
       "      <th>174661</th>\n",
       "      <td>2205666000</td>\n",
       "      <td>NaN</td>\n",
       "      <td>2205666000</td>\n",
       "      <td></td>\n",
       "      <td>KNOWLES</td>\n",
       "      <td>ST</td>\n",
       "      <td>NaN</td>\n",
       "      <td>2135.0</td>\n",
       "      <td>902</td>\n",
       "      <td>E</td>\n",
       "      <td>...</td>\n",
       "      <td>NaN</td>\n",
       "      <td>NaN</td>\n",
       "      <td>NaN</td>\n",
       "      <td>NaN</td>\n",
       "      <td>NaN</td>\n",
       "      <td>NaN</td>\n",
       "      <td>NaN</td>\n",
       "      <td>NaN</td>\n",
       "      <td>NaN</td>\n",
       "      <td>NaN</td>\n",
       "    </tr>\n",
       "    <tr>\n",
       "      <th>174662</th>\n",
       "      <td>2205667000</td>\n",
       "      <td>NaN</td>\n",
       "      <td>2205667000</td>\n",
       "      <td></td>\n",
       "      <td>LAKE</td>\n",
       "      <td>ST</td>\n",
       "      <td>NaN</td>\n",
       "      <td>2135.0</td>\n",
       "      <td>132</td>\n",
       "      <td>RL</td>\n",
       "      <td>...</td>\n",
       "      <td>NaN</td>\n",
       "      <td>NaN</td>\n",
       "      <td>NaN</td>\n",
       "      <td>NaN</td>\n",
       "      <td>NaN</td>\n",
       "      <td>NaN</td>\n",
       "      <td>NaN</td>\n",
       "      <td>NaN</td>\n",
       "      <td>NaN</td>\n",
       "      <td>NaN</td>\n",
       "    </tr>\n",
       "    <tr>\n",
       "      <th>174663</th>\n",
       "      <td>2205668000</td>\n",
       "      <td>NaN</td>\n",
       "      <td>2205668000</td>\n",
       "      <td>4</td>\n",
       "      <td>LAKE</td>\n",
       "      <td>ST</td>\n",
       "      <td>NaN</td>\n",
       "      <td>2135.0</td>\n",
       "      <td>105</td>\n",
       "      <td>R3</td>\n",
       "      <td>...</td>\n",
       "      <td>NaN</td>\n",
       "      <td>NaN</td>\n",
       "      <td>NaN</td>\n",
       "      <td>NaN</td>\n",
       "      <td>NaN</td>\n",
       "      <td>NaN</td>\n",
       "      <td>NaN</td>\n",
       "      <td>NaN</td>\n",
       "      <td>NaN</td>\n",
       "      <td>NaN</td>\n",
       "    </tr>\n",
       "    <tr>\n",
       "      <th>174664</th>\n",
       "      <td>2205669000</td>\n",
       "      <td>NaN</td>\n",
       "      <td>2205669000</td>\n",
       "      <td>2193 2201</td>\n",
       "      <td>COMMONWEALTH</td>\n",
       "      <td>AV</td>\n",
       "      <td>NaN</td>\n",
       "      <td>2135.0</td>\n",
       "      <td>319</td>\n",
       "      <td>C</td>\n",
       "      <td>...</td>\n",
       "      <td>NaN</td>\n",
       "      <td>NaN</td>\n",
       "      <td>NaN</td>\n",
       "      <td>NaN</td>\n",
       "      <td>NaN</td>\n",
       "      <td>NaN</td>\n",
       "      <td>NaN</td>\n",
       "      <td>NaN</td>\n",
       "      <td>NaN</td>\n",
       "      <td>NaN</td>\n",
       "    </tr>\n",
       "    <tr>\n",
       "      <th>174665</th>\n",
       "      <td>2205670000</td>\n",
       "      <td>NaN</td>\n",
       "      <td>2205670000</td>\n",
       "      <td>2203</td>\n",
       "      <td>COMMONWEALTH</td>\n",
       "      <td>AV</td>\n",
       "      <td>NaN</td>\n",
       "      <td>2135.0</td>\n",
       "      <td>985</td>\n",
       "      <td>E</td>\n",
       "      <td>...</td>\n",
       "      <td>NaN</td>\n",
       "      <td>NaN</td>\n",
       "      <td>NaN</td>\n",
       "      <td>NaN</td>\n",
       "      <td>NaN</td>\n",
       "      <td>NaN</td>\n",
       "      <td>NaN</td>\n",
       "      <td>NaN</td>\n",
       "      <td>NaN</td>\n",
       "      <td>NaN</td>\n",
       "    </tr>\n",
       "  </tbody>\n",
       "</table>\n",
       "<p>98907 rows × 75 columns</p>\n",
       "</div>"
      ],
      "text/plain": [
       "               PID        CM_ID      GIS_ID     ST_NUM       ST_NAME  \\\n",
       "0        502550008  502550000.0   502550000         87        BEACON   \n",
       "5        502551000  502551000.0   502551000         88        BEACON   \n",
       "12       502552000          NaN   502552000         89        BEACON   \n",
       "13       502553000  502553000.0   502553000         90        BEACON   \n",
       "21       502554000  502554000.0   502554000         91        BEACON   \n",
       "...            ...          ...         ...        ...           ...   \n",
       "174661  2205666000          NaN  2205666000                  KNOWLES   \n",
       "174662  2205667000          NaN  2205667000                     LAKE   \n",
       "174663  2205668000          NaN  2205668000          4          LAKE   \n",
       "174664  2205669000          NaN  2205669000  2193 2201  COMMONWEALTH   \n",
       "174665  2205670000          NaN  2205670000       2203  COMMONWEALTH   \n",
       "\n",
       "       ST_NAME_SUF UNIT_NUM  ZIPCODE  PTYPE  LU  ... U_BTH_STYLE2  \\\n",
       "0               ST      2-F   2108.0    102  CD  ...            M   \n",
       "5               ST      NaN   2108.0    995  CM  ...          NaN   \n",
       "12              ST      NaN   2108.0    112   A  ...          NaN   \n",
       "13              ST      NaN   2108.0    995  CM  ...          NaN   \n",
       "21              ST      NaN   2108.0    995  CM  ...          NaN   \n",
       "...            ...      ...      ...    ...  ..  ...          ...   \n",
       "174661          ST      NaN   2135.0    902   E  ...          NaN   \n",
       "174662          ST      NaN   2135.0    132  RL  ...          NaN   \n",
       "174663          ST      NaN   2135.0    105  R3  ...          NaN   \n",
       "174664          AV      NaN   2135.0    319   C  ...          NaN   \n",
       "174665          AV      NaN   2135.0    985   E  ...          NaN   \n",
       "\n",
       "       U_BTH_STYLE3 U_KITCH_TYPE U_KITCH_STYLE U_HEAT_TYP U_AC  U_FPLACE  \\\n",
       "0               NaN            O             M          W    N       1.0   \n",
       "5               NaN          NaN           NaN        NaN  NaN       NaN   \n",
       "12              NaN          NaN           NaN        NaN  NaN       NaN   \n",
       "13              NaN          NaN           NaN        NaN  NaN       NaN   \n",
       "21              NaN          NaN           NaN        NaN  NaN       NaN   \n",
       "...             ...          ...           ...        ...  ...       ...   \n",
       "174661          NaN          NaN           NaN        NaN  NaN       NaN   \n",
       "174662          NaN          NaN           NaN        NaN  NaN       NaN   \n",
       "174663          NaN          NaN           NaN        NaN  NaN       NaN   \n",
       "174664          NaN          NaN           NaN        NaN  NaN       NaN   \n",
       "174665          NaN          NaN           NaN        NaN  NaN       NaN   \n",
       "\n",
       "        U_INT_FIN  U_INT_CND  U_VIEW  \n",
       "0               N          G       A  \n",
       "5             NaN        NaN     NaN  \n",
       "12            NaN        NaN     NaN  \n",
       "13            NaN        NaN     NaN  \n",
       "21            NaN        NaN     NaN  \n",
       "...           ...        ...     ...  \n",
       "174661        NaN        NaN     NaN  \n",
       "174662        NaN        NaN     NaN  \n",
       "174663        NaN        NaN     NaN  \n",
       "174664        NaN        NaN     NaN  \n",
       "174665        NaN        NaN     NaN  \n",
       "\n",
       "[98907 rows x 75 columns]"
      ]
     },
     "execution_count": 562,
     "metadata": {},
     "output_type": "execute_result"
    }
   ],
   "source": [
    "# THIS IS THE COLUMN TO ASSIGN TO OTHER DF ADDRESSES AND JOIN ON\n",
    "data.drop_duplicates(subset=[\"GIS_ID\"])"
   ]
  },
  {
   "cell_type": "code",
   "execution_count": 563,
   "metadata": {
    "ExecuteTime": {
     "end_time": "2020-06-03T02:54:43.878312Z",
     "start_time": "2020-06-03T02:54:43.861653Z"
    },
    "hidden": true
   },
   "outputs": [
    {
     "data": {
      "text/html": [
       "<div>\n",
       "<style scoped>\n",
       "    .dataframe tbody tr th:only-of-type {\n",
       "        vertical-align: middle;\n",
       "    }\n",
       "\n",
       "    .dataframe tbody tr th {\n",
       "        vertical-align: top;\n",
       "    }\n",
       "\n",
       "    .dataframe thead th {\n",
       "        text-align: right;\n",
       "    }\n",
       "</style>\n",
       "<table border=\"1\" class=\"dataframe\">\n",
       "  <thead>\n",
       "    <tr style=\"text-align: right;\">\n",
       "      <th></th>\n",
       "      <th>PID</th>\n",
       "      <th>CM_ID</th>\n",
       "      <th>GIS_ID</th>\n",
       "      <th>ST_NUM</th>\n",
       "      <th>ST_NAME</th>\n",
       "      <th>ST_NAME_SUF</th>\n",
       "      <th>UNIT_NUM</th>\n",
       "      <th>ZIPCODE</th>\n",
       "      <th>PTYPE</th>\n",
       "      <th>LU</th>\n",
       "      <th>...</th>\n",
       "      <th>U_BTH_STYLE2</th>\n",
       "      <th>U_BTH_STYLE3</th>\n",
       "      <th>U_KITCH_TYPE</th>\n",
       "      <th>U_KITCH_STYLE</th>\n",
       "      <th>U_HEAT_TYP</th>\n",
       "      <th>U_AC</th>\n",
       "      <th>U_FPLACE</th>\n",
       "      <th>U_INT_FIN</th>\n",
       "      <th>U_INT_CND</th>\n",
       "      <th>U_VIEW</th>\n",
       "    </tr>\n",
       "  </thead>\n",
       "  <tbody>\n",
       "    <tr>\n",
       "      <th>0</th>\n",
       "      <td>502550008</td>\n",
       "      <td>502550000.0</td>\n",
       "      <td>502550000</td>\n",
       "      <td>87</td>\n",
       "      <td>BEACON</td>\n",
       "      <td>ST</td>\n",
       "      <td>2-F</td>\n",
       "      <td>2108.0</td>\n",
       "      <td>102</td>\n",
       "      <td>CD</td>\n",
       "      <td>...</td>\n",
       "      <td>M</td>\n",
       "      <td>NaN</td>\n",
       "      <td>O</td>\n",
       "      <td>M</td>\n",
       "      <td>W</td>\n",
       "      <td>N</td>\n",
       "      <td>1.0</td>\n",
       "      <td>N</td>\n",
       "      <td>G</td>\n",
       "      <td>A</td>\n",
       "    </tr>\n",
       "    <tr>\n",
       "      <th>1</th>\n",
       "      <td>502550010</td>\n",
       "      <td>502550000.0</td>\n",
       "      <td>502550000</td>\n",
       "      <td>87</td>\n",
       "      <td>BEACON</td>\n",
       "      <td>ST</td>\n",
       "      <td>2-R</td>\n",
       "      <td>2108.0</td>\n",
       "      <td>102</td>\n",
       "      <td>CD</td>\n",
       "      <td>...</td>\n",
       "      <td>NaN</td>\n",
       "      <td>NaN</td>\n",
       "      <td>O</td>\n",
       "      <td>S</td>\n",
       "      <td>W</td>\n",
       "      <td>N</td>\n",
       "      <td>1.0</td>\n",
       "      <td>N</td>\n",
       "      <td>A</td>\n",
       "      <td>A</td>\n",
       "    </tr>\n",
       "    <tr>\n",
       "      <th>2</th>\n",
       "      <td>502550012</td>\n",
       "      <td>502550000.0</td>\n",
       "      <td>502550000</td>\n",
       "      <td>87</td>\n",
       "      <td>BEACON</td>\n",
       "      <td>ST</td>\n",
       "      <td>3-F</td>\n",
       "      <td>2108.0</td>\n",
       "      <td>102</td>\n",
       "      <td>CD</td>\n",
       "      <td>...</td>\n",
       "      <td>S</td>\n",
       "      <td>NaN</td>\n",
       "      <td>O</td>\n",
       "      <td>M</td>\n",
       "      <td>W</td>\n",
       "      <td>N</td>\n",
       "      <td>1.0</td>\n",
       "      <td>N</td>\n",
       "      <td>A</td>\n",
       "      <td>G</td>\n",
       "    </tr>\n",
       "    <tr>\n",
       "      <th>3</th>\n",
       "      <td>502550014</td>\n",
       "      <td>502550000.0</td>\n",
       "      <td>502550000</td>\n",
       "      <td>87</td>\n",
       "      <td>BEACON</td>\n",
       "      <td>ST</td>\n",
       "      <td>3-R</td>\n",
       "      <td>2108.0</td>\n",
       "      <td>102</td>\n",
       "      <td>CD</td>\n",
       "      <td>...</td>\n",
       "      <td>NaN</td>\n",
       "      <td>NaN</td>\n",
       "      <td>O</td>\n",
       "      <td>N</td>\n",
       "      <td>W</td>\n",
       "      <td>N</td>\n",
       "      <td>1.0</td>\n",
       "      <td>S</td>\n",
       "      <td>A</td>\n",
       "      <td>G</td>\n",
       "    </tr>\n",
       "    <tr>\n",
       "      <th>4</th>\n",
       "      <td>502550016</td>\n",
       "      <td>502550000.0</td>\n",
       "      <td>502550000</td>\n",
       "      <td>87</td>\n",
       "      <td>BEACON</td>\n",
       "      <td>ST</td>\n",
       "      <td>4</td>\n",
       "      <td>2108.0</td>\n",
       "      <td>102</td>\n",
       "      <td>CD</td>\n",
       "      <td>...</td>\n",
       "      <td>M</td>\n",
       "      <td>M</td>\n",
       "      <td>O</td>\n",
       "      <td>L</td>\n",
       "      <td>W</td>\n",
       "      <td>C</td>\n",
       "      <td>2.0</td>\n",
       "      <td>N</td>\n",
       "      <td>E</td>\n",
       "      <td>G</td>\n",
       "    </tr>\n",
       "    <tr>\n",
       "      <th>45818</th>\n",
       "      <td>502550000</td>\n",
       "      <td>502550000.0</td>\n",
       "      <td>502550000</td>\n",
       "      <td>87</td>\n",
       "      <td>BEACON</td>\n",
       "      <td>ST</td>\n",
       "      <td>NaN</td>\n",
       "      <td>2108.0</td>\n",
       "      <td>995</td>\n",
       "      <td>CM</td>\n",
       "      <td>...</td>\n",
       "      <td>NaN</td>\n",
       "      <td>NaN</td>\n",
       "      <td>NaN</td>\n",
       "      <td>NaN</td>\n",
       "      <td>NaN</td>\n",
       "      <td>NaN</td>\n",
       "      <td>NaN</td>\n",
       "      <td>NaN</td>\n",
       "      <td>NaN</td>\n",
       "      <td>NaN</td>\n",
       "    </tr>\n",
       "    <tr>\n",
       "      <th>45819</th>\n",
       "      <td>502550002</td>\n",
       "      <td>502550000.0</td>\n",
       "      <td>502550000</td>\n",
       "      <td>87</td>\n",
       "      <td>BEACON</td>\n",
       "      <td>ST</td>\n",
       "      <td>G-1</td>\n",
       "      <td>2108.0</td>\n",
       "      <td>102</td>\n",
       "      <td>CD</td>\n",
       "      <td>...</td>\n",
       "      <td>M</td>\n",
       "      <td>NaN</td>\n",
       "      <td>O</td>\n",
       "      <td>M</td>\n",
       "      <td>W</td>\n",
       "      <td>N</td>\n",
       "      <td>0.0</td>\n",
       "      <td>N</td>\n",
       "      <td>G</td>\n",
       "      <td>A</td>\n",
       "    </tr>\n",
       "    <tr>\n",
       "      <th>45820</th>\n",
       "      <td>502550004</td>\n",
       "      <td>502550000.0</td>\n",
       "      <td>502550000</td>\n",
       "      <td>87</td>\n",
       "      <td>BEACON</td>\n",
       "      <td>ST</td>\n",
       "      <td>1</td>\n",
       "      <td>2108.0</td>\n",
       "      <td>102</td>\n",
       "      <td>CD</td>\n",
       "      <td>...</td>\n",
       "      <td>S</td>\n",
       "      <td>NaN</td>\n",
       "      <td>O</td>\n",
       "      <td>M</td>\n",
       "      <td>W</td>\n",
       "      <td>C</td>\n",
       "      <td>1.0</td>\n",
       "      <td>N</td>\n",
       "      <td>G</td>\n",
       "      <td>A</td>\n",
       "    </tr>\n",
       "  </tbody>\n",
       "</table>\n",
       "<p>8 rows × 75 columns</p>\n",
       "</div>"
      ],
      "text/plain": [
       "             PID        CM_ID     GIS_ID ST_NUM ST_NAME ST_NAME_SUF UNIT_NUM  \\\n",
       "0      502550008  502550000.0  502550000     87  BEACON          ST      2-F   \n",
       "1      502550010  502550000.0  502550000     87  BEACON          ST      2-R   \n",
       "2      502550012  502550000.0  502550000     87  BEACON          ST      3-F   \n",
       "3      502550014  502550000.0  502550000     87  BEACON          ST      3-R   \n",
       "4      502550016  502550000.0  502550000     87  BEACON          ST        4   \n",
       "45818  502550000  502550000.0  502550000     87  BEACON          ST      NaN   \n",
       "45819  502550002  502550000.0  502550000     87  BEACON          ST      G-1   \n",
       "45820  502550004  502550000.0  502550000     87  BEACON          ST        1   \n",
       "\n",
       "       ZIPCODE  PTYPE  LU  ... U_BTH_STYLE2 U_BTH_STYLE3 U_KITCH_TYPE  \\\n",
       "0       2108.0    102  CD  ...            M          NaN            O   \n",
       "1       2108.0    102  CD  ...          NaN          NaN            O   \n",
       "2       2108.0    102  CD  ...            S          NaN            O   \n",
       "3       2108.0    102  CD  ...          NaN          NaN            O   \n",
       "4       2108.0    102  CD  ...            M            M            O   \n",
       "45818   2108.0    995  CM  ...          NaN          NaN          NaN   \n",
       "45819   2108.0    102  CD  ...            M          NaN            O   \n",
       "45820   2108.0    102  CD  ...            S          NaN            O   \n",
       "\n",
       "      U_KITCH_STYLE U_HEAT_TYP U_AC  U_FPLACE  U_INT_FIN  U_INT_CND  U_VIEW  \n",
       "0                 M          W    N       1.0          N          G       A  \n",
       "1                 S          W    N       1.0          N          A       A  \n",
       "2                 M          W    N       1.0          N          A       G  \n",
       "3                 N          W    N       1.0          S          A       G  \n",
       "4                 L          W    C       2.0          N          E       G  \n",
       "45818           NaN        NaN  NaN       NaN        NaN        NaN     NaN  \n",
       "45819             M          W    N       0.0          N          G       A  \n",
       "45820             M          W    C       1.0          N          G       A  \n",
       "\n",
       "[8 rows x 75 columns]"
      ]
     },
     "execution_count": 563,
     "metadata": {},
     "output_type": "execute_result"
    }
   ],
   "source": [
    "data.loc[data[\"GIS_ID\"] == 502550000]"
   ]
  },
  {
   "cell_type": "code",
   "execution_count": 564,
   "metadata": {
    "ExecuteTime": {
     "end_time": "2020-06-03T02:54:43.944793Z",
     "start_time": "2020-06-03T02:54:43.879239Z"
    },
    "hidden": true
   },
   "outputs": [
    {
     "data": {
      "text/plain": [
       "PID            int64\n",
       "CM_ID        float64\n",
       "GIS_ID         int64\n",
       "ST_NUM        object\n",
       "ST_NAME       object\n",
       "              ...   \n",
       "U_AC          object\n",
       "U_FPLACE     float64\n",
       "U_INT_FIN     object\n",
       "U_INT_CND     object\n",
       "U_VIEW        object\n",
       "Length: 75, dtype: object"
      ]
     },
     "execution_count": 564,
     "metadata": {},
     "output_type": "execute_result"
    }
   ],
   "source": [
    "data.dtypes"
   ]
  },
  {
   "cell_type": "code",
   "execution_count": 565,
   "metadata": {
    "ExecuteTime": {
     "end_time": "2020-06-03T02:54:44.177963Z",
     "start_time": "2020-06-03T02:54:43.947637Z"
    },
    "hidden": true
   },
   "outputs": [
    {
     "data": {
      "text/plain": [
       "PID               0\n",
       "CM_ID         92630\n",
       "GIS_ID            0\n",
       "ST_NUM            0\n",
       "ST_NAME           0\n",
       "              ...  \n",
       "U_AC         110624\n",
       "U_FPLACE     110624\n",
       "U_INT_FIN    110624\n",
       "U_INT_CND    110624\n",
       "U_VIEW       110624\n",
       "Length: 75, dtype: int64"
      ]
     },
     "execution_count": 565,
     "metadata": {},
     "output_type": "execute_result"
    }
   ],
   "source": [
    "data.isna().sum()"
   ]
  },
  {
   "cell_type": "markdown",
   "metadata": {
    "heading_collapsed": true,
    "hidden": true
   },
   "source": [
    "## PW"
   ]
  },
  {
   "cell_type": "code",
   "execution_count": 11,
   "metadata": {
    "ExecuteTime": {
     "end_time": "2020-06-03T21:47:16.743901Z",
     "start_time": "2020-06-03T21:47:16.728040Z"
    },
    "hidden": true,
    "scrolled": false
   },
   "outputs": [
    {
     "name": "stdout",
     "output_type": "stream",
     "text": [
      "(481429, 17)\n"
     ]
    },
    {
     "data": {
      "text/html": [
       "<div>\n",
       "<style scoped>\n",
       "    .dataframe tbody tr th:only-of-type {\n",
       "        vertical-align: middle;\n",
       "    }\n",
       "\n",
       "    .dataframe tbody tr th {\n",
       "        vertical-align: top;\n",
       "    }\n",
       "\n",
       "    .dataframe thead th {\n",
       "        text-align: right;\n",
       "    }\n",
       "</style>\n",
       "<table border=\"1\" class=\"dataframe\">\n",
       "  <thead>\n",
       "    <tr style=\"text-align: right;\">\n",
       "      <th></th>\n",
       "      <th>ticket_no</th>\n",
       "      <th>status_dttm</th>\n",
       "      <th>status</th>\n",
       "      <th>code</th>\n",
       "      <th>value</th>\n",
       "      <th>description</th>\n",
       "      <th>stno</th>\n",
       "      <th>sthigh</th>\n",
       "      <th>street</th>\n",
       "      <th>suffix</th>\n",
       "      <th>city</th>\n",
       "      <th>state</th>\n",
       "      <th>zip</th>\n",
       "      <th>sam_id</th>\n",
       "      <th>latitude</th>\n",
       "      <th>longitude</th>\n",
       "      <th>location</th>\n",
       "    </tr>\n",
       "  </thead>\n",
       "  <tbody>\n",
       "    <tr>\n",
       "      <th>0</th>\n",
       "      <td>CE494577</td>\n",
       "      <td>2020-05-26 07:29:00</td>\n",
       "      <td>Open</td>\n",
       "      <td>1</td>\n",
       "      <td>25</td>\n",
       "      <td>Improper storage trash: res</td>\n",
       "      <td>118</td>\n",
       "      <td>NaN</td>\n",
       "      <td>Commonwealth</td>\n",
       "      <td>AVE</td>\n",
       "      <td>Boston</td>\n",
       "      <td>MA</td>\n",
       "      <td>02116</td>\n",
       "      <td>37097</td>\n",
       "      <td>42.351830</td>\n",
       "      <td>-71.076720</td>\n",
       "      <td>(42.3518299997315, -71.0767200009251)</td>\n",
       "    </tr>\n",
       "    <tr>\n",
       "      <th>1</th>\n",
       "      <td>CE494575</td>\n",
       "      <td>2020-05-26 07:26:00</td>\n",
       "      <td>Open</td>\n",
       "      <td>1</td>\n",
       "      <td>25</td>\n",
       "      <td>Improper storage trash: res</td>\n",
       "      <td>1037</td>\n",
       "      <td></td>\n",
       "      <td>River</td>\n",
       "      <td>ST</td>\n",
       "      <td>Hyde Park</td>\n",
       "      <td>MA</td>\n",
       "      <td>02136</td>\n",
       "      <td>344142</td>\n",
       "      <td>42.259883</td>\n",
       "      <td>-71.117176</td>\n",
       "      <td>(42.2598833641543, -71.1171758487242)</td>\n",
       "    </tr>\n",
       "    <tr>\n",
       "      <th>2</th>\n",
       "      <td>CE494575</td>\n",
       "      <td>2020-05-26 07:26:00</td>\n",
       "      <td>Open</td>\n",
       "      <td>3</td>\n",
       "      <td>100</td>\n",
       "      <td>Overfilling of barrel/dumpster</td>\n",
       "      <td>1037</td>\n",
       "      <td></td>\n",
       "      <td>River</td>\n",
       "      <td>ST</td>\n",
       "      <td>Hyde Park</td>\n",
       "      <td>MA</td>\n",
       "      <td>02136</td>\n",
       "      <td>344142</td>\n",
       "      <td>42.259883</td>\n",
       "      <td>-71.117176</td>\n",
       "      <td>(42.2598833641543, -71.1171758487242)</td>\n",
       "    </tr>\n",
       "    <tr>\n",
       "      <th>3</th>\n",
       "      <td>CE494576</td>\n",
       "      <td>2020-05-26 07:25:00</td>\n",
       "      <td>Open</td>\n",
       "      <td>3</td>\n",
       "      <td>100</td>\n",
       "      <td>Overfilling of barrel/dumpster</td>\n",
       "      <td>110</td>\n",
       "      <td>NaN</td>\n",
       "      <td>Warren</td>\n",
       "      <td>ST</td>\n",
       "      <td>Allston</td>\n",
       "      <td>MA</td>\n",
       "      <td>02135</td>\n",
       "      <td>143122</td>\n",
       "      <td>42.349353</td>\n",
       "      <td>-71.141434</td>\n",
       "      <td>(42.3493529997196, -71.1414340008673)</td>\n",
       "    </tr>\n",
       "    <tr>\n",
       "      <th>4</th>\n",
       "      <td>CE494576</td>\n",
       "      <td>2020-05-26 07:25:00</td>\n",
       "      <td>Open</td>\n",
       "      <td>1</td>\n",
       "      <td>25</td>\n",
       "      <td>Improper storage trash: res</td>\n",
       "      <td>110</td>\n",
       "      <td>NaN</td>\n",
       "      <td>Warren</td>\n",
       "      <td>ST</td>\n",
       "      <td>Allston</td>\n",
       "      <td>MA</td>\n",
       "      <td>02135</td>\n",
       "      <td>143122</td>\n",
       "      <td>42.349353</td>\n",
       "      <td>-71.141434</td>\n",
       "      <td>(42.3493529997196, -71.1414340008673)</td>\n",
       "    </tr>\n",
       "  </tbody>\n",
       "</table>\n",
       "</div>"
      ],
      "text/plain": [
       "  ticket_no          status_dttm status code  value  \\\n",
       "0  CE494577  2020-05-26 07:29:00   Open    1     25   \n",
       "1  CE494575  2020-05-26 07:26:00   Open    1     25   \n",
       "2  CE494575  2020-05-26 07:26:00   Open    3    100   \n",
       "3  CE494576  2020-05-26 07:25:00   Open    3    100   \n",
       "4  CE494576  2020-05-26 07:25:00   Open    1     25   \n",
       "\n",
       "                      description  stno sthigh        street suffix  \\\n",
       "0     Improper storage trash: res   118    NaN  Commonwealth    AVE   \n",
       "1     Improper storage trash: res  1037                River     ST   \n",
       "2  Overfilling of barrel/dumpster  1037                River     ST   \n",
       "3  Overfilling of barrel/dumpster   110    NaN        Warren     ST   \n",
       "4     Improper storage trash: res   110    NaN        Warren     ST   \n",
       "\n",
       "        city state    zip  sam_id   latitude  longitude  \\\n",
       "0     Boston    MA  02116   37097  42.351830 -71.076720   \n",
       "1  Hyde Park    MA  02136  344142  42.259883 -71.117176   \n",
       "2  Hyde Park    MA  02136  344142  42.259883 -71.117176   \n",
       "3    Allston    MA  02135  143122  42.349353 -71.141434   \n",
       "4    Allston    MA  02135  143122  42.349353 -71.141434   \n",
       "\n",
       "                                location  \n",
       "0  (42.3518299997315, -71.0767200009251)  \n",
       "1  (42.2598833641543, -71.1171758487242)  \n",
       "2  (42.2598833641543, -71.1171758487242)  \n",
       "3  (42.3493529997196, -71.1414340008673)  \n",
       "4  (42.3493529997196, -71.1414340008673)  "
      ]
     },
     "execution_count": 11,
     "metadata": {},
     "output_type": "execute_result"
    }
   ],
   "source": [
    "print(pw_df.shape)\n",
    "pw_df.head()"
   ]
  },
  {
   "cell_type": "code",
   "execution_count": 29,
   "metadata": {
    "ExecuteTime": {
     "end_time": "2020-06-03T22:09:08.759945Z",
     "start_time": "2020-06-03T22:09:08.756293Z"
    },
    "hidden": true
   },
   "outputs": [
    {
     "data": {
      "text/plain": [
       "Index(['ticket_no', 'status_dttm', 'status', 'code', 'value', 'description',\n",
       "       'stno', 'sthigh', 'street', 'suffix', 'city', 'state', 'zip', 'sam_id',\n",
       "       'latitude', 'longitude', 'location'],\n",
       "      dtype='object')"
      ]
     },
     "execution_count": 29,
     "metadata": {},
     "output_type": "execute_result"
    }
   ],
   "source": [
    "pw_df.columns"
   ]
  },
  {
   "cell_type": "code",
   "execution_count": 12,
   "metadata": {
    "ExecuteTime": {
     "end_time": "2020-06-03T21:47:18.310146Z",
     "start_time": "2020-06-03T21:47:18.166883Z"
    },
    "hidden": true
   },
   "outputs": [
    {
     "data": {
      "text/plain": [
       "ticket_no           0\n",
       "status_dttm         0\n",
       "status              0\n",
       "code                0\n",
       "value               0\n",
       "description         0\n",
       "stno                0\n",
       "sthigh         360099\n",
       "street              0\n",
       "suffix           2680\n",
       "city                1\n",
       "state               0\n",
       "zip               132\n",
       "sam_id              0\n",
       "latitude            0\n",
       "longitude           0\n",
       "location            0\n",
       "dtype: int64"
      ]
     },
     "execution_count": 12,
     "metadata": {},
     "output_type": "execute_result"
    }
   ],
   "source": [
    "pw_df.isna().sum()"
   ]
  },
  {
   "cell_type": "code",
   "execution_count": 568,
   "metadata": {
    "ExecuteTime": {
     "end_time": "2020-06-03T02:54:44.333038Z",
     "start_time": "2020-06-03T02:54:44.261293Z"
    },
    "collapsed": true,
    "hidden": true
   },
   "outputs": [
    {
     "ename": "KeyError",
     "evalue": "'street'",
     "output_type": "error",
     "traceback": [
      "\u001b[0;31m---------------------------------------------------------------------------\u001b[0m",
      "\u001b[0;31mKeyError\u001b[0m                                  Traceback (most recent call last)",
      "\u001b[0;32m<ipython-input-568-685ea1be36fb>\u001b[0m in \u001b[0;36m<module>\u001b[0;34m\u001b[0m\n\u001b[1;32m      2\u001b[0m \u001b[0;31m# pw_df.loc[(pw_df[\"zip\"].isna()) & (pw_df[\"street\"] == \"Silvia\")] # 16\u001b[0m\u001b[0;34m\u001b[0m\u001b[0;34m\u001b[0m\u001b[0;34m\u001b[0m\u001b[0m\n\u001b[1;32m      3\u001b[0m \u001b[0;31m# pw_df.loc[(pw_df[\"zip\"].isna()) & (pw_df[\"street\"].())] # 16\u001b[0m\u001b[0;34m\u001b[0m\u001b[0;34m\u001b[0m\u001b[0;34m\u001b[0m\u001b[0m\n\u001b[0;32m----> 4\u001b[0;31m \u001b[0mpw_df\u001b[0m\u001b[0;34m.\u001b[0m\u001b[0mgroupby\u001b[0m\u001b[0;34m(\u001b[0m\u001b[0;34m\"street\"\u001b[0m\u001b[0;34m)\u001b[0m\u001b[0;34m[\u001b[0m\u001b[0;34m\"zip\"\u001b[0m\u001b[0;34m]\u001b[0m\u001b[0;34m.\u001b[0m\u001b[0mvalue_counts\u001b[0m\u001b[0;34m(\u001b[0m\u001b[0;34m)\u001b[0m\u001b[0;34m\u001b[0m\u001b[0;34m\u001b[0m\u001b[0m\n\u001b[0m",
      "\u001b[0;32m~/anaconda3/lib/python3.7/site-packages/pandas/core/frame.py\u001b[0m in \u001b[0;36mgroupby\u001b[0;34m(self, by, axis, level, as_index, sort, group_keys, squeeze, observed)\u001b[0m\n\u001b[1;32m   5808\u001b[0m             \u001b[0mgroup_keys\u001b[0m\u001b[0;34m=\u001b[0m\u001b[0mgroup_keys\u001b[0m\u001b[0;34m,\u001b[0m\u001b[0;34m\u001b[0m\u001b[0;34m\u001b[0m\u001b[0m\n\u001b[1;32m   5809\u001b[0m             \u001b[0msqueeze\u001b[0m\u001b[0;34m=\u001b[0m\u001b[0msqueeze\u001b[0m\u001b[0;34m,\u001b[0m\u001b[0;34m\u001b[0m\u001b[0;34m\u001b[0m\u001b[0m\n\u001b[0;32m-> 5810\u001b[0;31m             \u001b[0mobserved\u001b[0m\u001b[0;34m=\u001b[0m\u001b[0mobserved\u001b[0m\u001b[0;34m,\u001b[0m\u001b[0;34m\u001b[0m\u001b[0;34m\u001b[0m\u001b[0m\n\u001b[0m\u001b[1;32m   5811\u001b[0m         )\n\u001b[1;32m   5812\u001b[0m \u001b[0;34m\u001b[0m\u001b[0m\n",
      "\u001b[0;32m~/anaconda3/lib/python3.7/site-packages/pandas/core/groupby/groupby.py\u001b[0m in \u001b[0;36m__init__\u001b[0;34m(self, obj, keys, axis, level, grouper, exclusions, selection, as_index, sort, group_keys, squeeze, observed, mutated)\u001b[0m\n\u001b[1;32m    407\u001b[0m                 \u001b[0msort\u001b[0m\u001b[0;34m=\u001b[0m\u001b[0msort\u001b[0m\u001b[0;34m,\u001b[0m\u001b[0;34m\u001b[0m\u001b[0;34m\u001b[0m\u001b[0m\n\u001b[1;32m    408\u001b[0m                 \u001b[0mobserved\u001b[0m\u001b[0;34m=\u001b[0m\u001b[0mobserved\u001b[0m\u001b[0;34m,\u001b[0m\u001b[0;34m\u001b[0m\u001b[0;34m\u001b[0m\u001b[0m\n\u001b[0;32m--> 409\u001b[0;31m                 \u001b[0mmutated\u001b[0m\u001b[0;34m=\u001b[0m\u001b[0mself\u001b[0m\u001b[0;34m.\u001b[0m\u001b[0mmutated\u001b[0m\u001b[0;34m,\u001b[0m\u001b[0;34m\u001b[0m\u001b[0;34m\u001b[0m\u001b[0m\n\u001b[0m\u001b[1;32m    410\u001b[0m             )\n\u001b[1;32m    411\u001b[0m \u001b[0;34m\u001b[0m\u001b[0m\n",
      "\u001b[0;32m~/anaconda3/lib/python3.7/site-packages/pandas/core/groupby/grouper.py\u001b[0m in \u001b[0;36mget_grouper\u001b[0;34m(obj, key, axis, level, sort, observed, mutated, validate)\u001b[0m\n\u001b[1;32m    596\u001b[0m                 \u001b[0min_axis\u001b[0m\u001b[0;34m,\u001b[0m \u001b[0mname\u001b[0m\u001b[0;34m,\u001b[0m \u001b[0mlevel\u001b[0m\u001b[0;34m,\u001b[0m \u001b[0mgpr\u001b[0m \u001b[0;34m=\u001b[0m \u001b[0;32mFalse\u001b[0m\u001b[0;34m,\u001b[0m \u001b[0;32mNone\u001b[0m\u001b[0;34m,\u001b[0m \u001b[0mgpr\u001b[0m\u001b[0;34m,\u001b[0m \u001b[0;32mNone\u001b[0m\u001b[0;34m\u001b[0m\u001b[0;34m\u001b[0m\u001b[0m\n\u001b[1;32m    597\u001b[0m             \u001b[0;32melse\u001b[0m\u001b[0;34m:\u001b[0m\u001b[0;34m\u001b[0m\u001b[0;34m\u001b[0m\u001b[0m\n\u001b[0;32m--> 598\u001b[0;31m                 \u001b[0;32mraise\u001b[0m \u001b[0mKeyError\u001b[0m\u001b[0;34m(\u001b[0m\u001b[0mgpr\u001b[0m\u001b[0;34m)\u001b[0m\u001b[0;34m\u001b[0m\u001b[0;34m\u001b[0m\u001b[0m\n\u001b[0m\u001b[1;32m    599\u001b[0m         \u001b[0;32melif\u001b[0m \u001b[0misinstance\u001b[0m\u001b[0;34m(\u001b[0m\u001b[0mgpr\u001b[0m\u001b[0;34m,\u001b[0m \u001b[0mGrouper\u001b[0m\u001b[0;34m)\u001b[0m \u001b[0;32mand\u001b[0m \u001b[0mgpr\u001b[0m\u001b[0;34m.\u001b[0m\u001b[0mkey\u001b[0m \u001b[0;32mis\u001b[0m \u001b[0;32mnot\u001b[0m \u001b[0;32mNone\u001b[0m\u001b[0;34m:\u001b[0m\u001b[0;34m\u001b[0m\u001b[0;34m\u001b[0m\u001b[0m\n\u001b[1;32m    600\u001b[0m             \u001b[0;31m# Add key to exclusions\u001b[0m\u001b[0;34m\u001b[0m\u001b[0;34m\u001b[0m\u001b[0;34m\u001b[0m\u001b[0m\n",
      "\u001b[0;31mKeyError\u001b[0m: 'street'"
     ]
    }
   ],
   "source": [
    "# pw_df.loc[(pw_df[\"zip\"].isna()) & (pw_df[\"street\"] == \"Raldne\")] # 72\n",
    "# pw_df.loc[(pw_df[\"zip\"].isna()) & (pw_df[\"street\"] == \"Silvia\")] # 16\n",
    "# pw_df.loc[(pw_df[\"zip\"].isna()) & (pw_df[\"street\"].())] # 16\n",
    "pw_df.groupby(\"street\")[\"zip\"].value_counts()"
   ]
  },
  {
   "cell_type": "code",
   "execution_count": null,
   "metadata": {
    "ExecuteTime": {
     "end_time": "2020-06-03T02:54:44.336979Z",
     "start_time": "2020-06-03T02:54:42.083Z"
    },
    "hidden": true,
    "scrolled": true
   },
   "outputs": [],
   "source": [
    "pw_df.dtypes"
   ]
  },
  {
   "cell_type": "code",
   "execution_count": null,
   "metadata": {
    "hidden": true
   },
   "outputs": [],
   "source": []
  },
  {
   "cell_type": "markdown",
   "metadata": {
    "heading_collapsed": true,
    "hidden": true
   },
   "source": [
    "## Fire "
   ]
  },
  {
   "cell_type": "code",
   "execution_count": 16,
   "metadata": {
    "ExecuteTime": {
     "end_time": "2020-06-03T21:48:49.370894Z",
     "start_time": "2020-06-03T21:48:49.351433Z"
    },
    "hidden": true
   },
   "outputs": [
    {
     "name": "stdout",
     "output_type": "stream",
     "text": [
      "(49555, 24)\n"
     ]
    },
    {
     "data": {
      "text/html": [
       "<div>\n",
       "<style scoped>\n",
       "    .dataframe tbody tr th:only-of-type {\n",
       "        vertical-align: middle;\n",
       "    }\n",
       "\n",
       "    .dataframe tbody tr th {\n",
       "        vertical-align: top;\n",
       "    }\n",
       "\n",
       "    .dataframe thead th {\n",
       "        text-align: right;\n",
       "    }\n",
       "</style>\n",
       "<table border=\"1\" class=\"dataframe\">\n",
       "  <thead>\n",
       "    <tr style=\"text-align: right;\">\n",
       "      <th></th>\n",
       "      <th>Incident Number</th>\n",
       "      <th>Exposure Number</th>\n",
       "      <th>Alarm Date</th>\n",
       "      <th>Alarm Time</th>\n",
       "      <th>Incident Type</th>\n",
       "      <th>Incident Description</th>\n",
       "      <th>Estimated Property Loss</th>\n",
       "      <th>Estimated Content Loss</th>\n",
       "      <th>District</th>\n",
       "      <th>City Section</th>\n",
       "      <th>...</th>\n",
       "      <th>Street Number</th>\n",
       "      <th>Street Prefix</th>\n",
       "      <th>Street Name</th>\n",
       "      <th>Street Suffix</th>\n",
       "      <th>Street Type</th>\n",
       "      <th>Address 2</th>\n",
       "      <th>XStreet Prefix</th>\n",
       "      <th>XStreet Name</th>\n",
       "      <th>XStreet Suffix</th>\n",
       "      <th>XStreet Type</th>\n",
       "    </tr>\n",
       "  </thead>\n",
       "  <tbody>\n",
       "    <tr>\n",
       "      <th>0</th>\n",
       "      <td>19-0019301</td>\n",
       "      <td>0</td>\n",
       "      <td>04/01/2019</td>\n",
       "      <td>00:38:31</td>\n",
       "      <td>736</td>\n",
       "      <td>CO detector activation due to malfunction     ...</td>\n",
       "      <td>0.0</td>\n",
       "      <td>0.0</td>\n",
       "      <td>09</td>\n",
       "      <td>RX</td>\n",
       "      <td>...</td>\n",
       "      <td>800</td>\n",
       "      <td></td>\n",
       "      <td>PARKER</td>\n",
       "      <td></td>\n",
       "      <td>ST</td>\n",
       "      <td></td>\n",
       "      <td></td>\n",
       "      <td></td>\n",
       "      <td></td>\n",
       "      <td></td>\n",
       "    </tr>\n",
       "    <tr>\n",
       "      <th>1</th>\n",
       "      <td>19-0019302</td>\n",
       "      <td>0</td>\n",
       "      <td>04/01/2019</td>\n",
       "      <td>00:52:06</td>\n",
       "      <td>553</td>\n",
       "      <td>Public service                                ...</td>\n",
       "      <td>0.0</td>\n",
       "      <td>0.0</td>\n",
       "      <td>09</td>\n",
       "      <td>RX</td>\n",
       "      <td>...</td>\n",
       "      <td>39</td>\n",
       "      <td></td>\n",
       "      <td>ROXBURY</td>\n",
       "      <td></td>\n",
       "      <td>ST</td>\n",
       "      <td>:3</td>\n",
       "      <td></td>\n",
       "      <td></td>\n",
       "      <td></td>\n",
       "      <td></td>\n",
       "    </tr>\n",
       "    <tr>\n",
       "      <th>2</th>\n",
       "      <td>19-0019303</td>\n",
       "      <td>0</td>\n",
       "      <td>04/01/2019</td>\n",
       "      <td>00:54:27</td>\n",
       "      <td>735</td>\n",
       "      <td>Alarm system sounded due to malfunction       ...</td>\n",
       "      <td>0.0</td>\n",
       "      <td>0.0</td>\n",
       "      <td>09</td>\n",
       "      <td>RX</td>\n",
       "      <td>...</td>\n",
       "      <td>131</td>\n",
       "      <td></td>\n",
       "      <td>WALNUT</td>\n",
       "      <td></td>\n",
       "      <td>AVE</td>\n",
       "      <td>: #12-2159</td>\n",
       "      <td></td>\n",
       "      <td></td>\n",
       "      <td></td>\n",
       "      <td></td>\n",
       "    </tr>\n",
       "    <tr>\n",
       "      <th>3</th>\n",
       "      <td>19-0019304</td>\n",
       "      <td>0</td>\n",
       "      <td>04/01/2019</td>\n",
       "      <td>00:59:02</td>\n",
       "      <td>714</td>\n",
       "      <td>Central station, malicious false alarm        ...</td>\n",
       "      <td>0.0</td>\n",
       "      <td>0.0</td>\n",
       "      <td>04</td>\n",
       "      <td>BO</td>\n",
       "      <td>...</td>\n",
       "      <td>90</td>\n",
       "      <td></td>\n",
       "      <td>GAINSBOROUGH</td>\n",
       "      <td></td>\n",
       "      <td>ST</td>\n",
       "      <td></td>\n",
       "      <td></td>\n",
       "      <td></td>\n",
       "      <td></td>\n",
       "      <td></td>\n",
       "    </tr>\n",
       "    <tr>\n",
       "      <th>4</th>\n",
       "      <td>19-0019305</td>\n",
       "      <td>0</td>\n",
       "      <td>04/01/2019</td>\n",
       "      <td>01:20:08</td>\n",
       "      <td>700</td>\n",
       "      <td>False alarm or false call, Other              ...</td>\n",
       "      <td>0.0</td>\n",
       "      <td>0.0</td>\n",
       "      <td>04</td>\n",
       "      <td>BO</td>\n",
       "      <td>...</td>\n",
       "      <td>95</td>\n",
       "      <td></td>\n",
       "      <td>GAINSBOROUGH</td>\n",
       "      <td></td>\n",
       "      <td>ST</td>\n",
       "      <td></td>\n",
       "      <td></td>\n",
       "      <td></td>\n",
       "      <td></td>\n",
       "      <td></td>\n",
       "    </tr>\n",
       "  </tbody>\n",
       "</table>\n",
       "<p>5 rows × 24 columns</p>\n",
       "</div>"
      ],
      "text/plain": [
       "  Incident Number  Exposure Number  Alarm Date Alarm Time Incident Type  \\\n",
       "0      19-0019301                0  04/01/2019   00:38:31          736    \n",
       "1      19-0019302                0  04/01/2019   00:52:06          553    \n",
       "2      19-0019303                0  04/01/2019   00:54:27          735    \n",
       "3      19-0019304                0  04/01/2019   00:59:02          714    \n",
       "4      19-0019305                0  04/01/2019   01:20:08          700    \n",
       "\n",
       "                                Incident Description  Estimated Property Loss  \\\n",
       "0  CO detector activation due to malfunction     ...                      0.0   \n",
       "1  Public service                                ...                      0.0   \n",
       "2  Alarm system sounded due to malfunction       ...                      0.0   \n",
       "3  Central station, malicious false alarm        ...                      0.0   \n",
       "4  False alarm or false call, Other              ...                      0.0   \n",
       "\n",
       "   Estimated Content Loss District     City Section  ... Street Number  \\\n",
       "0                     0.0    09     RX               ...      800        \n",
       "1                     0.0    09     RX               ...      39         \n",
       "2                     0.0    09     RX               ...      131        \n",
       "3                     0.0    04     BO               ...      90         \n",
       "4                     0.0    04     BO               ...      95         \n",
       "\n",
       "   Street Prefix                Street Name Street Suffix Street Type  \\\n",
       "0                 PARKER                                         ST     \n",
       "1                 ROXBURY                                        ST     \n",
       "2                 WALNUT                                         AVE    \n",
       "3                 GAINSBOROUGH                                   ST     \n",
       "4                 GAINSBOROUGH                                   ST     \n",
       "\n",
       "                                  Address 2 XStreet Prefix  \\\n",
       "0                                                            \n",
       "1  :3                                                        \n",
       "2  : #12-2159                                                \n",
       "3                                                            \n",
       "4                                                            \n",
       "\n",
       "                XStreet Name XStreet Suffix XStreet Type  \n",
       "0                                                         \n",
       "1                                                         \n",
       "2                                                         \n",
       "3                                                         \n",
       "4                                                         \n",
       "\n",
       "[5 rows x 24 columns]"
      ]
     },
     "execution_count": 16,
     "metadata": {},
     "output_type": "execute_result"
    }
   ],
   "source": [
    "print(fire_df.shape)\n",
    "fire_df.head()"
   ]
  },
  {
   "cell_type": "code",
   "execution_count": 19,
   "metadata": {
    "ExecuteTime": {
     "end_time": "2020-06-03T21:49:02.719981Z",
     "start_time": "2020-06-03T21:49:02.715922Z"
    },
    "hidden": true
   },
   "outputs": [
    {
     "data": {
      "text/plain": [
       "Index(['Incident Number', 'Exposure Number', 'Alarm Date', 'Alarm Time',\n",
       "       'Incident Type', 'Incident Description', 'Estimated Property Loss',\n",
       "       'Estimated Content Loss', 'District', 'City Section', 'Neighborhood',\n",
       "       'Zip', 'Property Use', 'Property Description', 'Street Number',\n",
       "       'Street Prefix', 'Street Name', 'Street Suffix', 'Street Type',\n",
       "       'Address 2', 'XStreet Prefix', 'XStreet Name', 'XStreet Suffix',\n",
       "       'XStreet Type'],\n",
       "      dtype='object')"
      ]
     },
     "execution_count": 19,
     "metadata": {},
     "output_type": "execute_result"
    }
   ],
   "source": [
    "fire_df.columns"
   ]
  },
  {
   "cell_type": "code",
   "execution_count": 17,
   "metadata": {
    "ExecuteTime": {
     "end_time": "2020-06-03T21:48:51.718249Z",
     "start_time": "2020-06-03T21:48:51.713126Z"
    },
    "hidden": true,
    "scrolled": true
   },
   "outputs": [
    {
     "data": {
      "text/plain": [
       "Incident Number             object\n",
       "Exposure Number              int64\n",
       "Alarm Date                  object\n",
       "Alarm Time                  object\n",
       "Incident Type               object\n",
       "Incident Description        object\n",
       "Estimated Property Loss    float64\n",
       "Estimated Content Loss     float64\n",
       "District                    object\n",
       "City Section                object\n",
       "Neighborhood                object\n",
       "Zip                          int64\n",
       "Property Use                object\n",
       "Property Description        object\n",
       "Street Number               object\n",
       "Street Prefix               object\n",
       "Street Name                 object\n",
       "Street Suffix               object\n",
       "Street Type                 object\n",
       "Address 2                   object\n",
       "XStreet Prefix              object\n",
       "XStreet Name                object\n",
       "XStreet Suffix              object\n",
       "XStreet Type                object\n",
       "dtype: object"
      ]
     },
     "execution_count": 17,
     "metadata": {},
     "output_type": "execute_result"
    }
   ],
   "source": [
    "fire_df.dtypes"
   ]
  },
  {
   "cell_type": "code",
   "execution_count": 11,
   "metadata": {
    "ExecuteTime": {
     "end_time": "2020-06-04T17:12:32.689078Z",
     "start_time": "2020-06-04T17:12:32.657101Z"
    },
    "hidden": true,
    "scrolled": false
   },
   "outputs": [
    {
     "data": {
      "text/plain": [
       "Incident Number               0\n",
       "Exposure Number               0\n",
       "Alarm Date                    0\n",
       "Alarm Time                    0\n",
       "Incident Type                 0\n",
       "Incident Description          0\n",
       "Estimated Property Loss       0\n",
       "Estimated Content Loss        0\n",
       "District                      0\n",
       "City Section                  0\n",
       "Neighborhood                694\n",
       "Zip                           0\n",
       "Property Use                  0\n",
       "Property Description       3640\n",
       "Street Number                 0\n",
       "Street Prefix                 0\n",
       "Street Name                   0\n",
       "Street Suffix                 0\n",
       "Street Type                   0\n",
       "Address 2                     0\n",
       "XStreet Prefix                0\n",
       "XStreet Name                  0\n",
       "XStreet Suffix                0\n",
       "XStreet Type                  0\n",
       "had_incident                  0\n",
       "dtype: int64"
      ]
     },
     "execution_count": 11,
     "metadata": {},
     "output_type": "execute_result"
    }
   ],
   "source": [
    "fire_df.isna().sum()"
   ]
  },
  {
   "cell_type": "code",
   "execution_count": null,
   "metadata": {
    "ExecuteTime": {
     "end_time": "2020-06-03T02:54:44.341339Z",
     "start_time": "2020-06-03T02:54:42.097Z"
    },
    "hidden": true
   },
   "outputs": [],
   "source": [
    "fire_df[\"Estimated Content Loss\"].value_counts()"
   ]
  },
  {
   "cell_type": "code",
   "execution_count": null,
   "metadata": {
    "ExecuteTime": {
     "end_time": "2020-06-03T02:54:44.341699Z",
     "start_time": "2020-06-03T02:54:42.099Z"
    },
    "hidden": true,
    "scrolled": true
   },
   "outputs": [],
   "source": [
    "fire_df[\"City Section\"].value_counts()"
   ]
  },
  {
   "cell_type": "code",
   "execution_count": null,
   "metadata": {
    "ExecuteTime": {
     "end_time": "2020-06-03T02:54:44.342078Z",
     "start_time": "2020-06-03T02:54:42.100Z"
    },
    "hidden": true
   },
   "outputs": [],
   "source": [
    "fire_df[\"Zip\"].value_counts()"
   ]
  },
  {
   "cell_type": "markdown",
   "metadata": {
    "heading_collapsed": true,
    "hidden": true
   },
   "source": [
    "## 311 Requests"
   ]
  },
  {
   "cell_type": "code",
   "execution_count": 12,
   "metadata": {
    "ExecuteTime": {
     "end_time": "2020-06-04T17:16:10.533447Z",
     "start_time": "2020-06-04T17:16:10.513344Z"
    },
    "hidden": true,
    "scrolled": true
   },
   "outputs": [
    {
     "name": "stdout",
     "output_type": "stream",
     "text": [
      "(259496, 29)\n"
     ]
    },
    {
     "data": {
      "text/html": [
       "<div>\n",
       "<style scoped>\n",
       "    .dataframe tbody tr th:only-of-type {\n",
       "        vertical-align: middle;\n",
       "    }\n",
       "\n",
       "    .dataframe tbody tr th {\n",
       "        vertical-align: top;\n",
       "    }\n",
       "\n",
       "    .dataframe thead th {\n",
       "        text-align: right;\n",
       "    }\n",
       "</style>\n",
       "<table border=\"1\" class=\"dataframe\">\n",
       "  <thead>\n",
       "    <tr style=\"text-align: right;\">\n",
       "      <th></th>\n",
       "      <th>case_enquiry_id</th>\n",
       "      <th>open_dt</th>\n",
       "      <th>target_dt</th>\n",
       "      <th>closed_dt</th>\n",
       "      <th>ontime</th>\n",
       "      <th>case_status</th>\n",
       "      <th>closure_reason</th>\n",
       "      <th>case_title</th>\n",
       "      <th>subject</th>\n",
       "      <th>reason</th>\n",
       "      <th>...</th>\n",
       "      <th>police_district</th>\n",
       "      <th>neighborhood</th>\n",
       "      <th>neighborhood_services_district</th>\n",
       "      <th>ward</th>\n",
       "      <th>precinct</th>\n",
       "      <th>location_street_name</th>\n",
       "      <th>location_zipcode</th>\n",
       "      <th>latitude</th>\n",
       "      <th>longitude</th>\n",
       "      <th>source</th>\n",
       "    </tr>\n",
       "  </thead>\n",
       "  <tbody>\n",
       "    <tr>\n",
       "      <th>0</th>\n",
       "      <td>101002767856</td>\n",
       "      <td>2019-01-01 00:04:32</td>\n",
       "      <td>2019-01-03 08:30:00</td>\n",
       "      <td>2019-01-02 02:22:29</td>\n",
       "      <td>ONTIME</td>\n",
       "      <td>Closed</td>\n",
       "      <td>Case Closed. Closed date : 2019-01-02 02:22:29...</td>\n",
       "      <td>Parking Enforcement</td>\n",
       "      <td>Transportation - Traffic Division</td>\n",
       "      <td>Enforcement &amp; Abandoned Vehicles</td>\n",
       "      <td>...</td>\n",
       "      <td>B3</td>\n",
       "      <td>Dorchester</td>\n",
       "      <td>9</td>\n",
       "      <td>Ward 17</td>\n",
       "      <td>1701</td>\n",
       "      <td>6-8 School St</td>\n",
       "      <td>2124.0</td>\n",
       "      <td>42.2965</td>\n",
       "      <td>-71.0729</td>\n",
       "      <td>Citizens Connect App</td>\n",
       "    </tr>\n",
       "    <tr>\n",
       "      <th>1</th>\n",
       "      <td>101002767857</td>\n",
       "      <td>2019-01-01 00:08:52</td>\n",
       "      <td>2019-01-03 08:30:00</td>\n",
       "      <td>2019-01-02 02:22:11</td>\n",
       "      <td>ONTIME</td>\n",
       "      <td>Closed</td>\n",
       "      <td>Case Closed. Closed date : 2019-01-02 02:22:11...</td>\n",
       "      <td>Parking Enforcement</td>\n",
       "      <td>Transportation - Traffic Division</td>\n",
       "      <td>Enforcement &amp; Abandoned Vehicles</td>\n",
       "      <td>...</td>\n",
       "      <td>D14</td>\n",
       "      <td>Allston / Brighton</td>\n",
       "      <td>15</td>\n",
       "      <td>22</td>\n",
       "      <td>2209</td>\n",
       "      <td>INTERSECTION Eastburn St &amp; Mount Vernon St</td>\n",
       "      <td>NaN</td>\n",
       "      <td>42.3594</td>\n",
       "      <td>-71.0587</td>\n",
       "      <td>Citizens Connect App</td>\n",
       "    </tr>\n",
       "    <tr>\n",
       "      <th>2</th>\n",
       "      <td>101002767859</td>\n",
       "      <td>2019-01-01 00:50:00</td>\n",
       "      <td>NaN</td>\n",
       "      <td>2019-11-23 11:36:05</td>\n",
       "      <td>ONTIME</td>\n",
       "      <td>Closed</td>\n",
       "      <td>Case Closed. Closed date : 2019-11-23 11:36:05...</td>\n",
       "      <td>Catchbasin</td>\n",
       "      <td>Boston Water &amp; Sewer Commission</td>\n",
       "      <td>Catchbasin</td>\n",
       "      <td>...</td>\n",
       "      <td>E13</td>\n",
       "      <td>Jamaica Plain</td>\n",
       "      <td>11</td>\n",
       "      <td>11</td>\n",
       "      <td>1110</td>\n",
       "      <td>195 South St</td>\n",
       "      <td>2130.0</td>\n",
       "      <td>42.3594</td>\n",
       "      <td>-71.0587</td>\n",
       "      <td>Constituent Call</td>\n",
       "    </tr>\n",
       "    <tr>\n",
       "      <th>3</th>\n",
       "      <td>101002767861</td>\n",
       "      <td>2019-01-01 01:26:00</td>\n",
       "      <td>NaN</td>\n",
       "      <td>2019-05-17 12:27:07</td>\n",
       "      <td>ONTIME</td>\n",
       "      <td>Closed</td>\n",
       "      <td>Case Closed. Closed date : 2019-05-17 12:27:07...</td>\n",
       "      <td>Fire</td>\n",
       "      <td>Mayor's 24 Hour Hotline</td>\n",
       "      <td>Notification</td>\n",
       "      <td>...</td>\n",
       "      <td>C11</td>\n",
       "      <td>Dorchester</td>\n",
       "      <td>8</td>\n",
       "      <td>Ward 15</td>\n",
       "      <td>1507</td>\n",
       "      <td>34 Ridgewood St</td>\n",
       "      <td>2122.0</td>\n",
       "      <td>42.3022</td>\n",
       "      <td>-71.0661</td>\n",
       "      <td>Constituent Call</td>\n",
       "    </tr>\n",
       "    <tr>\n",
       "      <th>4</th>\n",
       "      <td>101002767862</td>\n",
       "      <td>2019-01-01 01:33:09</td>\n",
       "      <td>2019-01-03 08:30:00</td>\n",
       "      <td>2019-01-02 02:28:35</td>\n",
       "      <td>ONTIME</td>\n",
       "      <td>Closed</td>\n",
       "      <td>Case Closed. Closed date : 2019-01-02 02:28:35...</td>\n",
       "      <td>Parking Enforcement</td>\n",
       "      <td>Transportation - Traffic Division</td>\n",
       "      <td>Enforcement &amp; Abandoned Vehicles</td>\n",
       "      <td>...</td>\n",
       "      <td>B3</td>\n",
       "      <td>Dorchester</td>\n",
       "      <td>9</td>\n",
       "      <td>Ward 17</td>\n",
       "      <td>1701</td>\n",
       "      <td>3 School St</td>\n",
       "      <td>2124.0</td>\n",
       "      <td>42.2968</td>\n",
       "      <td>-71.0727</td>\n",
       "      <td>Citizens Connect App</td>\n",
       "    </tr>\n",
       "  </tbody>\n",
       "</table>\n",
       "<p>5 rows × 29 columns</p>\n",
       "</div>"
      ],
      "text/plain": [
       "   case_enquiry_id              open_dt            target_dt  \\\n",
       "0     101002767856  2019-01-01 00:04:32  2019-01-03 08:30:00   \n",
       "1     101002767857  2019-01-01 00:08:52  2019-01-03 08:30:00   \n",
       "2     101002767859  2019-01-01 00:50:00                  NaN   \n",
       "3     101002767861  2019-01-01 01:26:00                  NaN   \n",
       "4     101002767862  2019-01-01 01:33:09  2019-01-03 08:30:00   \n",
       "\n",
       "             closed_dt  ontime case_status  \\\n",
       "0  2019-01-02 02:22:29  ONTIME      Closed   \n",
       "1  2019-01-02 02:22:11  ONTIME      Closed   \n",
       "2  2019-11-23 11:36:05  ONTIME      Closed   \n",
       "3  2019-05-17 12:27:07  ONTIME      Closed   \n",
       "4  2019-01-02 02:28:35  ONTIME      Closed   \n",
       "\n",
       "                                      closure_reason           case_title  \\\n",
       "0  Case Closed. Closed date : 2019-01-02 02:22:29...  Parking Enforcement   \n",
       "1  Case Closed. Closed date : 2019-01-02 02:22:11...  Parking Enforcement   \n",
       "2  Case Closed. Closed date : 2019-11-23 11:36:05...           Catchbasin   \n",
       "3  Case Closed. Closed date : 2019-05-17 12:27:07...                 Fire   \n",
       "4  Case Closed. Closed date : 2019-01-02 02:28:35...  Parking Enforcement   \n",
       "\n",
       "                             subject                            reason  ...  \\\n",
       "0  Transportation - Traffic Division  Enforcement & Abandoned Vehicles  ...   \n",
       "1  Transportation - Traffic Division  Enforcement & Abandoned Vehicles  ...   \n",
       "2    Boston Water & Sewer Commission                        Catchbasin  ...   \n",
       "3            Mayor's 24 Hour Hotline                      Notification  ...   \n",
       "4  Transportation - Traffic Division  Enforcement & Abandoned Vehicles  ...   \n",
       "\n",
       "  police_district        neighborhood neighborhood_services_district     ward  \\\n",
       "0              B3          Dorchester                              9  Ward 17   \n",
       "1             D14  Allston / Brighton                             15       22   \n",
       "2             E13       Jamaica Plain                             11       11   \n",
       "3             C11          Dorchester                              8  Ward 15   \n",
       "4              B3          Dorchester                              9  Ward 17   \n",
       "\n",
       "  precinct                        location_street_name location_zipcode  \\\n",
       "0     1701                               6-8 School St           2124.0   \n",
       "1     2209  INTERSECTION Eastburn St & Mount Vernon St              NaN   \n",
       "2     1110                                195 South St           2130.0   \n",
       "3     1507                             34 Ridgewood St           2122.0   \n",
       "4     1701                                 3 School St           2124.0   \n",
       "\n",
       "  latitude longitude                source  \n",
       "0  42.2965  -71.0729  Citizens Connect App  \n",
       "1  42.3594  -71.0587  Citizens Connect App  \n",
       "2  42.3594  -71.0587      Constituent Call  \n",
       "3  42.3022  -71.0661      Constituent Call  \n",
       "4  42.2968  -71.0727  Citizens Connect App  \n",
       "\n",
       "[5 rows x 29 columns]"
      ]
     },
     "execution_count": 12,
     "metadata": {},
     "output_type": "execute_result"
    }
   ],
   "source": [
    "print(requests_df.shape)\n",
    "requests_df.head()"
   ]
  },
  {
   "cell_type": "code",
   "execution_count": 27,
   "metadata": {
    "ExecuteTime": {
     "end_time": "2020-06-03T21:50:44.752020Z",
     "start_time": "2020-06-03T21:50:44.598905Z"
    },
    "hidden": true
   },
   "outputs": [
    {
     "data": {
      "text/plain": [
       "case_enquiry_id                        0\n",
       "open_dt                                0\n",
       "target_dt                          34763\n",
       "closed_dt                          34687\n",
       "ontime                                 1\n",
       "case_status                            0\n",
       "closure_reason                         0\n",
       "case_title                             1\n",
       "subject                                0\n",
       "reason                                 0\n",
       "type                                   0\n",
       "queue                                  0\n",
       "department                             0\n",
       "submittedphoto                    154335\n",
       "closedphoto                       199831\n",
       "location                               0\n",
       "fire_district                        608\n",
       "pwd_district                         104\n",
       "city_council_district                 22\n",
       "police_district                       97\n",
       "neighborhood                         311\n",
       "neighborhood_services_district        23\n",
       "ward                                   2\n",
       "precinct                             155\n",
       "location_street_name                3557\n",
       "location_zipcode                   60303\n",
       "latitude                               0\n",
       "longitude                              0\n",
       "source                                 0\n",
       "dtype: int64"
      ]
     },
     "execution_count": 27,
     "metadata": {},
     "output_type": "execute_result"
    }
   ],
   "source": [
    "requests_df.isna().sum()"
   ]
  },
  {
   "cell_type": "code",
   "execution_count": 30,
   "metadata": {
    "ExecuteTime": {
     "end_time": "2020-06-03T22:10:10.369340Z",
     "start_time": "2020-06-03T22:10:10.364548Z"
    },
    "hidden": true
   },
   "outputs": [
    {
     "data": {
      "text/plain": [
       "0                      6-8 School St  Dorchester  MA  02124\n",
       "1         INTERSECTION of Eastburn St & Mount Vernon St ...\n",
       "2                    195 South St  Jamaica Plain  MA  02130\n",
       "3                    34 Ridgewood St  Dorchester  MA  02122\n",
       "4                        3 School St  Dorchester  MA  02124\n",
       "                                ...                        \n",
       "259491                  2 Newcroft Cir  Mattapan  MA  02126\n",
       "259492              638 Saratoga St  East Boston  MA  02128\n",
       "259493                 5-7 Lawrence Pl  Brighton  MA  02135\n",
       "259494               305 Chelsea St  East Boston  MA  02128\n",
       "259495               40 Forbes St  Jamaica Plain  MA  02130\n",
       "Name: location, Length: 259496, dtype: object"
      ]
     },
     "execution_count": 30,
     "metadata": {},
     "output_type": "execute_result"
    }
   ],
   "source": [
    "requests_df[\"location\"]"
   ]
  },
  {
   "cell_type": "code",
   "execution_count": 25,
   "metadata": {
    "ExecuteTime": {
     "end_time": "2020-06-03T21:50:31.964300Z",
     "start_time": "2020-06-03T21:50:31.959232Z"
    },
    "hidden": true
   },
   "outputs": [
    {
     "data": {
      "text/plain": [
       "case_enquiry_id                     int64\n",
       "open_dt                            object\n",
       "target_dt                          object\n",
       "closed_dt                          object\n",
       "ontime                             object\n",
       "case_status                        object\n",
       "closure_reason                     object\n",
       "case_title                         object\n",
       "subject                            object\n",
       "reason                             object\n",
       "type                               object\n",
       "queue                              object\n",
       "department                         object\n",
       "submittedphoto                     object\n",
       "closedphoto                        object\n",
       "location                           object\n",
       "fire_district                      object\n",
       "pwd_district                       object\n",
       "city_council_district              object\n",
       "police_district                    object\n",
       "neighborhood                       object\n",
       "neighborhood_services_district     object\n",
       "ward                               object\n",
       "precinct                           object\n",
       "location_street_name               object\n",
       "location_zipcode                  float64\n",
       "latitude                          float64\n",
       "longitude                         float64\n",
       "source                             object\n",
       "dtype: object"
      ]
     },
     "execution_count": 25,
     "metadata": {},
     "output_type": "execute_result"
    }
   ],
   "source": [
    "requests_df.dtypes"
   ]
  },
  {
   "cell_type": "code",
   "execution_count": 26,
   "metadata": {
    "ExecuteTime": {
     "end_time": "2020-06-03T21:50:34.754664Z",
     "start_time": "2020-06-03T21:50:34.750887Z"
    },
    "hidden": true
   },
   "outputs": [
    {
     "data": {
      "text/plain": [
       "Index(['case_enquiry_id', 'open_dt', 'target_dt', 'closed_dt', 'ontime',\n",
       "       'case_status', 'closure_reason', 'case_title', 'subject', 'reason',\n",
       "       'type', 'queue', 'department', 'submittedphoto', 'closedphoto',\n",
       "       'location', 'fire_district', 'pwd_district', 'city_council_district',\n",
       "       'police_district', 'neighborhood', 'neighborhood_services_district',\n",
       "       'ward', 'precinct', 'location_street_name', 'location_zipcode',\n",
       "       'latitude', 'longitude', 'source'],\n",
       "      dtype='object')"
      ]
     },
     "execution_count": 26,
     "metadata": {},
     "output_type": "execute_result"
    }
   ],
   "source": [
    "requests_df.columns"
   ]
  },
  {
   "cell_type": "code",
   "execution_count": null,
   "metadata": {
    "ExecuteTime": {
     "end_time": "2020-06-03T02:54:44.343652Z",
     "start_time": "2020-06-03T02:54:42.105Z"
    },
    "hidden": true
   },
   "outputs": [],
   "source": [
    "requests_df[\"source\"].value_counts()"
   ]
  },
  {
   "cell_type": "code",
   "execution_count": null,
   "metadata": {
    "ExecuteTime": {
     "end_time": "2020-06-03T02:54:44.344021Z",
     "start_time": "2020-06-03T02:54:42.106Z"
    },
    "hidden": true
   },
   "outputs": [],
   "source": [
    "requests_df[\"ontime\"].value_counts()"
   ]
  },
  {
   "cell_type": "code",
   "execution_count": null,
   "metadata": {
    "ExecuteTime": {
     "end_time": "2020-06-03T02:54:44.344456Z",
     "start_time": "2020-06-03T02:54:42.107Z"
    },
    "hidden": true
   },
   "outputs": [],
   "source": [
    "requests_df[\"case_status\"].value_counts()"
   ]
  },
  {
   "cell_type": "code",
   "execution_count": null,
   "metadata": {
    "ExecuteTime": {
     "end_time": "2020-06-03T02:54:44.344884Z",
     "start_time": "2020-06-03T02:54:42.109Z"
    },
    "hidden": true
   },
   "outputs": [],
   "source": [
    "requests_df[\"subject\"].value_counts()"
   ]
  },
  {
   "cell_type": "code",
   "execution_count": null,
   "metadata": {
    "ExecuteTime": {
     "end_time": "2020-06-03T02:54:44.345390Z",
     "start_time": "2020-06-03T02:54:42.110Z"
    },
    "hidden": true
   },
   "outputs": [],
   "source": [
    "requests_df[\"reason\"].value_counts()"
   ]
  },
  {
   "cell_type": "code",
   "execution_count": null,
   "metadata": {
    "ExecuteTime": {
     "end_time": "2020-06-03T02:54:44.345769Z",
     "start_time": "2020-06-03T02:54:42.111Z"
    },
    "hidden": true
   },
   "outputs": [],
   "source": [
    "requests_df.dtypes"
   ]
  },
  {
   "cell_type": "code",
   "execution_count": null,
   "metadata": {
    "ExecuteTime": {
     "end_time": "2020-06-03T02:54:44.346166Z",
     "start_time": "2020-06-03T02:54:42.112Z"
    },
    "hidden": true
   },
   "outputs": [],
   "source": [
    "requests_df[\"location\"].str.contains(\"021\").sum()"
   ]
  },
  {
   "cell_type": "code",
   "execution_count": null,
   "metadata": {
    "ExecuteTime": {
     "end_time": "2020-06-03T02:54:44.346532Z",
     "start_time": "2020-06-03T02:54:42.113Z"
    },
    "hidden": true
   },
   "outputs": [],
   "source": [
    "requests_df['zipcode'] = requests_df['location'].str.extract(r'(\\d{5}\\-?\\d{0,4})')\n"
   ]
  },
  {
   "cell_type": "code",
   "execution_count": null,
   "metadata": {
    "ExecuteTime": {
     "end_time": "2020-06-03T02:54:44.346947Z",
     "start_time": "2020-06-03T02:54:42.115Z"
    },
    "hidden": true
   },
   "outputs": [],
   "source": [
    "requests_df[\"zipcode\"].isna().sum()"
   ]
  },
  {
   "cell_type": "markdown",
   "metadata": {
    "heading_collapsed": true
   },
   "source": [
    "# Master Clean Function"
   ]
  },
  {
   "cell_type": "markdown",
   "metadata": {
    "hidden": true
   },
   "source": [
    "- The cell below contains the original functions to be called in the `clean_dataframe` function"
   ]
  },
  {
   "cell_type": "code",
   "execution_count": 5,
   "metadata": {
    "ExecuteTime": {
     "end_time": "2020-06-04T23:13:57.632556Z",
     "start_time": "2020-06-04T23:13:57.616228Z"
    },
    "hidden": true
   },
   "outputs": [],
   "source": [
    "# CONVERT ALL ALPHABETICAL TO LOWERCASE\n",
    "def to_lowercase(df):\n",
    "    \n",
    "    # COLS TO LOWERCASE\n",
    "    df.columns = map(str.lower, df.columns)\n",
    "    \n",
    "    # ROWS TO LOWERCASE\n",
    "    object_columns = df.select_dtypes(include=\"object\").columns\n",
    "    for col in object_columns:\n",
    "        df[col] = df[col].str.lower()\n",
    "        \n",
    "    print(\"All alphabetical charactars have been made lowercase\")\n",
    "    return df \n",
    "\n",
    "\n",
    "\n",
    "def assign_null(df):\n",
    "    \n",
    "    init_check = input(\"Would you like to fill NaN? Enter 'yes' or 'no': \")\n",
    "    \n",
    "    while init_check.lower() == \"yes\":\n",
    "        col = input(\"Enter a column to assign null value: \")\n",
    "        value = input(\"Enter value to impute null (press 'space' once for blank) : \")\n",
    "        df[col].fillna(value, inplace=True)\n",
    "        init_check = input(\"Would you like to fill NaN? Enter 'yes' or 'no': \")\n",
    "    return df\n",
    "\n",
    "\n",
    "\n",
    "def change_dtype(df):\n",
    "    \n",
    "    init_check = input(\"Do you need to change a column datatype?\"\\\n",
    "                       \" Enter yes or no: \")\n",
    "    \n",
    "    while init_check == \"yes\":\n",
    "        col = input(\"Enter column name to change datatype: \")\n",
    "        dtype = eval(input(\"Enter datatype to convert the column to: \"))\n",
    "        \n",
    "        if dtype == \"int\":\n",
    "            try:\n",
    "                df[col] = df[col].astype(dtype)\n",
    "                print(f\"Updated {col} to int\")\n",
    "            except ValueError:\n",
    "                print(\"Invalid dtype.....\")\n",
    "                init_check = input(\"Would you like to try again?\"\\\n",
    "                                   \" Enter yes or no: \")\n",
    "        elif dtype == \"float\":\n",
    "            try:\n",
    "                df[col] = df[col].astype(dtype)\n",
    "                print(f\"Updated {col} to float\")\n",
    "            except ValueError:\n",
    "                print(\"Invalid dtype.....\")\n",
    "                init_check = input(\"Would you like to try again?\"\\\n",
    "                                   \" Enter yes or no: \")\n",
    "        elif dtype == \"str\":\n",
    "            try:\n",
    "                df[col] = df[col].astype(dtype)\n",
    "                print(f\"Updated {col} to str\")\n",
    "            except ValueError:\n",
    "                print(\"Invalid dtype.....\")\n",
    "                init_check = input(\"Would you like to try again?\"\\\n",
    "                                   \" Enter yes or no: \")\n",
    "        elif dtype == \"bool\":\n",
    "            try:\n",
    "                df[col] = cdf[col].astype(dtype)\n",
    "                print(f\"Updated {col} to Boolean\")\n",
    "            except ValueError:\n",
    "                print(\"Invalid dtype.....\")\n",
    "                init_check = input(\"Would you like to try again?\"\\\n",
    "                                   \" Enter yes or no: \")\n",
    "        else:\n",
    "            df[col] = pd.to_datetime(df[col], infer_datetime_format=True)\n",
    "            print(f\"Updated {col} to Datetime\")\n",
    "            init_check = input(\"Would you like to change another column?\"\\\n",
    "                                \" Enter yes or no: \")\n",
    "    return df\n",
    "\n",
    "def get_df_name(df):\n",
    "    name = [x for x in globals() if globals()[x] is df][0]\n",
    "    return name\n",
    "#     # https://stackoverflow.com/questions/41684553/print-dataframe-name\n",
    "\n",
    "def clean_dataframe(df):\n",
    "    \n",
    "    to_lowercase(df)\n",
    "    assign_null(df)\n",
    "    change_dtype(df)\n",
    "    \n",
    "    name = get_df_name(df) # NOT WORKING\n",
    "    \n",
    "    print(f\"Finished Cleaning DataFrame: {name}\")\n",
    "    print()\n",
    "    print()\n",
    "#     df.to_csv(\"../data/clean-data/%s.csv\" % (name))\n",
    "    \n",
    "    return df"
   ]
  },
  {
   "cell_type": "markdown",
   "metadata": {
    "hidden": true
   },
   "source": [
    "**Notes on Cleaning**\n",
    "\n",
    "- **NaN:**\n",
    "    - Unit Numbers\n",
    "        - List of dataframes:\n",
    "            - `data[unit_num]`\n",
    "                - Not all properties have a unit number attached to it.\n",
    "                - `108968` are missing unit numbers"
   ]
  },
  {
   "cell_type": "markdown",
   "metadata": {
    "heading_collapsed": true
   },
   "source": [
    "# Call Clean Funtion"
   ]
  },
  {
   "cell_type": "code",
   "execution_count": null,
   "metadata": {
    "ExecuteTime": {
     "end_time": "2020-06-03T02:54:44.348152Z",
     "start_time": "2020-06-03T02:54:42.119Z"
    },
    "hidden": true
   },
   "outputs": [],
   "source": [
    "# INSTRUCTIONS:\n",
    "\n",
    "# 1: FOR DATA - \n",
    "#     IMPUTE \"st_name_suf\" with \" \"\n",
    "# 2: PW:\n",
    "#     NO IMPUTE\n",
    "#     CHANGE status_dttm TO DATETIME\n",
    "# 3: CRIME:\n",
    "#     NO IMPUTE\n",
    "# 4: FIRE\n",
    "#     NO IMPUTE\n",
    "#     NO DTYPE CHANGE\n",
    "# 5: REQUESTS\n",
    "#     NO IMPUTE\n",
    "#     NO DTYPE CHANGES - MAYBE open_dt AND closed_dt"
   ]
  },
  {
   "cell_type": "code",
   "execution_count": 6,
   "metadata": {
    "ExecuteTime": {
     "end_time": "2020-06-04T23:14:32.341645Z",
     "start_time": "2020-06-04T23:14:03.198426Z"
    },
    "hidden": true,
    "scrolled": true
   },
   "outputs": [
    {
     "name": "stdout",
     "output_type": "stream",
     "text": [
      "All alphabetical charactars have been made lowercase\n",
      "Would you like to fill NaN? Enter 'yes' or 'no': no\n",
      "Do you need to change a column datatype? Enter yes or no: yes\n",
      "Enter column name to change datatype: status_dttm\n",
      "Enter datatype to convert the column to: datetime\n",
      "Updated status_dttm to Datetime\n",
      "Would you like to change another column? Enter yes or no: no\n",
      "Finished Cleaning DataFrame: pw_df\n",
      "\n",
      "\n"
     ]
    }
   ],
   "source": [
    "# clean_dataframe(data);\n",
    "clean_dataframe(pw_df);\n",
    "# clean_dataframe(fire_df);\n",
    "# clean_dataframe(requests_df);"
   ]
  },
  {
   "cell_type": "markdown",
   "metadata": {},
   "source": [
    "# Columns "
   ]
  },
  {
   "cell_type": "markdown",
   "metadata": {
    "heading_collapsed": true
   },
   "source": [
    "## Data"
   ]
  },
  {
   "cell_type": "markdown",
   "metadata": {
    "heading_collapsed": true,
    "hidden": true
   },
   "source": [
    "### old"
   ]
  },
  {
   "cell_type": "markdown",
   "metadata": {
    "ExecuteTime": {
     "end_time": "2020-05-29T03:21:41.698599Z",
     "start_time": "2020-05-29T03:21:41.694117Z"
    },
    "hidden": true
   },
   "source": [
    "NaN of Note:\n",
    "\n",
    "- **`data`**\n",
    "    - `land_sf`\n",
    "        - Only 5441\n",
    "        - Via the data dict: \"Parcel's land area in sq feet (legal area)\"\n",
    "    - `yr_built`\n",
    "        - Only 5214 NaN\n",
    "        - In reality, EVERY building has build year.\n",
    "            - These NaN could represent historic buildings?\n",
    "    - `yr_remod` \n",
    "        - 41796 NaN\n",
    "        - Many houses may not ever have been remodeled?\n",
    "            - Hard to merely `fillna`?\n",
    "    - `r_ovrall_cond`\n",
    "        - 111911 NaN\n",
    "        - Perhaps many residences just aren't rated?\n",
    "    - `r_int_cnd`\n",
    "        - 111911 NaN ^^^ Same as above? Very odd\n",
    "    - `r_int_fin`\n",
    "        - 111911 NaN ^^^ Same as above? Very odd\n",
    "    - `r_view`\n",
    "        - 111911 NaN ^^^ Same as above? Very odd"
   ]
  },
  {
   "cell_type": "code",
   "execution_count": null,
   "metadata": {
    "ExecuteTime": {
     "end_time": "2020-06-03T02:54:44.348963Z",
     "start_time": "2020-06-03T02:54:42.123Z"
    },
    "hidden": true
   },
   "outputs": [],
   "source": [
    "data_null_list = data.loc[:, data.isna().any()].columns\n",
    "pw_df_null_list = pw_df.loc[:, pw_df.isna().any()].columns\n",
    "crime_df_null_list = crime_df.loc[:, crime_df.isna().any()].columns\n",
    "requests_df_null_list = requests_df.loc[:, requests_df.isna().any()].columns\n",
    "str_eligible_df_null_list = str_eligible_df.loc[:, str_eligible_df.isna().any()].columns\n",
    "fire_df_null_list = fire_df.loc[:, fire_df.isna().any()].columns\n",
    "\n",
    "null_list = [\n",
    "    data_null_list,\n",
    "    pw_df_null_list,\n",
    "    crime_df_null_list,\n",
    "    requests_df_null_list,\n",
    "    str_eligible_df_null_list,\n",
    "    fire_df_null_list\n",
    "]\n",
    "\n",
    "# SAVE THE ABOVE FOR FUTURE REFERENCE\n",
    "filename = \"../assets/variables/null_list1\"\n",
    "outfile = open(filename, \"wb\")\n",
    "pickle.dump(null_list, outfile)\n",
    "outfile.close()\n",
    "\n",
    "null_list"
   ]
  },
  {
   "cell_type": "markdown",
   "metadata": {
    "heading_collapsed": true,
    "hidden": true
   },
   "source": [
    "### Current"
   ]
  },
  {
   "cell_type": "code",
   "execution_count": 54,
   "metadata": {
    "ExecuteTime": {
     "end_time": "2020-06-04T17:29:18.554934Z",
     "start_time": "2020-06-04T17:29:18.545084Z"
    },
    "hidden": true
   },
   "outputs": [],
   "source": [
    "data = data[[\n",
    "#     \"gis_id\",\n",
    "    \"st_num\",\n",
    "    \"st_name\",\n",
    "#     \"st_name_suf\",\n",
    "    \"zipcode\",\n",
    "    \"lu\",\n",
    "    \"own_occ\",\n",
    "    \"av_land\",\n",
    "    \"av_bldg\",\n",
    "    \"av_total\",\n",
    "    \"gross_tax\",\n",
    "#     \"land_sf\",\n",
    "#     \"yr_built\", # WILL MOST LIKELY BE IMPORTANT, CONTAINS NAN THAT NEED TO BE CHECKED\n",
    "]]"
   ]
  },
  {
   "cell_type": "code",
   "execution_count": null,
   "metadata": {
    "ExecuteTime": {
     "end_time": "2020-06-03T02:54:44.349814Z",
     "start_time": "2020-06-03T02:54:42.125Z"
    },
    "hidden": true
   },
   "outputs": [],
   "source": [
    "# DROP ALL CONDO PARKING \n",
    "data = data[data[\"lu\"] != \"cp\"]\n",
    "\n",
    "# DROP ALL AGRICULTURAL PROPERTIES\n",
    "# data = data[data[\"lu\"] != \"ah\"] # NEED TO CHECK THIS BEFORE DROPPING\n",
    "\n",
    "# DROP ROWS WITHOUT ZIPCODES (REPRESENT 4**-5, OR 0.09% OF THE DATA)\n",
    "data.dropna(axis=0, how=\"any\", subset=[\"zipcode\"], inplace=True)"
   ]
  },
  {
   "cell_type": "code",
   "execution_count": null,
   "metadata": {
    "ExecuteTime": {
     "end_time": "2020-06-03T02:54:44.350299Z",
     "start_time": "2020-06-03T02:54:42.126Z"
    },
    "hidden": true,
    "scrolled": false
   },
   "outputs": [],
   "source": [
    "# THESE ZIPCODES ARE BOSTON PROPERTY IN DIFFERENT TOWNS/ AREAS\n",
    "zip_list = [\n",
    "    2090.0, # WESTWOOD\n",
    "    2026.0, # DEDHAM\n",
    "    2137.0, # READVILLE\n",
    "    2186.0 # MILTON\n",
    "]\n",
    "\n",
    "for zipcode in zip_list:\n",
    "    data = data[data[\"zipcode\"] != zipcode]\n",
    "\n",
    "# data[\"zipcode\"].value_counts()"
   ]
  },
  {
   "cell_type": "markdown",
   "metadata": {
    "heading_collapsed": true
   },
   "source": [
    "## PW"
   ]
  },
  {
   "cell_type": "code",
   "execution_count": 12,
   "metadata": {
    "ExecuteTime": {
     "end_time": "2020-06-04T00:39:13.685261Z",
     "start_time": "2020-06-04T00:39:13.606811Z"
    },
    "hidden": true
   },
   "outputs": [],
   "source": [
    "pw_df.rename(columns={\"stno\": \"st_num\", \n",
    "                      \"street\": \"st_name\", \n",
    "                      \"suffix\": \"st_name_suf\",\n",
    "                      \"zip\": \"zipcode\"}, \n",
    "             inplace=True)"
   ]
  },
  {
   "cell_type": "code",
   "execution_count": 13,
   "metadata": {
    "ExecuteTime": {
     "end_time": "2020-06-04T00:39:14.275979Z",
     "start_time": "2020-06-04T00:39:14.238231Z"
    },
    "hidden": true
   },
   "outputs": [
    {
     "data": {
      "text/html": [
       "<div>\n",
       "<style scoped>\n",
       "    .dataframe tbody tr th:only-of-type {\n",
       "        vertical-align: middle;\n",
       "    }\n",
       "\n",
       "    .dataframe tbody tr th {\n",
       "        vertical-align: top;\n",
       "    }\n",
       "\n",
       "    .dataframe thead th {\n",
       "        text-align: right;\n",
       "    }\n",
       "</style>\n",
       "<table border=\"1\" class=\"dataframe\">\n",
       "  <thead>\n",
       "    <tr style=\"text-align: right;\">\n",
       "      <th></th>\n",
       "      <th>ticket_no</th>\n",
       "      <th>status_dttm</th>\n",
       "      <th>status</th>\n",
       "      <th>code</th>\n",
       "      <th>value</th>\n",
       "      <th>description</th>\n",
       "      <th>st_num</th>\n",
       "      <th>sthigh</th>\n",
       "      <th>st_name</th>\n",
       "      <th>st_name_suf</th>\n",
       "      <th>city</th>\n",
       "      <th>state</th>\n",
       "      <th>zipcode</th>\n",
       "      <th>sam_id</th>\n",
       "      <th>latitude</th>\n",
       "      <th>longitude</th>\n",
       "      <th>location</th>\n",
       "    </tr>\n",
       "  </thead>\n",
       "  <tbody>\n",
       "  </tbody>\n",
       "</table>\n",
       "</div>"
      ],
      "text/plain": [
       "Empty DataFrame\n",
       "Columns: [ticket_no, status_dttm, status, code, value, description, st_num, sthigh, st_name, st_name_suf, city, state, zipcode, sam_id, latitude, longitude, location]\n",
       "Index: []"
      ]
     },
     "execution_count": 13,
     "metadata": {},
     "output_type": "execute_result"
    }
   ],
   "source": [
    "# zipcodes ==============\n",
    "\n",
    "# LOOK UP ZIPCODES BASED ON QUICK SEARCH:\n",
    "# ALL OF THESE NAN ADDRESSES ARE IN ZIPCODE 02136\n",
    "\n",
    "pw_df[\"zipcode\"].fillna(value=\"02136\", inplace=True)\n",
    "\n",
    "pw_df.loc[pw_df[\"zipcode\"].isna()]"
   ]
  },
  {
   "cell_type": "code",
   "execution_count": 14,
   "metadata": {
    "ExecuteTime": {
     "end_time": "2020-06-04T00:39:15.772795Z",
     "start_time": "2020-06-04T00:39:15.709965Z"
    },
    "hidden": true
   },
   "outputs": [],
   "source": [
    "# SET THE DATAFRAME TO ONLY CALENDAR YEAR 2019\n",
    "pw_df = pw_df.loc[pw_df[\"status_dttm\"].dt.year == 2019]"
   ]
  },
  {
   "cell_type": "code",
   "execution_count": null,
   "metadata": {
    "ExecuteTime": {
     "end_time": "2020-06-03T02:54:44.352377Z",
     "start_time": "2020-06-03T02:54:42.133Z"
    },
    "hidden": true
   },
   "outputs": [],
   "source": [
    "pw_df.shape"
   ]
  },
  {
   "cell_type": "code",
   "execution_count": null,
   "metadata": {
    "ExecuteTime": {
     "end_time": "2020-06-03T02:54:44.352766Z",
     "start_time": "2020-06-03T02:54:42.134Z"
    },
    "hidden": true
   },
   "outputs": [],
   "source": [
    "pw_df.columns"
   ]
  },
  {
   "cell_type": "code",
   "execution_count": 15,
   "metadata": {
    "ExecuteTime": {
     "end_time": "2020-06-04T00:39:18.103847Z",
     "start_time": "2020-06-04T00:39:18.037976Z"
    },
    "hidden": true,
    "scrolled": false
   },
   "outputs": [],
   "source": [
    "# CREATE A COLUMN OF THE NUMBER OF OCCURENCES\n",
    "pw_df[\"pw_violation\"] = 1"
   ]
  },
  {
   "cell_type": "code",
   "execution_count": 16,
   "metadata": {
    "ExecuteTime": {
     "end_time": "2020-06-04T00:39:19.001898Z",
     "start_time": "2020-06-04T00:39:18.989694Z"
    },
    "hidden": true
   },
   "outputs": [],
   "source": [
    "pw_cols = [\n",
    "    \"st_num\",\n",
    "    \"st_name\",\n",
    "#     \"st_name_suf\",\n",
    "    \"zipcode\",\n",
    "#     \"city\",\n",
    "    \"status\",\n",
    "    \"value\",\n",
    "    \"description\",\n",
    "#     \"location\",\n",
    "#     \"pw_violation\",\n",
    "    \"pw_violation\"\n",
    "]\n",
    "\n",
    "# for col in pw_cols:\n",
    "#     print(col)\n",
    "#     print(pw_df[col].value_counts())\n",
    "#     print()\n",
    "\n",
    "pw_df = pw_df[pw_cols]"
   ]
  },
  {
   "cell_type": "code",
   "execution_count": 6,
   "metadata": {
    "ExecuteTime": {
     "end_time": "2020-06-04T17:03:40.558174Z",
     "start_time": "2020-06-04T17:03:40.542262Z"
    },
    "hidden": true
   },
   "outputs": [
    {
     "name": "stdout",
     "output_type": "stream",
     "text": [
      "(47598, 7)\n",
      "0\n"
     ]
    },
    {
     "data": {
      "text/html": [
       "<div>\n",
       "<style scoped>\n",
       "    .dataframe tbody tr th:only-of-type {\n",
       "        vertical-align: middle;\n",
       "    }\n",
       "\n",
       "    .dataframe tbody tr th {\n",
       "        vertical-align: top;\n",
       "    }\n",
       "\n",
       "    .dataframe thead th {\n",
       "        text-align: right;\n",
       "    }\n",
       "</style>\n",
       "<table border=\"1\" class=\"dataframe\">\n",
       "  <thead>\n",
       "    <tr style=\"text-align: right;\">\n",
       "      <th></th>\n",
       "      <th>st_num</th>\n",
       "      <th>st_name</th>\n",
       "      <th>zipcode</th>\n",
       "      <th>status</th>\n",
       "      <th>value</th>\n",
       "      <th>description</th>\n",
       "      <th>pw_violation</th>\n",
       "    </tr>\n",
       "  </thead>\n",
       "  <tbody>\n",
       "    <tr>\n",
       "      <th>0</th>\n",
       "      <td>21</td>\n",
       "      <td>concord</td>\n",
       "      <td>02118</td>\n",
       "      <td>closed</td>\n",
       "      <td>25</td>\n",
       "      <td>improper storage trash: res</td>\n",
       "      <td>1</td>\n",
       "    </tr>\n",
       "    <tr>\n",
       "      <th>1</th>\n",
       "      <td>196</td>\n",
       "      <td>saint botolph</td>\n",
       "      <td>02115</td>\n",
       "      <td>closed</td>\n",
       "      <td>25</td>\n",
       "      <td>improper storage trash: res</td>\n",
       "      <td>1</td>\n",
       "    </tr>\n",
       "    <tr>\n",
       "      <th>2</th>\n",
       "      <td>68</td>\n",
       "      <td>pinckney</td>\n",
       "      <td>02108</td>\n",
       "      <td>open</td>\n",
       "      <td>25</td>\n",
       "      <td>improper storage trash: res</td>\n",
       "      <td>1</td>\n",
       "    </tr>\n",
       "    <tr>\n",
       "      <th>3</th>\n",
       "      <td>165</td>\n",
       "      <td>friend</td>\n",
       "      <td>02114</td>\n",
       "      <td>open</td>\n",
       "      <td>250</td>\n",
       "      <td>illegal dumping &lt; 1 cubic yd</td>\n",
       "      <td>1</td>\n",
       "    </tr>\n",
       "    <tr>\n",
       "      <th>4</th>\n",
       "      <td>263</td>\n",
       "      <td>north</td>\n",
       "      <td>02113</td>\n",
       "      <td>closed</td>\n",
       "      <td>25</td>\n",
       "      <td>improper storage trash: res</td>\n",
       "      <td>1</td>\n",
       "    </tr>\n",
       "    <tr>\n",
       "      <th>...</th>\n",
       "      <td>...</td>\n",
       "      <td>...</td>\n",
       "      <td>...</td>\n",
       "      <td>...</td>\n",
       "      <td>...</td>\n",
       "      <td>...</td>\n",
       "      <td>...</td>\n",
       "    </tr>\n",
       "    <tr>\n",
       "      <th>47593</th>\n",
       "      <td>793</td>\n",
       "      <td>sixth</td>\n",
       "      <td>02127</td>\n",
       "      <td>open</td>\n",
       "      <td>50</td>\n",
       "      <td>occupying city prop wo permit</td>\n",
       "      <td>1</td>\n",
       "    </tr>\n",
       "    <tr>\n",
       "      <th>47594</th>\n",
       "      <td>1744</td>\n",
       "      <td>washington</td>\n",
       "      <td>02118</td>\n",
       "      <td>closed</td>\n",
       "      <td>25</td>\n",
       "      <td>improper storage trash: res</td>\n",
       "      <td>1</td>\n",
       "    </tr>\n",
       "    <tr>\n",
       "      <th>47595</th>\n",
       "      <td>875</td>\n",
       "      <td>beacon</td>\n",
       "      <td>02215</td>\n",
       "      <td>closed</td>\n",
       "      <td>25</td>\n",
       "      <td>improper storage trash: res</td>\n",
       "      <td>1</td>\n",
       "    </tr>\n",
       "    <tr>\n",
       "      <th>47596</th>\n",
       "      <td>55</td>\n",
       "      <td>saint stephen</td>\n",
       "      <td>02115</td>\n",
       "      <td>closed</td>\n",
       "      <td>25</td>\n",
       "      <td>improper storage trash: res</td>\n",
       "      <td>1</td>\n",
       "    </tr>\n",
       "    <tr>\n",
       "      <th>47597</th>\n",
       "      <td>520</td>\n",
       "      <td>massachusetts</td>\n",
       "      <td>02118</td>\n",
       "      <td>closed</td>\n",
       "      <td>25</td>\n",
       "      <td>improper storage trash: res</td>\n",
       "      <td>1</td>\n",
       "    </tr>\n",
       "  </tbody>\n",
       "</table>\n",
       "<p>47598 rows × 7 columns</p>\n",
       "</div>"
      ],
      "text/plain": [
       "      st_num        st_name zipcode  status  value  \\\n",
       "0         21        concord   02118  closed     25   \n",
       "1        196  saint botolph   02115  closed     25   \n",
       "2         68       pinckney   02108    open     25   \n",
       "3        165         friend   02114    open    250   \n",
       "4        263          north   02113  closed     25   \n",
       "...      ...            ...     ...     ...    ...   \n",
       "47593    793          sixth   02127    open     50   \n",
       "47594   1744     washington   02118  closed     25   \n",
       "47595    875         beacon   02215  closed     25   \n",
       "47596     55  saint stephen   02115  closed     25   \n",
       "47597    520  massachusetts   02118  closed     25   \n",
       "\n",
       "                         description  pw_violation  \n",
       "0        improper storage trash: res             1  \n",
       "1        improper storage trash: res             1  \n",
       "2        improper storage trash: res             1  \n",
       "3       illegal dumping < 1 cubic yd             1  \n",
       "4        improper storage trash: res             1  \n",
       "...                              ...           ...  \n",
       "47593  occupying city prop wo permit             1  \n",
       "47594    improper storage trash: res             1  \n",
       "47595    improper storage trash: res             1  \n",
       "47596    improper storage trash: res             1  \n",
       "47597    improper storage trash: res             1  \n",
       "\n",
       "[47598 rows x 7 columns]"
      ]
     },
     "execution_count": 6,
     "metadata": {},
     "output_type": "execute_result"
    }
   ],
   "source": [
    "print(pw_df.shape)\n",
    "print(pw_df.isna().sum().sum())\n",
    "pw_df"
   ]
  },
  {
   "cell_type": "markdown",
   "metadata": {
    "heading_collapsed": true
   },
   "source": [
    "## Fire "
   ]
  },
  {
   "cell_type": "code",
   "execution_count": 9,
   "metadata": {
    "ExecuteTime": {
     "end_time": "2020-06-04T17:05:02.769868Z",
     "start_time": "2020-06-04T17:05:02.761499Z"
    },
    "hidden": true
   },
   "outputs": [],
   "source": [
    "fire_df.rename(columns={\"street number\": \"st_num\", \n",
    "                \"street name\": \"st_name\", \n",
    "                \"street type\": \"st_name_suf\",\n",
    "                \"zip\": \"zipcode\"}, \n",
    "               inplace=True)\n",
    "fire_df[\"had_incident\"] = 1"
   ]
  },
  {
   "cell_type": "code",
   "execution_count": 23,
   "metadata": {
    "ExecuteTime": {
     "end_time": "2020-06-04T00:54:12.277015Z",
     "start_time": "2020-06-04T00:54:12.248424Z"
    },
    "hidden": true
   },
   "outputs": [
    {
     "data": {
      "text/plain": [
       "Index(['incident number', 'exposure number', 'alarm date', 'alarm time',\n",
       "       'incident type', 'incident description', 'estimated property loss',\n",
       "       'estimated content loss', 'district', 'city section', 'neighborhood',\n",
       "       'zipcode', 'property use', 'property description', 'st_num',\n",
       "       'street prefix', 'st_name', 'street suffix', 'st_name_suf', 'address 2',\n",
       "       'xstreet prefix', 'xstreet name', 'xstreet suffix', 'xstreet type',\n",
       "       'had_incident'],\n",
       "      dtype='object')"
      ]
     },
     "execution_count": 23,
     "metadata": {},
     "output_type": "execute_result"
    }
   ],
   "source": [
    "fire_df.columns"
   ]
  },
  {
   "cell_type": "code",
   "execution_count": 10,
   "metadata": {
    "ExecuteTime": {
     "end_time": "2020-06-04T17:05:04.701235Z",
     "start_time": "2020-06-04T17:05:04.687355Z"
    },
    "hidden": true,
    "scrolled": true
   },
   "outputs": [
    {
     "ename": "KeyError",
     "evalue": "\"['zipcode', 'st_num', 'st_name', 'estimated property loss', 'estimated content loss'] not in index\"",
     "output_type": "error",
     "traceback": [
      "\u001b[0;31m---------------------------------------------------------------------------\u001b[0m",
      "\u001b[0;31mKeyError\u001b[0m                                  Traceback (most recent call last)",
      "\u001b[0;32m<ipython-input-10-74e898241a45>\u001b[0m in \u001b[0;36m<module>\u001b[0;34m\u001b[0m\n\u001b[1;32m     14\u001b[0m \u001b[0;31m#     print()\u001b[0m\u001b[0;34m\u001b[0m\u001b[0;34m\u001b[0m\u001b[0;34m\u001b[0m\u001b[0m\n\u001b[1;32m     15\u001b[0m \u001b[0;34m\u001b[0m\u001b[0m\n\u001b[0;32m---> 16\u001b[0;31m \u001b[0mfire_df\u001b[0m \u001b[0;34m=\u001b[0m \u001b[0mfire_df\u001b[0m\u001b[0;34m[\u001b[0m\u001b[0mfire_cols\u001b[0m\u001b[0;34m]\u001b[0m\u001b[0;34m\u001b[0m\u001b[0;34m\u001b[0m\u001b[0m\n\u001b[0m",
      "\u001b[0;32m~/anaconda3/lib/python3.7/site-packages/pandas/core/frame.py\u001b[0m in \u001b[0;36m__getitem__\u001b[0;34m(self, key)\u001b[0m\n\u001b[1;32m   2804\u001b[0m             \u001b[0;32mif\u001b[0m \u001b[0mis_iterator\u001b[0m\u001b[0;34m(\u001b[0m\u001b[0mkey\u001b[0m\u001b[0;34m)\u001b[0m\u001b[0;34m:\u001b[0m\u001b[0;34m\u001b[0m\u001b[0;34m\u001b[0m\u001b[0m\n\u001b[1;32m   2805\u001b[0m                 \u001b[0mkey\u001b[0m \u001b[0;34m=\u001b[0m \u001b[0mlist\u001b[0m\u001b[0;34m(\u001b[0m\u001b[0mkey\u001b[0m\u001b[0;34m)\u001b[0m\u001b[0;34m\u001b[0m\u001b[0;34m\u001b[0m\u001b[0m\n\u001b[0;32m-> 2806\u001b[0;31m             \u001b[0mindexer\u001b[0m \u001b[0;34m=\u001b[0m \u001b[0mself\u001b[0m\u001b[0;34m.\u001b[0m\u001b[0mloc\u001b[0m\u001b[0;34m.\u001b[0m\u001b[0m_get_listlike_indexer\u001b[0m\u001b[0;34m(\u001b[0m\u001b[0mkey\u001b[0m\u001b[0;34m,\u001b[0m \u001b[0maxis\u001b[0m\u001b[0;34m=\u001b[0m\u001b[0;36m1\u001b[0m\u001b[0;34m,\u001b[0m \u001b[0mraise_missing\u001b[0m\u001b[0;34m=\u001b[0m\u001b[0;32mTrue\u001b[0m\u001b[0;34m)\u001b[0m\u001b[0;34m[\u001b[0m\u001b[0;36m1\u001b[0m\u001b[0;34m]\u001b[0m\u001b[0;34m\u001b[0m\u001b[0;34m\u001b[0m\u001b[0m\n\u001b[0m\u001b[1;32m   2807\u001b[0m \u001b[0;34m\u001b[0m\u001b[0m\n\u001b[1;32m   2808\u001b[0m         \u001b[0;31m# take() does not accept boolean indexers\u001b[0m\u001b[0;34m\u001b[0m\u001b[0;34m\u001b[0m\u001b[0;34m\u001b[0m\u001b[0m\n",
      "\u001b[0;32m~/anaconda3/lib/python3.7/site-packages/pandas/core/indexing.py\u001b[0m in \u001b[0;36m_get_listlike_indexer\u001b[0;34m(self, key, axis, raise_missing)\u001b[0m\n\u001b[1;32m   1551\u001b[0m \u001b[0;34m\u001b[0m\u001b[0m\n\u001b[1;32m   1552\u001b[0m         self._validate_read_indexer(\n\u001b[0;32m-> 1553\u001b[0;31m             \u001b[0mkeyarr\u001b[0m\u001b[0;34m,\u001b[0m \u001b[0mindexer\u001b[0m\u001b[0;34m,\u001b[0m \u001b[0mo\u001b[0m\u001b[0;34m.\u001b[0m\u001b[0m_get_axis_number\u001b[0m\u001b[0;34m(\u001b[0m\u001b[0maxis\u001b[0m\u001b[0;34m)\u001b[0m\u001b[0;34m,\u001b[0m \u001b[0mraise_missing\u001b[0m\u001b[0;34m=\u001b[0m\u001b[0mraise_missing\u001b[0m\u001b[0;34m\u001b[0m\u001b[0;34m\u001b[0m\u001b[0m\n\u001b[0m\u001b[1;32m   1554\u001b[0m         )\n\u001b[1;32m   1555\u001b[0m         \u001b[0;32mreturn\u001b[0m \u001b[0mkeyarr\u001b[0m\u001b[0;34m,\u001b[0m \u001b[0mindexer\u001b[0m\u001b[0;34m\u001b[0m\u001b[0;34m\u001b[0m\u001b[0m\n",
      "\u001b[0;32m~/anaconda3/lib/python3.7/site-packages/pandas/core/indexing.py\u001b[0m in \u001b[0;36m_validate_read_indexer\u001b[0;34m(self, key, indexer, axis, raise_missing)\u001b[0m\n\u001b[1;32m   1644\u001b[0m             \u001b[0;32mif\u001b[0m \u001b[0;32mnot\u001b[0m \u001b[0;34m(\u001b[0m\u001b[0mself\u001b[0m\u001b[0;34m.\u001b[0m\u001b[0mname\u001b[0m \u001b[0;34m==\u001b[0m \u001b[0;34m\"loc\"\u001b[0m \u001b[0;32mand\u001b[0m \u001b[0;32mnot\u001b[0m \u001b[0mraise_missing\u001b[0m\u001b[0;34m)\u001b[0m\u001b[0;34m:\u001b[0m\u001b[0;34m\u001b[0m\u001b[0;34m\u001b[0m\u001b[0m\n\u001b[1;32m   1645\u001b[0m                 \u001b[0mnot_found\u001b[0m \u001b[0;34m=\u001b[0m \u001b[0mlist\u001b[0m\u001b[0;34m(\u001b[0m\u001b[0mset\u001b[0m\u001b[0;34m(\u001b[0m\u001b[0mkey\u001b[0m\u001b[0;34m)\u001b[0m \u001b[0;34m-\u001b[0m \u001b[0mset\u001b[0m\u001b[0;34m(\u001b[0m\u001b[0max\u001b[0m\u001b[0;34m)\u001b[0m\u001b[0;34m)\u001b[0m\u001b[0;34m\u001b[0m\u001b[0;34m\u001b[0m\u001b[0m\n\u001b[0;32m-> 1646\u001b[0;31m                 \u001b[0;32mraise\u001b[0m \u001b[0mKeyError\u001b[0m\u001b[0;34m(\u001b[0m\u001b[0;34mf\"{not_found} not in index\"\u001b[0m\u001b[0;34m)\u001b[0m\u001b[0;34m\u001b[0m\u001b[0;34m\u001b[0m\u001b[0m\n\u001b[0m\u001b[1;32m   1647\u001b[0m \u001b[0;34m\u001b[0m\u001b[0m\n\u001b[1;32m   1648\u001b[0m             \u001b[0;31m# we skip the warning on Categorical/Interval\u001b[0m\u001b[0;34m\u001b[0m\u001b[0;34m\u001b[0m\u001b[0;34m\u001b[0m\u001b[0m\n",
      "\u001b[0;31mKeyError\u001b[0m: \"['zipcode', 'st_num', 'st_name', 'estimated property loss', 'estimated content loss'] not in index\""
     ]
    }
   ],
   "source": [
    "fire_cols= [\n",
    "    \"st_num\",\n",
    "    \"st_name\",\n",
    "#     \"st_name_suf\",\n",
    "    \"zipcode\",\n",
    "    \"estimated property loss\",\n",
    "    \"estimated content loss\",\n",
    "    \"had_incident\"\n",
    "]\n",
    "\n",
    "# for col in fire_cols:\n",
    "#     print(col)\n",
    "#     print(fire_df[col].value_counts())\n",
    "#     print()\n",
    "\n",
    "fire_df = fire_df[fire_cols]"
   ]
  },
  {
   "cell_type": "code",
   "execution_count": 7,
   "metadata": {
    "ExecuteTime": {
     "end_time": "2020-06-04T17:04:25.669209Z",
     "start_time": "2020-06-04T17:04:25.616796Z"
    },
    "hidden": true,
    "scrolled": true
   },
   "outputs": [
    {
     "name": "stdout",
     "output_type": "stream",
     "text": [
      "(49555, 24)\n",
      "4334\n"
     ]
    },
    {
     "data": {
      "text/html": [
       "<div>\n",
       "<style scoped>\n",
       "    .dataframe tbody tr th:only-of-type {\n",
       "        vertical-align: middle;\n",
       "    }\n",
       "\n",
       "    .dataframe tbody tr th {\n",
       "        vertical-align: top;\n",
       "    }\n",
       "\n",
       "    .dataframe thead th {\n",
       "        text-align: right;\n",
       "    }\n",
       "</style>\n",
       "<table border=\"1\" class=\"dataframe\">\n",
       "  <thead>\n",
       "    <tr style=\"text-align: right;\">\n",
       "      <th></th>\n",
       "      <th>Incident Number</th>\n",
       "      <th>Exposure Number</th>\n",
       "      <th>Alarm Date</th>\n",
       "      <th>Alarm Time</th>\n",
       "      <th>Incident Type</th>\n",
       "      <th>Incident Description</th>\n",
       "      <th>Estimated Property Loss</th>\n",
       "      <th>Estimated Content Loss</th>\n",
       "      <th>District</th>\n",
       "      <th>City Section</th>\n",
       "      <th>...</th>\n",
       "      <th>Street Number</th>\n",
       "      <th>Street Prefix</th>\n",
       "      <th>Street Name</th>\n",
       "      <th>Street Suffix</th>\n",
       "      <th>Street Type</th>\n",
       "      <th>Address 2</th>\n",
       "      <th>XStreet Prefix</th>\n",
       "      <th>XStreet Name</th>\n",
       "      <th>XStreet Suffix</th>\n",
       "      <th>XStreet Type</th>\n",
       "    </tr>\n",
       "  </thead>\n",
       "  <tbody>\n",
       "    <tr>\n",
       "      <th>0</th>\n",
       "      <td>19-0019301</td>\n",
       "      <td>0</td>\n",
       "      <td>04/01/2019</td>\n",
       "      <td>00:38:31</td>\n",
       "      <td>736</td>\n",
       "      <td>CO detector activation due to malfunction     ...</td>\n",
       "      <td>0.0</td>\n",
       "      <td>0.0</td>\n",
       "      <td>09</td>\n",
       "      <td>RX</td>\n",
       "      <td>...</td>\n",
       "      <td>800</td>\n",
       "      <td></td>\n",
       "      <td>PARKER</td>\n",
       "      <td></td>\n",
       "      <td>ST</td>\n",
       "      <td></td>\n",
       "      <td></td>\n",
       "      <td></td>\n",
       "      <td></td>\n",
       "      <td></td>\n",
       "    </tr>\n",
       "    <tr>\n",
       "      <th>1</th>\n",
       "      <td>19-0019302</td>\n",
       "      <td>0</td>\n",
       "      <td>04/01/2019</td>\n",
       "      <td>00:52:06</td>\n",
       "      <td>553</td>\n",
       "      <td>Public service                                ...</td>\n",
       "      <td>0.0</td>\n",
       "      <td>0.0</td>\n",
       "      <td>09</td>\n",
       "      <td>RX</td>\n",
       "      <td>...</td>\n",
       "      <td>39</td>\n",
       "      <td></td>\n",
       "      <td>ROXBURY</td>\n",
       "      <td></td>\n",
       "      <td>ST</td>\n",
       "      <td>:3</td>\n",
       "      <td></td>\n",
       "      <td></td>\n",
       "      <td></td>\n",
       "      <td></td>\n",
       "    </tr>\n",
       "    <tr>\n",
       "      <th>2</th>\n",
       "      <td>19-0019303</td>\n",
       "      <td>0</td>\n",
       "      <td>04/01/2019</td>\n",
       "      <td>00:54:27</td>\n",
       "      <td>735</td>\n",
       "      <td>Alarm system sounded due to malfunction       ...</td>\n",
       "      <td>0.0</td>\n",
       "      <td>0.0</td>\n",
       "      <td>09</td>\n",
       "      <td>RX</td>\n",
       "      <td>...</td>\n",
       "      <td>131</td>\n",
       "      <td></td>\n",
       "      <td>WALNUT</td>\n",
       "      <td></td>\n",
       "      <td>AVE</td>\n",
       "      <td>: #12-2159</td>\n",
       "      <td></td>\n",
       "      <td></td>\n",
       "      <td></td>\n",
       "      <td></td>\n",
       "    </tr>\n",
       "    <tr>\n",
       "      <th>3</th>\n",
       "      <td>19-0019304</td>\n",
       "      <td>0</td>\n",
       "      <td>04/01/2019</td>\n",
       "      <td>00:59:02</td>\n",
       "      <td>714</td>\n",
       "      <td>Central station, malicious false alarm        ...</td>\n",
       "      <td>0.0</td>\n",
       "      <td>0.0</td>\n",
       "      <td>04</td>\n",
       "      <td>BO</td>\n",
       "      <td>...</td>\n",
       "      <td>90</td>\n",
       "      <td></td>\n",
       "      <td>GAINSBOROUGH</td>\n",
       "      <td></td>\n",
       "      <td>ST</td>\n",
       "      <td></td>\n",
       "      <td></td>\n",
       "      <td></td>\n",
       "      <td></td>\n",
       "      <td></td>\n",
       "    </tr>\n",
       "    <tr>\n",
       "      <th>4</th>\n",
       "      <td>19-0019305</td>\n",
       "      <td>0</td>\n",
       "      <td>04/01/2019</td>\n",
       "      <td>01:20:08</td>\n",
       "      <td>700</td>\n",
       "      <td>False alarm or false call, Other              ...</td>\n",
       "      <td>0.0</td>\n",
       "      <td>0.0</td>\n",
       "      <td>04</td>\n",
       "      <td>BO</td>\n",
       "      <td>...</td>\n",
       "      <td>95</td>\n",
       "      <td></td>\n",
       "      <td>GAINSBOROUGH</td>\n",
       "      <td></td>\n",
       "      <td>ST</td>\n",
       "      <td></td>\n",
       "      <td></td>\n",
       "      <td></td>\n",
       "      <td></td>\n",
       "      <td></td>\n",
       "    </tr>\n",
       "  </tbody>\n",
       "</table>\n",
       "<p>5 rows × 24 columns</p>\n",
       "</div>"
      ],
      "text/plain": [
       "  Incident Number  Exposure Number  Alarm Date Alarm Time Incident Type  \\\n",
       "0      19-0019301                0  04/01/2019   00:38:31          736    \n",
       "1      19-0019302                0  04/01/2019   00:52:06          553    \n",
       "2      19-0019303                0  04/01/2019   00:54:27          735    \n",
       "3      19-0019304                0  04/01/2019   00:59:02          714    \n",
       "4      19-0019305                0  04/01/2019   01:20:08          700    \n",
       "\n",
       "                                Incident Description  Estimated Property Loss  \\\n",
       "0  CO detector activation due to malfunction     ...                      0.0   \n",
       "1  Public service                                ...                      0.0   \n",
       "2  Alarm system sounded due to malfunction       ...                      0.0   \n",
       "3  Central station, malicious false alarm        ...                      0.0   \n",
       "4  False alarm or false call, Other              ...                      0.0   \n",
       "\n",
       "   Estimated Content Loss District     City Section  ... Street Number  \\\n",
       "0                     0.0    09     RX               ...      800        \n",
       "1                     0.0    09     RX               ...      39         \n",
       "2                     0.0    09     RX               ...      131        \n",
       "3                     0.0    04     BO               ...      90         \n",
       "4                     0.0    04     BO               ...      95         \n",
       "\n",
       "   Street Prefix                Street Name Street Suffix Street Type  \\\n",
       "0                 PARKER                                         ST     \n",
       "1                 ROXBURY                                        ST     \n",
       "2                 WALNUT                                         AVE    \n",
       "3                 GAINSBOROUGH                                   ST     \n",
       "4                 GAINSBOROUGH                                   ST     \n",
       "\n",
       "                                  Address 2 XStreet Prefix  \\\n",
       "0                                                            \n",
       "1  :3                                                        \n",
       "2  : #12-2159                                                \n",
       "3                                                            \n",
       "4                                                            \n",
       "\n",
       "                XStreet Name XStreet Suffix XStreet Type  \n",
       "0                                                         \n",
       "1                                                         \n",
       "2                                                         \n",
       "3                                                         \n",
       "4                                                         \n",
       "\n",
       "[5 rows x 24 columns]"
      ]
     },
     "execution_count": 7,
     "metadata": {},
     "output_type": "execute_result"
    }
   ],
   "source": [
    "print(fire_df.shape)\n",
    "print(fire_df.isna().sum().sum())\n",
    "fire_df.head()"
   ]
  },
  {
   "cell_type": "code",
   "execution_count": 8,
   "metadata": {
    "ExecuteTime": {
     "end_time": "2020-06-04T17:04:39.068065Z",
     "start_time": "2020-06-04T17:04:39.036211Z"
    },
    "hidden": true
   },
   "outputs": [
    {
     "name": "stdout",
     "output_type": "stream",
     "text": [
      "Incident Number               0\n",
      "Exposure Number               0\n",
      "Alarm Date                    0\n",
      "Alarm Time                    0\n",
      "Incident Type                 0\n",
      "Incident Description          0\n",
      "Estimated Property Loss       0\n",
      "Estimated Content Loss        0\n",
      "District                      0\n",
      "City Section                  0\n",
      "Neighborhood                694\n",
      "Zip                           0\n",
      "Property Use                  0\n",
      "Property Description       3640\n",
      "Street Number                 0\n",
      "Street Prefix                 0\n",
      "Street Name                   0\n",
      "Street Suffix                 0\n",
      "Street Type                   0\n",
      "Address 2                     0\n",
      "XStreet Prefix                0\n",
      "XStreet Name                  0\n",
      "XStreet Suffix                0\n",
      "XStreet Type                  0\n",
      "dtype: int64\n"
     ]
    }
   ],
   "source": [
    "print(fire_df.isna().sum())"
   ]
  },
  {
   "cell_type": "code",
   "execution_count": 27,
   "metadata": {
    "ExecuteTime": {
     "end_time": "2020-06-04T00:54:34.540397Z",
     "start_time": "2020-06-04T00:54:34.534730Z"
    },
    "hidden": true
   },
   "outputs": [
    {
     "data": {
      "text/plain": [
       "5746330.0"
      ]
     },
     "execution_count": 27,
     "metadata": {},
     "output_type": "execute_result"
    }
   ],
   "source": [
    "fire_df[\"estimated content loss\"].sum()"
   ]
  },
  {
   "cell_type": "markdown",
   "metadata": {},
   "source": [
    "## Requests"
   ]
  },
  {
   "cell_type": "code",
   "execution_count": 79,
   "metadata": {
    "ExecuteTime": {
     "end_time": "2020-06-04T17:35:17.442899Z",
     "start_time": "2020-06-04T17:35:17.382210Z"
    }
   },
   "outputs": [],
   "source": [
    "requests_df.rename(columns={\"location_street_name\": \"st_name\", \n",
    "                            \"location_zipcode\": \"zipcode\"}, \n",
    "                   inplace=True)\n",
    "\n",
    "requests_df[\"had_request\"] = 1"
   ]
  },
  {
   "cell_type": "code",
   "execution_count": 80,
   "metadata": {
    "ExecuteTime": {
     "end_time": "2020-06-04T17:35:18.399885Z",
     "start_time": "2020-06-04T17:35:17.733376Z"
    }
   },
   "outputs": [],
   "source": [
    "requests_df[\"location\"] = requests_df[\"location\"].str.split()\n",
    "requests_df[\"st_num\"] = requests_df[\"location\"].str[0]\n",
    "# https://stackoverflow.com/questions/45983017/extracting-an-element-of-a-list-in-a-pandas-column"
   ]
  },
  {
   "cell_type": "code",
   "execution_count": 81,
   "metadata": {
    "ExecuteTime": {
     "end_time": "2020-06-04T17:35:18.820203Z",
     "start_time": "2020-06-04T17:35:18.400858Z"
    }
   },
   "outputs": [],
   "source": [
    "# MAKE SURE ITS ONLY ACCOUNTING FOR CALENDAR YEAR 2019\n",
    "requests_df[\"open_dt\"] = pd.to_datetime(requests_df[\"open_dt\"], infer_datetime_format=True)\n",
    "\n",
    "requests_df = requests_df[requests_df[\"open_dt\"].dt.year == 2019] # NO MISSING VALUES"
   ]
  },
  {
   "cell_type": "code",
   "execution_count": 82,
   "metadata": {
    "ExecuteTime": {
     "end_time": "2020-06-04T17:35:21.153209Z",
     "start_time": "2020-06-04T17:35:21.091604Z"
    }
   },
   "outputs": [],
   "source": [
    "requests_cols = [\n",
    "    \"st_num\",\n",
    "    \"st_name\",\n",
    "#     \"open_dt\",\n",
    "#     \"ontime\",\n",
    "    \"case_status\",\n",
    "    \"reason\",\n",
    "    \"source\",\n",
    "    \"had_request\",\n",
    "    \"zipcode\"\n",
    "]\n",
    "\n",
    "requests_df = requests_df[requests_cols]"
   ]
  },
  {
   "cell_type": "code",
   "execution_count": null,
   "metadata": {},
   "outputs": [],
   "source": [
    "# ============================="
   ]
  },
  {
   "cell_type": "code",
   "execution_count": 64,
   "metadata": {
    "ExecuteTime": {
     "end_time": "2020-06-04T17:31:15.463115Z",
     "start_time": "2020-06-04T17:31:15.080224Z"
    }
   },
   "outputs": [],
   "source": [
    "# requests_df.loc[requests_df[\"zipcode\"].isna() &\\\n",
    "#                 (requests_df[\"st_name\"].str.contains(\"intersection\"))] # 56746\n",
    "\n",
    "# requests_df[[\"zipcode\", \"st_num\"]].loc[requests_df[\"zipcode\"].isna() &\\\n",
    "#                 (requests_df[\"st_num\"].str.contains(\"intersection\"))] # 56746\n",
    "\n",
    "# null_indices = (requests_df[(requests_df[\"zipcode\"].isna() &\\\n",
    "#                (requests_df[\"st_name\"].str.contains(\"intersection\")))]).index\n",
    "# requests_df.drop(index=null_indices, inplace=True)"
   ]
  },
  {
   "cell_type": "code",
   "execution_count": null,
   "metadata": {},
   "outputs": [],
   "source": [
    "# ============================="
   ]
  },
  {
   "cell_type": "code",
   "execution_count": 83,
   "metadata": {
    "ExecuteTime": {
     "end_time": "2020-06-04T17:35:31.288626Z",
     "start_time": "2020-06-04T17:35:31.011638Z"
    },
    "scrolled": true
   },
   "outputs": [],
   "source": [
    "# THESE ROWS ARE ALL ON THE CORNER/INTERSECTION OF MULTIPLE STREETS/LOCATIONS\n",
    "requests_df.loc[requests_df[\"zipcode\"].isna() &\\\n",
    "                (requests_df[\"st_name\"].str.contains(\"intersection\"))] # 56746\n",
    "\n",
    "null_indices = (requests_df[(requests_df[\"zipcode\"].isna() &\\\n",
    "               (requests_df[\"st_name\"].str.contains(\"intersection\")))]).index\n",
    "requests_df.drop(index=null_indices, inplace=True)\n",
    "\n",
    "# TOTAL NUMBER OF MISSING ZIPCODES\n",
    "requests_df.loc[requests_df[\"zipcode\"].isna()] # 3557, THESE HAVE NO STREET.\n",
    "                                               # \"EMPLOYEE GENERAL COMMENTS\"\n",
    "                                               # 'HIGHWAY MAINTENANCE'\n",
    "null_indices = (requests_df[(requests_df[\"zipcode\"].isna() &\\\n",
    "               (requests_df[\"st_name\"].isna()))]).index\n",
    "requests_df.drop(index=null_indices, inplace=True)\n",
    "\n",
    "requests_df.reset_index(drop=True, inplace=True)"
   ]
  },
  {
   "cell_type": "code",
   "execution_count": null,
   "metadata": {
    "ExecuteTime": {
     "end_time": "2020-06-03T02:54:44.360164Z",
     "start_time": "2020-06-03T02:54:42.160Z"
    }
   },
   "outputs": [],
   "source": [
    "# NO REASON TO DROP THIS\n",
    "# requests_df.loc[requests_df[\"ontime\"].isna()]"
   ]
  },
  {
   "cell_type": "code",
   "execution_count": 84,
   "metadata": {
    "ExecuteTime": {
     "end_time": "2020-06-04T17:35:32.817759Z",
     "start_time": "2020-06-04T17:35:32.773372Z"
    }
   },
   "outputs": [
    {
     "data": {
      "text/plain": [
       "st_num         0\n",
       "st_name        0\n",
       "case_status    0\n",
       "reason         0\n",
       "source         0\n",
       "had_request    0\n",
       "zipcode        0\n",
       "dtype: int64"
      ]
     },
     "execution_count": 84,
     "metadata": {},
     "output_type": "execute_result"
    }
   ],
   "source": [
    "requests_df.isna().sum()"
   ]
  },
  {
   "cell_type": "code",
   "execution_count": 85,
   "metadata": {
    "ExecuteTime": {
     "end_time": "2020-06-04T17:35:34.481921Z",
     "start_time": "2020-06-04T17:35:34.469675Z"
    }
   },
   "outputs": [
    {
     "data": {
      "text/html": [
       "<div>\n",
       "<style scoped>\n",
       "    .dataframe tbody tr th:only-of-type {\n",
       "        vertical-align: middle;\n",
       "    }\n",
       "\n",
       "    .dataframe tbody tr th {\n",
       "        vertical-align: top;\n",
       "    }\n",
       "\n",
       "    .dataframe thead th {\n",
       "        text-align: right;\n",
       "    }\n",
       "</style>\n",
       "<table border=\"1\" class=\"dataframe\">\n",
       "  <thead>\n",
       "    <tr style=\"text-align: right;\">\n",
       "      <th></th>\n",
       "      <th>st_num</th>\n",
       "      <th>st_name</th>\n",
       "      <th>case_status</th>\n",
       "      <th>reason</th>\n",
       "      <th>source</th>\n",
       "      <th>had_request</th>\n",
       "      <th>zipcode</th>\n",
       "    </tr>\n",
       "  </thead>\n",
       "  <tbody>\n",
       "    <tr>\n",
       "      <th>0</th>\n",
       "      <td>6-8</td>\n",
       "      <td>6-8 school st</td>\n",
       "      <td>closed</td>\n",
       "      <td>enforcement &amp; abandoned vehicles</td>\n",
       "      <td>citizens connect app</td>\n",
       "      <td>1</td>\n",
       "      <td>2124.0</td>\n",
       "    </tr>\n",
       "    <tr>\n",
       "      <th>1</th>\n",
       "      <td>195</td>\n",
       "      <td>195 south st</td>\n",
       "      <td>closed</td>\n",
       "      <td>catchbasin</td>\n",
       "      <td>constituent call</td>\n",
       "      <td>1</td>\n",
       "      <td>2130.0</td>\n",
       "    </tr>\n",
       "    <tr>\n",
       "      <th>2</th>\n",
       "      <td>34</td>\n",
       "      <td>34 ridgewood st</td>\n",
       "      <td>closed</td>\n",
       "      <td>notification</td>\n",
       "      <td>constituent call</td>\n",
       "      <td>1</td>\n",
       "      <td>2122.0</td>\n",
       "    </tr>\n",
       "    <tr>\n",
       "      <th>3</th>\n",
       "      <td>3</td>\n",
       "      <td>3 school st</td>\n",
       "      <td>closed</td>\n",
       "      <td>enforcement &amp; abandoned vehicles</td>\n",
       "      <td>citizens connect app</td>\n",
       "      <td>1</td>\n",
       "      <td>2124.0</td>\n",
       "    </tr>\n",
       "    <tr>\n",
       "      <th>4</th>\n",
       "      <td>22</td>\n",
       "      <td>22 ward st</td>\n",
       "      <td>closed</td>\n",
       "      <td>enforcement &amp; abandoned vehicles</td>\n",
       "      <td>citizens connect app</td>\n",
       "      <td>1</td>\n",
       "      <td>2127.0</td>\n",
       "    </tr>\n",
       "    <tr>\n",
       "      <th>...</th>\n",
       "      <td>...</td>\n",
       "      <td>...</td>\n",
       "      <td>...</td>\n",
       "      <td>...</td>\n",
       "      <td>...</td>\n",
       "      <td>...</td>\n",
       "      <td>...</td>\n",
       "    </tr>\n",
       "    <tr>\n",
       "      <th>199188</th>\n",
       "      <td>2</td>\n",
       "      <td>2 newcroft cir</td>\n",
       "      <td>open</td>\n",
       "      <td>sanitation</td>\n",
       "      <td>self service</td>\n",
       "      <td>1</td>\n",
       "      <td>2126.0</td>\n",
       "    </tr>\n",
       "    <tr>\n",
       "      <th>199189</th>\n",
       "      <td>638</td>\n",
       "      <td>638 saratoga st</td>\n",
       "      <td>closed</td>\n",
       "      <td>street cleaning</td>\n",
       "      <td>constituent call</td>\n",
       "      <td>1</td>\n",
       "      <td>2128.0</td>\n",
       "    </tr>\n",
       "    <tr>\n",
       "      <th>199190</th>\n",
       "      <td>5-7</td>\n",
       "      <td>5-7 lawrence pl</td>\n",
       "      <td>closed</td>\n",
       "      <td>code enforcement</td>\n",
       "      <td>citizens connect app</td>\n",
       "      <td>1</td>\n",
       "      <td>2135.0</td>\n",
       "    </tr>\n",
       "    <tr>\n",
       "      <th>199191</th>\n",
       "      <td>305</td>\n",
       "      <td>305 chelsea st</td>\n",
       "      <td>closed</td>\n",
       "      <td>code enforcement</td>\n",
       "      <td>constituent call</td>\n",
       "      <td>1</td>\n",
       "      <td>2128.0</td>\n",
       "    </tr>\n",
       "    <tr>\n",
       "      <th>199192</th>\n",
       "      <td>40</td>\n",
       "      <td>40 forbes st</td>\n",
       "      <td>closed</td>\n",
       "      <td>enforcement &amp; abandoned vehicles</td>\n",
       "      <td>citizens connect app</td>\n",
       "      <td>1</td>\n",
       "      <td>2130.0</td>\n",
       "    </tr>\n",
       "  </tbody>\n",
       "</table>\n",
       "<p>199193 rows × 7 columns</p>\n",
       "</div>"
      ],
      "text/plain": [
       "       st_num          st_name case_status                            reason  \\\n",
       "0         6-8    6-8 school st      closed  enforcement & abandoned vehicles   \n",
       "1         195     195 south st      closed                        catchbasin   \n",
       "2          34  34 ridgewood st      closed                      notification   \n",
       "3           3      3 school st      closed  enforcement & abandoned vehicles   \n",
       "4          22       22 ward st      closed  enforcement & abandoned vehicles   \n",
       "...       ...              ...         ...                               ...   \n",
       "199188      2   2 newcroft cir        open                        sanitation   \n",
       "199189    638  638 saratoga st      closed                   street cleaning   \n",
       "199190    5-7  5-7 lawrence pl      closed                  code enforcement   \n",
       "199191    305   305 chelsea st      closed                  code enforcement   \n",
       "199192     40     40 forbes st      closed  enforcement & abandoned vehicles   \n",
       "\n",
       "                      source  had_request  zipcode  \n",
       "0       citizens connect app            1   2124.0  \n",
       "1           constituent call            1   2130.0  \n",
       "2           constituent call            1   2122.0  \n",
       "3       citizens connect app            1   2124.0  \n",
       "4       citizens connect app            1   2127.0  \n",
       "...                      ...          ...      ...  \n",
       "199188          self service            1   2126.0  \n",
       "199189      constituent call            1   2128.0  \n",
       "199190  citizens connect app            1   2135.0  \n",
       "199191      constituent call            1   2128.0  \n",
       "199192  citizens connect app            1   2130.0  \n",
       "\n",
       "[199193 rows x 7 columns]"
      ]
     },
     "execution_count": 85,
     "metadata": {},
     "output_type": "execute_result"
    }
   ],
   "source": [
    "requests_df"
   ]
  },
  {
   "cell_type": "markdown",
   "metadata": {},
   "source": [
    "# Save Clean DataFrames"
   ]
  },
  {
   "cell_type": "code",
   "execution_count": 86,
   "metadata": {
    "ExecuteTime": {
     "end_time": "2020-06-04T17:35:39.319540Z",
     "start_time": "2020-06-04T17:35:38.615742Z"
    }
   },
   "outputs": [],
   "source": [
    "# data.to_csv(\"../data/clean-data/data-clean.csv\")\n",
    "# pw_df.to_csv(\"../data/clean-data/pw_df-clean.csv\")\n",
    "# fire_df.to_csv(\"../data/clean-data/fire_df-clean.csv\")\n",
    "requests_df.to_csv(\"../data/clean-data/requests_df-clean.csv\")"
   ]
  }
 ],
 "metadata": {
  "kernelspec": {
   "display_name": "Python 3",
   "language": "python",
   "name": "python3"
  },
  "language_info": {
   "codemirror_mode": {
    "name": "ipython",
    "version": 3
   },
   "file_extension": ".py",
   "mimetype": "text/x-python",
   "name": "python",
   "nbconvert_exporter": "python",
   "pygments_lexer": "ipython3",
   "version": "3.7.6"
  },
  "toc": {
   "base_numbering": 1,
   "nav_menu": {},
   "number_sections": true,
   "sideBar": true,
   "skip_h1_title": false,
   "title_cell": "Table of Contents",
   "title_sidebar": "Contents",
   "toc_cell": false,
   "toc_position": {},
   "toc_section_display": true,
   "toc_window_display": false
  }
 },
 "nbformat": 4,
 "nbformat_minor": 4
}
