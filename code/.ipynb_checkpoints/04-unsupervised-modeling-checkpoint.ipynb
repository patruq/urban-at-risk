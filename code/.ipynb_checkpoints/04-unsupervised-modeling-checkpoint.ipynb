{
 "cells": [
  {
   "cell_type": "code",
   "execution_count": 9,
   "metadata": {
    "ExecuteTime": {
     "end_time": "2020-06-06T23:04:34.455211Z",
     "start_time": "2020-06-06T23:04:34.446978Z"
    }
   },
   "outputs": [],
   "source": [
    "# STANDARD LIBRARIES\n",
    "import pandas as pd\n",
    "import numpy as np\n",
    "import math\n",
    "import pickle\n",
    "\n",
    "# VISUALS\n",
    "import matplotlib.pyplot as plt\n",
    "import matplotlib.gridspec as gridspec\n",
    "from matplotlib.colors import ListedColormap\n",
    "import seaborn as sns\n",
    "import mglearn\n",
    "\n",
    "# FEATURE ENGINEERING AND PREPROCESSING\n",
    "from sklearn.preprocessing import StandardScaler, normalize\n",
    "from sklearn.pipeline import Pipeline\n",
    "from sklearn.model_selection import GridSearchCV, train_test_split\n",
    "from sklearn.neighbors import NearestNeighbors, NearestCentroid\n",
    "from sklearn import metrics, neighbors\n",
    "\n",
    "# MODELING\n",
    "from sklearn.cluster import DBSCAN, OPTICS, cluster_optics_dbscan, Birch\n",
    "\n",
    "# METRICS\n",
    "from sklearn.metrics import silhouette_score\n",
    "import kneed\n",
    "from kneed import knee_locator, KneeLocator\n",
    "\n",
    "%matplotlib inline"
   ]
  },
  {
   "cell_type": "markdown",
   "metadata": {
    "heading_collapsed": true
   },
   "source": [
    "# Read Files"
   ]
  },
  {
   "cell_type": "code",
   "execution_count": 10,
   "metadata": {
    "ExecuteTime": {
     "end_time": "2020-06-06T23:04:35.369898Z",
     "start_time": "2020-06-06T23:04:34.490781Z"
    },
    "hidden": true
   },
   "outputs": [],
   "source": [
    "main = pd.read_csv(\"../data/clean-data/main-engineered.csv\", low_memory=False)\n",
    "main.drop(columns=\"Unnamed: 0\", inplace=True)"
   ]
  },
  {
   "cell_type": "code",
   "execution_count": 11,
   "metadata": {
    "ExecuteTime": {
     "end_time": "2020-06-06T23:04:35.403933Z",
     "start_time": "2020-06-06T23:04:35.371086Z"
    },
    "hidden": true,
    "scrolled": false
   },
   "outputs": [
    {
     "name": "stdout",
     "output_type": "stream",
     "text": [
      "(97515, 101)\n",
      "0\n"
     ]
    },
    {
     "data": {
      "text/html": [
       "<div>\n",
       "<style scoped>\n",
       "    .dataframe tbody tr th:only-of-type {\n",
       "        vertical-align: middle;\n",
       "    }\n",
       "\n",
       "    .dataframe tbody tr th {\n",
       "        vertical-align: top;\n",
       "    }\n",
       "\n",
       "    .dataframe thead th {\n",
       "        text-align: right;\n",
       "    }\n",
       "</style>\n",
       "<table border=\"1\" class=\"dataframe\">\n",
       "  <thead>\n",
       "    <tr style=\"text-align: right;\">\n",
       "      <th></th>\n",
       "      <th>zip_num_street</th>\n",
       "      <th>sum_land_value_street</th>\n",
       "      <th>sum_bldg_value_street</th>\n",
       "      <th>sum_total_value_street</th>\n",
       "      <th>sum_gross_tax_street</th>\n",
       "      <th>avg_land_value_street</th>\n",
       "      <th>avg_bldg_value_street</th>\n",
       "      <th>avg_total_value_street</th>\n",
       "      <th>avg_gross_tax_street</th>\n",
       "      <th>sum_land_value_zip</th>\n",
       "      <th>...</th>\n",
       "      <th>sum_fire_content_loss_street</th>\n",
       "      <th>sum_fire_content_loss_zip</th>\n",
       "      <th>avg_fire_content_loss_street</th>\n",
       "      <th>avg_fire_content_loss_zip</th>\n",
       "      <th>requests_total_street</th>\n",
       "      <th>requests_total_zip</th>\n",
       "      <th>req_open_status_prop</th>\n",
       "      <th>req_open_status_street</th>\n",
       "      <th>req_open_status_zip</th>\n",
       "      <th>label_zip</th>\n",
       "    </tr>\n",
       "  </thead>\n",
       "  <tbody>\n",
       "    <tr>\n",
       "      <th>0</th>\n",
       "      <td>87 beacon 02108</td>\n",
       "      <td>188299425</td>\n",
       "      <td>1264932993</td>\n",
       "      <td>1453232418</td>\n",
       "      <td>2540703954</td>\n",
       "      <td>399786.464968</td>\n",
       "      <td>2.685633e+06</td>\n",
       "      <td>3.085419e+06</td>\n",
       "      <td>5.394276e+06</td>\n",
       "      <td>1429494339</td>\n",
       "      <td>...</td>\n",
       "      <td>160.0</td>\n",
       "      <td>111200.0</td>\n",
       "      <td>1.15942</td>\n",
       "      <td>126.363636</td>\n",
       "      <td>0.0</td>\n",
       "      <td>0.0</td>\n",
       "      <td>0.0</td>\n",
       "      <td>0.0</td>\n",
       "      <td>0.0</td>\n",
       "      <td>1</td>\n",
       "    </tr>\n",
       "    <tr>\n",
       "      <th>1</th>\n",
       "      <td>88 beacon 02108</td>\n",
       "      <td>188299425</td>\n",
       "      <td>1264932993</td>\n",
       "      <td>1453232418</td>\n",
       "      <td>2540703954</td>\n",
       "      <td>399786.464968</td>\n",
       "      <td>2.685633e+06</td>\n",
       "      <td>3.085419e+06</td>\n",
       "      <td>5.394276e+06</td>\n",
       "      <td>1429494339</td>\n",
       "      <td>...</td>\n",
       "      <td>0.0</td>\n",
       "      <td>0.0</td>\n",
       "      <td>0.00000</td>\n",
       "      <td>0.000000</td>\n",
       "      <td>0.0</td>\n",
       "      <td>0.0</td>\n",
       "      <td>0.0</td>\n",
       "      <td>0.0</td>\n",
       "      <td>0.0</td>\n",
       "      <td>1</td>\n",
       "    </tr>\n",
       "    <tr>\n",
       "      <th>2</th>\n",
       "      <td>89 beacon 02108</td>\n",
       "      <td>188299425</td>\n",
       "      <td>1264932993</td>\n",
       "      <td>1453232418</td>\n",
       "      <td>2540703954</td>\n",
       "      <td>399786.464968</td>\n",
       "      <td>2.685633e+06</td>\n",
       "      <td>3.085419e+06</td>\n",
       "      <td>5.394276e+06</td>\n",
       "      <td>1429494339</td>\n",
       "      <td>...</td>\n",
       "      <td>160.0</td>\n",
       "      <td>111200.0</td>\n",
       "      <td>1.15942</td>\n",
       "      <td>126.363636</td>\n",
       "      <td>0.0</td>\n",
       "      <td>0.0</td>\n",
       "      <td>0.0</td>\n",
       "      <td>0.0</td>\n",
       "      <td>0.0</td>\n",
       "      <td>1</td>\n",
       "    </tr>\n",
       "    <tr>\n",
       "      <th>3</th>\n",
       "      <td>90 beacon 02108</td>\n",
       "      <td>188299425</td>\n",
       "      <td>1264932993</td>\n",
       "      <td>1453232418</td>\n",
       "      <td>2540703954</td>\n",
       "      <td>399786.464968</td>\n",
       "      <td>2.685633e+06</td>\n",
       "      <td>3.085419e+06</td>\n",
       "      <td>5.394276e+06</td>\n",
       "      <td>1429494339</td>\n",
       "      <td>...</td>\n",
       "      <td>0.0</td>\n",
       "      <td>0.0</td>\n",
       "      <td>0.00000</td>\n",
       "      <td>0.000000</td>\n",
       "      <td>0.0</td>\n",
       "      <td>0.0</td>\n",
       "      <td>0.0</td>\n",
       "      <td>0.0</td>\n",
       "      <td>0.0</td>\n",
       "      <td>1</td>\n",
       "    </tr>\n",
       "    <tr>\n",
       "      <th>4</th>\n",
       "      <td>91 beacon 02108</td>\n",
       "      <td>188299425</td>\n",
       "      <td>1264932993</td>\n",
       "      <td>1453232418</td>\n",
       "      <td>2540703954</td>\n",
       "      <td>399786.464968</td>\n",
       "      <td>2.685633e+06</td>\n",
       "      <td>3.085419e+06</td>\n",
       "      <td>5.394276e+06</td>\n",
       "      <td>1429494339</td>\n",
       "      <td>...</td>\n",
       "      <td>160.0</td>\n",
       "      <td>111200.0</td>\n",
       "      <td>1.15942</td>\n",
       "      <td>126.363636</td>\n",
       "      <td>0.0</td>\n",
       "      <td>0.0</td>\n",
       "      <td>0.0</td>\n",
       "      <td>0.0</td>\n",
       "      <td>0.0</td>\n",
       "      <td>1</td>\n",
       "    </tr>\n",
       "  </tbody>\n",
       "</table>\n",
       "<p>5 rows × 101 columns</p>\n",
       "</div>"
      ],
      "text/plain": [
       "    zip_num_street  sum_land_value_street  sum_bldg_value_street  \\\n",
       "0  87 beacon 02108              188299425             1264932993   \n",
       "1  88 beacon 02108              188299425             1264932993   \n",
       "2  89 beacon 02108              188299425             1264932993   \n",
       "3  90 beacon 02108              188299425             1264932993   \n",
       "4  91 beacon 02108              188299425             1264932993   \n",
       "\n",
       "   sum_total_value_street  sum_gross_tax_street  avg_land_value_street  \\\n",
       "0              1453232418            2540703954          399786.464968   \n",
       "1              1453232418            2540703954          399786.464968   \n",
       "2              1453232418            2540703954          399786.464968   \n",
       "3              1453232418            2540703954          399786.464968   \n",
       "4              1453232418            2540703954          399786.464968   \n",
       "\n",
       "   avg_bldg_value_street  avg_total_value_street  avg_gross_tax_street  \\\n",
       "0           2.685633e+06            3.085419e+06          5.394276e+06   \n",
       "1           2.685633e+06            3.085419e+06          5.394276e+06   \n",
       "2           2.685633e+06            3.085419e+06          5.394276e+06   \n",
       "3           2.685633e+06            3.085419e+06          5.394276e+06   \n",
       "4           2.685633e+06            3.085419e+06          5.394276e+06   \n",
       "\n",
       "   sum_land_value_zip  ...  sum_fire_content_loss_street  \\\n",
       "0          1429494339  ...                         160.0   \n",
       "1          1429494339  ...                           0.0   \n",
       "2          1429494339  ...                         160.0   \n",
       "3          1429494339  ...                           0.0   \n",
       "4          1429494339  ...                         160.0   \n",
       "\n",
       "   sum_fire_content_loss_zip  avg_fire_content_loss_street  \\\n",
       "0                   111200.0                       1.15942   \n",
       "1                        0.0                       0.00000   \n",
       "2                   111200.0                       1.15942   \n",
       "3                        0.0                       0.00000   \n",
       "4                   111200.0                       1.15942   \n",
       "\n",
       "   avg_fire_content_loss_zip  requests_total_street  requests_total_zip  \\\n",
       "0                 126.363636                    0.0                 0.0   \n",
       "1                   0.000000                    0.0                 0.0   \n",
       "2                 126.363636                    0.0                 0.0   \n",
       "3                   0.000000                    0.0                 0.0   \n",
       "4                 126.363636                    0.0                 0.0   \n",
       "\n",
       "   req_open_status_prop  req_open_status_street  req_open_status_zip  \\\n",
       "0                   0.0                     0.0                  0.0   \n",
       "1                   0.0                     0.0                  0.0   \n",
       "2                   0.0                     0.0                  0.0   \n",
       "3                   0.0                     0.0                  0.0   \n",
       "4                   0.0                     0.0                  0.0   \n",
       "\n",
       "   label_zip  \n",
       "0          1  \n",
       "1          1  \n",
       "2          1  \n",
       "3          1  \n",
       "4          1  \n",
       "\n",
       "[5 rows x 101 columns]"
      ]
     },
     "execution_count": 11,
     "metadata": {},
     "output_type": "execute_result"
    }
   ],
   "source": [
    "print(main.shape)\n",
    "print(main.isna().sum().sum())\n",
    "main.head()"
   ]
  },
  {
   "cell_type": "code",
   "execution_count": 12,
   "metadata": {
    "ExecuteTime": {
     "end_time": "2020-06-06T23:04:35.437488Z",
     "start_time": "2020-06-06T23:04:35.405066Z"
    },
    "hidden": true
   },
   "outputs": [
    {
     "data": {
      "text/plain": [
       "34"
      ]
     },
     "execution_count": 12,
     "metadata": {},
     "output_type": "execute_result"
    }
   ],
   "source": [
    "main[\"label_zip\"].nunique()"
   ]
  },
  {
   "cell_type": "markdown",
   "metadata": {
    "heading_collapsed": true
   },
   "source": [
    "# Features and Preprocessing"
   ]
  },
  {
   "cell_type": "code",
   "execution_count": 13,
   "metadata": {
    "ExecuteTime": {
     "end_time": "2020-06-06T23:04:35.775667Z",
     "start_time": "2020-06-06T23:04:35.438898Z"
    },
    "hidden": true
   },
   "outputs": [],
   "source": [
    "#=============================================================\n",
    "X = main.drop(columns=[\n",
    "    \"label_zip\",\n",
    "#     \"zip_street\",\n",
    "    \"zip_num_street\"\n",
    "])\n",
    "y = main[\"label_zip\"]\n",
    "\n",
    "#=============================================================\n",
    "# CLUSTER ON THE ENTIRE DF\n",
    "# Z = main.drop(columns=[\n",
    "#     \"label_zip\",\n",
    "#     \"label_street\",\n",
    "#     \"zipcode\",\n",
    "#     \"zip_street\",\n",
    "#     \"zip_num_street\"\n",
    "# ])\n",
    "ss = StandardScaler()\n",
    "Z = ss.fit_transform(X)\n",
    "# NORMALIZE TO FOLLOW A GAUSSIAN DIST\n",
    "# Z = normalize(Z)\n",
    "\n",
    "#=============================================================\n",
    "X_train, X_test, y_train, y_test = train_test_split(X, y,\n",
    "                                                    random_state=42)\n",
    "Z_train = ss.fit_transform(X_train)\n",
    "Z_test = ss.transform(X_test)\n",
    "\n",
    "#=============================================================\n",
    "# CREATE SUBSET GROUPS TO CLUSTER ON\n",
    "# prop_cols = [col for col in main.columns if \"pw_\" in col]\n",
    "# pw_cols = [col for col in main.columns if \"pw_\" in col]\n",
    "# fire_cols = [col for col in main.columns if \"fire_\" in col]\n",
    "# req_cols = [col for col in main.columns if \"req_\" in col]\n",
    "#=============================================================\n",
    "\n",
    "# PW VIOLATIONS\n",
    "# Z_pw = main[pw_cols].copy()\n",
    "# Z_pw[\"label_zip\"] = main[\"label_zip\"].copy()\n",
    "    \n",
    "# ss = StandardScaler()\n",
    "# Z_pw = ss.fit_transform(Z_pw)\n",
    "#=============================================================\n",
    "\n",
    "# FIRE INCIDENTS \n",
    "# Z_fire= main[fire_cols].copy()\n",
    "# Z_fire[\"label_zip\"] = main[\"label_zip\"].copy()\n",
    "    \n",
    "# ss = StandardScaler()\n",
    "# Z_fire= ss.fit_transform(Z_fire)\n",
    "#============================================================="
   ]
  },
  {
   "cell_type": "code",
   "execution_count": 14,
   "metadata": {
    "ExecuteTime": {
     "end_time": "2020-06-06T23:04:36.900552Z",
     "start_time": "2020-06-06T23:04:35.776520Z"
    },
    "hidden": true,
    "scrolled": true
   },
   "outputs": [
    {
     "data": {
      "image/png": "[encoded data removed]",
      "text/plain": [
       "<Figure size 432x288 with 1 Axes>"
      ]
     },
     "metadata": {
      "needs_background": "light"
     },
     "output_type": "display_data"
    }
   ],
   "source": [
    "# CHECK THE DIST OF VARIABLE Z\n",
    "plt.hist(Z);"
   ]
  },
  {
   "cell_type": "code",
   "execution_count": 17,
   "metadata": {
    "ExecuteTime": {
     "end_time": "2020-06-06T23:05:08.185424Z",
     "start_time": "2020-06-06T23:05:07.946403Z"
    },
    "hidden": true
   },
   "outputs": [
    {
     "data": {
      "text/plain": [
       "<matplotlib.collections.PathCollection at 0x7fe338914390>"
      ]
     },
     "execution_count": 17,
     "metadata": {},
     "output_type": "execute_result"
    },
    {
     "data": {
      "image/png": "[encoded data removed]",
      "text/plain": [
       "<Figure size 432x288 with 1 Axes>"
      ]
     },
     "metadata": {
      "needs_background": "light"
     },
     "output_type": "display_data"
    }
   ],
   "source": [
    "plt.scatter(X[\"sum_bldg_value_street\"], X[\"sum_fire_content_loss_zip\"])"
   ]
  },
  {
   "cell_type": "markdown",
   "metadata": {},
   "source": [
    "# Functions"
   ]
  },
  {
   "cell_type": "code",
   "execution_count": null,
   "metadata": {
    "ExecuteTime": {
     "end_time": "2020-06-06T23:04:36.925549Z",
     "start_time": "2020-06-06T23:04:34.501Z"
    }
   },
   "outputs": [],
   "source": [
    "# SMALL VALUE OF NUMBER OF NEIGHBORS INCREASES INFLUENCE OF NOISE\n",
    "# LARGE VALUE OFNUM NEIGHBORS MAKES IT HARDER TO COMPUTER.\n",
    "# TRY k=sqrt(n)? # https://discuss.analyticsvidhya.com/t/how-to-choose-the-value-of-k-in-knn-algorithm/2606\n",
    "\n",
    "def nearest_nb(x, max_num_nb):\n",
    "    \n",
    "    metrics_list = []\n",
    "    \n",
    "    for num in range(1, max_nb+1):\n",
    "        nb = NearestNeighbors(n_neighbors=num, algorithm=\"auto\", metric=\"euclidean\").fit(x)\n",
    "        distances, indices = nb.kneighbors(x)\n",
    "        \n",
    "    \n",
    "    return distances, indices\n",
    "# https://scikit-learn.org/stable/modules/neighbors.html#unsupervised-nearest-neighbors"
   ]
  },
  {
   "cell_type": "markdown",
   "metadata": {},
   "source": [
    "# DBSCAN"
   ]
  },
  {
   "cell_type": "markdown",
   "metadata": {},
   "source": [
    "**Limitations**\n",
    "\n",
    "Implicit assumptions in this approach:\n",
    "\n",
    "- Densities across all the clusters are the same.\n",
    "- Cluster sizes or standard deviations are the same."
   ]
  },
  {
   "cell_type": "markdown",
   "metadata": {},
   "source": [
    "### Distance"
   ]
  },
  {
   "cell_type": "code",
   "execution_count": null,
   "metadata": {},
   "outputs": [],
   "source": []
  },
  {
   "cell_type": "code",
   "execution_count": null,
   "metadata": {
    "ExecuteTime": {
     "end_time": "2020-06-06T23:04:36.926060Z",
     "start_time": "2020-06-06T23:04:34.503Z"
    }
   },
   "outputs": [],
   "source": [
    "nearest_neighbors = NearestNeighbors(n_neighbors=11)\n",
    "neighbors = nearest_neighbors.fit(Z)\n",
    "distances, indices = neighbors.kneighbors(Z)\n",
    "distances = np.sort(distances[:,10], axis=0)\n",
    "plt.xlabel(\"Points\")\n",
    "plt.ylabel(\"Distance\")\n",
    "plt.savefig(\"Distance_curve.png\", dpi=300)"
   ]
  },
  {
   "cell_type": "code",
   "execution_count": null,
   "metadata": {
    "ExecuteTime": {
     "end_time": "2020-06-06T23:04:36.926543Z",
     "start_time": "2020-06-06T23:04:34.504Z"
    }
   },
   "outputs": [],
   "source": [
    "i = np.arange(len(distances))\n",
    "knee = KneeLocator(i, distances, S=1, curve='convex', direction='increasing', interp_method='polynomial')\n",
    "fig = plt.figure(figsize=(5, 5))\n",
    "knee.plot_knee()\n",
    "plt.xlabel(\"Points\")\n",
    "plt.ylabel(\"Distance\")\n",
    "plt.savefig(\"../assets/images/Distance_curve_knee.png\", dpi=300)\n",
    "\n",
    "knee_point = distances[knee.knee]\n",
    "print(distances[knee.knee])\n",
    "# https://towardsdatascience.com/how-to-use-dbscan-effectively-ed212c02e62"
   ]
  },
  {
   "cell_type": "code",
   "execution_count": null,
   "metadata": {
    "ExecuteTime": {
     "end_time": "2020-06-06T23:04:36.927136Z",
     "start_time": "2020-06-06T23:04:34.507Z"
    }
   },
   "outputs": [],
   "source": [
    "# COMMENT/UNCOMMENT OUT FOR DISTANCES\n",
    "#=========================\n",
    "# CALL FUNCTION TO FIND NEAREST NEIGHBORS (nearest_nb)\n",
    "# distances_5, indices_5 = nearest_nb(Z)\n",
    "###############\n",
    "# RUN THE ALG MANUALLY\n",
    "# nb_2 = NearestNeighbors(n_neighbors=2, algorithm=\"auto\", metric=\"euclidean\").fit(Z)\n",
    "# distances_2, indices_2 = nb_2.kneighbors(Z)\n",
    "###############\n",
    "# nb_5 = NearestNeighbors(n_neighbors=5, algorithm=\"auto\", metric=\"euclidean\").fit(Z)\n",
    "# distances_5, indices_5 = nb_5.kneighbors(Z)\n",
    "# distances_5.mean()\n",
    "\n",
    "#=========================\n",
    "# eps_dist = calculate_kn_distance(Z,4)\n",
    "# filename = \"../assets/variables/main-nb_2\"\n",
    "# outfile = open(filename, \"wb\")\n",
    "# pickle.dump(nb_2, outfile)\n",
    "# outfile.close()\n",
    "\n",
    "#=========================\n",
    "# SAVE THE DISTANCES AND INDICES\n",
    "# filename = \"../assets/variables/main-nb_2\"\n",
    "# outfile = open(filename, \"wb\")\n",
    "# pickle.dump(nb_2, outfile)\n",
    "# outfile.close()\n",
    "###############\n",
    "# filename = \"../assets/variables/main-nb-distances_2\"\n",
    "# outfile = open(filename, \"wb\")\n",
    "# pickle.dump(distances_2, outfile)\n",
    "# outfile.close()\n",
    "###############\n",
    "# filename = \"../assets/variables/main-nb-indices_2\"\n",
    "# outfile = open(filename, \"wb\")\n",
    "# pickle.dump(indices_2, outfile)\n",
    "# outfile.close()\n",
    "###############\n",
    "# filename = \"../assets/variables/main-nb_5\"\n",
    "# outfile = open(filename, \"wb\")\n",
    "# pickle.dump(nb_5, outfile)\n",
    "# outfile.close()\n",
    "###############\n",
    "# filename = \"../assets/variables/main-nb-distances_5\"\n",
    "# outfile = open(filename, \"wb\")\n",
    "# pickle.dump(distances_5, outfile)\n",
    "# outfile.close()\n",
    "###############\n",
    "# filename = \"../assets/variables/main-nb-indices_5\"\n",
    "# outfile = open(filename, \"wb\")\n",
    "# pickle.dump(indices_5, outfile)\n",
    "# outfile.close()\n",
    "\n",
    "#=========================\n",
    "# eps_dist = calculate_kn_distance(Z,4)\n",
    "# filename = \"../assets/variables/eps_dist-4\"\n",
    "# outfile = open(filename, \"wb\")\n",
    "# pickle.dump(eps_dist-4, outfile)\n",
    "# outfile.close()\n",
    "\n",
    "#=========================\n",
    "# READ IN THE DISTANCE AND INDICES FILES SAVED ABOVE\n",
    "# distances_2 = pd.read_pickle(\"../assets/variables/main-nb-distances_2\")\n",
    "# indices_2 = pd.read_pickle(\"../assets/variables/main-nb-indices_2\")\n",
    "# nb_2 = pd.read_pickle(\"../assets/variables/main-nb_2\")\n",
    "#################\n",
    "# distances_5 = pd.read_pickle(\"../assets/variables/main-nb-distances_5\")\n",
    "# indices_5 = pd.read_pickle(\"../assets/variables/main-nb-indices_5\")\n",
    "# nb_5 = pd.read_pickle(\"../assets/variables/main-nb_5\")\n",
    "\n",
    "#=========================\n",
    "# FOR nearest_nb FUNCTION:\n",
    "\n",
    "# BASIC PLOT OF KNEE POINT\n",
    "# PRINT SHAPE OF DISTANCES\n",
    "# print(distances_2.shape)\n",
    "\n",
    "# distances_2 = np.sort(distances_2, axis=0)\n",
    "# distances_5 = distances_5[:, 1]\n",
    "# plt.figure(figsize=(12, 8))\n",
    "# plt.plot(distances_2);\n",
    "#################\n",
    "# https://towardsdatascience.com/how-to-use-dbscan-effectively-ed212c02e62\n",
    "# THIS PLOT SHOWS THE POINT OF MAX DISTANCE BETWEEN 2 POINTS\n",
    "    # IT IS THE POINT OF 'GREATEST DEPARTURE'\n",
    "# plt.figure(figsize=(30, 20))\n",
    "# i = np.arange(len(distances_5))\n",
    "# knee = KneeLocator(i, distances_5, S=1, curve='convex', direction='increasing', interp_method='polynomial')\n",
    "# fig = plt.figure(figsize=(5, 5))\n",
    "# knee.plot_knee()\n",
    "# plt.xlabel(\"Points\")\n",
    "# plt.ylabel(\"Distance\");\n",
    "# print(distances_5[knee.knee])\n",
    "# ## SAVE THE MAX POINT FOR USE IN DBSCAN CLUSTERING\n",
    "# knee_point_5 = distances_5[knee.knee]\n",
    "\n",
    "#========================="
   ]
  },
  {
   "cell_type": "markdown",
   "metadata": {
    "heading_collapsed": true
   },
   "source": [
    "### DBSCAN"
   ]
  },
  {
   "cell_type": "code",
   "execution_count": null,
   "metadata": {
    "ExecuteTime": {
     "end_time": "2020-06-06T23:04:36.927644Z",
     "start_time": "2020-06-06T23:04:34.508Z"
    },
    "hidden": true
   },
   "outputs": [],
   "source": [
    "# RULE OF THUMB: min_samples SHOULD BE SET TO MIN NUM OF FEATURES\n",
    "# https://towardsdatascience.com/cluster-analysis-create-visualize-and-interpret-customer-segments-474e55d00ebb\n",
    "\n",
    "# Provide a value for epsilon which defines the maximum distance between two points\n",
    "# Find a suitable value for epsilon by calculating the distance to \n",
    "    # the nearest n points for each point, sorting and plotting the results\n",
    "# https://towardsdatascience.com/machine-learning-clustering-dbscan-determine-the-optimal-value-for-epsilon-eps-python-example-3100091cfbc\n",
    "\n",
    "# too large clusters (decrease epsilon) or too much noise (increase epsilon).\n",
    "#==========================\n",
    "# CLUSTER ON THE ENTIRE MAIN DF\n",
    "# db_knee = DBSCAN(eps=knee_point,\n",
    "#                  min_samples=main.shape[1]+1)\n",
    "# db_knee.fit(Z)\n",
    "\n",
    "# dbscan_03 = DBSCAN(eps=0.3,\n",
    "#                    min_samples=main.shape[1])\n",
    "# dbscan_03.fit(Z)\n",
    "\n",
    "# dbscan = DBSCAN(eps=0.5,\n",
    "#                 min_samples=main.shape[1])\n",
    "# dbscan.fit(Z)\n",
    "\n",
    "# dbscan_06 = DBSCAN(eps=0.6,\n",
    "#                    min_samples=main.shape[1])\n",
    "# dbscan_06.fit(Z)\n",
    "\n",
    "# dbscan_065 = DBSCAN(eps=0.65,\n",
    "#                    min_samples=main.shape[1])\n",
    "# dbscan_065.fit(Z)\n",
    "#==========================\n",
    "# SAVE FITTED MAIN - DBSCAN\n",
    "filename = \"../assets/models/dbscan-fitted-knee\"\n",
    "outfile = open(filename, \"wb\")\n",
    "pickle.dump(db_knee, outfile)\n",
    "outfile.close()\n",
    "\n",
    "# filename = \"../assets/models/dbscan-fitted_03\"\n",
    "# outfile = open(filename, \"wb\")\n",
    "# pickle.dump(dbscan_03, outfile)\n",
    "# outfile.close()\n",
    "\n",
    "# filename = \"../assets/models/dbscan-fitted\"\n",
    "# outfile = open(filename, \"wb\")\n",
    "# pickle.dump(dbscan, outfile)\n",
    "# outfile.close()\n",
    "\n",
    "# filename = \"../assets/models/dbscan-fitted_06\"\n",
    "# outfile = open(filename, \"wb\")\n",
    "# pickle.dump(dbscan_06, outfile)\n",
    "# outfile.close()\n",
    "\n",
    "# filename = \"../assets/models/dbscan-fitted_065\"\n",
    "# outfile = open(filename, \"wb\")\n",
    "# pickle.dump(dbscan_065, outfile)\n",
    "# outfile.close()\n",
    "#==========================\n",
    "# READ IN THE FITTED DBSCAN FILE\n",
    "# db_knee = pd.read_pickle(\"../assets/models/dbscan-fitted-knee\")\n",
    "# db_03 = pd.read_pickle(\"../assets/models/dbscan-fitted_03\")\n",
    "# db_05 = pd.read_pickle(\"../assets/models/dbscan-fitted\")\n",
    "# db_06 = pd.read_pickle(\"../assets/models/dbscan-fitted_06\")\n",
    "# db_065 = pd.read_pickle(\"../assets/models/dbscan-fitted_065\")\n",
    "#=========================="
   ]
  },
  {
   "cell_type": "code",
   "execution_count": null,
   "metadata": {
    "hidden": true
   },
   "outputs": [],
   "source": []
  },
  {
   "cell_type": "markdown",
   "metadata": {
    "heading_collapsed": true
   },
   "source": [
    "### Epsilon == Knee Point"
   ]
  },
  {
   "cell_type": "markdown",
   "metadata": {
    "hidden": true
   },
   "source": [
    "**Visualize DBSCAN**"
   ]
  },
  {
   "cell_type": "markdown",
   "metadata": {
    "hidden": true
   },
   "source": [
    "A lower value of `eps` seems to create more clusters and have more data labeled as noise. Higher values of `eps` will most likely be more desirable."
   ]
  },
  {
   "cell_type": "code",
   "execution_count": null,
   "metadata": {
    "ExecuteTime": {
     "end_time": "2020-06-06T23:04:36.928042Z",
     "start_time": "2020-06-06T23:04:34.511Z"
    },
    "hidden": true
   },
   "outputs": [],
   "source": [
    "# The labels_ property contains the list of clusters and their respective points.\n",
    "labels = db_knee.labels_\n",
    "# print(labels[91_000:91_010])\n",
    "\n",
    "# db = dbscan\n",
    "labels_true = y\n",
    "\n",
    "# https://scikit-learn.org/stable/auto_examples/cluster/plot_dbscan.html\n",
    "core_samples_mask = np.zeros_like(db_knee.labels_, dtype=bool)\n",
    "core_samples_mask[db_knee.core_sample_indices_] = True\n",
    "# labels = db.labels_\n",
    "\n",
    "# Number of clusters in labels, ignoring noise if present.\n",
    "n_clusters_ = len(set(labels)) - (1 if -1 in labels else 0)\n",
    "n_noise_ = list(labels).count(-1)\n",
    "\n",
    "print('Estimated number of clusters: %d' % n_clusters_)\n",
    "print('Estimated number of noise points: %d' % n_noise_)\n",
    "print(\"Homogeneity: %0.3f\" % metrics.homogeneity_score(labels_true, labels)) # MEASURES IN ALL IN 1 CLASS\n",
    "print(\"Completeness: %0.3f\" % metrics.completeness_score(labels_true, labels)) # MEMBERS OF GIVEN CLASS IN SAME CLUSTER\n",
    "print(\"V-measure: %0.3f\" % metrics.v_measure_score(labels_true, labels)) # THE HARMONIC MEAN BTWN HOMOG AND COMPLETENESS SCORES\n",
    "print(\"Adjusted Rand Index: %0.3f\"\n",
    "      % metrics.adjusted_rand_score(labels_true, labels)) # 1.0 == A PERFECT MATCH FOR DATA IN A GIVEN CLUSTER\n",
    "print(\"Adjusted Mutual Information: %0.3f\"\n",
    "      % metrics.adjusted_mutual_info_score(labels_true, labels))\n",
    "print(\"Silhouette Coefficient: %0.3f\"\n",
    "      % metrics.silhouette_score(X, labels)) # INTRA-CLUSTER MEAN DISTANCE AND MEAN NEAREST CLUSTER\n",
    "\n",
    "# CAN ALSO USE X_train.iloc[:,:]\n",
    "# X = np.array(X)\n",
    "\n",
    "# Black removed and is used for noise instead.\n",
    "unique_labels = set(labels)\n",
    "colors = [plt.cm.Spectral(each)\n",
    "          for each in np.linspace(0, 1, len(unique_labels))]\n",
    "for k, col in zip(unique_labels, colors):\n",
    "    if k == -1:\n",
    "        # Black used for noise.\n",
    "        col = [0, 0, 0, 1]\n",
    "\n",
    "    class_member_mask = (labels == k)\n",
    "\n",
    "    xy = Z[class_member_mask & core_samples_mask]\n",
    "    plt.plot(xy[:, 0], xy[:, 1], 'o', markerfacecolor=tuple(col),\n",
    "             markeredgecolor='k', markersize=14)\n",
    "\n",
    "    xy = Z[class_member_mask & ~core_samples_mask]\n",
    "    plt.plot(xy[:, 0], xy[:, 1], 'o', markerfacecolor=tuple(col),\n",
    "             markeredgecolor='k', markersize=6)\n",
    "\n",
    "plt.title('Estimated number of clusters: %d' % n_clusters_)\n",
    "plt.show()"
   ]
  },
  {
   "cell_type": "markdown",
   "metadata": {
    "heading_collapsed": true
   },
   "source": [
    "### Epsilon 0.3"
   ]
  },
  {
   "cell_type": "markdown",
   "metadata": {
    "hidden": true
   },
   "source": [
    "**Visualize DBSCAN**"
   ]
  },
  {
   "cell_type": "markdown",
   "metadata": {
    "hidden": true
   },
   "source": [
    "A lower value of `eps` seems to create more clusters and have more data labeled as noise. Higher values of `eps` will most likely be more desirable."
   ]
  },
  {
   "cell_type": "code",
   "execution_count": null,
   "metadata": {
    "ExecuteTime": {
     "end_time": "2020-06-06T23:04:36.928511Z",
     "start_time": "2020-06-06T23:04:34.514Z"
    },
    "hidden": true
   },
   "outputs": [],
   "source": [
    "# The labels_ property contains the list of clusters and their respective points.\n",
    "labels = db_03.labels_\n",
    "# print(labels[91_000:91_010])\n",
    "\n",
    "# db = dbscan\n",
    "labels_true = y\n",
    "\n",
    "# https://scikit-learn.org/stable/auto_examples/cluster/plot_dbscan.html\n",
    "core_samples_mask = np.zeros_like(db_03.labels_, dtype=bool)\n",
    "core_samples_mask[db_03.core_sample_indices_] = True\n",
    "# labels = db.labels_\n",
    "\n",
    "# Number of clusters in labels, ignoring noise if present.\n",
    "n_clusters_ = len(set(labels)) - (1 if -1 in labels else 0)\n",
    "n_noise_ = list(labels).count(-1)\n",
    "\n",
    "print('Estimated number of clusters: %d' % n_clusters_)\n",
    "print('Estimated number of noise points: %d' % n_noise_)\n",
    "print(\"Homogeneity: %0.3f\" % metrics.homogeneity_score(labels_true, labels)) # MEASURES IN ALL IN 1 CLASS\n",
    "print(\"Completeness: %0.3f\" % metrics.completeness_score(labels_true, labels)) # MEMBERS OF GIVEN CLASS IN SAME CLUSTER\n",
    "print(\"V-measure: %0.3f\" % metrics.v_measure_score(labels_true, labels)) # THE HARMONIC MEAN BTWN HOMOG AND COMPLETENESS SCORES\n",
    "print(\"Adjusted Rand Index: %0.3f\"\n",
    "      % metrics.adjusted_rand_score(labels_true, labels)) # 1.0 == A PERFECT MATCH FOR DATA IN A GIVEN CLUSTER\n",
    "print(\"Adjusted Mutual Information: %0.3f\"\n",
    "      % metrics.adjusted_mutual_info_score(labels_true, labels))\n",
    "print(\"Silhouette Coefficient: %0.3f\"\n",
    "      % metrics.silhouette_score(X, labels)) # INTRA-CLUSTER MEAN DISTANCE AND MEAN NEAREST CLUSTER\n",
    "\n",
    "# CAN ALSO USE X_train.iloc[:,:]\n",
    "# X = np.array(X)\n",
    "\n",
    "# Black removed and is used for noise instead.\n",
    "unique_labels = set(labels)\n",
    "colors = [plt.cm.Spectral(each)\n",
    "          for each in np.linspace(0, 1, len(unique_labels))]\n",
    "for k, col in zip(unique_labels, colors):\n",
    "    if k == -1:\n",
    "        # Black used for noise.\n",
    "        col = [0, 0, 0, 1]\n",
    "\n",
    "    class_member_mask = (labels == k)\n",
    "\n",
    "    xy = Z[class_member_mask & core_samples_mask]\n",
    "    plt.plot(xy[:, 0], xy[:, 1], 'o', markerfacecolor=tuple(col),\n",
    "             markeredgecolor='k', markersize=14)\n",
    "\n",
    "    xy = Z[class_member_mask & ~core_samples_mask]\n",
    "    plt.plot(xy[:, 0], xy[:, 1], 'o', markerfacecolor=tuple(col),\n",
    "             markeredgecolor='k', markersize=6)\n",
    "\n",
    "plt.title('Estimated number of clusters: %d' % n_clusters_)\n",
    "plt.show()"
   ]
  },
  {
   "cell_type": "markdown",
   "metadata": {
    "heading_collapsed": true
   },
   "source": [
    "### Epsilon 0.5"
   ]
  },
  {
   "cell_type": "markdown",
   "metadata": {
    "hidden": true
   },
   "source": [
    "**Visualize DBSCAN**"
   ]
  },
  {
   "cell_type": "code",
   "execution_count": null,
   "metadata": {
    "ExecuteTime": {
     "end_time": "2020-06-06T23:04:36.928945Z",
     "start_time": "2020-06-06T23:04:34.516Z"
    },
    "hidden": true
   },
   "outputs": [],
   "source": [
    "# The labels_ property contains the list of clusters and their respective points.\n",
    "labels = db_05.labels_\n",
    "# print(labels[91_000:91_010])\n",
    "\n",
    "# db = dbscan\n",
    "labels_true = y\n",
    "\n",
    "# https://scikit-learn.org/stable/auto_examples/cluster/plot_dbscan.html\n",
    "core_samples_mask = np.zeros_like(db_05.labels_, dtype=bool)\n",
    "core_samples_mask[db_05.core_sample_indices_] = True\n",
    "# labels = db.labels_\n",
    "\n",
    "# Number of clusters in labels, ignoring noise if present.\n",
    "n_clusters_ = len(set(labels)) - (1 if -1 in labels else 0)\n",
    "n_noise_ = list(labels).count(-1)\n",
    "\n",
    "print('Estimated number of clusters: %d' % n_clusters_)\n",
    "print('Estimated number of noise points: %d' % n_noise_)\n",
    "print(\"Homogeneity: %0.3f\" % metrics.homogeneity_score(labels_true, labels)) # MEASURES IN ALL IN 1 CLASS\n",
    "print(\"Completeness: %0.3f\" % metrics.completeness_score(labels_true, labels)) # MEMBERS OF GIVEN CLASS IN SAME CLUSTER\n",
    "print(\"V-measure: %0.3f\" % metrics.v_measure_score(labels_true, labels)) # THE HARMONIC MEAN BTWN HOMOG AND COMPLETENESS SCORES\n",
    "print(\"Adjusted Rand Index: %0.3f\"\n",
    "      % metrics.adjusted_rand_score(labels_true, labels)) # 1.0 == A PERFECT MATCH FOR DATA IN A GIVEN CLUSTER\n",
    "print(\"Adjusted Mutual Information: %0.3f\"\n",
    "      % metrics.adjusted_mutual_info_score(labels_true, labels))\n",
    "print(\"Silhouette Coefficient: %0.3f\"\n",
    "      % metrics.silhouette_score(X, labels)) # INTRA-CLUSTER MEAN DISTANCE AND MEAN NEAREST CLUSTER\n",
    "\n",
    "# CAN ALSO USE X_train.iloc[:,:]\n",
    "# X = np.array(X)\n",
    "\n",
    "# Black removed and is used for noise instead.\n",
    "unique_labels = set(labels)\n",
    "colors = [plt.cm.Spectral(each)\n",
    "          for each in np.linspace(0, 1, len(unique_labels))]\n",
    "for k, col in zip(unique_labels, colors):\n",
    "    if k == -1:\n",
    "        # Black used for noise.\n",
    "        col = [0, 0, 0, 1]\n",
    "\n",
    "    class_member_mask = (labels == k)\n",
    "\n",
    "    xy = Z[class_member_mask & core_samples_mask]\n",
    "    plt.plot(xy[:, 0], xy[:, 1], 'o', markerfacecolor=tuple(col),\n",
    "             markeredgecolor='k', markersize=14)\n",
    "\n",
    "    xy = Z[class_member_mask & ~core_samples_mask]\n",
    "    plt.plot(xy[:, 0], xy[:, 1], 'o', markerfacecolor=tuple(col),\n",
    "             markeredgecolor='k', markersize=6)\n",
    "\n",
    "plt.title('Estimated number of clusters: %d' % n_clusters_)\n",
    "plt.show()"
   ]
  },
  {
   "cell_type": "code",
   "execution_count": null,
   "metadata": {
    "ExecuteTime": {
     "end_time": "2020-06-06T23:04:36.929337Z",
     "start_time": "2020-06-06T23:04:34.517Z"
    },
    "hidden": true
   },
   "outputs": [],
   "source": [
    "unique_labels = set(labels)\n",
    "\n",
    "main[\"clusters\"] = labels"
   ]
  },
  {
   "cell_type": "code",
   "execution_count": null,
   "metadata": {
    "ExecuteTime": {
     "end_time": "2020-06-06T23:04:36.929778Z",
     "start_time": "2020-06-06T23:04:34.519Z"
    },
    "hidden": true,
    "scrolled": true
   },
   "outputs": [],
   "source": [
    "# HOW ARE EACH OF THESE SIMILAR TO EACH OTHER, INTRA CLUSTER?\n",
    "# ARE THESE GROUPED BY ZIP?\n",
    "main.loc[main[\"clusters\"] == -1]\n",
    "main.loc[main[\"clusters\"] == -1][\"label_zip\"].value_counts()"
   ]
  },
  {
   "cell_type": "markdown",
   "metadata": {},
   "source": [
    "### Epsilon 0.6"
   ]
  },
  {
   "cell_type": "code",
   "execution_count": null,
   "metadata": {
    "ExecuteTime": {
     "end_time": "2020-06-06T19:53:12.605027Z",
     "start_time": "2020-06-06T19:53:12.601335Z"
    }
   },
   "outputs": [],
   "source": []
  },
  {
   "cell_type": "code",
   "execution_count": null,
   "metadata": {
    "ExecuteTime": {
     "end_time": "2020-06-06T23:04:36.930234Z",
     "start_time": "2020-06-06T23:04:34.522Z"
    },
    "scrolled": false
   },
   "outputs": [],
   "source": [
    "# The labels_ property contains the list of clusters and their respective points.\n",
    "labels = db_06.labels_\n",
    "# print(labels[91_000:91_010])\n",
    "\n",
    "# db = dbscan\n",
    "labels_true = y\n",
    "\n",
    "# https://scikit-learn.org/stable/auto_examples/cluster/plot_dbscan.html\n",
    "core_samples_mask = np.zeros_like(db_06.labels_, dtype=bool)\n",
    "core_samples_mask[db_06.core_sample_indices_] = True\n",
    "# labels = db.labels_\n",
    "\n",
    "# Number of clusters in labels, ignoring noise if present.\n",
    "n_clusters_ = len(set(labels)) - (1 if -1 in labels else 0)\n",
    "n_noise_ = list(labels).count(-1)\n",
    "\n",
    "print('Estimated number of clusters: %d' % n_clusters_)\n",
    "print('Estimated number of noise points: %d' % n_noise_)\n",
    "print(\"Homogeneity: %0.3f\" % metrics.homogeneity_score(labels_true, labels)) # MEASURES IN ALL IN 1 CLASS\n",
    "print(\"Completeness: %0.3f\" % metrics.completeness_score(labels_true, labels)) # MEMBERS OF GIVEN CLASS IN SAME CLUSTER\n",
    "print(\"V-measure: %0.3f\" % metrics.v_measure_score(labels_true, labels)) # THE HARMONIC MEAN BTWN HOMOG AND COMPLETENESS SCORES\n",
    "print(\"Adjusted Rand Index: %0.3f\"\n",
    "      % metrics.adjusted_rand_score(labels_true, labels)) # 1.0 == A PERFECT MATCH FOR DATA IN A GIVEN CLUSTER\n",
    "print(\"Adjusted Mutual Information: %0.3f\"\n",
    "      % metrics.adjusted_mutual_info_score(labels_true, labels))\n",
    "print(\"Silhouette Coefficient: %0.3f\"\n",
    "      % metrics.silhouette_score(X, labels)) # INTRA-CLUSTER MEAN DISTANCE AND MEAN NEAREST CLUSTER\n",
    "\n",
    "# CAN ALSO USE X_train.iloc[:,:]\n",
    "# X = np.array(X)\n",
    "\n",
    "# Black removed and is used for noise instead.\n",
    "unique_labels = set(labels)\n",
    "colors = [plt.cm.Spectral(each)\n",
    "          for each in np.linspace(0, 1, len(unique_labels))]\n",
    "for k, col in zip(unique_labels, colors):\n",
    "    if k == -1:\n",
    "        # Black used for noise.\n",
    "        col = [0, 0, 0, 1]\n",
    "\n",
    "    class_member_mask = (labels == k)\n",
    "\n",
    "    xy = Z[class_member_mask & core_samples_mask]\n",
    "    plt.plot(xy[:, 0], xy[:, 1], 'o', markerfacecolor=tuple(col),\n",
    "             markeredgecolor='k', markersize=14)\n",
    "\n",
    "    xy = Z[class_member_mask & ~core_samples_mask]\n",
    "    plt.plot(xy[:, 0], xy[:, 1], 'o', markerfacecolor=tuple(col),\n",
    "             markeredgecolor='k', markersize=6)\n",
    "\n",
    "plt.title('Estimated number of clusters: %d' % n_clusters_)\n",
    "plt.show()"
   ]
  },
  {
   "cell_type": "markdown",
   "metadata": {},
   "source": [
    "The silhoutte coefficent (`sil coef`) is a metric of the quality of the clustering"
   ]
  },
  {
   "cell_type": "code",
   "execution_count": null,
   "metadata": {
    "ExecuteTime": {
     "end_time": "2020-06-06T23:04:36.930674Z",
     "start_time": "2020-06-06T23:04:34.524Z"
    },
    "scrolled": true
   },
   "outputs": [],
   "source": [
    "mglearn.plots.plot_dbscan()"
   ]
  },
  {
   "cell_type": "markdown",
   "metadata": {
    "heading_collapsed": true
   },
   "source": [
    "### Epsilon 0.65"
   ]
  },
  {
   "cell_type": "code",
   "execution_count": null,
   "metadata": {
    "ExecuteTime": {
     "end_time": "2020-06-06T23:04:36.931088Z",
     "start_time": "2020-06-06T23:04:34.525Z"
    },
    "hidden": true
   },
   "outputs": [],
   "source": [
    "# The labels_ property contains the list of clusters and their respective points.\n",
    "labels = db_065.labels_\n",
    "# print(labels[91_000:91_010])\n",
    "\n",
    "# db = dbscan\n",
    "labels_true = y\n",
    "\n",
    "# https://scikit-learn.org/stable/auto_examples/cluster/plot_dbscan.html\n",
    "core_samples_mask = np.zeros_like(db_065.labels_, dtype=bool)\n",
    "core_samples_mask[db_065.core_sample_indices_] = True\n",
    "# labels = db.labels_\n",
    "\n",
    "# Number of clusters in labels, ignoring noise if present.\n",
    "n_clusters_ = len(set(labels)) - (1 if -1 in labels else 0)\n",
    "n_noise_ = list(labels).count(-1)\n",
    "\n",
    "print('Estimated number of clusters: %d' % n_clusters_)\n",
    "print('Estimated number of noise points: %d' % n_noise_)\n",
    "print(\"Homogeneity: %0.3f\" % metrics.homogeneity_score(labels_true, labels)) # MEASURES IN ALL IN 1 CLASS\n",
    "print(\"Completeness: %0.3f\" % metrics.completeness_score(labels_true, labels)) # MEMBERS OF GIVEN CLASS IN SAME CLUSTER\n",
    "print(\"V-measure: %0.3f\" % metrics.v_measure_score(labels_true, labels)) # THE HARMONIC MEAN BTWN HOMOG AND COMPLETENESS SCORES\n",
    "print(\"Adjusted Rand Index: %0.3f\"\n",
    "      % metrics.adjusted_rand_score(labels_true, labels)) # 1.0 == A PERFECT MATCH FOR DATA IN A GIVEN CLUSTER\n",
    "print(\"Adjusted Mutual Information: %0.3f\"\n",
    "      % metrics.adjusted_mutual_info_score(labels_true, labels))\n",
    "print(\"Silhouette Coefficient: %0.3f\"\n",
    "      % metrics.silhouette_score(X, labels)) # INTRA-CLUSTER MEAN DISTANCE AND MEAN NEAREST CLUSTER\n",
    "\n",
    "# CAN ALSO USE X_train.iloc[:,:]\n",
    "# X = np.array(X)\n",
    "\n",
    "# Black removed and is used for noise instead.\n",
    "unique_labels = set(labels)\n",
    "colors = [plt.cm.Spectral(each)\n",
    "          for each in np.linspace(0, 1, len(unique_labels))]\n",
    "for k, col in zip(unique_labels, colors):\n",
    "    if k == -1:\n",
    "        # Black used for noise.\n",
    "        col = [0, 0, 0, 1]\n",
    "\n",
    "    class_member_mask = (labels == k)\n",
    "\n",
    "    xy = Z[class_member_mask & core_samples_mask]\n",
    "    plt.plot(xy[:, 0], xy[:, 1], 'o', markerfacecolor=tuple(col),\n",
    "             markeredgecolor='k', markersize=14)\n",
    "\n",
    "    xy = Z[class_member_mask & ~core_samples_mask]\n",
    "    plt.plot(xy[:, 0], xy[:, 1], 'o', markerfacecolor=tuple(col),\n",
    "             markeredgecolor='k', markersize=6)\n",
    "\n",
    "plt.title('Estimated number of clusters: %d' % n_clusters_)\n",
    "plt.show()"
   ]
  },
  {
   "cell_type": "code",
   "execution_count": null,
   "metadata": {
    "hidden": true
   },
   "outputs": [],
   "source": []
  },
  {
   "cell_type": "code",
   "execution_count": null,
   "metadata": {
    "hidden": true
   },
   "outputs": [],
   "source": []
  },
  {
   "cell_type": "markdown",
   "metadata": {
    "heading_collapsed": true
   },
   "source": [
    "# OPTICS"
   ]
  },
  {
   "cell_type": "code",
   "execution_count": null,
   "metadata": {
    "hidden": true
   },
   "outputs": [],
   "source": []
  },
  {
   "cell_type": "code",
   "execution_count": null,
   "metadata": {
    "ExecuteTime": {
     "end_time": "2020-06-06T23:04:36.931464Z",
     "start_time": "2020-06-06T23:04:34.530Z"
    },
    "hidden": true
   },
   "outputs": [],
   "source": [
    "dbtest = DBSCAN(eps=0.6,\n",
    "                   min_samples=34)\n",
    "dbtest.fit(Z)"
   ]
  },
  {
   "cell_type": "code",
   "execution_count": null,
   "metadata": {
    "ExecuteTime": {
     "end_time": "2020-06-06T23:04:36.931927Z",
     "start_time": "2020-06-06T23:04:34.531Z"
    },
    "hidden": true,
    "scrolled": false
   },
   "outputs": [],
   "source": [
    "# The labels_ property contains the list of clusters and their respective points.\n",
    "labels = dbtest.labels_\n",
    "# print(labels[91_000:91_010])\n",
    "\n",
    "# db = dbscan\n",
    "labels_true = y\n",
    "\n",
    "# https://scikit-learn.org/stable/auto_examples/cluster/plot_dbscan.html\n",
    "core_samples_mask = np.zeros_like(dbtest.labels_, dtype=bool)\n",
    "core_samples_mask[dbtest.core_sample_indices_] = True\n",
    "# labels = db.labels_\n",
    "\n",
    "# Number of clusters in labels, ignoring noise if present.\n",
    "n_clusters_ = len(set(labels)) - (1 if -1 in labels else 0)\n",
    "n_noise_ = list(labels).count(-1)\n",
    "\n",
    "print('Estimated number of clusters: %d' % n_clusters_)\n",
    "print('Estimated number of noise points: %d' % n_noise_)\n",
    "print(\"Homogeneity: %0.3f\" % metrics.homogeneity_score(labels_true, labels)) # MEASURES IN ALL IN 1 CLASS\n",
    "print(\"Completeness: %0.3f\" % metrics.completeness_score(labels_true, labels)) # MEMBERS OF GIVEN CLASS IN SAME CLUSTER\n",
    "print(\"V-measure: %0.3f\" % metrics.v_measure_score(labels_true, labels)) # THE HARMONIC MEAN BTWN HOMOG AND COMPLETENESS SCORES\n",
    "print(\"Adjusted Rand Index: %0.3f\"\n",
    "      % metrics.adjusted_rand_score(labels_true, labels)) # 1.0 == A PERFECT MATCH FOR DATA IN A GIVEN CLUSTER\n",
    "print(\"Adjusted Mutual Information: %0.3f\"\n",
    "      % metrics.adjusted_mutual_info_score(labels_true, labels))\n",
    "print(\"Silhouette Coefficient: %0.3f\"\n",
    "      % metrics.silhouette_score(X, labels)) # INTRA-CLUSTER MEAN DISTANCE AND MEAN NEAREST CLUSTER\n",
    "\n",
    "# CAN ALSO USE X_train.iloc[:,:]\n",
    "# X = np.array(X)\n",
    "\n",
    "# Black removed and is used for noise instead.\n",
    "unique_labels = set(labels)\n",
    "colors = [plt.cm.Spectral(each)\n",
    "          for each in np.linspace(0, 1, len(unique_labels))]\n",
    "for k, col in zip(unique_labels, colors):\n",
    "    if k == -1:\n",
    "        # Black used for noise.\n",
    "        col = [0, 0, 0, 1]\n",
    "\n",
    "    class_member_mask = (labels == k)\n",
    "\n",
    "    xy = Z[class_member_mask & core_samples_mask]\n",
    "    plt.plot(xy[:, 0], xy[:, 1], 'o', markerfacecolor=tuple(col),\n",
    "             markeredgecolor='k', markersize=14)\n",
    "\n",
    "    xy = Z[class_member_mask & ~core_samples_mask]\n",
    "    plt.plot(xy[:, 0], xy[:, 1], 'o', markerfacecolor=tuple(col),\n",
    "             markeredgecolor='k', markersize=6)\n",
    "\n",
    "plt.title('Estimated number of clusters: %d' % n_clusters_)\n",
    "plt.show()"
   ]
  },
  {
   "cell_type": "code",
   "execution_count": null,
   "metadata": {
    "ExecuteTime": {
     "end_time": "2020-06-06T23:04:36.932313Z",
     "start_time": "2020-06-06T23:04:34.533Z"
    },
    "hidden": true
   },
   "outputs": [],
   "source": [
    "print(Z.shape)\n",
    "# Z = Z[:1_000]"
   ]
  },
  {
   "cell_type": "code",
   "execution_count": null,
   "metadata": {
    "ExecuteTime": {
     "end_time": "2020-06-06T23:04:36.932677Z",
     "start_time": "2020-06-06T23:04:34.534Z"
    },
    "hidden": true
   },
   "outputs": [],
   "source": [
    "opt = OPTICS()\n",
    "opt.fit(Z)"
   ]
  },
  {
   "cell_type": "code",
   "execution_count": null,
   "metadata": {
    "ExecuteTime": {
     "end_time": "2020-06-06T23:04:36.933059Z",
     "start_time": "2020-06-06T23:04:34.536Z"
    },
    "hidden": true,
    "scrolled": true
   },
   "outputs": [],
   "source": [
    "#===================================================\n",
    "# https://scikit-learn.org/stable/auto_examples/cluster/plot_optics.html#sphx-glr-auto-examples-cluster-plot-optics-py\n",
    "labels_050 = cluster_optics_dbscan(reachability=opt.reachability_,\n",
    "                                   core_distances=opt.core_distances_,\n",
    "                                   ordering=opt.ordering_, eps=0.5)\n",
    "labels_200 = cluster_optics_dbscan(reachability=opt.reachability_,\n",
    "                                   core_distances=opt.core_distances_,\n",
    "                                   ordering=opt.ordering_, eps=2)\n",
    "space = np.arange(len(Z))\n",
    "reachability = opt.reachability_[opt.ordering_]\n",
    "labels = opt.labels_[opt.ordering_]\n",
    "\n",
    "plt.figure(figsize=(10, 7))\n",
    "G = gridspec.GridSpec(2, 3)\n",
    "ax1 = plt.subplot(G[0, :])\n",
    "ax2 = plt.subplot(G[1, 0])\n",
    "ax3 = plt.subplot(G[1, 1])\n",
    "ax4 = plt.subplot(G[1, 2])\n",
    "\n",
    "#===================================================\n",
    "# Reachability plot\n",
    "colors = ['g.', 'r.', 'b.', 'y.', 'c.']\n",
    "for klass, color in zip(range(0, 5), colors):\n",
    "    Xk = space[labels == klass]\n",
    "    Rk = reachability[labels == klass]\n",
    "    ax1.plot(Xk, Rk, color, alpha=0.3)\n",
    "ax1.plot(space[labels == -1], reachability[labels == -1], 'k.', alpha=0.3)\n",
    "ax1.plot(space, np.full_like(space, 2., dtype=float), 'k-', alpha=0.5)\n",
    "ax1.plot(space, np.full_like(space, 0.5, dtype=float), 'k-.', alpha=0.5)\n",
    "ax1.set_ylabel('Reachability (epsilon distance)')\n",
    "ax1.set_title('Reachability Plot')\n",
    "\n",
    "#===================================================\n",
    "\n",
    "# OPTICS\n",
    "# colors = ['g.', 'r.', 'b.', 'y.', 'c.']\n",
    "# for klass, color in zip(range(0, 5), colors):\n",
    "#     Xk = Z_fire[opt.labels_ == klass]\n",
    "#     ax2.plot(Xk[:, 0], Xk[:, 1], color, alpha=0.3)\n",
    "# ax2.plot(X[opt.labels_ == -1, 0], Z_fire[opt.labels_ == -1, 1], 'k+', alpha=0.1)\n",
    "# ax2.set_title('Automatic Clustering\\nOPTICS')"
   ]
  },
  {
   "cell_type": "markdown",
   "metadata": {
    "heading_collapsed": true
   },
   "source": [
    "# PCA"
   ]
  },
  {
   "cell_type": "code",
   "execution_count": null,
   "metadata": {
    "ExecuteTime": {
     "end_time": "2020-06-06T23:04:36.933446Z",
     "start_time": "2020-06-06T23:04:34.537Z"
    },
    "hidden": true
   },
   "outputs": [],
   "source": [
    "data_cols = pd.read_pickle(\"../assets/variables/data_cols\")\n",
    "pw_cols = pd.read_pickle(\"../assets/variables/pw_cols\")\n",
    "fire_cols = pd.read_pickle(\"../assets/variables/fire_cols\")\n",
    "requests_cols = pd.read_pickle(\"../assets/variables/requests_cols\")\n",
    "\n",
    "data_main_df = main[data_cols]\n",
    "pw_main_df = main[pw_cols]\n",
    "fire_main_df = main[fire_cols]\n",
    "requests_main_df = main[requests_cols]\n",
    "\n",
    "main_scaler = StandardScaler()\n",
    "data_main_sc = main_scaler.fit_transform(data_main_df)\n",
    "pw_main_sc = main_scaler.fit_transform(pw_main_df)\n",
    "fire_main_sc = main_scaler.fit_transform(fire_main_df)\n",
    "requests_main_sc = main_scaler.fit_transform(requests_main_df)\n",
    "\n",
    "data_main_sc_df = pd.DataFrame(data_main_sc)\n",
    "pw_main_sc_df = pd.DataFrame(pw_main_sc)\n",
    "fire_main_sc_df = pd.DataFrame(fire_main_sc)\n",
    "requests_main_sc_df = pd.DataFrame(requests_main_sc)"
   ]
  },
  {
   "cell_type": "markdown",
   "metadata": {
    "heading_collapsed": true,
    "hidden": true
   },
   "source": [
    "## Data Cols"
   ]
  },
  {
   "cell_type": "code",
   "execution_count": null,
   "metadata": {
    "ExecuteTime": {
     "end_time": "2020-06-06T23:04:36.933795Z",
     "start_time": "2020-06-06T23:04:34.540Z"
    },
    "hidden": true
   },
   "outputs": [],
   "source": [
    "pca_data = PCA(n_components=5,\n",
    "          random_state=42)\n",
    "pca_data.fit(data_main_sc_df)\n",
    "\n",
    "var_exp = pca_data.explained_variance_ratio_\n",
    "cum_var_exp = np.cumsum(var_exp)\n",
    "\n",
    "print(f\"Explained Variance (first 20 components): {np.round(var_exp[:20], 3)}\")\n",
    "print(\"\")\n",
    "print(f\"Cumulative Variance (first 20 components): {np.round(cum_var_exp[:20], 3)}\")"
   ]
  },
  {
   "cell_type": "markdown",
   "metadata": {
    "heading_collapsed": true,
    "hidden": true
   },
   "source": [
    "## PW Violations Cols"
   ]
  },
  {
   "cell_type": "code",
   "execution_count": null,
   "metadata": {
    "ExecuteTime": {
     "end_time": "2020-06-06T23:04:36.934142Z",
     "start_time": "2020-06-06T23:04:34.542Z"
    },
    "hidden": true
   },
   "outputs": [],
   "source": [
    "pca_pw = PCA(n_components=5,\n",
    "          random_state=42)\n",
    "pca_pw.fit(pw_main_sc_df)\n",
    "\n",
    "var_exp = pca_pw.explained_variance_ratio_\n",
    "cum_var_exp = np.cumsum(var_exp)\n",
    "\n",
    "print(f\"Explained Variance (first 20 components): {np.round(var_exp[:20], 3)}\")\n",
    "print(\"\")\n",
    "print(f\"Cumulative Variance (first 20 components): {np.round(cum_var_exp[:20], 3)}\")"
   ]
  },
  {
   "cell_type": "markdown",
   "metadata": {
    "heading_collapsed": true,
    "hidden": true
   },
   "source": [
    "## Fire Cols"
   ]
  },
  {
   "cell_type": "code",
   "execution_count": null,
   "metadata": {
    "ExecuteTime": {
     "end_time": "2020-06-06T23:04:36.934555Z",
     "start_time": "2020-06-06T23:04:34.545Z"
    },
    "hidden": true
   },
   "outputs": [],
   "source": [
    "pca_fire = PCA(n_components=3,\n",
    "          random_state=42)\n",
    "pca_fire.fit(fire_main_sc_df)\n",
    "\n",
    "var_exp = pca_fire.explained_variance_ratio_\n",
    "cum_var_exp = np.cumsum(var_exp)\n",
    "\n",
    "print(f\"Explained Variance (first 5 components): {np.round(var_exp[:5], 3)}\")\n",
    "print(\"\")\n",
    "print(f\"Cumulative Variance (first 5 components): {np.round(cum_var_exp[:5], 3)}\")"
   ]
  },
  {
   "cell_type": "markdown",
   "metadata": {
    "heading_collapsed": true,
    "hidden": true
   },
   "source": [
    "## Requests Cols"
   ]
  },
  {
   "cell_type": "code",
   "execution_count": null,
   "metadata": {
    "ExecuteTime": {
     "end_time": "2020-06-06T23:04:36.934936Z",
     "start_time": "2020-06-06T23:04:34.547Z"
    },
    "hidden": true
   },
   "outputs": [],
   "source": [
    "pca_requests = PCA(n_components=5,\n",
    "          random_state=42)\n",
    "pca_requests.fit(requests_main_sc_df)\n",
    "\n",
    "var_exp = pca_requests.explained_variance_ratio_\n",
    "cum_var_exp = np.cumsum(var_exp)\n",
    "\n",
    "print(f\"Explained Variance (first 20 components): {np.round(var_exp[:20], 3)}\")\n",
    "print(\"\")\n",
    "print(f\"Cumulative Variance (first 20 components): {np.round(cum_var_exp[:20], 3)}\")"
   ]
  },
  {
   "cell_type": "markdown",
   "metadata": {
    "heading_collapsed": true,
    "hidden": true
   },
   "source": [
    "## Entire Main DataFrame"
   ]
  },
  {
   "cell_type": "code",
   "execution_count": null,
   "metadata": {
    "ExecuteTime": {
     "end_time": "2020-06-06T23:04:36.935345Z",
     "start_time": "2020-06-06T23:04:34.549Z"
    },
    "hidden": true
   },
   "outputs": [],
   "source": [
    "# BASIC MOST MODEL\n",
    "pca_main = PCA(n_components=5,\n",
    "               random_state=42)\n",
    "pca_main.fit(X_sc)\n",
    "\n",
    "var_exp = pca_main.explained_variance_ratio_\n",
    "cum_var_exp = np.cumsum(var_exp)\n",
    "\n",
    "print(f\"Explained Variance (first 20 components): {np.round(var_exp[:40], 3)}\")\n",
    "print(\"\")\n",
    "print(f\"Cumulative Variance (first 20 components): {np.round(cum_var_exp[:40], 3)}\")"
   ]
  },
  {
   "cell_type": "code",
   "execution_count": null,
   "metadata": {
    "hidden": true
   },
   "outputs": [],
   "source": []
  },
  {
   "cell_type": "code",
   "execution_count": null,
   "metadata": {
    "hidden": true
   },
   "outputs": [],
   "source": []
  },
  {
   "cell_type": "markdown",
   "metadata": {
    "heading_collapsed": true,
    "hidden": true
   },
   "source": [
    "## For Supervised Learning Models"
   ]
  },
  {
   "cell_type": "code",
   "execution_count": null,
   "metadata": {
    "ExecuteTime": {
     "end_time": "2020-06-06T23:04:36.935715Z",
     "start_time": "2020-06-06T23:04:34.554Z"
    },
    "hidden": true
   },
   "outputs": [],
   "source": [
    "X = main.drop(columns=\"label\")\n",
    "y = main[\"label\"]"
   ]
  },
  {
   "cell_type": "code",
   "execution_count": null,
   "metadata": {
    "ExecuteTime": {
     "end_time": "2020-06-06T23:04:36.936073Z",
     "start_time": "2020-06-06T23:04:34.556Z"
    },
    "hidden": true
   },
   "outputs": [],
   "source": [
    "X_train, X_test, y_train, y_test = train_test_split(X, y,\n",
    "                                                    stratify=y,\n",
    "                                                    random_state=42)"
   ]
  },
  {
   "cell_type": "code",
   "execution_count": null,
   "metadata": {
    "ExecuteTime": {
     "end_time": "2020-06-06T23:04:36.936420Z",
     "start_time": "2020-06-06T23:04:34.557Z"
    },
    "hidden": true
   },
   "outputs": [],
   "source": [
    "ss = StandardScaler()\n",
    "Z_train =  ss.fit_transform(X_train)\n",
    "Z_test = ss.transform(X_test)"
   ]
  },
  {
   "cell_type": "code",
   "execution_count": null,
   "metadata": {
    "ExecuteTime": {
     "end_time": "2020-06-06T23:04:36.936852Z",
     "start_time": "2020-06-06T23:04:34.559Z"
    },
    "hidden": true
   },
   "outputs": [],
   "source": [
    "pca_pipe = Pipeline([\n",
    "    (\"ss\", StandardScaler()),\n",
    "    (\"pca\", PCA()),\n",
    "    (\"logreg\", LogisticRegression())\n",
    "])"
   ]
  },
  {
   "cell_type": "code",
   "execution_count": null,
   "metadata": {
    "ExecuteTime": {
     "end_time": "2020-06-06T23:04:36.937201Z",
     "start_time": "2020-06-06T23:04:34.560Z"
    },
    "hidden": true
   },
   "outputs": [],
   "source": [
    "pca_pipe.get_params();"
   ]
  },
  {
   "cell_type": "code",
   "execution_count": null,
   "metadata": {
    "ExecuteTime": {
     "end_time": "2020-06-06T23:04:36.937645Z",
     "start_time": "2020-06-06T23:04:34.562Z"
    },
    "hidden": true
   },
   "outputs": [],
   "source": [
    "params = {\n",
    "    \"pca__n_components\": np.arange(1, 10, 1), # THERE ARE 118 COLUMNS\n",
    "    \"pca__random_state\": [41],\n",
    "    \"logreg__penalty\": [\"l1\", \"l2\"],\n",
    "    \"logreg__C\": [0.01, 0.1, 1],\n",
    "    \"logreg__verbose\": [100]\n",
    "}\n",
    "\n",
    "gs = GridSearchCV(\n",
    "    pca_pipe,\n",
    "    params,\n",
    "    cv=5\n",
    ")"
   ]
  },
  {
   "cell_type": "code",
   "execution_count": null,
   "metadata": {
    "ExecuteTime": {
     "end_time": "2020-06-06T23:04:36.937993Z",
     "start_time": "2020-06-06T23:04:34.563Z"
    },
    "hidden": true
   },
   "outputs": [],
   "source": [
    "Z_train"
   ]
  },
  {
   "cell_type": "code",
   "execution_count": null,
   "metadata": {
    "ExecuteTime": {
     "end_time": "2020-06-06T23:04:36.938395Z",
     "start_time": "2020-06-06T23:04:34.564Z"
    },
    "hidden": true
   },
   "outputs": [],
   "source": [
    "gs.fit(Z_train, y_train)"
   ]
  },
  {
   "cell_type": "code",
   "execution_count": null,
   "metadata": {
    "hidden": true
   },
   "outputs": [],
   "source": []
  },
  {
   "cell_type": "code",
   "execution_count": null,
   "metadata": {
    "hidden": true
   },
   "outputs": [],
   "source": []
  },
  {
   "cell_type": "code",
   "execution_count": null,
   "metadata": {
    "hidden": true
   },
   "outputs": [],
   "source": []
  },
  {
   "cell_type": "code",
   "execution_count": null,
   "metadata": {
    "hidden": true
   },
   "outputs": [],
   "source": []
  },
  {
   "cell_type": "code",
   "execution_count": null,
   "metadata": {
    "hidden": true
   },
   "outputs": [],
   "source": []
  },
  {
   "cell_type": "markdown",
   "metadata": {},
   "source": [
    "# X"
   ]
  },
  {
   "cell_type": "markdown",
   "metadata": {},
   "source": [
    "**Distance**"
   ]
  },
  {
   "cell_type": "code",
   "execution_count": null,
   "metadata": {
    "ExecuteTime": {
     "end_time": "2020-06-06T23:04:36.938838Z",
     "start_time": "2020-06-06T23:04:34.570Z"
    }
   },
   "outputs": [],
   "source": [
    "# CALL FUNCTION TO FIND NEAREST NEIGHBORS (nearest_nb)\n",
    "distances_pw, indices_pw = nearest_nb(Z_pw)\n",
    "\n",
    "# SAVE THE DISTANCES AND INDICES\n",
    "#=========================\n",
    "filename = \"../assets/variables/pw-nb-distances\"\n",
    "outfile = open(filename, \"wb\")\n",
    "pickle.dump(distances_pw, outfile)\n",
    "outfile.close()\n",
    "\n",
    "filename = \"../assets/variables/pw-nb-indices\"\n",
    "outfile = open(filename, \"wb\")\n",
    "pickle.dump(indices_pw, outfile)\n",
    "outfile.close()\n",
    "#=========================\n",
    "\n",
    "# READ IN THE DISTANCE AND INDICES FILES SAVED ABOVE\n",
    "distances_pw = pd.read_pickle(\"../assets/variables/pw-nb-distances\")\n",
    "\n",
    "indices_pw = pd.read_pickle(\"../assets/variables/pw-nb-indices\")\n",
    "#=========================\n",
    "\n",
    "# PRINT SHAPE OF DISTANCES\n",
    "print(distances_pw.shape)\n",
    "\n",
    "distances_pw = np.sort(distances_pw, axis=0)\n",
    "# BELOW SHOULD BE RAN ONLY ONCE, COMMENT OUT WHEN RAN THE FIRST TIME\n",
    "distances_pw = distances_pw[:, 1]\n",
    "\n",
    "# plt.figure(figsize=(12, 8))\n",
    "# plt.plot(distances_pw);\n",
    "#=========================\n",
    "\n",
    "# https://towardsdatascience.com/how-to-use-dbscan-effectively-ed212c02e62\n",
    "# THIS PLOT SHOWS THE POINT OF MAX DISTANCE BETWEEN 2 POINTS\n",
    "    # IT IS THE POINT OF 'GREATEST DEPARTURE'\n",
    "plt.figure(figsize=(30, 20))\n",
    "\n",
    "i = np.arange(len(distances))\n",
    "knee = KneeLocator(i, distances_pw, S=1, curve='convex', direction='increasing', interp_method='polynomial')\n",
    "fig = plt.figure(figsize=(5, 5));\n",
    "knee.plot_knee()\n",
    "plt.xlabel(\"Points\");\n",
    "plt.ylabel(\"Distance\");\n",
    "\n",
    "print(distances_pw[knee.knee])\n",
    "\n",
    "# SAVE THE MAX POINT FOR USE IN DBSCAN CLUSTERING\n",
    "knee_point_pw = distances_pw[knee.knee]"
   ]
  },
  {
   "cell_type": "markdown",
   "metadata": {},
   "source": [
    "**DBSCAN**"
   ]
  },
  {
   "cell_type": "code",
   "execution_count": null,
   "metadata": {
    "ExecuteTime": {
     "end_time": "2020-06-06T23:04:36.939242Z",
     "start_time": "2020-06-06T23:04:34.572Z"
    }
   },
   "outputs": [],
   "source": [
    "# RULE OF THUMB: min_samples SHOULD BE SET TO MIN NUM OF FEATURES\n",
    "\n",
    "# Provide a value for epsilon which defines the maximum distance between two points\n",
    "# Find a suitable value for epsilon by calculating the distance to \n",
    "    # the nearest n points for each point, sorting and plotting the results\n",
    "\n",
    "#==========================\n",
    "# CLUSTER ON PW VIOLATIONS AND ZIP\n",
    "db_pw = DBSCAN(eps=knee_point_pw,\n",
    "                min_samples=Z_pw.shape[1])\n",
    "db_pw.fit(Z_pw)\n",
    "#==========================\n",
    "# SAVE FITTED PW - DBSCAN\n",
    "filename = \"../assets/models/dbscan_pw-fitted\"\n",
    "outfile = open(filename, \"wb\")\n",
    "pickle.dump(db_pw, outfile)\n",
    "outfile.close()\n",
    "#==========================\n",
    "# READ IN THE FITTED DBSCAN FILE\n",
    "db_pw = pd.read_pickle(\"../assets/models/dbscan_pw-fitted\")\n",
    "#=========================="
   ]
  },
  {
   "cell_type": "markdown",
   "metadata": {},
   "source": [
    "**Visualize**"
   ]
  },
  {
   "cell_type": "code",
   "execution_count": null,
   "metadata": {
    "ExecuteTime": {
     "end_time": "2020-06-06T23:04:36.939635Z",
     "start_time": "2020-06-06T23:04:34.573Z"
    }
   },
   "outputs": [],
   "source": [
    "# The labels_ property contains the list of clusters and their respective points.\n",
    "labels = db_pw.labels_\n",
    "print(labels[91_000:91_010])\n",
    "\n",
    "labels_true = y\n",
    "\n",
    "# https://scikit-learn.org/stable/auto_examples/cluster/plot_dbscan.html\n",
    "core_samples_mask = np.zeros_like(db_pw.labels_, dtype=bool)\n",
    "core_samples_mask[db_pw.core_sample_indices_] = True\n",
    "labels = db_pw.labels_\n",
    "\n",
    "# Number of clusters in labels, ignoring noise if present.\n",
    "n_clusters_ = len(set(labels)) - (1 if -1 in labels else 0)\n",
    "n_noise_ = list(labels).count(-1)\n",
    "\n",
    "print('Estimated number of clusters: %d' % n_clusters_)\n",
    "print('Estimated number of noise points: %d' % n_noise_)\n",
    "print(\"Homogeneity: %0.3f\" % metrics.homogeneity_score(labels_true, labels))\n",
    "print(\"Completeness: %0.3f\" % metrics.completeness_score(labels_true, labels))\n",
    "print(\"V-measure: %0.3f\" % metrics.v_measure_score(labels_true, labels))\n",
    "print(\"Adjusted Rand Index: %0.3f\"\n",
    "      % metrics.adjusted_rand_score(labels_true, labels))\n",
    "print(\"Adjusted Mutual Information: %0.3f\"\n",
    "      % metrics.adjusted_mutual_info_score(labels_true, labels))\n",
    "print(\"Silhouette Coefficient: %0.3f\"\n",
    "      % metrics.silhouette_score(X, labels))\n",
    "\n",
    "# CAN ALSO USE X_train.iloc[:,:]\n",
    "# X = np.array(X)\n",
    "\n",
    "# Black removed and is used for noise instead.\n",
    "unique_labels = set(labels)\n",
    "colors = [plt.cm.Spectral(each)\n",
    "          for each in np.linspace(0, 1, len(unique_labels))]\n",
    "for k, col in zip(unique_labels, colors):\n",
    "    if k == -1:\n",
    "        # Black used for noise.\n",
    "        col = [0, 0, 0, 1]\n",
    "\n",
    "    class_member_mask = (labels == k)\n",
    "\n",
    "    xy = np.array(Z_pw)[class_member_mask & core_samples_mask]\n",
    "    plt.plot(xy[:, 0], xy[:, 1], 'o', markerfacecolor=tuple(col),\n",
    "             markeredgecolor='k', markersize=14)\n",
    "\n",
    "    xy = X[class_member_mask & ~core_samples_mask]\n",
    "    plt.plot(xy[:, 0], xy[:, 1], 'o', markerfacecolor=tuple(col),\n",
    "             markeredgecolor='k', markersize=6)\n",
    "\n",
    "plt.title('Estimated number of clusters: %d' % n_clusters_)\n",
    "plt.show()"
   ]
  },
  {
   "cell_type": "code",
   "execution_count": null,
   "metadata": {},
   "outputs": [],
   "source": []
  },
  {
   "cell_type": "code",
   "execution_count": null,
   "metadata": {
    "ExecuteTime": {
     "end_time": "2020-06-06T23:04:36.940004Z",
     "start_time": "2020-06-06T23:04:34.575Z"
    }
   },
   "outputs": [],
   "source": [
    "silhouette_score(Z, clusters)"
   ]
  },
  {
   "cell_type": "code",
   "execution_count": null,
   "metadata": {
    "ExecuteTime": {
     "end_time": "2020-06-06T23:04:36.940395Z",
     "start_time": "2020-06-06T23:04:34.577Z"
    }
   },
   "outputs": [],
   "source": [
    "clusters[clusters == -1].size"
   ]
  },
  {
   "cell_type": "code",
   "execution_count": null,
   "metadata": {
    "ExecuteTime": {
     "end_time": "2020-06-06T23:04:36.940812Z",
     "start_time": "2020-06-06T23:04:34.578Z"
    },
    "scrolled": true
   },
   "outputs": [],
   "source": [
    "X[\"clusters\"] = clusters\n",
    "X[\"clusters\"].value_counts(normalize=True)"
   ]
  },
  {
   "cell_type": "code",
   "execution_count": null,
   "metadata": {},
   "outputs": [],
   "source": []
  }
 ],
 "metadata": {
  "kernelspec": {
   "display_name": "Python 3",
   "language": "python",
   "name": "python3"
  },
  "language_info": {
   "codemirror_mode": {
    "name": "ipython",
    "version": 3
   },
   "file_extension": ".py",
   "mimetype": "text/x-python",
   "name": "python",
   "nbconvert_exporter": "python",
   "pygments_lexer": "ipython3",
   "version": "3.7.6"
  },
  "toc": {
   "base_numbering": 1,
   "nav_menu": {},
   "number_sections": true,
   "sideBar": true,
   "skip_h1_title": false,
   "title_cell": "Table of Contents",
   "title_sidebar": "Contents",
   "toc_cell": false,
   "toc_position": {},
   "toc_section_display": true,
   "toc_window_display": false
  }
 },
 "nbformat": 4,
 "nbformat_minor": 4
}
