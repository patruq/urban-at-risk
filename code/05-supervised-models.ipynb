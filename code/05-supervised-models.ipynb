{
 "cells": [
  {
   "cell_type": "code",
   "execution_count": 127,
   "metadata": {
    "ExecuteTime": {
     "end_time": "2020-06-08T23:46:04.207658Z",
     "start_time": "2020-06-08T23:46:04.201736Z"
    }
   },
   "outputs": [],
   "source": [
    "# STANDARD LIBRARIES\n",
    "import pandas as pd\n",
    "import numpy as np\n",
    "import pylab\n",
    "import pickle\n",
    "\n",
    "# VISUALS\n",
    "import matplotlib as mpl\n",
    "import matplotlib.pyplot as plt\n",
    "import seaborn as sns\n",
    "\n",
    "# FEATURE ENGINEERING AND PREPROCESSING\n",
    "from sklearn.preprocessing import StandardScaler\n",
    "from sklearn.pipeline import Pipeline\n",
    "from sklearn.model_selection import GridSearchCV, train_test_split\n",
    "\n",
    "# MODELING\n",
    "from sklearn.decomposition import PCA\n",
    "from sklearn.linear_model import LogisticRegression\n",
    "from sklearn.feature_selection import SelectFromModel, SelectKBest, chi2\n",
    "\n",
    "# METRICS\n",
    "from sklearn import metrics\n",
    "from sklearn.metrics import confusion_matrix, multilabel_confusion_matrix"
   ]
  },
  {
   "cell_type": "markdown",
   "metadata": {
    "heading_collapsed": true
   },
   "source": [
    "# Setup Features and Preprocessing"
   ]
  },
  {
   "cell_type": "code",
   "execution_count": 70,
   "metadata": {
    "ExecuteTime": {
     "end_time": "2020-06-08T21:41:07.945176Z",
     "start_time": "2020-06-08T21:41:07.476897Z"
    },
    "hidden": true
   },
   "outputs": [],
   "source": [
    "main = pd.read_csv(\"../data/clean-data/main-engineered.csv\")\n",
    "main.drop(columns=[\"Unnamed: 0\"], inplace=True)"
   ]
  },
  {
   "cell_type": "code",
   "execution_count": 71,
   "metadata": {
    "ExecuteTime": {
     "end_time": "2020-06-08T21:41:08.412709Z",
     "start_time": "2020-06-08T21:41:08.356806Z"
    },
    "hidden": true
   },
   "outputs": [
    {
     "name": "stdout",
     "output_type": "stream",
     "text": [
      "(97515, 124)\n"
     ]
    }
   ],
   "source": [
    "# DROPPING ROWS WHERE THE TARGET HAS ONLY 1 VALUE\n",
    "# TO HELP WITH PREDICTION MODEL\n",
    "y_least_pop_classes = main.groupby(\"label_zip\").filter(lambda x: len(x) == 1).index\n",
    "\n",
    "print(main.shape)\n",
    "main.drop(y_least_pop_classes, inplace=True)"
   ]
  },
  {
   "cell_type": "code",
   "execution_count": 72,
   "metadata": {
    "ExecuteTime": {
     "end_time": "2020-06-08T21:41:10.070491Z",
     "start_time": "2020-06-08T21:41:10.068695Z"
    },
    "hidden": true
   },
   "outputs": [],
   "source": [
    "# main[\"label_zip_street\"] = main[\"zip_street\"].astype(\"category\")\n",
    "# main[\"label_zip_street\"] = main[\"label_zip_street\"].cat.codes"
   ]
  },
  {
   "cell_type": "code",
   "execution_count": 73,
   "metadata": {
    "ExecuteTime": {
     "end_time": "2020-06-08T21:41:11.256603Z",
     "start_time": "2020-06-08T21:41:10.932684Z"
    },
    "hidden": true
   },
   "outputs": [],
   "source": [
    "X = main.drop(columns=[\n",
    "    \"label_zip\",\n",
    "#     \"label_street\",\n",
    "#     \"zipcode\",\n",
    "    \"zip_street\",\n",
    "    \"zipcode\",\n",
    "    \"pw_coords\",\n",
    "    \"req_latitude\",\n",
    "    \"req_longitude\",\n",
    "    \"zip_num_street\"\n",
    "])\n",
    "y = main[\"label_zip\"]\n",
    "# y = main[\"label_zip_street\"]\n",
    "X_train, X_test, y_train, y_test = train_test_split(X, y,\n",
    "                                                    test_size=0.33,\n",
    "                                                    random_state=42)\n",
    "\n",
    "ss = StandardScaler()\n",
    "Z = ss.fit_transform(X)\n",
    "Z_train =  ss.fit_transform(X_train)\n",
    "Z_test = ss.transform(X_test)"
   ]
  },
  {
   "cell_type": "code",
   "execution_count": 66,
   "metadata": {
    "ExecuteTime": {
     "end_time": "2020-06-06T23:37:02.973063Z",
     "start_time": "2020-06-06T23:37:02.970951Z"
    },
    "hidden": true,
    "scrolled": true
   },
   "outputs": [],
   "source": [
    "# y.value_counts()"
   ]
  },
  {
   "cell_type": "markdown",
   "metadata": {},
   "source": [
    "# Model "
   ]
  },
  {
   "cell_type": "markdown",
   "metadata": {
    "heading_collapsed": true
   },
   "source": [
    "## Logistic Regression"
   ]
  },
  {
   "cell_type": "code",
   "execution_count": 2,
   "metadata": {
    "ExecuteTime": {
     "end_time": "2020-06-08T18:46:03.747279Z",
     "start_time": "2020-06-08T18:46:03.650971Z"
    },
    "hidden": true
   },
   "outputs": [],
   "source": [
    "# READ IN MODELS AND OTHER DATA\n",
    "gs = pd.read_pickle(\"../assets/models/logreg_pipe_gs\")\n",
    "model_iterations = pd.read_pickle(\"../assets/models/model_iterations\")"
   ]
  },
  {
   "cell_type": "code",
   "execution_count": 80,
   "metadata": {
    "ExecuteTime": {
     "end_time": "2020-06-08T22:14:16.866287Z",
     "start_time": "2020-06-08T21:58:21.270479Z"
    },
    "hidden": true
   },
   "outputs": [
    {
     "name": "stdout",
     "output_type": "stream",
     "text": [
      "[LibLinear][LibLinear][LibLinear][LibLinear][LibLinear][LibLinear][LibLinear][LibLinear][LibLinear][LibLinear][LibLinear][LibLinear][LibLinear][LibLinear][LibLinear][LibLinear][LibLinear][LibLinear][LibLinear][LibLinear][LibLinear]"
     ]
    }
   ],
   "source": [
    "logreg_pipe = Pipeline([\n",
    "    (\"ss\", StandardScaler()),\n",
    "    (\"logreg\", LogisticRegression())\n",
    "])\n",
    "\n",
    "logreg_pipe.get_params()\n",
    "\n",
    "params = {\n",
    "    \"logreg__C\": [0.75, 0.85, 1, 1.1],\n",
    "    \"logreg__solver\": [\"liblinear\"],\n",
    "    \"logreg__penalty\": [\"l1\"],\n",
    "    \"logreg__verbose\": [10]\n",
    "}\n",
    "\n",
    "# gs = GridSearchCV(\n",
    "#     logreg_pipe,\n",
    "#     params,\n",
    "#     cv=5\n",
    "# )\n",
    "\n",
    "# gs = gs.fit(Z_train, y_train);\n",
    "\n",
    "# SAVE NEWEST ITERATIONS OF MODEL WITH PARAMS TO FILE\n",
    "filename = \"../assets/models/logreg_pipe_gs\"\n",
    "outfile = open(filename, \"wb\")\n",
    "pickle.dump(gs, outfile)\n",
    "outfile.close()"
   ]
  },
  {
   "cell_type": "code",
   "execution_count": 43,
   "metadata": {
    "ExecuteTime": {
     "end_time": "2020-06-08T03:23:56.063842Z",
     "start_time": "2020-06-08T03:23:56.057503Z"
    },
    "hidden": true
   },
   "outputs": [],
   "source": [
    "#UNCOMMENT TO RESET DICT\n",
    "# model_iterations = {1: {}}\n",
    "\n",
    "# DEFINE DICTIONARY TO STORE MODEL ITERATION RESULTS\n",
    "def model_params(dct, key):\n",
    "    dct.update({key: {\"coefs\",\n",
    "                      \"base_params\",\n",
    "                      \"best_params\",\n",
    "                      \"best_score\",\n",
    "                      \"cv_results\",\n",
    "                      \"train_score\",\n",
    "                      \"test_score\",\n",
    "                      \"preds\"}})\n",
    "    dct[key][\"coefs\"] = gs.best_estimator_[1].coef_\n",
    "    dct[key][\"base_params\"] = params\n",
    "    dct[key][\"best_params\"] = gs.best_params_\n",
    "    dct[key][\"best_score\"] = gs.best_score_\n",
    "    dct[key][\"cv_results\"] = gs.cv_results_\n",
    "    dct[key][\"train_score\"] = gs.score(Z_train, y_train)\n",
    "    dct[key][\"test_score\"] = gs.score(Z_test, y_test)\n",
    "    dct[key][\"preds\"] = gs.predict(Z_test)\n",
    "    \n",
    "    \n",
    "    return dct"
   ]
  },
  {
   "cell_type": "code",
   "execution_count": 55,
   "metadata": {
    "ExecuteTime": {
     "end_time": "2020-06-08T21:29:07.415504Z",
     "start_time": "2020-06-08T21:29:07.413493Z"
    },
    "hidden": true
   },
   "outputs": [],
   "source": [
    "# model_params(model_iterations, 2)\n",
    "\n",
    "# SAVE UPDATED DICT TO FILE\n",
    "# filename = \"../assets/models/model_iterations\"\n",
    "# outfile = open(filename, \"wb\")\n",
    "# pickle.dump(model_iterations, outfile)\n",
    "# outfile.close()\n",
    "\n",
    "# model_iterations"
   ]
  },
  {
   "cell_type": "code",
   "execution_count": 78,
   "metadata": {
    "ExecuteTime": {
     "end_time": "2020-06-08T21:57:55.843070Z",
     "start_time": "2020-06-08T21:57:55.834948Z"
    },
    "hidden": true
   },
   "outputs": [
    {
     "data": {
      "text/plain": [
       "{1: {'coefs': array([[0., 0., 0., ..., 0., 0., 0.],\n",
       "         [0., 0., 0., ..., 0., 0., 0.],\n",
       "         [0., 0., 0., ..., 0., 0., 0.],\n",
       "         ...,\n",
       "         [0., 0., 0., ..., 0., 0., 0.],\n",
       "         [0., 0., 0., ..., 0., 0., 0.],\n",
       "         [0., 0., 0., ..., 0., 0., 0.]]),\n",
       "  'base_params': {'logreg__C': [0.75, 0.85, 1, 1.1],\n",
       "   'logreg__solver': ['liblinear'],\n",
       "   'logreg__penalty': ['l1'],\n",
       "   'logreg__verbose': [10]},\n",
       "  'best_params': {'logreg__C': 0.85,\n",
       "   'logreg__penalty': 'l1',\n",
       "   'logreg__solver': 'liblinear',\n",
       "   'logreg__verbose': 10},\n",
       "  'best_score': 0.9998775494583597,\n",
       "  'cv_results': {'mean_fit_time': array([38.76960969, 38.05905571, 38.22778983, 37.08115921]),\n",
       "   'std_fit_time': array([2.69931988, 2.3123963 , 3.36814968, 2.29430517]),\n",
       "   'mean_score_time': array([0.00686274, 0.00754266, 0.00722566, 0.00812421]),\n",
       "   'std_score_time': array([0.00056993, 0.00179684, 0.00057026, 0.00273595]),\n",
       "   'param_logreg__C': masked_array(data=[0.75, 0.85, 1, 1.1],\n",
       "                mask=[False, False, False, False],\n",
       "          fill_value='?',\n",
       "               dtype=object),\n",
       "   'param_logreg__penalty': masked_array(data=['l1', 'l1', 'l1', 'l1'],\n",
       "                mask=[False, False, False, False],\n",
       "          fill_value='?',\n",
       "               dtype=object),\n",
       "   'param_logreg__solver': masked_array(data=['liblinear', 'liblinear', 'liblinear', 'liblinear'],\n",
       "                mask=[False, False, False, False],\n",
       "          fill_value='?',\n",
       "               dtype=object),\n",
       "   'param_logreg__verbose': masked_array(data=[10, 10, 10, 10],\n",
       "                mask=[False, False, False, False],\n",
       "          fill_value='?',\n",
       "               dtype=object),\n",
       "   'params': [{'logreg__C': 0.75,\n",
       "     'logreg__penalty': 'l1',\n",
       "     'logreg__solver': 'liblinear',\n",
       "     'logreg__verbose': 10},\n",
       "    {'logreg__C': 0.85,\n",
       "     'logreg__penalty': 'l1',\n",
       "     'logreg__solver': 'liblinear',\n",
       "     'logreg__verbose': 10},\n",
       "    {'logreg__C': 1,\n",
       "     'logreg__penalty': 'l1',\n",
       "     'logreg__solver': 'liblinear',\n",
       "     'logreg__verbose': 10},\n",
       "    {'logreg__C': 1.1,\n",
       "     'logreg__penalty': 'l1',\n",
       "     'logreg__solver': 'liblinear',\n",
       "     'logreg__verbose': 10}],\n",
       "   'split0_test_score': array([0.99977041, 0.99992347, 0.99992347, 0.99992347]),\n",
       "   'split1_test_score': array([0.99992347, 0.99992347, 0.99992347, 0.99992347]),\n",
       "   'split2_test_score': array([0.99984694, 0.99984694, 0.99984694, 0.99984694]),\n",
       "   'split3_test_score': array([0.9997704 , 0.99984693, 0.99984693, 0.99984693]),\n",
       "   'split4_test_score': array([0.99969386, 0.99984693, 0.99984693, 0.99984693]),\n",
       "   'mean_test_score': array([0.99980102, 0.99987755, 0.99987755, 0.99987755]),\n",
       "   'std_test_score': array([7.80520373e-05, 3.74950596e-05, 3.74950596e-05, 3.74950596e-05]),\n",
       "   'rank_test_score': array([4, 1, 1, 1], dtype=int32)},\n",
       "  'train_score': 0.9999234689972908,\n",
       "  'test_score': 0.999875695329252,\n",
       "  'preds': array([16, 15, 21, ..., 22, 14, 15])}}"
      ]
     },
     "execution_count": 78,
     "metadata": {},
     "output_type": "execute_result"
    }
   ],
   "source": [
    "model_iterations"
   ]
  },
  {
   "cell_type": "code",
   "execution_count": 91,
   "metadata": {
    "ExecuteTime": {
     "end_time": "2020-06-08T22:24:45.031719Z",
     "start_time": "2020-06-08T22:24:44.976055Z"
    },
    "hidden": true
   },
   "outputs": [
    {
     "name": "stderr",
     "output_type": "stream",
     "text": [
      "/home/patrick/anaconda3/lib/python3.7/site-packages/sklearn/metrics/_classification.py:1272: UndefinedMetricWarning: Precision and F-score are ill-defined and being set to 0.0 in labels with no predicted samples. Use `zero_division` parameter to control this behavior.\n",
      "  _warn_prf(average, modifier, msg_start, len(result))\n"
     ]
    }
   ],
   "source": [
    "# GENERATE PREDICTIONS\n",
    "# preds = gs.predict(Z_test)\n",
    "# filename = \"../assets/models/preds\"\n",
    "# outfile = open(filename, \"wb\")\n",
    "# pickle.dump(preds, outfile)\n",
    "# outfile.close()\n",
    "\n",
    "model_metrics = metrics.classification_report(y_test, \n",
    "                                              preds,\n",
    "                                              output_dict=True)\n",
    "# filename = \"../assets/models/model_metrics\"\n",
    "# outfile = open(filename, \"wb\")\n",
    "# pickle.dump(model_metrics, outfile)\n",
    "# outfile.close()\n",
    "\n",
    "# print(model_metrics)"
   ]
  },
  {
   "cell_type": "code",
   "execution_count": 98,
   "metadata": {
    "ExecuteTime": {
     "end_time": "2020-06-08T22:29:18.248997Z",
     "start_time": "2020-06-08T22:29:17.781954Z"
    },
    "hidden": true
   },
   "outputs": [
    {
     "data": {
      "image/png": "[encoded data removed]",
      "text/plain": [
       "<Figure size 864x576 with 2 Axes>"
      ]
     },
     "metadata": {
      "needs_background": "light"
     },
     "output_type": "display_data"
    }
   ],
   "source": [
    "plt.figure(figsize=(12,8))\n",
    "sns.heatmap(pd.DataFrame(model_metrics).iloc[:-1, :].T, annot=True)\n",
    "plt.title(\"Classification Report: Precision & Recall\", fontsize=30)\n",
    "plt.savefig(\"../assets/images/classification-heatmap\")\n",
    "# https://stackoverflow.com/questions/28200786/how-to-plot-scikit-learn-classification-report"
   ]
  },
  {
   "cell_type": "code",
   "execution_count": 122,
   "metadata": {
    "ExecuteTime": {
     "end_time": "2020-06-08T23:41:27.250991Z",
     "start_time": "2020-06-08T23:41:27.237075Z"
    },
    "hidden": true
   },
   "outputs": [],
   "source": [
    "mc_cm = multilabel_confusion_matrix(y_test, \n",
    "                            preds)"
   ]
  },
  {
   "cell_type": "code",
   "execution_count": 121,
   "metadata": {
    "ExecuteTime": {
     "end_time": "2020-06-08T23:41:11.564563Z",
     "start_time": "2020-06-08T23:41:11.551063Z"
    },
    "hidden": true
   },
   "outputs": [],
   "source": [
    "for i in mc_cm:\n",
    "    pd.DataFrame(i, index=[\"actual_positive\", \"actual_negative\"],\n",
    "                 columns=[\"pred_postive\", \"pred_negative\"])"
   ]
  },
  {
   "cell_type": "code",
   "execution_count": 128,
   "metadata": {
    "ExecuteTime": {
     "end_time": "2020-06-08T23:47:07.158205Z",
     "start_time": "2020-06-08T23:47:07.149746Z"
    },
    "hidden": true
   },
   "outputs": [],
   "source": [
    "def plot_confusion_matrix(cm, classes,\n",
    "                          normalize=False,\n",
    "                          title='Confusion matrix',\n",
    "                          cmap=plt.cm.Blues):\n",
    "    \"\"\"\n",
    "    This function prints and plots the confusion matrix.\n",
    "    Normalization can be applied by setting `normalize=True`.\n",
    "    \"\"\"\n",
    "    import itertools\n",
    "    if normalize:\n",
    "        cm = cm.astype('float') / cm.sum(axis=1)[:, np.newaxis]\n",
    "        print(\"Normalized confusion matrix\")\n",
    "    else:\n",
    "        print('Confusion matrix, without normalization')\n",
    "\n",
    "    print(cm)\n",
    "\n",
    "    plt.imshow(cm, interpolation='nearest', cmap=cmap)\n",
    "    plt.title(title)\n",
    "    plt.colorbar()\n",
    "    tick_marks = np.arange(len(classes))\n",
    "    plt.xticks(tick_marks, classes, rotation=45)\n",
    "    plt.yticks(tick_marks, classes)\n",
    "\n",
    "    fmt = '.2f' if normalize else 'd'\n",
    "    thresh = cm.max() / 2.\n",
    "    for i, j in itertools.product(range(cm.shape[0]), range(cm.shape[1])):\n",
    "        plt.text(j, i, format(cm[i, j], fmt),\n",
    "                 horizontalalignment=\"center\",\n",
    "                 color=\"white\" if cm[i, j] > thresh else \"black\")\n",
    "\n",
    "    plt.ylabel('True label')\n",
    "    plt.xlabel('Predicted label')\n",
    "    plt.tight_layout()\n",
    "    # https://datascience.stackexchange.com/questions/40067/confusion-matrix-three-classes-python"
   ]
  },
  {
   "cell_type": "code",
   "execution_count": 176,
   "metadata": {
    "ExecuteTime": {
     "end_time": "2020-06-09T00:00:03.975410Z",
     "start_time": "2020-06-09T00:00:01.736059Z"
    },
    "hidden": true
   },
   "outputs": [
    {
     "name": "stdout",
     "output_type": "stream",
     "text": [
      "Confusion matrix, without normalization\n",
      "[[ 211    0    0    0    0    0    0    0    0    0    0    0    0    0\n",
      "     0    0    0    0    0    0    0    0    0    0    0    0    0    0\n",
      "     0    0    0]\n",
      " [   0  145    0    0    0    0    0    0    0    0    0    0    0    0\n",
      "     0    0    0    0    0    0    0    0    0    0    0    0    0    0\n",
      "     0    0    0]\n",
      " [   0    0   87    0    0    0    0    0    0    0    0    0    0    0\n",
      "     0    0    0    0    0    0    0    0    0    0    0    0    0    0\n",
      "     0    0    0]\n",
      " [   0    0    0  165    0    0    0    0    0    0    0    0    0    0\n",
      "     0    0    0    0    0    0    0    0    0    0    0    0    0    0\n",
      "     0    0    0]\n",
      " [   0    0    0    0  302    0    0    0    0    0    0    0    0    0\n",
      "     0    0    0    0    0    0    0    0    0    0    0    0    0    0\n",
      "     0    0    0]\n",
      " [   0    0    0    0    0  403    0    0    0    0    0    0    0    0\n",
      "     0    0    0    0    0    0    0    0    0    0    0    0    0    0\n",
      "     0    0    0]\n",
      " [   0    0    0    0    0    0  438    0    0    0    0    0    0    0\n",
      "     0    0    0    0    0    0    0    0    0    0    0    0    0    0\n",
      "     0    0    0]\n",
      " [   0    0    0    0    0    0    0  755    0    0    0    0    0    0\n",
      "     0    0    0    0    0    0    0    0    0    0    0    0    0    0\n",
      "     0    0    0]\n",
      " [   0    0    0    0    0    0    0    0  750    0    0    0    0    0\n",
      "     0    0    0    0    0    0    0    0    0    0    0    0    0    0\n",
      "     0    0    0]\n",
      " [   0    0    0    0    0    0    0    0    0 1512    0    0    0    0\n",
      "     0    0    0    0    0    0    0    0    0    0    0    0    0    0\n",
      "     0    0    0]\n",
      " [   0    0    0    0    0    0    0    0    0    0  466    0    0    0\n",
      "     0    0    0    0    0    0    0    0    0    0    0    0    0    0\n",
      "     0    0    0]\n",
      " [   0    0    0    0    0    0    0    0    0    0    0 1275    0    0\n",
      "     0    0    0    0    0    0    0    0    0    0    0    0    0    0\n",
      "     0    0    0]\n",
      " [   0    0    0    0    0    0    0    0    0    0    0    0 1443    0\n",
      "     0    0    0    0    0    0    0    0    0    0    0    0    0    0\n",
      "     0    0    0]\n",
      " [   0    0    0    0    0    0    0    0    0    0    0    0    0 2996\n",
      "     0    0    0    0    0    0    0    0    0    0    0    0    0    0\n",
      "     0    0    0]\n",
      " [   0    0    0    0    0    0    0    0    0    0    0    0    0    0\n",
      "  1744    0    0    0    0    0    0    0    0    0    0    0    0    0\n",
      "     0    0    0]\n",
      " [   0    0    0    0    0    0    0    0    0    0    0    0    0    0\n",
      "     0 1313    0    0    0    0    0    0    0    0    0    0    0    0\n",
      "     0    0    0]\n",
      " [   0    0    0    0    0    0    0    0    0    0    0    0    0    0\n",
      "     0    0 2192    0    0    0    0    0    0    0    0    0    0    0\n",
      "     0    0    0]\n",
      " [   0    0    0    0    0    0    0    0    0    0    0    0    0    0\n",
      "     0    0    0 1985    0    0    0    0    0    0    0    0    0    0\n",
      "     0    0    0]\n",
      " [   0    0    0    0    0    0    0    0    0    0    0    0    0    0\n",
      "     0    0    0    0 1058    0    0    0    0    0    0    0    0    0\n",
      "     0    0    0]\n",
      " [   0    0    0    0    0    0    0    0    0    0    0    0    0    0\n",
      "     0    0    0    0    0 2252    0    0    0    0    0    0    0    0\n",
      "     0    0    0]\n",
      " [   0    0    0    0    0    0    0    0    0    0    0    0    0    0\n",
      "     0    0    0    0    0    0 2336    0    0    0    0    0    0    0\n",
      "     0    0    0]\n",
      " [   0    0    0    0    0    0    0    0    0    0    0    0    0    0\n",
      "     0    0    0    0    0    0    0 2776    0    0    0    0    0    0\n",
      "     0    0    0]\n",
      " [   0    0    0    0    0    0    0    0    0    0    0    0    0    0\n",
      "     0    0    0    0    0    0    0    0  803    0    0    0    0    0\n",
      "     0    0    0]\n",
      " [   0    0    0    0    0    0    0    0    0    0    0    0    0    0\n",
      "     0    0    0    0    0    0    0    0    0 1808    0    0    0    0\n",
      "     0    0    0]\n",
      " [   0    0    0    0    0    0    0    0    0    0    0    0    0    0\n",
      "     0    0    0    0    0    0    0    0    0    0 2551    0    0    0\n",
      "     0    0    0]\n",
      " [   0    0    1    0    0    0    0    0    0    0    0    0    0    0\n",
      "     0    0    0    0    0    0    0    0    0    0    0    5    0    0\n",
      "     0    0    0]\n",
      " [   0    0    0    0    0    0    0    0    0    0    0    0    0    0\n",
      "     0    0    0    0    0    0    0    0    0    0    0    0   62    0\n",
      "     0    0    0]\n",
      " [   0    0    0    0    0    0    0    0    0    0    0    0    0    0\n",
      "     0    0    0    0    0    0    0    0    0    0    0    0    0  251\n",
      "     0    0    0]\n",
      " [   0    0    0    0    0    0    0    0    0    0    0    0    0    0\n",
      "     0    0    0    0    0    0    0    0    0    0    0    0    0    0\n",
      "     5    0    0]\n",
      " [   0    0    0    0    0    0    0    0    0    0    0    0    0    0\n",
      "     0    0    0    0    0    0    0    0    0    0    0    0    0    0\n",
      "     0    0    3]\n",
      " [   0    0    0    0    0    0    0    0    0    0    0    0    0    0\n",
      "     0    0    0    0    0    0    0    0    0    0    0    0    0    0\n",
      "     0    0   86]]\n"
     ]
    },
    {
     "data": {
      "image/png": "[encoded data removed]",
      "text/plain": [
       "<Figure size 1440x720 with 2 Axes>"
      ]
     },
     "metadata": {
      "needs_background": "light"
     },
     "output_type": "display_data"
    }
   ],
   "source": [
    "cm = confusion_matrix(y_test, preds, labels=list(set(y)))\n",
    "np.set_printoptions(precision=2)\n",
    "\n",
    "plt.figure(figsize=(20,10))\n",
    "plot_confusion_matrix(cm, classes=[\"02128\", \n",
    "                                   \"02109\", \n",
    "                                   \"02110\", \n",
    "                                   \"02111\",\n",
    "                                   \"02113\",\n",
    "                                   \"02114\",\n",
    "                                   \"02115\",\n",
    "                                   \"02116\",\n",
    "                                   \"02118\",\n",
    "                                   \"02119\",\n",
    "                                   \"02120\",\n",
    "                                   \"02121\", \n",
    "                                   \"02122\",\n",
    "                                   \"02124\",\n",
    "                                   \"02125\",\n",
    "                                   \"02126\",\n",
    "                                   \"02127\",\n",
    "                                   \"02128\",\n",
    "                                   \"02129\",\n",
    "                                   \"02130\",\n",
    "                                   \"02131\",\n",
    "                                   \"02132\",\n",
    "                                   \"02134\",\n",
    "                                   \"02135\",\n",
    "                                   \"02136\",\n",
    "                                   \"02199\",\n",
    "                                   \"02210\",\n",
    "                                   \"02215\",\n",
    "                                   \"02445\",\n",
    "                                   \"02446\", \n",
    "                                   \"02467\"])\n",
    "plt.savefig(\"../assets/images/model-heatmap\")"
   ]
  },
  {
   "cell_type": "markdown",
   "metadata": {
    "heading_collapsed": true
   },
   "source": [
    "## Transfer from SelectFromModel"
   ]
  },
  {
   "cell_type": "code",
   "execution_count": 60,
   "metadata": {
    "ExecuteTime": {
     "end_time": "2020-06-07T22:33:43.273987Z",
     "start_time": "2020-06-07T22:32:49.514234Z"
    },
    "hidden": true
   },
   "outputs": [],
   "source": [
    "# https://towardsdatascience.com/feature-selection-using-regularisation-a3678b71e499\n",
    "# THE PARAMS SET FOR THE LOGISTIC REGRESSION BELOW \n",
    "# ARE FROM THE GRIDSEARCH'D PARAMS ABOVE\n",
    "sel_ = SelectFromModel(LogisticRegression(C=.85, penalty=\"l1\", solver=\"liblinear\"))\n",
    "sel_.fit(Z, y)\n",
    "\n",
    "filename = \"../assets/models/sel_.csv\"\n",
    "outfile = open(filename, \"wb\")\n",
    "pickle.dump(sel_, outfile)\n",
    "outfile.close()"
   ]
  },
  {
   "cell_type": "code",
   "execution_count": 61,
   "metadata": {
    "ExecuteTime": {
     "end_time": "2020-06-07T22:33:43.286656Z",
     "start_time": "2020-06-07T22:33:43.275033Z"
    },
    "hidden": true
   },
   "outputs": [
    {
     "name": "stdout",
     "output_type": "stream",
     "text": [
      "Total Features: 100\n",
      "Total Selected Features: 40\n",
      "Features with Zero'd Coefs from Lasso: 60\n",
      "(97512, 40)\n"
     ]
    }
   ],
   "source": [
    "# THE NON-ZERO'D FEATURES VIA LASSO\n",
    "selected_features = X.columns[sel_.get_support()]\n",
    "\n",
    "# CREATE LIST OF THE REMOVED FEATURES\n",
    "removed_features = []\n",
    "for col in list(X.columns):\n",
    "    if col not in list(selected_features):\n",
    "        removed_features.append(col)\n",
    "\n",
    "print(\"Total Features: %d\" % (X.shape[1]))\n",
    "print(\"Total Selected Features: %d\" % (len(selected_features)))\n",
    "# NOPE:\n",
    "print(\"Features with Zero'd Coefs from Lasso: %d\" % (len(removed_features)))\n",
    "\n",
    "# X_train_selected = sel_.transform(X_train)\n",
    "# X_test_selected = sel_.transform(X_test)\n",
    "# print(X_train_selected.shape, X_test_selected.shape)\n",
    "\n",
    "Z_selected = sel_.transform(Z)\n",
    "print(Z_selected.shape)"
   ]
  },
  {
   "cell_type": "code",
   "execution_count": 63,
   "metadata": {
    "ExecuteTime": {
     "end_time": "2020-06-07T22:34:41.141576Z",
     "start_time": "2020-06-07T22:34:38.490346Z"
    },
    "hidden": true
   },
   "outputs": [
    {
     "name": "stderr",
     "output_type": "stream",
     "text": [
      "/home/patrick/anaconda3/lib/python3.7/site-packages/ipykernel_launcher.py:2: SettingWithCopyWarning: \n",
      "A value is trying to be set on a copy of a slice from a DataFrame.\n",
      "Try using .loc[row_indexer,col_indexer] = value instead\n",
      "\n",
      "See the caveats in the documentation: https://pandas.pydata.org/pandas-docs/stable/user_guide/indexing.html#returning-a-view-versus-a-copy\n",
      "  \n",
      "/home/patrick/anaconda3/lib/python3.7/site-packages/ipykernel_launcher.py:3: SettingWithCopyWarning: \n",
      "A value is trying to be set on a copy of a slice from a DataFrame.\n",
      "Try using .loc[row_indexer,col_indexer] = value instead\n",
      "\n",
      "See the caveats in the documentation: https://pandas.pydata.org/pandas-docs/stable/user_guide/indexing.html#returning-a-view-versus-a-copy\n",
      "  This is separate from the ipykernel package so we can avoid doing imports until\n"
     ]
    }
   ],
   "source": [
    "X_sel = X[selected_features]\n",
    "X_sel[\"zipcode\"] = X_sel[\"zipcode\"].astype(str)\n",
    "X_sel[\"zipcode\"] = X_sel[\"zipcode\"].apply(lambda x: \"0\" + x[:4]) \n",
    "\n",
    "X_sel.to_csv(\"../assets/models/X_sel.csv\")"
   ]
  },
  {
   "cell_type": "code",
   "execution_count": null,
   "metadata": {
    "hidden": true
   },
   "outputs": [],
   "source": []
  },
  {
   "cell_type": "code",
   "execution_count": null,
   "metadata": {
    "hidden": true
   },
   "outputs": [],
   "source": []
  }
 ],
 "metadata": {
  "kernelspec": {
   "display_name": "Python 3",
   "language": "python",
   "name": "python3"
  },
  "language_info": {
   "codemirror_mode": {
    "name": "ipython",
    "version": 3
   },
   "file_extension": ".py",
   "mimetype": "text/x-python",
   "name": "python",
   "nbconvert_exporter": "python",
   "pygments_lexer": "ipython3",
   "version": "3.7.6"
  },
  "toc": {
   "base_numbering": 1,
   "nav_menu": {},
   "number_sections": true,
   "sideBar": true,
   "skip_h1_title": false,
   "title_cell": "Table of Contents",
   "title_sidebar": "Contents",
   "toc_cell": false,
   "toc_position": {},
   "toc_section_display": true,
   "toc_window_display": false
  }
 },
 "nbformat": 4,
 "nbformat_minor": 4
}
