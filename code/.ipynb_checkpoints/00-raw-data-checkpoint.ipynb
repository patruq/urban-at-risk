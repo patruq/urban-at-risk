{
 "cells": [
  {
   "cell_type": "code",
   "execution_count": 13,
   "metadata": {
    "ExecuteTime": {
     "end_time": "2020-05-29T00:16:28.500960Z",
     "start_time": "2020-05-29T00:16:28.498597Z"
    }
   },
   "outputs": [],
   "source": [
    "# STANDARD LIBRARIES\n",
    "import pandas as pd\n",
    "import numpy as np\n",
    "import glob"
   ]
  },
  {
   "cell_type": "markdown",
   "metadata": {
    "heading_collapsed": true
   },
   "source": [
    "# Create Master DataFrame"
   ]
  },
  {
   "cell_type": "markdown",
   "metadata": {
    "hidden": true
   },
   "source": [
    "### `data`"
   ]
  },
  {
   "cell_type": "code",
   "execution_count": 2,
   "metadata": {
    "ExecuteTime": {
     "end_time": "2020-05-29T00:14:55.498643Z",
     "start_time": "2020-05-29T00:14:54.668234Z"
    },
    "hidden": true
   },
   "outputs": [],
   "source": [
    "# READING THIS FILE IN AS RESULTS IN A DtypeWarning\n",
    "# AND ADVISES THE USER TO SET 'low_memory=False'\n",
    "\n",
    "data = pd.read_csv(\"../data/fy19fullpropassess.csv\", low_memory=False)"
   ]
  },
  {
   "cell_type": "markdown",
   "metadata": {
    "heading_collapsed": true,
    "hidden": true
   },
   "source": [
    "## Investigate `data`"
   ]
  },
  {
   "cell_type": "code",
   "execution_count": 14,
   "metadata": {
    "ExecuteTime": {
     "end_time": "2020-05-28T18:33:32.737461Z",
     "start_time": "2020-05-28T18:33:32.720664Z"
    },
    "hidden": true
   },
   "outputs": [
    {
     "data": {
      "text/html": [
       "<div>\n",
       "<style scoped>\n",
       "    .dataframe tbody tr th:only-of-type {\n",
       "        vertical-align: middle;\n",
       "    }\n",
       "\n",
       "    .dataframe tbody tr th {\n",
       "        vertical-align: top;\n",
       "    }\n",
       "\n",
       "    .dataframe thead th {\n",
       "        text-align: right;\n",
       "    }\n",
       "</style>\n",
       "<table border=\"1\" class=\"dataframe\">\n",
       "  <thead>\n",
       "    <tr style=\"text-align: right;\">\n",
       "      <th></th>\n",
       "      <th>PID</th>\n",
       "      <th>CM_ID</th>\n",
       "      <th>GIS_ID</th>\n",
       "      <th>ST_NUM</th>\n",
       "      <th>ST_NAME</th>\n",
       "      <th>ST_NAME_SUF</th>\n",
       "      <th>UNIT_NUM</th>\n",
       "      <th>ZIPCODE</th>\n",
       "      <th>PTYPE</th>\n",
       "      <th>LU</th>\n",
       "      <th>...</th>\n",
       "      <th>U_BTH_STYLE2</th>\n",
       "      <th>U_BTH_STYLE3</th>\n",
       "      <th>U_KITCH_TYPE</th>\n",
       "      <th>U_KITCH_STYLE</th>\n",
       "      <th>U_HEAT_TYP</th>\n",
       "      <th>U_AC</th>\n",
       "      <th>U_FPLACE</th>\n",
       "      <th>U_INT_FIN</th>\n",
       "      <th>U_INT_CND</th>\n",
       "      <th>U_VIEW</th>\n",
       "    </tr>\n",
       "  </thead>\n",
       "  <tbody>\n",
       "    <tr>\n",
       "      <th>0</th>\n",
       "      <td>502550008</td>\n",
       "      <td>502550000.0</td>\n",
       "      <td>502550000</td>\n",
       "      <td>87</td>\n",
       "      <td>BEACON</td>\n",
       "      <td>ST</td>\n",
       "      <td>2-F</td>\n",
       "      <td>2108.0</td>\n",
       "      <td>102</td>\n",
       "      <td>CD</td>\n",
       "      <td>...</td>\n",
       "      <td>M</td>\n",
       "      <td>NaN</td>\n",
       "      <td>O</td>\n",
       "      <td>M</td>\n",
       "      <td>W</td>\n",
       "      <td>N</td>\n",
       "      <td>1.0</td>\n",
       "      <td>N</td>\n",
       "      <td>G</td>\n",
       "      <td>A</td>\n",
       "    </tr>\n",
       "    <tr>\n",
       "      <th>1</th>\n",
       "      <td>502550010</td>\n",
       "      <td>502550000.0</td>\n",
       "      <td>502550000</td>\n",
       "      <td>87</td>\n",
       "      <td>BEACON</td>\n",
       "      <td>ST</td>\n",
       "      <td>2-R</td>\n",
       "      <td>2108.0</td>\n",
       "      <td>102</td>\n",
       "      <td>CD</td>\n",
       "      <td>...</td>\n",
       "      <td>NaN</td>\n",
       "      <td>NaN</td>\n",
       "      <td>O</td>\n",
       "      <td>S</td>\n",
       "      <td>W</td>\n",
       "      <td>N</td>\n",
       "      <td>1.0</td>\n",
       "      <td>N</td>\n",
       "      <td>A</td>\n",
       "      <td>A</td>\n",
       "    </tr>\n",
       "    <tr>\n",
       "      <th>2</th>\n",
       "      <td>502550012</td>\n",
       "      <td>502550000.0</td>\n",
       "      <td>502550000</td>\n",
       "      <td>87</td>\n",
       "      <td>BEACON</td>\n",
       "      <td>ST</td>\n",
       "      <td>3-F</td>\n",
       "      <td>2108.0</td>\n",
       "      <td>102</td>\n",
       "      <td>CD</td>\n",
       "      <td>...</td>\n",
       "      <td>S</td>\n",
       "      <td>NaN</td>\n",
       "      <td>O</td>\n",
       "      <td>M</td>\n",
       "      <td>W</td>\n",
       "      <td>N</td>\n",
       "      <td>1.0</td>\n",
       "      <td>N</td>\n",
       "      <td>A</td>\n",
       "      <td>G</td>\n",
       "    </tr>\n",
       "    <tr>\n",
       "      <th>3</th>\n",
       "      <td>502550014</td>\n",
       "      <td>502550000.0</td>\n",
       "      <td>502550000</td>\n",
       "      <td>87</td>\n",
       "      <td>BEACON</td>\n",
       "      <td>ST</td>\n",
       "      <td>3-R</td>\n",
       "      <td>2108.0</td>\n",
       "      <td>102</td>\n",
       "      <td>CD</td>\n",
       "      <td>...</td>\n",
       "      <td>NaN</td>\n",
       "      <td>NaN</td>\n",
       "      <td>O</td>\n",
       "      <td>N</td>\n",
       "      <td>W</td>\n",
       "      <td>N</td>\n",
       "      <td>1.0</td>\n",
       "      <td>S</td>\n",
       "      <td>A</td>\n",
       "      <td>G</td>\n",
       "    </tr>\n",
       "    <tr>\n",
       "      <th>4</th>\n",
       "      <td>502550016</td>\n",
       "      <td>502550000.0</td>\n",
       "      <td>502550000</td>\n",
       "      <td>87</td>\n",
       "      <td>BEACON</td>\n",
       "      <td>ST</td>\n",
       "      <td>4</td>\n",
       "      <td>2108.0</td>\n",
       "      <td>102</td>\n",
       "      <td>CD</td>\n",
       "      <td>...</td>\n",
       "      <td>M</td>\n",
       "      <td>M</td>\n",
       "      <td>O</td>\n",
       "      <td>L</td>\n",
       "      <td>W</td>\n",
       "      <td>C</td>\n",
       "      <td>2.0</td>\n",
       "      <td>N</td>\n",
       "      <td>E</td>\n",
       "      <td>G</td>\n",
       "    </tr>\n",
       "  </tbody>\n",
       "</table>\n",
       "<p>5 rows × 75 columns</p>\n",
       "</div>"
      ],
      "text/plain": [
       "         PID        CM_ID     GIS_ID ST_NUM ST_NAME ST_NAME_SUF UNIT_NUM  \\\n",
       "0  502550008  502550000.0  502550000     87  BEACON          ST      2-F   \n",
       "1  502550010  502550000.0  502550000     87  BEACON          ST      2-R   \n",
       "2  502550012  502550000.0  502550000     87  BEACON          ST      3-F   \n",
       "3  502550014  502550000.0  502550000     87  BEACON          ST      3-R   \n",
       "4  502550016  502550000.0  502550000     87  BEACON          ST        4   \n",
       "\n",
       "   ZIPCODE  PTYPE  LU  ... U_BTH_STYLE2 U_BTH_STYLE3 U_KITCH_TYPE  \\\n",
       "0   2108.0    102  CD  ...            M          NaN            O   \n",
       "1   2108.0    102  CD  ...          NaN          NaN            O   \n",
       "2   2108.0    102  CD  ...            S          NaN            O   \n",
       "3   2108.0    102  CD  ...          NaN          NaN            O   \n",
       "4   2108.0    102  CD  ...            M            M            O   \n",
       "\n",
       "  U_KITCH_STYLE U_HEAT_TYP U_AC  U_FPLACE  U_INT_FIN  U_INT_CND  U_VIEW  \n",
       "0             M          W    N       1.0          N          G       A  \n",
       "1             S          W    N       1.0          N          A       A  \n",
       "2             M          W    N       1.0          N          A       G  \n",
       "3             N          W    N       1.0          S          A       G  \n",
       "4             L          W    C       2.0          N          E       G  \n",
       "\n",
       "[5 rows x 75 columns]"
      ]
     },
     "execution_count": 14,
     "metadata": {},
     "output_type": "execute_result"
    }
   ],
   "source": [
    "data.head()"
   ]
  },
  {
   "cell_type": "code",
   "execution_count": 3,
   "metadata": {
    "ExecuteTime": {
     "end_time": "2020-05-29T00:15:02.245211Z",
     "start_time": "2020-05-29T00:15:02.236767Z"
    },
    "hidden": true
   },
   "outputs": [
    {
     "data": {
      "text/plain": [
       "(174668, 75)"
      ]
     },
     "execution_count": 3,
     "metadata": {},
     "output_type": "execute_result"
    }
   ],
   "source": [
    "data.shape"
   ]
  },
  {
   "cell_type": "code",
   "execution_count": 4,
   "metadata": {
    "ExecuteTime": {
     "end_time": "2020-05-29T00:15:03.458819Z",
     "start_time": "2020-05-29T00:15:03.453539Z"
    },
    "hidden": true,
    "scrolled": true
   },
   "outputs": [
    {
     "data": {
      "text/plain": [
       "PID            int64\n",
       "CM_ID        float64\n",
       "GIS_ID         int64\n",
       "ST_NUM        object\n",
       "ST_NAME       object\n",
       "              ...   \n",
       "U_AC          object\n",
       "U_FPLACE     float64\n",
       "U_INT_FIN     object\n",
       "U_INT_CND     object\n",
       "U_VIEW        object\n",
       "Length: 75, dtype: object"
      ]
     },
     "execution_count": 4,
     "metadata": {},
     "output_type": "execute_result"
    }
   ],
   "source": [
    "data.dtypes"
   ]
  },
  {
   "cell_type": "code",
   "execution_count": 17,
   "metadata": {
    "ExecuteTime": {
     "end_time": "2020-05-28T18:33:32.956315Z",
     "start_time": "2020-05-28T18:33:32.876983Z"
    },
    "hidden": true
   },
   "outputs": [],
   "source": [
    "# DATAFRAMES BY DATATYPE\n",
    "\n",
    "# data.select_dtypes(include=\"object\")[\"lu\"].value_counts()\n",
    "# data.select_dtypes(include=\"int64\")\n",
    "# data.select_dtypes(include=\"float64\")\n",
    "# data.select_dtypes(include=\"bool\")"
   ]
  },
  {
   "cell_type": "code",
   "execution_count": 5,
   "metadata": {
    "ExecuteTime": {
     "end_time": "2020-05-29T00:15:05.770267Z",
     "start_time": "2020-05-29T00:15:05.588371Z"
    },
    "hidden": true
   },
   "outputs": [
    {
     "data": {
      "text/plain": [
       "PID               0\n",
       "CM_ID         92630\n",
       "GIS_ID            0\n",
       "ST_NUM            0\n",
       "ST_NAME           0\n",
       "              ...  \n",
       "U_AC         110624\n",
       "U_FPLACE     110624\n",
       "U_INT_FIN    110624\n",
       "U_INT_CND    110624\n",
       "U_VIEW       110624\n",
       "Length: 75, dtype: int64"
      ]
     },
     "execution_count": 5,
     "metadata": {},
     "output_type": "execute_result"
    }
   ],
   "source": [
    "data.isna().sum()"
   ]
  },
  {
   "cell_type": "code",
   "execution_count": 19,
   "metadata": {
    "ExecuteTime": {
     "end_time": "2020-05-28T18:33:33.182909Z",
     "start_time": "2020-05-28T18:33:33.180539Z"
    },
    "hidden": true
   },
   "outputs": [
    {
     "data": {
      "text/plain": [
       "Index(['PID', 'CM_ID', 'GIS_ID', 'ST_NUM', 'ST_NAME', 'ST_NAME_SUF',\n",
       "       'UNIT_NUM', 'ZIPCODE', 'PTYPE', 'LU', 'OWN_OCC', 'OWNER',\n",
       "       'MAIL_ADDRESSEE', 'MAIL_ADDRESS', 'MAIL CS', 'MAIL_ZIPCODE', 'AV_LAND',\n",
       "       'AV_BLDG', 'AV_TOTAL', 'GROSS_TAX', 'LAND_SF', 'YR_BUILT', 'YR_REMOD',\n",
       "       'GROSS_AREA', 'LIVING_AREA', 'NUM_FLOORS', 'STRUCTURE_CLASS',\n",
       "       'R_BLDG_STYL', 'R_ROOF_TYP', 'R_EXT_FIN', 'R_TOTAL_RMS', 'R_BDRMS',\n",
       "       'R_FULL_BTH', 'R_HALF_BTH', 'R_BTH_STYLE', 'R_BTH_STYLE2',\n",
       "       'R_BTH_STYLE3', 'R_KITCH', 'R_KITCH_STYLE', 'R_KITCH_STYLE2',\n",
       "       'R_KITCH_STYLE3', 'R_HEAT_TYP', 'R_AC', 'R_FPLACE', 'R_EXT_CND',\n",
       "       'R_OVRALL_CND', 'R_INT_CND', 'R_INT_FIN', 'R_VIEW', 'S_NUM_BLDG',\n",
       "       'S_BLDG_STYL', 'S_UNIT_RES', 'S_UNIT_COM', 'S_UNIT_RC', 'S_EXT_FIN',\n",
       "       'S_EXT_CND', 'U_BASE_FLOOR', 'U_NUM_PARK', 'U_CORNER', 'U_ORIENT',\n",
       "       'U_TOT_RMS', 'U_BDRMS', 'U_FULL_BTH', 'U_HALF_BTH', 'U_BTH_STYLE',\n",
       "       'U_BTH_STYLE2', 'U_BTH_STYLE3', 'U_KITCH_TYPE', 'U_KITCH_STYLE',\n",
       "       'U_HEAT_TYP', 'U_AC', 'U_FPLACE', 'U_INT_FIN', 'U_INT_CND', 'U_VIEW'],\n",
       "      dtype='object')"
      ]
     },
     "execution_count": 19,
     "metadata": {},
     "output_type": "execute_result"
    }
   ],
   "source": [
    "data.columns"
   ]
  },
  {
   "cell_type": "code",
   "execution_count": 14,
   "metadata": {
    "ExecuteTime": {
     "end_time": "2020-05-29T00:26:41.922634Z",
     "start_time": "2020-05-29T00:26:41.917584Z"
    },
    "hidden": true
   },
   "outputs": [
    {
     "data": {
      "text/plain": [
       "0              87 BEACON ST #2F\n",
       "1              87 BEACON ST #2R\n",
       "2             87 BEACON ST #3-F\n",
       "3               348 CONGRESS PL\n",
       "4                  87 BEACON ST\n",
       "                  ...          \n",
       "174663                4 LAKE ST\n",
       "174664           513 E BROADWAY\n",
       "174665    2203 COMMONWEALTH AVE\n",
       "174666    2203 COMMONWEALTH AVE\n",
       "174667    2203 COMMONWEALTH AVE\n",
       "Name: MAIL_ADDRESS, Length: 174668, dtype: object"
      ]
     },
     "execution_count": 14,
     "metadata": {},
     "output_type": "execute_result"
    }
   ],
   "source": [
    "data[\"MAIL_ADDRESS\"]"
   ]
  },
  {
   "cell_type": "code",
   "execution_count": 6,
   "metadata": {
    "ExecuteTime": {
     "end_time": "2020-05-29T00:15:06.795458Z",
     "start_time": "2020-05-29T00:15:06.771857Z"
    },
    "hidden": true
   },
   "outputs": [
    {
     "data": {
      "text/plain": [
       "7"
      ]
     },
     "execution_count": 6,
     "metadata": {},
     "output_type": "execute_result"
    }
   ],
   "source": [
    "data[\"ST_NAME\"].isna().sum() # 0\n",
    "data[\"ST_NUM\"].isna().sum() # 0\n",
    "data[\"ST_NAME_SUF\"].isna().sum() # 539\n",
    "data[\"ZIPCODE\"].isna().sum() # 7"
   ]
  },
  {
   "cell_type": "markdown",
   "metadata": {
    "heading_collapsed": true
   },
   "source": [
    "# Public Works Violations DataFrame"
   ]
  },
  {
   "cell_type": "markdown",
   "metadata": {
    "hidden": true
   },
   "source": [
    "## `pw_df`"
   ]
  },
  {
   "cell_type": "code",
   "execution_count": 7,
   "metadata": {
    "ExecuteTime": {
     "end_time": "2020-05-29T00:15:31.672821Z",
     "start_time": "2020-05-29T00:15:30.756079Z"
    },
    "hidden": true
   },
   "outputs": [],
   "source": [
    "pw_df = pd.read_csv(\"../data/public-works-violations/tmpcmn0p2r0.csv\", low_memory=False)"
   ]
  },
  {
   "cell_type": "code",
   "execution_count": 15,
   "metadata": {
    "ExecuteTime": {
     "end_time": "2020-05-29T01:50:33.811406Z",
     "start_time": "2020-05-29T01:50:33.795072Z"
    },
    "hidden": true
   },
   "outputs": [
    {
     "name": "stdout",
     "output_type": "stream",
     "text": [
      "(481429, 17)\n"
     ]
    },
    {
     "data": {
      "text/html": [
       "<div>\n",
       "<style scoped>\n",
       "    .dataframe tbody tr th:only-of-type {\n",
       "        vertical-align: middle;\n",
       "    }\n",
       "\n",
       "    .dataframe tbody tr th {\n",
       "        vertical-align: top;\n",
       "    }\n",
       "\n",
       "    .dataframe thead th {\n",
       "        text-align: right;\n",
       "    }\n",
       "</style>\n",
       "<table border=\"1\" class=\"dataframe\">\n",
       "  <thead>\n",
       "    <tr style=\"text-align: right;\">\n",
       "      <th></th>\n",
       "      <th>ticket_no</th>\n",
       "      <th>status_dttm</th>\n",
       "      <th>status</th>\n",
       "      <th>code</th>\n",
       "      <th>value</th>\n",
       "      <th>description</th>\n",
       "      <th>stno</th>\n",
       "      <th>sthigh</th>\n",
       "      <th>street</th>\n",
       "      <th>suffix</th>\n",
       "      <th>city</th>\n",
       "      <th>state</th>\n",
       "      <th>zip</th>\n",
       "      <th>sam_id</th>\n",
       "      <th>latitude</th>\n",
       "      <th>longitude</th>\n",
       "      <th>location</th>\n",
       "    </tr>\n",
       "  </thead>\n",
       "  <tbody>\n",
       "    <tr>\n",
       "      <th>0</th>\n",
       "      <td>CE494577</td>\n",
       "      <td>2020-05-26 07:29:00</td>\n",
       "      <td>Open</td>\n",
       "      <td>1</td>\n",
       "      <td>25</td>\n",
       "      <td>Improper storage trash: res</td>\n",
       "      <td>118</td>\n",
       "      <td>NaN</td>\n",
       "      <td>Commonwealth</td>\n",
       "      <td>AVE</td>\n",
       "      <td>Boston</td>\n",
       "      <td>MA</td>\n",
       "      <td>02116</td>\n",
       "      <td>37097</td>\n",
       "      <td>42.351830</td>\n",
       "      <td>-71.076720</td>\n",
       "      <td>(42.3518299997315, -71.0767200009251)</td>\n",
       "    </tr>\n",
       "    <tr>\n",
       "      <th>1</th>\n",
       "      <td>CE494575</td>\n",
       "      <td>2020-05-26 07:26:00</td>\n",
       "      <td>Open</td>\n",
       "      <td>1</td>\n",
       "      <td>25</td>\n",
       "      <td>Improper storage trash: res</td>\n",
       "      <td>1037</td>\n",
       "      <td></td>\n",
       "      <td>River</td>\n",
       "      <td>ST</td>\n",
       "      <td>Hyde Park</td>\n",
       "      <td>MA</td>\n",
       "      <td>02136</td>\n",
       "      <td>344142</td>\n",
       "      <td>42.259883</td>\n",
       "      <td>-71.117176</td>\n",
       "      <td>(42.2598833641543, -71.1171758487242)</td>\n",
       "    </tr>\n",
       "    <tr>\n",
       "      <th>2</th>\n",
       "      <td>CE494575</td>\n",
       "      <td>2020-05-26 07:26:00</td>\n",
       "      <td>Open</td>\n",
       "      <td>3</td>\n",
       "      <td>100</td>\n",
       "      <td>Overfilling of barrel/dumpster</td>\n",
       "      <td>1037</td>\n",
       "      <td></td>\n",
       "      <td>River</td>\n",
       "      <td>ST</td>\n",
       "      <td>Hyde Park</td>\n",
       "      <td>MA</td>\n",
       "      <td>02136</td>\n",
       "      <td>344142</td>\n",
       "      <td>42.259883</td>\n",
       "      <td>-71.117176</td>\n",
       "      <td>(42.2598833641543, -71.1171758487242)</td>\n",
       "    </tr>\n",
       "    <tr>\n",
       "      <th>3</th>\n",
       "      <td>CE494576</td>\n",
       "      <td>2020-05-26 07:25:00</td>\n",
       "      <td>Open</td>\n",
       "      <td>3</td>\n",
       "      <td>100</td>\n",
       "      <td>Overfilling of barrel/dumpster</td>\n",
       "      <td>110</td>\n",
       "      <td>NaN</td>\n",
       "      <td>Warren</td>\n",
       "      <td>ST</td>\n",
       "      <td>Allston</td>\n",
       "      <td>MA</td>\n",
       "      <td>02135</td>\n",
       "      <td>143122</td>\n",
       "      <td>42.349353</td>\n",
       "      <td>-71.141434</td>\n",
       "      <td>(42.3493529997196, -71.1414340008673)</td>\n",
       "    </tr>\n",
       "    <tr>\n",
       "      <th>4</th>\n",
       "      <td>CE494576</td>\n",
       "      <td>2020-05-26 07:25:00</td>\n",
       "      <td>Open</td>\n",
       "      <td>1</td>\n",
       "      <td>25</td>\n",
       "      <td>Improper storage trash: res</td>\n",
       "      <td>110</td>\n",
       "      <td>NaN</td>\n",
       "      <td>Warren</td>\n",
       "      <td>ST</td>\n",
       "      <td>Allston</td>\n",
       "      <td>MA</td>\n",
       "      <td>02135</td>\n",
       "      <td>143122</td>\n",
       "      <td>42.349353</td>\n",
       "      <td>-71.141434</td>\n",
       "      <td>(42.3493529997196, -71.1414340008673)</td>\n",
       "    </tr>\n",
       "  </tbody>\n",
       "</table>\n",
       "</div>"
      ],
      "text/plain": [
       "  ticket_no          status_dttm status code  value  \\\n",
       "0  CE494577  2020-05-26 07:29:00   Open    1     25   \n",
       "1  CE494575  2020-05-26 07:26:00   Open    1     25   \n",
       "2  CE494575  2020-05-26 07:26:00   Open    3    100   \n",
       "3  CE494576  2020-05-26 07:25:00   Open    3    100   \n",
       "4  CE494576  2020-05-26 07:25:00   Open    1     25   \n",
       "\n",
       "                      description  stno sthigh        street suffix  \\\n",
       "0     Improper storage trash: res   118    NaN  Commonwealth    AVE   \n",
       "1     Improper storage trash: res  1037                River     ST   \n",
       "2  Overfilling of barrel/dumpster  1037                River     ST   \n",
       "3  Overfilling of barrel/dumpster   110    NaN        Warren     ST   \n",
       "4     Improper storage trash: res   110    NaN        Warren     ST   \n",
       "\n",
       "        city state    zip  sam_id   latitude  longitude  \\\n",
       "0     Boston    MA  02116   37097  42.351830 -71.076720   \n",
       "1  Hyde Park    MA  02136  344142  42.259883 -71.117176   \n",
       "2  Hyde Park    MA  02136  344142  42.259883 -71.117176   \n",
       "3    Allston    MA  02135  143122  42.349353 -71.141434   \n",
       "4    Allston    MA  02135  143122  42.349353 -71.141434   \n",
       "\n",
       "                                location  \n",
       "0  (42.3518299997315, -71.0767200009251)  \n",
       "1  (42.2598833641543, -71.1171758487242)  \n",
       "2  (42.2598833641543, -71.1171758487242)  \n",
       "3  (42.3493529997196, -71.1414340008673)  \n",
       "4  (42.3493529997196, -71.1414340008673)  "
      ]
     },
     "execution_count": 15,
     "metadata": {},
     "output_type": "execute_result"
    }
   ],
   "source": [
    "print(pw_df.shape)\n",
    "pw_df.head()"
   ]
  },
  {
   "cell_type": "code",
   "execution_count": null,
   "metadata": {
    "ExecuteTime": {
     "end_time": "2020-05-28T18:33:43.617168Z",
     "start_time": "2020-05-28T18:33:31.783Z"
    },
    "hidden": true,
    "scrolled": true
   },
   "outputs": [],
   "source": [
    "pw_df.dtypes"
   ]
  },
  {
   "cell_type": "code",
   "execution_count": null,
   "metadata": {
    "ExecuteTime": {
     "end_time": "2020-05-28T18:33:43.617683Z",
     "start_time": "2020-05-28T18:33:31.784Z"
    },
    "hidden": true
   },
   "outputs": [],
   "source": [
    "pw_df.isna().sum()"
   ]
  },
  {
   "cell_type": "markdown",
   "metadata": {
    "heading_collapsed": true
   },
   "source": [
    "# Crime Incident Reports"
   ]
  },
  {
   "cell_type": "markdown",
   "metadata": {
    "hidden": true
   },
   "source": [
    "## `crime_df`"
   ]
  },
  {
   "cell_type": "code",
   "execution_count": 8,
   "metadata": {
    "ExecuteTime": {
     "end_time": "2020-05-29T00:15:36.413996Z",
     "start_time": "2020-05-29T00:15:35.570948Z"
    },
    "hidden": true
   },
   "outputs": [],
   "source": [
    "crime_df = pd.read_csv(\"../data/crime-incident-reporting/tmpuxm3s5u0.csv\", low_memory=False)"
   ]
  },
  {
   "cell_type": "code",
   "execution_count": 12,
   "metadata": {
    "ExecuteTime": {
     "end_time": "2020-05-28T02:35:19.904923Z",
     "start_time": "2020-05-28T02:35:19.889853Z"
    },
    "hidden": true
   },
   "outputs": [
    {
     "data": {
      "text/html": [
       "<div>\n",
       "<style scoped>\n",
       "    .dataframe tbody tr th:only-of-type {\n",
       "        vertical-align: middle;\n",
       "    }\n",
       "\n",
       "    .dataframe tbody tr th {\n",
       "        vertical-align: top;\n",
       "    }\n",
       "\n",
       "    .dataframe thead th {\n",
       "        text-align: right;\n",
       "    }\n",
       "</style>\n",
       "<table border=\"1\" class=\"dataframe\">\n",
       "  <thead>\n",
       "    <tr style=\"text-align: right;\">\n",
       "      <th></th>\n",
       "      <th>INCIDENT_NUMBER</th>\n",
       "      <th>OFFENSE_CODE</th>\n",
       "      <th>OFFENSE_CODE_GROUP</th>\n",
       "      <th>OFFENSE_DESCRIPTION</th>\n",
       "      <th>DISTRICT</th>\n",
       "      <th>REPORTING_AREA</th>\n",
       "      <th>SHOOTING</th>\n",
       "      <th>OCCURRED_ON_DATE</th>\n",
       "      <th>YEAR</th>\n",
       "      <th>MONTH</th>\n",
       "      <th>DAY_OF_WEEK</th>\n",
       "      <th>HOUR</th>\n",
       "      <th>UCR_PART</th>\n",
       "      <th>STREET</th>\n",
       "      <th>Lat</th>\n",
       "      <th>Long</th>\n",
       "      <th>Location</th>\n",
       "    </tr>\n",
       "  </thead>\n",
       "  <tbody>\n",
       "    <tr>\n",
       "      <th>0</th>\n",
       "      <td>TESTTEST2</td>\n",
       "      <td>423</td>\n",
       "      <td>NaN</td>\n",
       "      <td>ASSAULT - AGGRAVATED</td>\n",
       "      <td>External</td>\n",
       "      <td></td>\n",
       "      <td>0</td>\n",
       "      <td>2019-10-16 00:00:00</td>\n",
       "      <td>2019</td>\n",
       "      <td>10</td>\n",
       "      <td>Wednesday</td>\n",
       "      <td>0</td>\n",
       "      <td>NaN</td>\n",
       "      <td>RIVERVIEW DR</td>\n",
       "      <td>NaN</td>\n",
       "      <td>NaN</td>\n",
       "      <td>(0.00000000, 0.00000000)</td>\n",
       "    </tr>\n",
       "    <tr>\n",
       "      <th>1</th>\n",
       "      <td>I92102201</td>\n",
       "      <td>3301</td>\n",
       "      <td>NaN</td>\n",
       "      <td>VERBAL DISPUTE</td>\n",
       "      <td>E13</td>\n",
       "      <td>583</td>\n",
       "      <td>0</td>\n",
       "      <td>2019-12-20 03:08:00</td>\n",
       "      <td>2019</td>\n",
       "      <td>12</td>\n",
       "      <td>Friday</td>\n",
       "      <td>3</td>\n",
       "      <td>NaN</td>\n",
       "      <td>DAY ST</td>\n",
       "      <td>42.325122</td>\n",
       "      <td>-71.107779</td>\n",
       "      <td>(42.32512200, -71.10777900)</td>\n",
       "    </tr>\n",
       "    <tr>\n",
       "      <th>2</th>\n",
       "      <td>I92097173</td>\n",
       "      <td>3115</td>\n",
       "      <td>NaN</td>\n",
       "      <td>INVESTIGATE PERSON</td>\n",
       "      <td>C11</td>\n",
       "      <td>355</td>\n",
       "      <td>0</td>\n",
       "      <td>2019-10-23 00:00:00</td>\n",
       "      <td>2019</td>\n",
       "      <td>10</td>\n",
       "      <td>Wednesday</td>\n",
       "      <td>0</td>\n",
       "      <td>NaN</td>\n",
       "      <td>GIBSON ST</td>\n",
       "      <td>42.297555</td>\n",
       "      <td>-71.059709</td>\n",
       "      <td>(42.29755500, -71.05970900)</td>\n",
       "    </tr>\n",
       "    <tr>\n",
       "      <th>3</th>\n",
       "      <td>I92094519</td>\n",
       "      <td>3126</td>\n",
       "      <td>NaN</td>\n",
       "      <td>WARRANT ARREST - OUTSIDE OF BOSTON WARRANT</td>\n",
       "      <td>D14</td>\n",
       "      <td>765</td>\n",
       "      <td>0</td>\n",
       "      <td>2019-11-22 07:50:00</td>\n",
       "      <td>2019</td>\n",
       "      <td>11</td>\n",
       "      <td>Friday</td>\n",
       "      <td>7</td>\n",
       "      <td>NaN</td>\n",
       "      <td>BROOKS ST</td>\n",
       "      <td>42.355120</td>\n",
       "      <td>-71.162678</td>\n",
       "      <td>(42.35512000, -71.16267800)</td>\n",
       "    </tr>\n",
       "    <tr>\n",
       "      <th>4</th>\n",
       "      <td>I92089785</td>\n",
       "      <td>3005</td>\n",
       "      <td>NaN</td>\n",
       "      <td>SICK ASSIST</td>\n",
       "      <td>E13</td>\n",
       "      <td>574</td>\n",
       "      <td>0</td>\n",
       "      <td>2019-11-05 18:00:00</td>\n",
       "      <td>2019</td>\n",
       "      <td>11</td>\n",
       "      <td>Tuesday</td>\n",
       "      <td>18</td>\n",
       "      <td>NaN</td>\n",
       "      <td>WASHINGTON ST</td>\n",
       "      <td>42.309718</td>\n",
       "      <td>-71.104294</td>\n",
       "      <td>(42.30971800, -71.10429400)</td>\n",
       "    </tr>\n",
       "  </tbody>\n",
       "</table>\n",
       "</div>"
      ],
      "text/plain": [
       "  INCIDENT_NUMBER  OFFENSE_CODE OFFENSE_CODE_GROUP  \\\n",
       "0       TESTTEST2           423                NaN   \n",
       "1       I92102201          3301                NaN   \n",
       "2       I92097173          3115                NaN   \n",
       "3       I92094519          3126                NaN   \n",
       "4       I92089785          3005                NaN   \n",
       "\n",
       "                          OFFENSE_DESCRIPTION  DISTRICT REPORTING_AREA  \\\n",
       "0                        ASSAULT - AGGRAVATED  External                  \n",
       "1                              VERBAL DISPUTE       E13            583   \n",
       "2                          INVESTIGATE PERSON       C11            355   \n",
       "3  WARRANT ARREST - OUTSIDE OF BOSTON WARRANT       D14            765   \n",
       "4                                 SICK ASSIST       E13            574   \n",
       "\n",
       "  SHOOTING     OCCURRED_ON_DATE  YEAR  MONTH DAY_OF_WEEK  HOUR UCR_PART  \\\n",
       "0        0  2019-10-16 00:00:00  2019     10   Wednesday     0      NaN   \n",
       "1        0  2019-12-20 03:08:00  2019     12      Friday     3      NaN   \n",
       "2        0  2019-10-23 00:00:00  2019     10   Wednesday     0      NaN   \n",
       "3        0  2019-11-22 07:50:00  2019     11      Friday     7      NaN   \n",
       "4        0  2019-11-05 18:00:00  2019     11     Tuesday    18      NaN   \n",
       "\n",
       "          STREET        Lat       Long                     Location  \n",
       "0   RIVERVIEW DR        NaN        NaN     (0.00000000, 0.00000000)  \n",
       "1         DAY ST  42.325122 -71.107779  (42.32512200, -71.10777900)  \n",
       "2      GIBSON ST  42.297555 -71.059709  (42.29755500, -71.05970900)  \n",
       "3      BROOKS ST  42.355120 -71.162678  (42.35512000, -71.16267800)  \n",
       "4  WASHINGTON ST  42.309718 -71.104294  (42.30971800, -71.10429400)  "
      ]
     },
     "execution_count": 12,
     "metadata": {},
     "output_type": "execute_result"
    }
   ],
   "source": [
    "crime.head()"
   ]
  },
  {
   "cell_type": "code",
   "execution_count": 13,
   "metadata": {
    "ExecuteTime": {
     "end_time": "2020-05-28T02:35:33.274378Z",
     "start_time": "2020-05-28T02:35:33.250741Z"
    },
    "hidden": true
   },
   "outputs": [
    {
     "data": {
      "text/plain": [
       "0"
      ]
     },
     "execution_count": 13,
     "metadata": {},
     "output_type": "execute_result"
    }
   ],
   "source": [
    "crime[\"INCIDENT_NUMBER\"].isna().sum()"
   ]
  },
  {
   "cell_type": "code",
   "execution_count": 18,
   "metadata": {
    "ExecuteTime": {
     "end_time": "2020-05-28T02:37:20.368937Z",
     "start_time": "2020-05-28T02:37:20.347525Z"
    },
    "hidden": true
   },
   "outputs": [
    {
     "data": {
      "text/plain": [
       "0"
      ]
     },
     "execution_count": 18,
     "metadata": {},
     "output_type": "execute_result"
    }
   ],
   "source": [
    "crime[\"Location\"].isna().sum()"
   ]
  },
  {
   "cell_type": "code",
   "execution_count": 17,
   "metadata": {
    "ExecuteTime": {
     "end_time": "2020-05-28T02:36:40.638044Z",
     "start_time": "2020-05-28T02:36:40.602815Z"
    },
    "hidden": true
   },
   "outputs": [
    {
     "data": {
      "text/html": [
       "<div>\n",
       "<style scoped>\n",
       "    .dataframe tbody tr th:only-of-type {\n",
       "        vertical-align: middle;\n",
       "    }\n",
       "\n",
       "    .dataframe tbody tr th {\n",
       "        vertical-align: top;\n",
       "    }\n",
       "\n",
       "    .dataframe thead th {\n",
       "        text-align: right;\n",
       "    }\n",
       "</style>\n",
       "<table border=\"1\" class=\"dataframe\">\n",
       "  <thead>\n",
       "    <tr style=\"text-align: right;\">\n",
       "      <th></th>\n",
       "      <th>INCIDENT_NUMBER</th>\n",
       "      <th>OFFENSE_CODE</th>\n",
       "      <th>OFFENSE_CODE_GROUP</th>\n",
       "      <th>OFFENSE_DESCRIPTION</th>\n",
       "      <th>DISTRICT</th>\n",
       "      <th>REPORTING_AREA</th>\n",
       "      <th>SHOOTING</th>\n",
       "      <th>OCCURRED_ON_DATE</th>\n",
       "      <th>YEAR</th>\n",
       "      <th>MONTH</th>\n",
       "      <th>DAY_OF_WEEK</th>\n",
       "      <th>HOUR</th>\n",
       "      <th>UCR_PART</th>\n",
       "      <th>STREET</th>\n",
       "      <th>Lat</th>\n",
       "      <th>Long</th>\n",
       "      <th>Location</th>\n",
       "    </tr>\n",
       "  </thead>\n",
       "  <tbody>\n",
       "  </tbody>\n",
       "</table>\n",
       "</div>"
      ],
      "text/plain": [
       "Empty DataFrame\n",
       "Columns: [INCIDENT_NUMBER, OFFENSE_CODE, OFFENSE_CODE_GROUP, OFFENSE_DESCRIPTION, DISTRICT, REPORTING_AREA, SHOOTING, OCCURRED_ON_DATE, YEAR, MONTH, DAY_OF_WEEK, HOUR, UCR_PART, STREET, Lat, Long, Location]\n",
       "Index: []"
      ]
     },
     "execution_count": 17,
     "metadata": {},
     "output_type": "execute_result"
    }
   ],
   "source": [
    "crime.loc[crime[\"INCIDENT_NUMBER\"] == \"TEST\"]"
   ]
  },
  {
   "cell_type": "code",
   "execution_count": 16,
   "metadata": {
    "ExecuteTime": {
     "end_time": "2020-05-28T02:36:27.761753Z",
     "start_time": "2020-05-28T02:36:27.395366Z"
    },
    "hidden": true
   },
   "outputs": [
    {
     "data": {
      "text/plain": [
       "I152071596    20\n",
       "I172053750    18\n",
       "I192025403    15\n",
       "I182051210    14\n",
       "I162067346    14\n",
       "              ..\n",
       "I192006646     1\n",
       "I192038083     1\n",
       "I152091323     1\n",
       "202010090      1\n",
       "I182015754     1\n",
       "Name: INCIDENT_NUMBER, Length: 433164, dtype: int64"
      ]
     },
     "execution_count": 16,
     "metadata": {},
     "output_type": "execute_result"
    }
   ],
   "source": [
    "crime[\"INCIDENT_NUMBER\"].value_counts()"
   ]
  },
  {
   "cell_type": "markdown",
   "metadata": {
    "heading_collapsed": true
   },
   "source": [
    "# 311 Requests"
   ]
  },
  {
   "cell_type": "markdown",
   "metadata": {
    "hidden": true
   },
   "source": [
    "## `requests`"
   ]
  },
  {
   "cell_type": "code",
   "execution_count": 9,
   "metadata": {
    "ExecuteTime": {
     "end_time": "2020-05-29T00:15:39.574268Z",
     "start_time": "2020-05-29T00:15:38.443179Z"
    },
    "hidden": true
   },
   "outputs": [],
   "source": [
    "requests_df = pd.read_csv(\"../data/311-requests/311_service_requests_2019.csv\")"
   ]
  },
  {
   "cell_type": "markdown",
   "metadata": {
    "heading_collapsed": true
   },
   "source": [
    "# Short Term Rental Eligible"
   ]
  },
  {
   "cell_type": "markdown",
   "metadata": {
    "hidden": true
   },
   "source": [
    "## `str_elgible`"
   ]
  },
  {
   "cell_type": "code",
   "execution_count": 10,
   "metadata": {
    "ExecuteTime": {
     "end_time": "2020-05-29T00:15:45.487216Z",
     "start_time": "2020-05-29T00:15:45.155138Z"
    },
    "hidden": true,
    "scrolled": true
   },
   "outputs": [],
   "source": [
    "str_eligible_df = pd.read_csv(\"../data/short-term-rental-eligible/tmptpi1c0rx.csv\")"
   ]
  },
  {
   "cell_type": "code",
   "execution_count": null,
   "metadata": {
    "hidden": true
   },
   "outputs": [],
   "source": []
  },
  {
   "cell_type": "markdown",
   "metadata": {
    "heading_collapsed": true
   },
   "source": [
    "# Fire Incident Reporting"
   ]
  },
  {
   "cell_type": "markdown",
   "metadata": {
    "hidden": true
   },
   "source": [
    "## `fire_df`"
   ]
  },
  {
   "cell_type": "code",
   "execution_count": 17,
   "metadata": {
    "ExecuteTime": {
     "end_time": "2020-05-29T02:20:51.079114Z",
     "start_time": "2020-05-29T02:20:50.919093Z"
    },
    "hidden": true
   },
   "outputs": [],
   "source": [
    "path = r\"../data/fire-incident-reporting/\"\n",
    "files = glob.glob(path + \"/*.csv\")\n",
    "\n",
    "data_list = []\n",
    "\n",
    "for file in files:\n",
    "    df = pd.read_csv(file, index_col=None, header=0)\n",
    "    data_list.append(df)\n",
    "    \n",
    "fire_df = pd.concat(data_list, axis=0, ignore_index=True)"
   ]
  },
  {
   "cell_type": "code",
   "execution_count": null,
   "metadata": {
    "hidden": true
   },
   "outputs": [],
   "source": []
  }
 ],
 "metadata": {
  "kernelspec": {
   "display_name": "Python 3",
   "language": "python",
   "name": "python3"
  },
  "language_info": {
   "codemirror_mode": {
    "name": "ipython",
    "version": 3
   },
   "file_extension": ".py",
   "mimetype": "text/x-python",
   "name": "python",
   "nbconvert_exporter": "python",
   "pygments_lexer": "ipython3",
   "version": "3.7.6"
  },
  "toc": {
   "base_numbering": 1,
   "nav_menu": {},
   "number_sections": true,
   "sideBar": true,
   "skip_h1_title": false,
   "title_cell": "Table of Contents",
   "title_sidebar": "Contents",
   "toc_cell": false,
   "toc_position": {},
   "toc_section_display": true,
   "toc_window_display": false
  }
 },
 "nbformat": 4,
 "nbformat_minor": 4
}
