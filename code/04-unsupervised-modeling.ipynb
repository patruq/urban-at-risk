{
 "cells": [
  {
   "cell_type": "code",
   "execution_count": 61,
   "metadata": {
    "ExecuteTime": {
     "end_time": "2020-06-05T02:37:08.649064Z",
     "start_time": "2020-06-05T02:37:08.640896Z"
    }
   },
   "outputs": [],
   "source": [
    "# STANDARD LIBRARIES\n",
    "import pandas as pd\n",
    "import numpy as np\n",
    "import pickle\n",
    "\n",
    "# VISUALS\n",
    "import matplotlib.pyplot as plt\n",
    "import seaborn as sns\n",
    "\n",
    "# FEATURE ENGINEERING AND PREPROCESSING\n",
    "from sklearn.preprocessing import StandardScaler\n",
    "from sklearn.pipeline import Pipeline\n",
    "from sklearn.model_selection import GridSearchCV, train_test_split\n",
    "from sklearn.neighbors import NearestNeighbors, NearestCentroid\n",
    "\n",
    "# MODELING\n",
    "from sklearn.cluster import DBSCAN, KMeans\n",
    "from sklearn.decomposition import PCA\n",
    "from sklearn.linear_model import LogisticRegression\n",
    "\n",
    "# METRICS\n",
    "from sklearn.metrics import silhouette_score\n",
    "import kneed\n",
    "from kneed import knee_locator, KneeLocator\n",
    "\n",
    "%matplotlib inline"
   ]
  },
  {
   "cell_type": "markdown",
   "metadata": {},
   "source": [
    "# Read Files"
   ]
  },
  {
   "cell_type": "code",
   "execution_count": 3,
   "metadata": {
    "ExecuteTime": {
     "end_time": "2020-06-05T01:22:38.670916Z",
     "start_time": "2020-06-05T01:22:36.981007Z"
    }
   },
   "outputs": [],
   "source": [
    "main = pd.read_csv(\"../data/clean-data/main-engineered.csv\", low_memory=False)\n",
    "main.drop(columns=\"Unnamed: 0\", inplace=True)"
   ]
  },
  {
   "cell_type": "code",
   "execution_count": 4,
   "metadata": {
    "ExecuteTime": {
     "end_time": "2020-06-05T01:22:40.097369Z",
     "start_time": "2020-06-05T01:22:40.037926Z"
    },
    "scrolled": true
   },
   "outputs": [
    {
     "name": "stdout",
     "output_type": "stream",
     "text": [
      "(97515, 262)\n",
      "0\n"
     ]
    },
    {
     "data": {
      "text/html": [
       "<div>\n",
       "<style scoped>\n",
       "    .dataframe tbody tr th:only-of-type {\n",
       "        vertical-align: middle;\n",
       "    }\n",
       "\n",
       "    .dataframe tbody tr th {\n",
       "        vertical-align: top;\n",
       "    }\n",
       "\n",
       "    .dataframe thead th {\n",
       "        text-align: right;\n",
       "    }\n",
       "</style>\n",
       "<table border=\"1\" class=\"dataframe\">\n",
       "  <thead>\n",
       "    <tr style=\"text-align: right;\">\n",
       "      <th></th>\n",
       "      <th>zipcode</th>\n",
       "      <th>lu_category</th>\n",
       "      <th>zip_street</th>\n",
       "      <th>zip_num_street</th>\n",
       "      <th>land_value</th>\n",
       "      <th>bldg_value</th>\n",
       "      <th>total_value</th>\n",
       "      <th>gross_tax_amount</th>\n",
       "      <th>total_a_prop</th>\n",
       "      <th>total_ah_prop</th>\n",
       "      <th>...</th>\n",
       "      <th>req_source_category_4_total_street</th>\n",
       "      <th>req_source_category_5_total_street</th>\n",
       "      <th>req_source_category_0_total_zip</th>\n",
       "      <th>req_source_category_1_total_zip</th>\n",
       "      <th>req_source_category_2_total_zip</th>\n",
       "      <th>req_source_category_3_total_zip</th>\n",
       "      <th>req_source_category_4_total_zip</th>\n",
       "      <th>req_source_category_5_total_zip</th>\n",
       "      <th>label_zip</th>\n",
       "      <th>label_street</th>\n",
       "    </tr>\n",
       "  </thead>\n",
       "  <tbody>\n",
       "    <tr>\n",
       "      <th>0</th>\n",
       "      <td>2108</td>\n",
       "      <td>4</td>\n",
       "      <td>beacon 02108</td>\n",
       "      <td>87 beacon 02108</td>\n",
       "      <td>0</td>\n",
       "      <td>7842200</td>\n",
       "      <td>7842200</td>\n",
       "      <td>8265679</td>\n",
       "      <td>0.0</td>\n",
       "      <td>0.0</td>\n",
       "      <td>...</td>\n",
       "      <td>0.0</td>\n",
       "      <td>0.0</td>\n",
       "      <td>0.0</td>\n",
       "      <td>0.0</td>\n",
       "      <td>0.0</td>\n",
       "      <td>0.0</td>\n",
       "      <td>0.0</td>\n",
       "      <td>0.0</td>\n",
       "      <td>1</td>\n",
       "      <td>274</td>\n",
       "    </tr>\n",
       "    <tr>\n",
       "      <th>1</th>\n",
       "      <td>2108</td>\n",
       "      <td>6</td>\n",
       "      <td>beacon 02108</td>\n",
       "      <td>88 beacon 02108</td>\n",
       "      <td>0</td>\n",
       "      <td>12721500</td>\n",
       "      <td>12721500</td>\n",
       "      <td>13408461</td>\n",
       "      <td>0.0</td>\n",
       "      <td>0.0</td>\n",
       "      <td>...</td>\n",
       "      <td>0.0</td>\n",
       "      <td>0.0</td>\n",
       "      <td>0.0</td>\n",
       "      <td>0.0</td>\n",
       "      <td>0.0</td>\n",
       "      <td>0.0</td>\n",
       "      <td>0.0</td>\n",
       "      <td>0.0</td>\n",
       "      <td>1</td>\n",
       "      <td>274</td>\n",
       "    </tr>\n",
       "    <tr>\n",
       "      <th>2</th>\n",
       "      <td>2108</td>\n",
       "      <td>0</td>\n",
       "      <td>beacon 02108</td>\n",
       "      <td>89 beacon 02108</td>\n",
       "      <td>1373400</td>\n",
       "      <td>1588100</td>\n",
       "      <td>2961500</td>\n",
       "      <td>3121421</td>\n",
       "      <td>1.0</td>\n",
       "      <td>0.0</td>\n",
       "      <td>...</td>\n",
       "      <td>0.0</td>\n",
       "      <td>0.0</td>\n",
       "      <td>0.0</td>\n",
       "      <td>0.0</td>\n",
       "      <td>0.0</td>\n",
       "      <td>0.0</td>\n",
       "      <td>0.0</td>\n",
       "      <td>0.0</td>\n",
       "      <td>1</td>\n",
       "      <td>274</td>\n",
       "    </tr>\n",
       "    <tr>\n",
       "      <th>3</th>\n",
       "      <td>2108</td>\n",
       "      <td>6</td>\n",
       "      <td>beacon 02108</td>\n",
       "      <td>90 beacon 02108</td>\n",
       "      <td>0</td>\n",
       "      <td>7965700</td>\n",
       "      <td>7965700</td>\n",
       "      <td>8395849</td>\n",
       "      <td>0.0</td>\n",
       "      <td>0.0</td>\n",
       "      <td>...</td>\n",
       "      <td>0.0</td>\n",
       "      <td>0.0</td>\n",
       "      <td>0.0</td>\n",
       "      <td>0.0</td>\n",
       "      <td>0.0</td>\n",
       "      <td>0.0</td>\n",
       "      <td>0.0</td>\n",
       "      <td>0.0</td>\n",
       "      <td>1</td>\n",
       "      <td>274</td>\n",
       "    </tr>\n",
       "    <tr>\n",
       "      <th>4</th>\n",
       "      <td>2108</td>\n",
       "      <td>6</td>\n",
       "      <td>beacon 02108</td>\n",
       "      <td>91 beacon 02108</td>\n",
       "      <td>0</td>\n",
       "      <td>9757250</td>\n",
       "      <td>9757250</td>\n",
       "      <td>10284141</td>\n",
       "      <td>0.0</td>\n",
       "      <td>0.0</td>\n",
       "      <td>...</td>\n",
       "      <td>0.0</td>\n",
       "      <td>0.0</td>\n",
       "      <td>0.0</td>\n",
       "      <td>0.0</td>\n",
       "      <td>0.0</td>\n",
       "      <td>0.0</td>\n",
       "      <td>0.0</td>\n",
       "      <td>0.0</td>\n",
       "      <td>1</td>\n",
       "      <td>274</td>\n",
       "    </tr>\n",
       "  </tbody>\n",
       "</table>\n",
       "<p>5 rows × 262 columns</p>\n",
       "</div>"
      ],
      "text/plain": [
       "   zipcode  lu_category    zip_street   zip_num_street  land_value  \\\n",
       "0     2108            4  beacon 02108  87 beacon 02108           0   \n",
       "1     2108            6  beacon 02108  88 beacon 02108           0   \n",
       "2     2108            0  beacon 02108  89 beacon 02108     1373400   \n",
       "3     2108            6  beacon 02108  90 beacon 02108           0   \n",
       "4     2108            6  beacon 02108  91 beacon 02108           0   \n",
       "\n",
       "   bldg_value  total_value  gross_tax_amount  total_a_prop  total_ah_prop  \\\n",
       "0     7842200      7842200           8265679           0.0            0.0   \n",
       "1    12721500     12721500          13408461           0.0            0.0   \n",
       "2     1588100      2961500           3121421           1.0            0.0   \n",
       "3     7965700      7965700           8395849           0.0            0.0   \n",
       "4     9757250      9757250          10284141           0.0            0.0   \n",
       "\n",
       "   ...  req_source_category_4_total_street  \\\n",
       "0  ...                                 0.0   \n",
       "1  ...                                 0.0   \n",
       "2  ...                                 0.0   \n",
       "3  ...                                 0.0   \n",
       "4  ...                                 0.0   \n",
       "\n",
       "   req_source_category_5_total_street  req_source_category_0_total_zip  \\\n",
       "0                                 0.0                              0.0   \n",
       "1                                 0.0                              0.0   \n",
       "2                                 0.0                              0.0   \n",
       "3                                 0.0                              0.0   \n",
       "4                                 0.0                              0.0   \n",
       "\n",
       "   req_source_category_1_total_zip  req_source_category_2_total_zip  \\\n",
       "0                              0.0                              0.0   \n",
       "1                              0.0                              0.0   \n",
       "2                              0.0                              0.0   \n",
       "3                              0.0                              0.0   \n",
       "4                              0.0                              0.0   \n",
       "\n",
       "   req_source_category_3_total_zip  req_source_category_4_total_zip  \\\n",
       "0                              0.0                              0.0   \n",
       "1                              0.0                              0.0   \n",
       "2                              0.0                              0.0   \n",
       "3                              0.0                              0.0   \n",
       "4                              0.0                              0.0   \n",
       "\n",
       "   req_source_category_5_total_zip  label_zip  label_street  \n",
       "0                              0.0          1           274  \n",
       "1                              0.0          1           274  \n",
       "2                              0.0          1           274  \n",
       "3                              0.0          1           274  \n",
       "4                              0.0          1           274  \n",
       "\n",
       "[5 rows x 262 columns]"
      ]
     },
     "execution_count": 4,
     "metadata": {},
     "output_type": "execute_result"
    }
   ],
   "source": [
    "print(main.shape)\n",
    "print(main.isna().sum().sum())\n",
    "main.head()"
   ]
  },
  {
   "cell_type": "code",
   "execution_count": 5,
   "metadata": {
    "ExecuteTime": {
     "end_time": "2020-06-05T01:22:41.600372Z",
     "start_time": "2020-06-05T01:22:41.596503Z"
    }
   },
   "outputs": [
    {
     "data": {
      "text/plain": [
       "34"
      ]
     },
     "execution_count": 5,
     "metadata": {},
     "output_type": "execute_result"
    }
   ],
   "source": [
    "main[\"zipcode\"].nunique()"
   ]
  },
  {
   "cell_type": "code",
   "execution_count": 6,
   "metadata": {
    "ExecuteTime": {
     "end_time": "2020-06-05T01:23:16.199331Z",
     "start_time": "2020-06-05T01:23:15.446794Z"
    }
   },
   "outputs": [],
   "source": [
    "Z = main.drop(columns=[\n",
    "    \"label_zip\",\n",
    "    \"label_street\",\n",
    "    \"zipcode\",\n",
    "    \"zip_street\",\n",
    "    \"zip_num_street\"\n",
    "])\n",
    "X = main.drop(columns=[\n",
    "    \"label_zip\",\n",
    "    \"label_street\",\n",
    "#     \"st_name\",\n",
    "    \"zipcode\",\n",
    "    \"zip_street\",\n",
    "    \"zip_num_street\"\n",
    "])\n",
    "y = main[\"label_zip\"]\n",
    "# y = main[\"label_street\"]\n",
    "\n",
    "X_train, X_test, y_train, y_test = train_test_split(X, y,\n",
    "                                                    random_state=42)\n",
    "\n",
    "ss = StandardScaler()\n",
    "\n",
    "Z = ss.fit_transform(X)\n",
    "Z_train =  ss.fit_transform(X_train)\n",
    "Z_test = ss.transform(X_test)"
   ]
  },
  {
   "cell_type": "markdown",
   "metadata": {
    "heading_collapsed": true
   },
   "source": [
    "# Distance"
   ]
  },
  {
   "cell_type": "code",
   "execution_count": 24,
   "metadata": {
    "ExecuteTime": {
     "end_time": "2020-06-05T01:48:50.543118Z",
     "start_time": "2020-06-05T01:48:50.539518Z"
    },
    "hidden": true
   },
   "outputs": [],
   "source": [
    "def nearest_nb(x):\n",
    "    nb = NearestNeighbors(n_neighbors=5, algorithm=\"auto\", metric=\"euclidean\").fit(x)\n",
    "    distances, indices = nb.kneighbors(x)\n",
    "    \n",
    "    return distances, indices\n",
    "# https://stackoverflow.com/questions/51305370/calculating-average-distance-of-nearest-neighbours-in-pandas-dataframe"
   ]
  },
  {
   "cell_type": "code",
   "execution_count": 25,
   "metadata": {
    "ExecuteTime": {
     "end_time": "2020-06-05T01:55:48.638546Z",
     "start_time": "2020-06-05T01:48:55.923115Z"
    },
    "hidden": true
   },
   "outputs": [],
   "source": [
    "distances, indices = nearest_nb(Z)"
   ]
  },
  {
   "cell_type": "code",
   "execution_count": 26,
   "metadata": {
    "ExecuteTime": {
     "end_time": "2020-06-05T01:57:47.541011Z",
     "start_time": "2020-06-05T01:57:47.438464Z"
    },
    "hidden": true
   },
   "outputs": [],
   "source": [
    "#=========================\n",
    "filename = \"../assets/variables/main-nb-distances\"\n",
    "outfile = open(filename, \"wb\")\n",
    "pickle.dump(distances, outfile)\n",
    "outfile.close()\n",
    "\n",
    "#=========================\n",
    "filename = \"../assets/variables/main-nb-indices\"\n",
    "outfile = open(filename, \"wb\")\n",
    "pickle.dump(indices, outfile)\n",
    "outfile.close()"
   ]
  },
  {
   "cell_type": "code",
   "execution_count": 42,
   "metadata": {
    "ExecuteTime": {
     "end_time": "2020-06-05T02:09:08.693995Z",
     "start_time": "2020-06-05T02:09:08.688250Z"
    },
    "hidden": true
   },
   "outputs": [],
   "source": [
    "#=========================\n",
    "distances = pd.read_pickle(\"../assets/variables/main-nb-distances\")\n",
    "\n",
    "#=========================\n",
    "indices = pd.read_pickle(\"../assets/variables/main-nb-indices\")"
   ]
  },
  {
   "cell_type": "code",
   "execution_count": 43,
   "metadata": {
    "ExecuteTime": {
     "end_time": "2020-06-05T02:09:09.867707Z",
     "start_time": "2020-06-05T02:09:09.864012Z"
    },
    "hidden": true
   },
   "outputs": [
    {
     "data": {
      "text/plain": [
       "(97515, 5)"
      ]
     },
     "execution_count": 43,
     "metadata": {},
     "output_type": "execute_result"
    }
   ],
   "source": [
    "distances.shape"
   ]
  },
  {
   "cell_type": "code",
   "execution_count": 45,
   "metadata": {
    "ExecuteTime": {
     "end_time": "2020-06-05T02:09:16.033060Z",
     "start_time": "2020-06-05T02:09:15.925443Z"
    },
    "hidden": true
   },
   "outputs": [
    {
     "data": {
      "text/plain": [
       "[<matplotlib.lines.Line2D at 0x7fa9011fced0>]"
      ]
     },
     "execution_count": 45,
     "metadata": {},
     "output_type": "execute_result"
    },
    {
     "data": {
      "image/png": "[encoded data removed]",
      "text/plain": [
       "<Figure size 864x576 with 1 Axes>"
      ]
     },
     "metadata": {
      "needs_background": "light"
     },
     "output_type": "display_data"
    }
   ],
   "source": [
    "distances = np.sort(distances, axis=0)\n",
    "# distances = distances[:, 1]\n",
    "\n",
    "plt.figure(figsize=(12, 8))\n",
    "\n",
    "plt.plot(distances)"
   ]
  },
  {
   "cell_type": "code",
   "execution_count": 65,
   "metadata": {
    "ExecuteTime": {
     "end_time": "2020-06-05T02:38:24.432878Z",
     "start_time": "2020-06-05T02:38:24.205483Z"
    },
    "hidden": true
   },
   "outputs": [
    {
     "name": "stdout",
     "output_type": "stream",
     "text": [
      "0.8260038233215486\n"
     ]
    },
    {
     "data": {
      "text/plain": [
       "<Figure size 2160x1440 with 0 Axes>"
      ]
     },
     "metadata": {},
     "output_type": "display_data"
    },
    {
     "data": {
      "text/plain": [
       "<Figure size 360x360 with 0 Axes>"
      ]
     },
     "metadata": {},
     "output_type": "display_data"
    },
    {
     "data": {
      "image/png": "[encoded data removed]",
      "text/plain": [
       "<Figure size 432x432 with 1 Axes>"
      ]
     },
     "metadata": {
      "needs_background": "light"
     },
     "output_type": "display_data"
    }
   ],
   "source": [
    "# https://towardsdatascience.com/how-to-use-dbscan-effectively-ed212c02e62\n",
    "\n",
    "# THIS PLOT SHOWS THE POINT OF MAX DISTANCE BETWEEN 2 POINTS\n",
    "    # IT IS THE POINT OF 'GREATEST DEPARTURE'\n",
    "plt.figure(figsize=(30, 20))\n",
    "\n",
    "i = np.arange(len(distances))\n",
    "knee = KneeLocator(i, distances, S=1, curve='convex', direction='increasing', interp_method='polynomial')\n",
    "fig = plt.figure(figsize=(5, 5))\n",
    "knee.plot_knee()\n",
    "plt.xlabel(\"Points\")\n",
    "plt.ylabel(\"Distance\")\n",
    "\n",
    "print(distances[knee.knee])"
   ]
  },
  {
   "cell_type": "code",
   "execution_count": 68,
   "metadata": {
    "ExecuteTime": {
     "end_time": "2020-06-05T02:40:27.926291Z",
     "start_time": "2020-06-05T02:40:27.922824Z"
    },
    "hidden": true
   },
   "outputs": [
    {
     "data": {
      "text/plain": [
       "0.8260038233215486"
      ]
     },
     "execution_count": 68,
     "metadata": {},
     "output_type": "execute_result"
    }
   ],
   "source": [
    "# SAVE THE MAX POINT FOR USE IN DBSCAN CLUSTERING\n",
    "knee_point = distances[knee.knee]\n",
    "knee_point"
   ]
  },
  {
   "cell_type": "markdown",
   "metadata": {
    "heading_collapsed": true
   },
   "source": [
    "# DBSCAN"
   ]
  },
  {
   "cell_type": "markdown",
   "metadata": {
    "hidden": true
   },
   "source": [
    "**Limitations**\n",
    "\n",
    "Implicit assumptions in this approach:\n",
    "\n",
    "- Densities across all the clusters are the same.\n",
    "- Cluster sizes or standard deviations are the same."
   ]
  },
  {
   "cell_type": "code",
   "execution_count": 79,
   "metadata": {
    "ExecuteTime": {
     "end_time": "2020-06-05T02:55:34.142677Z",
     "start_time": "2020-06-05T02:51:44.682818Z"
    },
    "hidden": true
   },
   "outputs": [
    {
     "data": {
      "text/plain": [
       "DBSCAN(algorithm='auto', eps=0.8260038233215486, leaf_size=30,\n",
       "       metric='euclidean', metric_params=None, min_samples=262, n_jobs=None,\n",
       "       p=None)"
      ]
     },
     "execution_count": 79,
     "metadata": {},
     "output_type": "execute_result"
    }
   ],
   "source": [
    "# RULE OF THUMB: min_samples SHOULD BE SET TO MIN NUM OF FEATURES\n",
    "# https://towardsdatascience.com/cluster-analysis-create-visualize-and-interpret-customer-segments-474e55d00ebb\n",
    "\n",
    "# Provide a value for epsilon which defines the maximum distance between two points\n",
    "# Find a suitable value for epsilon by calculating the distance to \n",
    "    # the nearest n points for each point, sorting and plotting the results\n",
    "# https://towardsdatascience.com/machine-learning-clustering-dbscan-determine-the-optimal-value-for-epsilon-eps-python-example-3100091cfbc\n",
    "\n",
    "dbscan = DBSCAN(eps=knee_point,\n",
    "                min_samples=main.shape[1])\n",
    "dbscan.fit(Z)"
   ]
  },
  {
   "cell_type": "code",
   "execution_count": 80,
   "metadata": {
    "ExecuteTime": {
     "end_time": "2020-06-05T02:55:58.291802Z",
     "start_time": "2020-06-05T02:55:58.289643Z"
    },
    "hidden": true
   },
   "outputs": [],
   "source": [
    "# The labels_ property contains the list of clusters and their respective points.\n",
    "clusters = dbscan.labels_"
   ]
  },
  {
   "cell_type": "code",
   "execution_count": 91,
   "metadata": {
    "ExecuteTime": {
     "end_time": "2020-06-05T03:12:59.057923Z",
     "start_time": "2020-06-05T03:12:57.862632Z"
    },
    "hidden": true
   },
   "outputs": [
    {
     "data": {
      "text/plain": [
       "<matplotlib.collections.PathCollection at 0x7fa8bdb41550>"
      ]
     },
     "execution_count": 91,
     "metadata": {},
     "output_type": "execute_result"
    },
    {
     "data": {
      "image/png": "[encoded data removed]",
      "text/plain": [
       "<Figure size 432x288 with 1 Axes>"
      ]
     },
     "metadata": {
      "needs_background": "light"
     },
     "output_type": "display_data"
    }
   ],
   "source": [
    "# https://towardsdatascience.com/how-to-use-dbscan-effectively-ed212c02e62\n",
    "# pred = dbscan.fit_predict(Z)\n",
    "plt.scatter(Z[:,0], Z[:,1],c=pred, cmap=\"Paired\")\n",
    "# plt.title(\"DBSCAN\")"
   ]
  },
  {
   "cell_type": "code",
   "execution_count": 92,
   "metadata": {
    "ExecuteTime": {
     "end_time": "2020-06-05T03:14:12.450603Z",
     "start_time": "2020-06-05T03:14:12.447009Z"
    },
    "hidden": true
   },
   "outputs": [
    {
     "data": {
      "text/plain": [
       "72345"
      ]
     },
     "execution_count": 92,
     "metadata": {},
     "output_type": "execute_result"
    }
   ],
   "source": [
    "clusters[clusters == -1].size"
   ]
  },
  {
   "cell_type": "code",
   "execution_count": 85,
   "metadata": {
    "ExecuteTime": {
     "end_time": "2020-06-05T03:07:07.564209Z",
     "start_time": "2020-06-05T03:05:27.650036Z"
    },
    "hidden": true
   },
   "outputs": [
    {
     "data": {
      "text/plain": [
       "-0.17219833505520743"
      ]
     },
     "execution_count": 85,
     "metadata": {},
     "output_type": "execute_result"
    }
   ],
   "source": [
    "silhouette_score(Z, clusters)"
   ]
  },
  {
   "cell_type": "code",
   "execution_count": 109,
   "metadata": {
    "ExecuteTime": {
     "end_time": "2020-06-05T03:24:46.673131Z",
     "start_time": "2020-06-05T03:24:46.665756Z"
    },
    "hidden": true,
    "scrolled": true
   },
   "outputs": [
    {
     "data": {
      "text/plain": [
       "-1     0.741886\n",
       " 21    0.044444\n",
       " 16    0.036118\n",
       " 19    0.023227\n",
       " 3     0.017720\n",
       " 24    0.012398\n",
       " 5     0.011567\n",
       " 10    0.011444\n",
       " 18    0.009465\n",
       " 11    0.008624\n",
       " 17    0.008358\n",
       " 13    0.006984\n",
       " 9     0.006584\n",
       " 25    0.006348\n",
       " 1     0.006327\n",
       " 12    0.005127\n",
       " 6     0.005127\n",
       " 14    0.004943\n",
       " 0     0.004584\n",
       " 7     0.004287\n",
       " 2     0.003907\n",
       " 15    0.003640\n",
       " 8     0.003569\n",
       " 4     0.003569\n",
       " 22    0.003487\n",
       " 23    0.003333\n",
       " 20    0.002933\n",
       "Name: clusters, dtype: float64"
      ]
     },
     "execution_count": 109,
     "metadata": {},
     "output_type": "execute_result"
    }
   ],
   "source": [
    "X[\"clusters\"] = clusters\n",
    "X[\"clusters\"].value_counts(normalize=True)"
   ]
  },
  {
   "cell_type": "code",
   "execution_count": 110,
   "metadata": {
    "ExecuteTime": {
     "end_time": "2020-06-05T03:24:51.941908Z",
     "start_time": "2020-06-05T03:24:51.917298Z"
    },
    "hidden": true
   },
   "outputs": [
    {
     "data": {
      "text/html": [
       "<div>\n",
       "<style scoped>\n",
       "    .dataframe tbody tr th:only-of-type {\n",
       "        vertical-align: middle;\n",
       "    }\n",
       "\n",
       "    .dataframe tbody tr th {\n",
       "        vertical-align: top;\n",
       "    }\n",
       "\n",
       "    .dataframe thead th {\n",
       "        text-align: right;\n",
       "    }\n",
       "</style>\n",
       "<table border=\"1\" class=\"dataframe\">\n",
       "  <thead>\n",
       "    <tr style=\"text-align: right;\">\n",
       "      <th></th>\n",
       "      <th>lu_category</th>\n",
       "      <th>land_value</th>\n",
       "      <th>bldg_value</th>\n",
       "      <th>total_value</th>\n",
       "      <th>gross_tax_amount</th>\n",
       "      <th>total_a_prop</th>\n",
       "      <th>total_ah_prop</th>\n",
       "      <th>total_c_prop</th>\n",
       "      <th>total_cc_prop</th>\n",
       "      <th>total_cd_prop</th>\n",
       "      <th>...</th>\n",
       "      <th>req_source_category_3_total_street</th>\n",
       "      <th>req_source_category_4_total_street</th>\n",
       "      <th>req_source_category_5_total_street</th>\n",
       "      <th>req_source_category_0_total_zip</th>\n",
       "      <th>req_source_category_1_total_zip</th>\n",
       "      <th>req_source_category_2_total_zip</th>\n",
       "      <th>req_source_category_3_total_zip</th>\n",
       "      <th>req_source_category_4_total_zip</th>\n",
       "      <th>req_source_category_5_total_zip</th>\n",
       "      <th>clusters</th>\n",
       "    </tr>\n",
       "  </thead>\n",
       "  <tbody>\n",
       "    <tr>\n",
       "      <th>6329</th>\n",
       "      <td>10</td>\n",
       "      <td>231300</td>\n",
       "      <td>701100</td>\n",
       "      <td>932400</td>\n",
       "      <td>982750</td>\n",
       "      <td>0.0</td>\n",
       "      <td>0.0</td>\n",
       "      <td>0.0</td>\n",
       "      <td>0.0</td>\n",
       "      <td>0.0</td>\n",
       "      <td>...</td>\n",
       "      <td>0.0</td>\n",
       "      <td>0.0</td>\n",
       "      <td>0.0</td>\n",
       "      <td>0.0</td>\n",
       "      <td>0.0</td>\n",
       "      <td>0.0</td>\n",
       "      <td>0.0</td>\n",
       "      <td>0.0</td>\n",
       "      <td>0.0</td>\n",
       "      <td>0</td>\n",
       "    </tr>\n",
       "    <tr>\n",
       "      <th>6379</th>\n",
       "      <td>10</td>\n",
       "      <td>260400</td>\n",
       "      <td>603700</td>\n",
       "      <td>864100</td>\n",
       "      <td>910762</td>\n",
       "      <td>0.0</td>\n",
       "      <td>0.0</td>\n",
       "      <td>0.0</td>\n",
       "      <td>0.0</td>\n",
       "      <td>0.0</td>\n",
       "      <td>...</td>\n",
       "      <td>0.0</td>\n",
       "      <td>0.0</td>\n",
       "      <td>0.0</td>\n",
       "      <td>0.0</td>\n",
       "      <td>0.0</td>\n",
       "      <td>0.0</td>\n",
       "      <td>0.0</td>\n",
       "      <td>0.0</td>\n",
       "      <td>0.0</td>\n",
       "      <td>0</td>\n",
       "    </tr>\n",
       "    <tr>\n",
       "      <th>6389</th>\n",
       "      <td>10</td>\n",
       "      <td>262500</td>\n",
       "      <td>338000</td>\n",
       "      <td>600500</td>\n",
       "      <td>632927</td>\n",
       "      <td>0.0</td>\n",
       "      <td>0.0</td>\n",
       "      <td>0.0</td>\n",
       "      <td>0.0</td>\n",
       "      <td>0.0</td>\n",
       "      <td>...</td>\n",
       "      <td>0.0</td>\n",
       "      <td>0.0</td>\n",
       "      <td>0.0</td>\n",
       "      <td>0.0</td>\n",
       "      <td>0.0</td>\n",
       "      <td>0.0</td>\n",
       "      <td>0.0</td>\n",
       "      <td>0.0</td>\n",
       "      <td>0.0</td>\n",
       "      <td>0</td>\n",
       "    </tr>\n",
       "    <tr>\n",
       "      <th>6393</th>\n",
       "      <td>10</td>\n",
       "      <td>243700</td>\n",
       "      <td>496000</td>\n",
       "      <td>739700</td>\n",
       "      <td>779644</td>\n",
       "      <td>0.0</td>\n",
       "      <td>0.0</td>\n",
       "      <td>0.0</td>\n",
       "      <td>0.0</td>\n",
       "      <td>0.0</td>\n",
       "      <td>...</td>\n",
       "      <td>0.0</td>\n",
       "      <td>0.0</td>\n",
       "      <td>0.0</td>\n",
       "      <td>0.0</td>\n",
       "      <td>0.0</td>\n",
       "      <td>0.0</td>\n",
       "      <td>0.0</td>\n",
       "      <td>0.0</td>\n",
       "      <td>0.0</td>\n",
       "      <td>0</td>\n",
       "    </tr>\n",
       "    <tr>\n",
       "      <th>6398</th>\n",
       "      <td>10</td>\n",
       "      <td>265200</td>\n",
       "      <td>805100</td>\n",
       "      <td>1070300</td>\n",
       "      <td>1128096</td>\n",
       "      <td>0.0</td>\n",
       "      <td>0.0</td>\n",
       "      <td>0.0</td>\n",
       "      <td>0.0</td>\n",
       "      <td>0.0</td>\n",
       "      <td>...</td>\n",
       "      <td>0.0</td>\n",
       "      <td>0.0</td>\n",
       "      <td>0.0</td>\n",
       "      <td>0.0</td>\n",
       "      <td>0.0</td>\n",
       "      <td>0.0</td>\n",
       "      <td>0.0</td>\n",
       "      <td>0.0</td>\n",
       "      <td>0.0</td>\n",
       "      <td>0</td>\n",
       "    </tr>\n",
       "    <tr>\n",
       "      <th>...</th>\n",
       "      <td>...</td>\n",
       "      <td>...</td>\n",
       "      <td>...</td>\n",
       "      <td>...</td>\n",
       "      <td>...</td>\n",
       "      <td>...</td>\n",
       "      <td>...</td>\n",
       "      <td>...</td>\n",
       "      <td>...</td>\n",
       "      <td>...</td>\n",
       "      <td>...</td>\n",
       "      <td>...</td>\n",
       "      <td>...</td>\n",
       "      <td>...</td>\n",
       "      <td>...</td>\n",
       "      <td>...</td>\n",
       "      <td>...</td>\n",
       "      <td>...</td>\n",
       "      <td>...</td>\n",
       "      <td>...</td>\n",
       "      <td>...</td>\n",
       "    </tr>\n",
       "    <tr>\n",
       "      <th>9198</th>\n",
       "      <td>10</td>\n",
       "      <td>342600</td>\n",
       "      <td>850200</td>\n",
       "      <td>1192800</td>\n",
       "      <td>1257211</td>\n",
       "      <td>0.0</td>\n",
       "      <td>0.0</td>\n",
       "      <td>0.0</td>\n",
       "      <td>0.0</td>\n",
       "      <td>0.0</td>\n",
       "      <td>...</td>\n",
       "      <td>0.0</td>\n",
       "      <td>0.0</td>\n",
       "      <td>0.0</td>\n",
       "      <td>0.0</td>\n",
       "      <td>0.0</td>\n",
       "      <td>0.0</td>\n",
       "      <td>0.0</td>\n",
       "      <td>0.0</td>\n",
       "      <td>0.0</td>\n",
       "      <td>0</td>\n",
       "    </tr>\n",
       "    <tr>\n",
       "      <th>9199</th>\n",
       "      <td>10</td>\n",
       "      <td>342500</td>\n",
       "      <td>1069900</td>\n",
       "      <td>1412400</td>\n",
       "      <td>1488670</td>\n",
       "      <td>0.0</td>\n",
       "      <td>0.0</td>\n",
       "      <td>0.0</td>\n",
       "      <td>0.0</td>\n",
       "      <td>0.0</td>\n",
       "      <td>...</td>\n",
       "      <td>0.0</td>\n",
       "      <td>0.0</td>\n",
       "      <td>0.0</td>\n",
       "      <td>0.0</td>\n",
       "      <td>0.0</td>\n",
       "      <td>0.0</td>\n",
       "      <td>0.0</td>\n",
       "      <td>0.0</td>\n",
       "      <td>0.0</td>\n",
       "      <td>0</td>\n",
       "    </tr>\n",
       "    <tr>\n",
       "      <th>9205</th>\n",
       "      <td>10</td>\n",
       "      <td>327700</td>\n",
       "      <td>1052300</td>\n",
       "      <td>1380000</td>\n",
       "      <td>1454520</td>\n",
       "      <td>0.0</td>\n",
       "      <td>0.0</td>\n",
       "      <td>0.0</td>\n",
       "      <td>0.0</td>\n",
       "      <td>0.0</td>\n",
       "      <td>...</td>\n",
       "      <td>0.0</td>\n",
       "      <td>0.0</td>\n",
       "      <td>0.0</td>\n",
       "      <td>0.0</td>\n",
       "      <td>0.0</td>\n",
       "      <td>0.0</td>\n",
       "      <td>0.0</td>\n",
       "      <td>0.0</td>\n",
       "      <td>0.0</td>\n",
       "      <td>0</td>\n",
       "    </tr>\n",
       "    <tr>\n",
       "      <th>9214</th>\n",
       "      <td>10</td>\n",
       "      <td>325100</td>\n",
       "      <td>934300</td>\n",
       "      <td>1259400</td>\n",
       "      <td>1327408</td>\n",
       "      <td>0.0</td>\n",
       "      <td>0.0</td>\n",
       "      <td>0.0</td>\n",
       "      <td>0.0</td>\n",
       "      <td>0.0</td>\n",
       "      <td>...</td>\n",
       "      <td>0.0</td>\n",
       "      <td>0.0</td>\n",
       "      <td>0.0</td>\n",
       "      <td>0.0</td>\n",
       "      <td>0.0</td>\n",
       "      <td>0.0</td>\n",
       "      <td>0.0</td>\n",
       "      <td>0.0</td>\n",
       "      <td>0.0</td>\n",
       "      <td>0</td>\n",
       "    </tr>\n",
       "    <tr>\n",
       "      <th>9224</th>\n",
       "      <td>10</td>\n",
       "      <td>264400</td>\n",
       "      <td>835800</td>\n",
       "      <td>1100200</td>\n",
       "      <td>1159611</td>\n",
       "      <td>0.0</td>\n",
       "      <td>0.0</td>\n",
       "      <td>0.0</td>\n",
       "      <td>0.0</td>\n",
       "      <td>0.0</td>\n",
       "      <td>...</td>\n",
       "      <td>0.0</td>\n",
       "      <td>0.0</td>\n",
       "      <td>0.0</td>\n",
       "      <td>0.0</td>\n",
       "      <td>0.0</td>\n",
       "      <td>0.0</td>\n",
       "      <td>0.0</td>\n",
       "      <td>0.0</td>\n",
       "      <td>0.0</td>\n",
       "      <td>0</td>\n",
       "    </tr>\n",
       "  </tbody>\n",
       "</table>\n",
       "<p>447 rows × 258 columns</p>\n",
       "</div>"
      ],
      "text/plain": [
       "      lu_category  land_value  bldg_value  total_value  gross_tax_amount  \\\n",
       "6329           10      231300      701100       932400            982750   \n",
       "6379           10      260400      603700       864100            910762   \n",
       "6389           10      262500      338000       600500            632927   \n",
       "6393           10      243700      496000       739700            779644   \n",
       "6398           10      265200      805100      1070300           1128096   \n",
       "...           ...         ...         ...          ...               ...   \n",
       "9198           10      342600      850200      1192800           1257211   \n",
       "9199           10      342500     1069900      1412400           1488670   \n",
       "9205           10      327700     1052300      1380000           1454520   \n",
       "9214           10      325100      934300      1259400           1327408   \n",
       "9224           10      264400      835800      1100200           1159611   \n",
       "\n",
       "      total_a_prop  total_ah_prop  total_c_prop  total_cc_prop  total_cd_prop  \\\n",
       "6329           0.0            0.0           0.0            0.0            0.0   \n",
       "6379           0.0            0.0           0.0            0.0            0.0   \n",
       "6389           0.0            0.0           0.0            0.0            0.0   \n",
       "6393           0.0            0.0           0.0            0.0            0.0   \n",
       "6398           0.0            0.0           0.0            0.0            0.0   \n",
       "...            ...            ...           ...            ...            ...   \n",
       "9198           0.0            0.0           0.0            0.0            0.0   \n",
       "9199           0.0            0.0           0.0            0.0            0.0   \n",
       "9205           0.0            0.0           0.0            0.0            0.0   \n",
       "9214           0.0            0.0           0.0            0.0            0.0   \n",
       "9224           0.0            0.0           0.0            0.0            0.0   \n",
       "\n",
       "      ...  req_source_category_3_total_street  \\\n",
       "6329  ...                                 0.0   \n",
       "6379  ...                                 0.0   \n",
       "6389  ...                                 0.0   \n",
       "6393  ...                                 0.0   \n",
       "6398  ...                                 0.0   \n",
       "...   ...                                 ...   \n",
       "9198  ...                                 0.0   \n",
       "9199  ...                                 0.0   \n",
       "9205  ...                                 0.0   \n",
       "9214  ...                                 0.0   \n",
       "9224  ...                                 0.0   \n",
       "\n",
       "      req_source_category_4_total_street  req_source_category_5_total_street  \\\n",
       "6329                                 0.0                                 0.0   \n",
       "6379                                 0.0                                 0.0   \n",
       "6389                                 0.0                                 0.0   \n",
       "6393                                 0.0                                 0.0   \n",
       "6398                                 0.0                                 0.0   \n",
       "...                                  ...                                 ...   \n",
       "9198                                 0.0                                 0.0   \n",
       "9199                                 0.0                                 0.0   \n",
       "9205                                 0.0                                 0.0   \n",
       "9214                                 0.0                                 0.0   \n",
       "9224                                 0.0                                 0.0   \n",
       "\n",
       "      req_source_category_0_total_zip  req_source_category_1_total_zip  \\\n",
       "6329                              0.0                              0.0   \n",
       "6379                              0.0                              0.0   \n",
       "6389                              0.0                              0.0   \n",
       "6393                              0.0                              0.0   \n",
       "6398                              0.0                              0.0   \n",
       "...                               ...                              ...   \n",
       "9198                              0.0                              0.0   \n",
       "9199                              0.0                              0.0   \n",
       "9205                              0.0                              0.0   \n",
       "9214                              0.0                              0.0   \n",
       "9224                              0.0                              0.0   \n",
       "\n",
       "      req_source_category_2_total_zip  req_source_category_3_total_zip  \\\n",
       "6329                              0.0                              0.0   \n",
       "6379                              0.0                              0.0   \n",
       "6389                              0.0                              0.0   \n",
       "6393                              0.0                              0.0   \n",
       "6398                              0.0                              0.0   \n",
       "...                               ...                              ...   \n",
       "9198                              0.0                              0.0   \n",
       "9199                              0.0                              0.0   \n",
       "9205                              0.0                              0.0   \n",
       "9214                              0.0                              0.0   \n",
       "9224                              0.0                              0.0   \n",
       "\n",
       "      req_source_category_4_total_zip  req_source_category_5_total_zip  \\\n",
       "6329                              0.0                              0.0   \n",
       "6379                              0.0                              0.0   \n",
       "6389                              0.0                              0.0   \n",
       "6393                              0.0                              0.0   \n",
       "6398                              0.0                              0.0   \n",
       "...                               ...                              ...   \n",
       "9198                              0.0                              0.0   \n",
       "9199                              0.0                              0.0   \n",
       "9205                              0.0                              0.0   \n",
       "9214                              0.0                              0.0   \n",
       "9224                              0.0                              0.0   \n",
       "\n",
       "      clusters  \n",
       "6329         0  \n",
       "6379         0  \n",
       "6389         0  \n",
       "6393         0  \n",
       "6398         0  \n",
       "...        ...  \n",
       "9198         0  \n",
       "9199         0  \n",
       "9205         0  \n",
       "9214         0  \n",
       "9224         0  \n",
       "\n",
       "[447 rows x 258 columns]"
      ]
     },
     "execution_count": 110,
     "metadata": {},
     "output_type": "execute_result"
    }
   ],
   "source": [
    "X.loc[main[\"clusters\"] == 0]"
   ]
  },
  {
   "cell_type": "code",
   "execution_count": 99,
   "metadata": {
    "ExecuteTime": {
     "end_time": "2020-06-05T03:20:52.607180Z",
     "start_time": "2020-06-05T03:20:52.603317Z"
    },
    "hidden": true
   },
   "outputs": [
    {
     "data": {
      "text/plain": [
       "array([[ 0.20890938, -0.01182986, -0.01912911, ..., -0.05655065,\n",
       "        -0.05383161, -0.05238041],\n",
       "       [ 0.20890938, -0.01200628, -0.01994525, ..., -0.05655065,\n",
       "        -0.05383161, -0.05238041],\n",
       "       [ 0.20890938, -0.01177915, -0.01760291, ..., -0.05655065,\n",
       "        -0.05383161, -0.05238041],\n",
       "       ...,\n",
       "       [ 0.20890938, -0.01231476, -0.01965805, ..., -0.05655065,\n",
       "        -0.05383161, -0.05238041],\n",
       "       [ 0.20890938, -0.01248695, -0.0206841 , ..., -0.05655065,\n",
       "        -0.05383161, -0.05238041],\n",
       "       [ 0.20890938, -0.01248378, -0.02079247, ..., -0.05655065,\n",
       "        -0.05383161, -0.05238041]])"
      ]
     },
     "execution_count": 99,
     "metadata": {},
     "output_type": "execute_result"
    }
   ],
   "source": [
    "dbscan.components_"
   ]
  },
  {
   "cell_type": "code",
   "execution_count": null,
   "metadata": {
    "hidden": true
   },
   "outputs": [],
   "source": []
  },
  {
   "cell_type": "code",
   "execution_count": null,
   "metadata": {
    "hidden": true
   },
   "outputs": [],
   "source": []
  },
  {
   "cell_type": "code",
   "execution_count": null,
   "metadata": {
    "hidden": true
   },
   "outputs": [],
   "source": [
    "#========================"
   ]
  },
  {
   "cell_type": "code",
   "execution_count": 81,
   "metadata": {
    "ExecuteTime": {
     "end_time": "2020-06-05T02:56:00.418159Z",
     "start_time": "2020-06-05T02:56:00.414781Z"
    },
    "hidden": true
   },
   "outputs": [],
   "source": [
    "def dbscan_plot(X, eps, min_samples):\n",
    "    y_pred = dbscan.fit_predict(X)\n",
    "    plt.scatter(X[:,0], X[:,1],c=y_pred, cmap='Paired')\n",
    "    plt.title(\"DBSCAN\")\n",
    "dbscan(Z, knee_point, main.shape[0])"
   ]
  },
  {
   "cell_type": "code",
   "execution_count": 51,
   "metadata": {
    "ExecuteTime": {
     "end_time": "2020-06-05T02:22:14.470389Z",
     "start_time": "2020-06-05T02:22:14.467597Z"
    },
    "hidden": true
   },
   "outputs": [],
   "source": [
    "colors = [\n",
    "    'royalblue', \n",
    "    'maroon', \n",
    "    'forestgreen', \n",
    "    'mediumorchid', \n",
    "    'tan', \n",
    "    'deeppink', \n",
    "    'olive', \n",
    "    'goldenrod', \n",
    "    'lightcyan', \n",
    "    'navy'\n",
    "]"
   ]
  },
  {
   "cell_type": "code",
   "execution_count": null,
   "metadata": {
    "hidden": true
   },
   "outputs": [],
   "source": []
  },
  {
   "cell_type": "markdown",
   "metadata": {
    "heading_collapsed": true
   },
   "source": [
    "# KMeans"
   ]
  },
  {
   "cell_type": "markdown",
   "metadata": {
    "hidden": true
   },
   "source": [
    "**To help calculate an appropriate distance to model on, we will use `NearestNeighbors` to return the distances:**"
   ]
  },
  {
   "cell_type": "code",
   "execution_count": null,
   "metadata": {
    "hidden": true
   },
   "outputs": [],
   "source": []
  },
  {
   "cell_type": "markdown",
   "metadata": {
    "heading_collapsed": true
   },
   "source": [
    "# PCA"
   ]
  },
  {
   "cell_type": "code",
   "execution_count": 47,
   "metadata": {
    "ExecuteTime": {
     "end_time": "2020-06-03T20:57:08.041567Z",
     "start_time": "2020-06-03T20:57:08.026752Z"
    },
    "hidden": true
   },
   "outputs": [],
   "source": [
    "data_cols = pd.read_pickle(\"../assets/variables/data_cols\")\n",
    "pw_cols = pd.read_pickle(\"../assets/variables/pw_cols\")\n",
    "fire_cols = pd.read_pickle(\"../assets/variables/fire_cols\")\n",
    "requests_cols = pd.read_pickle(\"../assets/variables/requests_cols\")\n",
    "\n",
    "data_main_df = main[data_cols]\n",
    "pw_main_df = main[pw_cols]\n",
    "fire_main_df = main[fire_cols]\n",
    "requests_main_df = main[requests_cols]\n",
    "\n",
    "main_scaler = StandardScaler()\n",
    "data_main_sc = main_scaler.fit_transform(data_main_df)\n",
    "pw_main_sc = main_scaler.fit_transform(pw_main_df)\n",
    "fire_main_sc = main_scaler.fit_transform(fire_main_df)\n",
    "requests_main_sc = main_scaler.fit_transform(requests_main_df)\n",
    "\n",
    "data_main_sc_df = pd.DataFrame(data_main_sc)\n",
    "pw_main_sc_df = pd.DataFrame(pw_main_sc)\n",
    "fire_main_sc_df = pd.DataFrame(fire_main_sc)\n",
    "requests_main_sc_df = pd.DataFrame(requests_main_sc)"
   ]
  },
  {
   "cell_type": "markdown",
   "metadata": {
    "heading_collapsed": true,
    "hidden": true
   },
   "source": [
    "## Data Cols"
   ]
  },
  {
   "cell_type": "code",
   "execution_count": 60,
   "metadata": {
    "ExecuteTime": {
     "end_time": "2020-06-03T21:08:12.292208Z",
     "start_time": "2020-06-03T21:08:12.285898Z"
    },
    "hidden": true
   },
   "outputs": [
    {
     "name": "stdout",
     "output_type": "stream",
     "text": [
      "Explained Variance (first 20 components): [0.387 0.18  0.096 0.07  0.06 ]\n",
      "\n",
      "Cumulative Variance (first 20 components): [0.387 0.567 0.663 0.733 0.794]\n"
     ]
    }
   ],
   "source": [
    "pca_data = PCA(n_components=5,\n",
    "          random_state=42)\n",
    "pca_data.fit(data_main_sc_df)\n",
    "\n",
    "var_exp = pca_data.explained_variance_ratio_\n",
    "cum_var_exp = np.cumsum(var_exp)\n",
    "\n",
    "print(f\"Explained Variance (first 20 components): {np.round(var_exp[:20], 3)}\")\n",
    "print(\"\")\n",
    "print(f\"Cumulative Variance (first 20 components): {np.round(cum_var_exp[:20], 3)}\")"
   ]
  },
  {
   "cell_type": "markdown",
   "metadata": {
    "heading_collapsed": true,
    "hidden": true
   },
   "source": [
    "## PW Violations Cols"
   ]
  },
  {
   "cell_type": "code",
   "execution_count": 58,
   "metadata": {
    "ExecuteTime": {
     "end_time": "2020-06-03T21:10:15.384619Z",
     "start_time": "2020-06-03T21:10:15.326295Z"
    },
    "hidden": true
   },
   "outputs": [
    {
     "name": "stdout",
     "output_type": "stream",
     "text": [
      "Explained Variance (first 20 components): [0.276 0.128 0.09  0.073 0.063]\n",
      "\n",
      "Cumulative Variance (first 20 components): [0.276 0.404 0.494 0.568 0.631]\n"
     ]
    }
   ],
   "source": [
    "pca_pw = PCA(n_components=5,\n",
    "          random_state=42)\n",
    "pca_pw.fit(pw_main_sc_df)\n",
    "\n",
    "var_exp = pca_pw.explained_variance_ratio_\n",
    "cum_var_exp = np.cumsum(var_exp)\n",
    "\n",
    "print(f\"Explained Variance (first 20 components): {np.round(var_exp[:20], 3)}\")\n",
    "print(\"\")\n",
    "print(f\"Cumulative Variance (first 20 components): {np.round(cum_var_exp[:20], 3)}\")"
   ]
  },
  {
   "cell_type": "markdown",
   "metadata": {
    "heading_collapsed": true,
    "hidden": true
   },
   "source": [
    "## Fire Cols"
   ]
  },
  {
   "cell_type": "code",
   "execution_count": 62,
   "metadata": {
    "ExecuteTime": {
     "end_time": "2020-06-03T21:10:15.384619Z",
     "start_time": "2020-06-03T21:10:15.326295Z"
    },
    "hidden": true
   },
   "outputs": [
    {
     "name": "stdout",
     "output_type": "stream",
     "text": [
      "Explained Variance (first 5 components): [0.442 0.243 0.199]\n",
      "\n",
      "Cumulative Variance (first 5 components): [0.442 0.685 0.884]\n"
     ]
    }
   ],
   "source": [
    "pca_fire = PCA(n_components=3,\n",
    "          random_state=42)\n",
    "pca_fire.fit(fire_main_sc_df)\n",
    "\n",
    "var_exp = pca_fire.explained_variance_ratio_\n",
    "cum_var_exp = np.cumsum(var_exp)\n",
    "\n",
    "print(f\"Explained Variance (first 5 components): {np.round(var_exp[:5], 3)}\")\n",
    "print(\"\")\n",
    "print(f\"Cumulative Variance (first 5 components): {np.round(cum_var_exp[:5], 3)}\")"
   ]
  },
  {
   "cell_type": "markdown",
   "metadata": {
    "heading_collapsed": true,
    "hidden": true
   },
   "source": [
    "## Requests Cols"
   ]
  },
  {
   "cell_type": "code",
   "execution_count": 63,
   "metadata": {
    "ExecuteTime": {
     "end_time": "2020-06-03T21:10:15.384619Z",
     "start_time": "2020-06-03T21:10:15.326295Z"
    },
    "hidden": true
   },
   "outputs": [
    {
     "name": "stdout",
     "output_type": "stream",
     "text": [
      "Explained Variance (first 20 components): [0.503 0.125 0.054 0.048 0.041]\n",
      "\n",
      "Cumulative Variance (first 20 components): [0.503 0.628 0.683 0.731 0.772]\n"
     ]
    }
   ],
   "source": [
    "pca_requests = PCA(n_components=5,\n",
    "          random_state=42)\n",
    "pca_requests.fit(requests_main_sc_df)\n",
    "\n",
    "var_exp = pca_requests.explained_variance_ratio_\n",
    "cum_var_exp = np.cumsum(var_exp)\n",
    "\n",
    "print(f\"Explained Variance (first 20 components): {np.round(var_exp[:20], 3)}\")\n",
    "print(\"\")\n",
    "print(f\"Cumulative Variance (first 20 components): {np.round(cum_var_exp[:20], 3)}\")"
   ]
  },
  {
   "cell_type": "markdown",
   "metadata": {
    "heading_collapsed": true,
    "hidden": true
   },
   "source": [
    "## Entire Main DataFrame"
   ]
  },
  {
   "cell_type": "code",
   "execution_count": 111,
   "metadata": {
    "ExecuteTime": {
     "end_time": "2020-06-03T21:40:02.236463Z",
     "start_time": "2020-06-03T21:40:02.229256Z"
    },
    "hidden": true
   },
   "outputs": [
    {
     "name": "stdout",
     "output_type": "stream",
     "text": [
      "Explained Variance (first 20 components): [0.373 0.123 0.062 0.049 0.045]\n",
      "\n",
      "Cumulative Variance (first 20 components): [0.373 0.495 0.557 0.606 0.651]\n"
     ]
    }
   ],
   "source": [
    "# BASIC MOST MODEL\n",
    "pca_main = PCA(n_components=5,\n",
    "               random_state=42)\n",
    "pca_main.fit(X_sc)\n",
    "\n",
    "var_exp = pca_main.explained_variance_ratio_\n",
    "cum_var_exp = np.cumsum(var_exp)\n",
    "\n",
    "print(f\"Explained Variance (first 20 components): {np.round(var_exp[:40], 3)}\")\n",
    "print(\"\")\n",
    "print(f\"Cumulative Variance (first 20 components): {np.round(cum_var_exp[:40], 3)}\")"
   ]
  },
  {
   "cell_type": "code",
   "execution_count": null,
   "metadata": {
    "hidden": true
   },
   "outputs": [],
   "source": []
  },
  {
   "cell_type": "code",
   "execution_count": null,
   "metadata": {
    "hidden": true
   },
   "outputs": [],
   "source": []
  },
  {
   "cell_type": "markdown",
   "metadata": {
    "heading_collapsed": true,
    "hidden": true
   },
   "source": [
    "## For Supervised Learning Models"
   ]
  },
  {
   "cell_type": "code",
   "execution_count": 113,
   "metadata": {
    "ExecuteTime": {
     "end_time": "2020-06-03T21:40:15.178210Z",
     "start_time": "2020-06-03T21:40:15.173340Z"
    },
    "hidden": true
   },
   "outputs": [],
   "source": [
    "X = main.drop(columns=\"label\")\n",
    "y = main[\"label\"]"
   ]
  },
  {
   "cell_type": "code",
   "execution_count": 126,
   "metadata": {
    "ExecuteTime": {
     "end_time": "2020-06-03T21:42:04.841312Z",
     "start_time": "2020-06-03T21:42:04.829474Z"
    },
    "collapsed": true,
    "hidden": true
   },
   "outputs": [
    {
     "ename": "ValueError",
     "evalue": "The least populated class in y has only 1 member, which is too few. The minimum number of groups for any class cannot be less than 2.",
     "output_type": "error",
     "traceback": [
      "\u001b[0;31m---------------------------------------------------------------------------\u001b[0m",
      "\u001b[0;31mValueError\u001b[0m                                Traceback (most recent call last)",
      "\u001b[0;32m<ipython-input-126-5f234e9e7ad1>\u001b[0m in \u001b[0;36m<module>\u001b[0;34m\u001b[0m\n\u001b[1;32m      1\u001b[0m X_train, X_test, y_train, y_test = train_test_split(X, y,\n\u001b[1;32m      2\u001b[0m                                                     \u001b[0mstratify\u001b[0m\u001b[0;34m=\u001b[0m\u001b[0my\u001b[0m\u001b[0;34m,\u001b[0m\u001b[0;34m\u001b[0m\u001b[0;34m\u001b[0m\u001b[0m\n\u001b[0;32m----> 3\u001b[0;31m                                                     random_state=42)\n\u001b[0m",
      "\u001b[0;32m~/anaconda3/lib/python3.7/site-packages/sklearn/model_selection/_split.py\u001b[0m in \u001b[0;36mtrain_test_split\u001b[0;34m(*arrays, **options)\u001b[0m\n\u001b[1;32m   2141\u001b[0m                      random_state=random_state)\n\u001b[1;32m   2142\u001b[0m \u001b[0;34m\u001b[0m\u001b[0m\n\u001b[0;32m-> 2143\u001b[0;31m         \u001b[0mtrain\u001b[0m\u001b[0;34m,\u001b[0m \u001b[0mtest\u001b[0m \u001b[0;34m=\u001b[0m \u001b[0mnext\u001b[0m\u001b[0;34m(\u001b[0m\u001b[0mcv\u001b[0m\u001b[0;34m.\u001b[0m\u001b[0msplit\u001b[0m\u001b[0;34m(\u001b[0m\u001b[0mX\u001b[0m\u001b[0;34m=\u001b[0m\u001b[0marrays\u001b[0m\u001b[0;34m[\u001b[0m\u001b[0;36m0\u001b[0m\u001b[0;34m]\u001b[0m\u001b[0;34m,\u001b[0m \u001b[0my\u001b[0m\u001b[0;34m=\u001b[0m\u001b[0mstratify\u001b[0m\u001b[0;34m)\u001b[0m\u001b[0;34m)\u001b[0m\u001b[0;34m\u001b[0m\u001b[0;34m\u001b[0m\u001b[0m\n\u001b[0m\u001b[1;32m   2144\u001b[0m \u001b[0;34m\u001b[0m\u001b[0m\n\u001b[1;32m   2145\u001b[0m     return list(chain.from_iterable((_safe_indexing(a, train),\n",
      "\u001b[0;32m~/anaconda3/lib/python3.7/site-packages/sklearn/model_selection/_split.py\u001b[0m in \u001b[0;36msplit\u001b[0;34m(self, X, y, groups)\u001b[0m\n\u001b[1;32m   1327\u001b[0m         \"\"\"\n\u001b[1;32m   1328\u001b[0m         \u001b[0mX\u001b[0m\u001b[0;34m,\u001b[0m \u001b[0my\u001b[0m\u001b[0;34m,\u001b[0m \u001b[0mgroups\u001b[0m \u001b[0;34m=\u001b[0m \u001b[0mindexable\u001b[0m\u001b[0;34m(\u001b[0m\u001b[0mX\u001b[0m\u001b[0;34m,\u001b[0m \u001b[0my\u001b[0m\u001b[0;34m,\u001b[0m \u001b[0mgroups\u001b[0m\u001b[0;34m)\u001b[0m\u001b[0;34m\u001b[0m\u001b[0;34m\u001b[0m\u001b[0m\n\u001b[0;32m-> 1329\u001b[0;31m         \u001b[0;32mfor\u001b[0m \u001b[0mtrain\u001b[0m\u001b[0;34m,\u001b[0m \u001b[0mtest\u001b[0m \u001b[0;32min\u001b[0m \u001b[0mself\u001b[0m\u001b[0;34m.\u001b[0m\u001b[0m_iter_indices\u001b[0m\u001b[0;34m(\u001b[0m\u001b[0mX\u001b[0m\u001b[0;34m,\u001b[0m \u001b[0my\u001b[0m\u001b[0;34m,\u001b[0m \u001b[0mgroups\u001b[0m\u001b[0;34m)\u001b[0m\u001b[0;34m:\u001b[0m\u001b[0;34m\u001b[0m\u001b[0;34m\u001b[0m\u001b[0m\n\u001b[0m\u001b[1;32m   1330\u001b[0m             \u001b[0;32myield\u001b[0m \u001b[0mtrain\u001b[0m\u001b[0;34m,\u001b[0m \u001b[0mtest\u001b[0m\u001b[0;34m\u001b[0m\u001b[0;34m\u001b[0m\u001b[0m\n\u001b[1;32m   1331\u001b[0m \u001b[0;34m\u001b[0m\u001b[0m\n",
      "\u001b[0;32m~/anaconda3/lib/python3.7/site-packages/sklearn/model_selection/_split.py\u001b[0m in \u001b[0;36m_iter_indices\u001b[0;34m(self, X, y, groups)\u001b[0m\n\u001b[1;32m   1657\u001b[0m         \u001b[0mclass_counts\u001b[0m \u001b[0;34m=\u001b[0m \u001b[0mnp\u001b[0m\u001b[0;34m.\u001b[0m\u001b[0mbincount\u001b[0m\u001b[0;34m(\u001b[0m\u001b[0my_indices\u001b[0m\u001b[0;34m)\u001b[0m\u001b[0;34m\u001b[0m\u001b[0;34m\u001b[0m\u001b[0m\n\u001b[1;32m   1658\u001b[0m         \u001b[0;32mif\u001b[0m \u001b[0mnp\u001b[0m\u001b[0;34m.\u001b[0m\u001b[0mmin\u001b[0m\u001b[0;34m(\u001b[0m\u001b[0mclass_counts\u001b[0m\u001b[0;34m)\u001b[0m \u001b[0;34m<\u001b[0m \u001b[0;36m2\u001b[0m\u001b[0;34m:\u001b[0m\u001b[0;34m\u001b[0m\u001b[0;34m\u001b[0m\u001b[0m\n\u001b[0;32m-> 1659\u001b[0;31m             raise ValueError(\"The least populated class in y has only 1\"\n\u001b[0m\u001b[1;32m   1660\u001b[0m                              \u001b[0;34m\" member, which is too few. The minimum\"\u001b[0m\u001b[0;34m\u001b[0m\u001b[0;34m\u001b[0m\u001b[0m\n\u001b[1;32m   1661\u001b[0m                              \u001b[0;34m\" number of groups for any class cannot\"\u001b[0m\u001b[0;34m\u001b[0m\u001b[0;34m\u001b[0m\u001b[0m\n",
      "\u001b[0;31mValueError\u001b[0m: The least populated class in y has only 1 member, which is too few. The minimum number of groups for any class cannot be less than 2."
     ]
    }
   ],
   "source": [
    "X_train, X_test, y_train, y_test = train_test_split(X, y,\n",
    "                                                    stratify=y,\n",
    "                                                    random_state=42)"
   ]
  },
  {
   "cell_type": "code",
   "execution_count": 115,
   "metadata": {
    "ExecuteTime": {
     "end_time": "2020-06-03T21:40:17.236028Z",
     "start_time": "2020-06-03T21:40:17.229075Z"
    },
    "hidden": true
   },
   "outputs": [],
   "source": [
    "ss = StandardScaler()\n",
    "Z_train =  ss.fit_transform(X_train)\n",
    "Z_test = ss.transform(X_test)"
   ]
  },
  {
   "cell_type": "code",
   "execution_count": 116,
   "metadata": {
    "ExecuteTime": {
     "end_time": "2020-06-03T21:40:17.808308Z",
     "start_time": "2020-06-03T21:40:17.805446Z"
    },
    "hidden": true
   },
   "outputs": [],
   "source": [
    "pca_pipe = Pipeline([\n",
    "    (\"ss\", StandardScaler()),\n",
    "    (\"pca\", PCA()),\n",
    "    (\"logreg\", LogisticRegression())\n",
    "])"
   ]
  },
  {
   "cell_type": "code",
   "execution_count": 118,
   "metadata": {
    "ExecuteTime": {
     "end_time": "2020-06-03T21:40:23.208818Z",
     "start_time": "2020-06-03T21:40:23.206069Z"
    },
    "hidden": true
   },
   "outputs": [],
   "source": [
    "pca_pipe.get_params();"
   ]
  },
  {
   "cell_type": "code",
   "execution_count": 124,
   "metadata": {
    "ExecuteTime": {
     "end_time": "2020-06-03T21:40:59.897459Z",
     "start_time": "2020-06-03T21:40:59.893618Z"
    },
    "hidden": true
   },
   "outputs": [],
   "source": [
    "params = {\n",
    "    \"pca__n_components\": np.arange(1, 10, 1), # THERE ARE 118 COLUMNS\n",
    "    \"pca__random_state\": [41],\n",
    "    \"logreg__penalty\": [\"l1\", \"l2\"],\n",
    "    \"logreg__C\": [0.01, 0.1, 1],\n",
    "    \"logreg__verbose\": [100]\n",
    "}\n",
    "\n",
    "gs = GridSearchCV(\n",
    "    pca_pipe,\n",
    "    params,\n",
    "    cv=5\n",
    ")"
   ]
  },
  {
   "cell_type": "code",
   "execution_count": 120,
   "metadata": {
    "ExecuteTime": {
     "end_time": "2020-06-03T21:40:24.632747Z",
     "start_time": "2020-06-03T21:40:24.628930Z"
    },
    "hidden": true
   },
   "outputs": [
    {
     "data": {
      "text/plain": [
       "array([[-0.525148  , -0.19466292,  0.22358794, ..., -0.93738389,\n",
       "        -0.90012905, -0.54744332],\n",
       "       [-0.54675903, -0.38849968, -0.36165419, ..., -0.23583556,\n",
       "         0.21829002, -0.54744332],\n",
       "       [-0.42789837, -0.35706568, -0.50535326, ...,  0.37441538,\n",
       "         0.22622207,  0.43013404],\n",
       "       ...,\n",
       "       [ 0.45815381, -0.60143096, -0.86313219, ..., -1.12958891,\n",
       "        -0.99531365, -0.54744332],\n",
       "       [-0.43870388, -0.03608859,  0.51004289, ...,  1.38349174,\n",
       "         0.22622207, -0.54744332],\n",
       "       [-0.25501014,  1.83146452,  2.3431829 , ...,  0.31675387,\n",
       "         1.51518022, -0.54744332]])"
      ]
     },
     "execution_count": 120,
     "metadata": {},
     "output_type": "execute_result"
    }
   ],
   "source": [
    "Z_train"
   ]
  },
  {
   "cell_type": "code",
   "execution_count": 123,
   "metadata": {
    "ExecuteTime": {
     "end_time": "2020-06-03T21:40:43.089605Z",
     "start_time": "2020-06-03T21:40:43.070104Z"
    },
    "hidden": true
   },
   "outputs": [
    {
     "ename": "ValueError",
     "evalue": "n_splits=5 cannot be greater than the number of members in each class.",
     "output_type": "error",
     "traceback": [
      "\u001b[0;31m---------------------------------------------------------------------------\u001b[0m",
      "\u001b[0;31mValueError\u001b[0m                                Traceback (most recent call last)",
      "\u001b[0;32m<ipython-input-123-010a528fce42>\u001b[0m in \u001b[0;36m<module>\u001b[0;34m\u001b[0m\n\u001b[0;32m----> 1\u001b[0;31m \u001b[0mgs\u001b[0m\u001b[0;34m.\u001b[0m\u001b[0mfit\u001b[0m\u001b[0;34m(\u001b[0m\u001b[0mZ_train\u001b[0m\u001b[0;34m,\u001b[0m \u001b[0my_train\u001b[0m\u001b[0;34m)\u001b[0m\u001b[0;34m\u001b[0m\u001b[0;34m\u001b[0m\u001b[0m\n\u001b[0m",
      "\u001b[0;32m~/anaconda3/lib/python3.7/site-packages/sklearn/model_selection/_search.py\u001b[0m in \u001b[0;36mfit\u001b[0;34m(self, X, y, groups, **fit_params)\u001b[0m\n\u001b[1;32m    708\u001b[0m                 \u001b[0;32mreturn\u001b[0m \u001b[0mresults\u001b[0m\u001b[0;34m\u001b[0m\u001b[0;34m\u001b[0m\u001b[0m\n\u001b[1;32m    709\u001b[0m \u001b[0;34m\u001b[0m\u001b[0m\n\u001b[0;32m--> 710\u001b[0;31m             \u001b[0mself\u001b[0m\u001b[0;34m.\u001b[0m\u001b[0m_run_search\u001b[0m\u001b[0;34m(\u001b[0m\u001b[0mevaluate_candidates\u001b[0m\u001b[0;34m)\u001b[0m\u001b[0;34m\u001b[0m\u001b[0;34m\u001b[0m\u001b[0m\n\u001b[0m\u001b[1;32m    711\u001b[0m \u001b[0;34m\u001b[0m\u001b[0m\n\u001b[1;32m    712\u001b[0m         \u001b[0;31m# For multi-metric evaluation, store the best_index_, best_params_ and\u001b[0m\u001b[0;34m\u001b[0m\u001b[0;34m\u001b[0m\u001b[0;34m\u001b[0m\u001b[0m\n",
      "\u001b[0;32m~/anaconda3/lib/python3.7/site-packages/sklearn/model_selection/_search.py\u001b[0m in \u001b[0;36m_run_search\u001b[0;34m(self, evaluate_candidates)\u001b[0m\n\u001b[1;32m   1149\u001b[0m     \u001b[0;32mdef\u001b[0m \u001b[0m_run_search\u001b[0m\u001b[0;34m(\u001b[0m\u001b[0mself\u001b[0m\u001b[0;34m,\u001b[0m \u001b[0mevaluate_candidates\u001b[0m\u001b[0;34m)\u001b[0m\u001b[0;34m:\u001b[0m\u001b[0;34m\u001b[0m\u001b[0;34m\u001b[0m\u001b[0m\n\u001b[1;32m   1150\u001b[0m         \u001b[0;34m\"\"\"Search all candidates in param_grid\"\"\"\u001b[0m\u001b[0;34m\u001b[0m\u001b[0;34m\u001b[0m\u001b[0m\n\u001b[0;32m-> 1151\u001b[0;31m         \u001b[0mevaluate_candidates\u001b[0m\u001b[0;34m(\u001b[0m\u001b[0mParameterGrid\u001b[0m\u001b[0;34m(\u001b[0m\u001b[0mself\u001b[0m\u001b[0;34m.\u001b[0m\u001b[0mparam_grid\u001b[0m\u001b[0;34m)\u001b[0m\u001b[0;34m)\u001b[0m\u001b[0;34m\u001b[0m\u001b[0;34m\u001b[0m\u001b[0m\n\u001b[0m\u001b[1;32m   1152\u001b[0m \u001b[0;34m\u001b[0m\u001b[0m\n\u001b[1;32m   1153\u001b[0m \u001b[0;34m\u001b[0m\u001b[0m\n",
      "\u001b[0;32m~/anaconda3/lib/python3.7/site-packages/sklearn/model_selection/_search.py\u001b[0m in \u001b[0;36mevaluate_candidates\u001b[0;34m(candidate_params)\u001b[0m\n\u001b[1;32m    687\u001b[0m                                \u001b[0;32mfor\u001b[0m \u001b[0mparameters\u001b[0m\u001b[0;34m,\u001b[0m \u001b[0;34m(\u001b[0m\u001b[0mtrain\u001b[0m\u001b[0;34m,\u001b[0m \u001b[0mtest\u001b[0m\u001b[0;34m)\u001b[0m\u001b[0;34m\u001b[0m\u001b[0;34m\u001b[0m\u001b[0m\n\u001b[1;32m    688\u001b[0m                                in product(candidate_params,\n\u001b[0;32m--> 689\u001b[0;31m                                           cv.split(X, y, groups)))\n\u001b[0m\u001b[1;32m    690\u001b[0m \u001b[0;34m\u001b[0m\u001b[0m\n\u001b[1;32m    691\u001b[0m                 \u001b[0;32mif\u001b[0m \u001b[0mlen\u001b[0m\u001b[0;34m(\u001b[0m\u001b[0mout\u001b[0m\u001b[0;34m)\u001b[0m \u001b[0;34m<\u001b[0m \u001b[0;36m1\u001b[0m\u001b[0;34m:\u001b[0m\u001b[0;34m\u001b[0m\u001b[0;34m\u001b[0m\u001b[0m\n",
      "\u001b[0;32m~/anaconda3/lib/python3.7/site-packages/sklearn/model_selection/_split.py\u001b[0m in \u001b[0;36msplit\u001b[0;34m(self, X, y, groups)\u001b[0m\n\u001b[1;32m    333\u001b[0m                 .format(self.n_splits, n_samples))\n\u001b[1;32m    334\u001b[0m \u001b[0;34m\u001b[0m\u001b[0m\n\u001b[0;32m--> 335\u001b[0;31m         \u001b[0;32mfor\u001b[0m \u001b[0mtrain\u001b[0m\u001b[0;34m,\u001b[0m \u001b[0mtest\u001b[0m \u001b[0;32min\u001b[0m \u001b[0msuper\u001b[0m\u001b[0;34m(\u001b[0m\u001b[0;34m)\u001b[0m\u001b[0;34m.\u001b[0m\u001b[0msplit\u001b[0m\u001b[0;34m(\u001b[0m\u001b[0mX\u001b[0m\u001b[0;34m,\u001b[0m \u001b[0my\u001b[0m\u001b[0;34m,\u001b[0m \u001b[0mgroups\u001b[0m\u001b[0;34m)\u001b[0m\u001b[0;34m:\u001b[0m\u001b[0;34m\u001b[0m\u001b[0;34m\u001b[0m\u001b[0m\n\u001b[0m\u001b[1;32m    336\u001b[0m             \u001b[0;32myield\u001b[0m \u001b[0mtrain\u001b[0m\u001b[0;34m,\u001b[0m \u001b[0mtest\u001b[0m\u001b[0;34m\u001b[0m\u001b[0;34m\u001b[0m\u001b[0m\n\u001b[1;32m    337\u001b[0m \u001b[0;34m\u001b[0m\u001b[0m\n",
      "\u001b[0;32m~/anaconda3/lib/python3.7/site-packages/sklearn/model_selection/_split.py\u001b[0m in \u001b[0;36msplit\u001b[0;34m(self, X, y, groups)\u001b[0m\n\u001b[1;32m     78\u001b[0m         \u001b[0mX\u001b[0m\u001b[0;34m,\u001b[0m \u001b[0my\u001b[0m\u001b[0;34m,\u001b[0m \u001b[0mgroups\u001b[0m \u001b[0;34m=\u001b[0m \u001b[0mindexable\u001b[0m\u001b[0;34m(\u001b[0m\u001b[0mX\u001b[0m\u001b[0;34m,\u001b[0m \u001b[0my\u001b[0m\u001b[0;34m,\u001b[0m \u001b[0mgroups\u001b[0m\u001b[0;34m)\u001b[0m\u001b[0;34m\u001b[0m\u001b[0;34m\u001b[0m\u001b[0m\n\u001b[1;32m     79\u001b[0m         \u001b[0mindices\u001b[0m \u001b[0;34m=\u001b[0m \u001b[0mnp\u001b[0m\u001b[0;34m.\u001b[0m\u001b[0marange\u001b[0m\u001b[0;34m(\u001b[0m\u001b[0m_num_samples\u001b[0m\u001b[0;34m(\u001b[0m\u001b[0mX\u001b[0m\u001b[0;34m)\u001b[0m\u001b[0;34m)\u001b[0m\u001b[0;34m\u001b[0m\u001b[0;34m\u001b[0m\u001b[0m\n\u001b[0;32m---> 80\u001b[0;31m         \u001b[0;32mfor\u001b[0m \u001b[0mtest_index\u001b[0m \u001b[0;32min\u001b[0m \u001b[0mself\u001b[0m\u001b[0;34m.\u001b[0m\u001b[0m_iter_test_masks\u001b[0m\u001b[0;34m(\u001b[0m\u001b[0mX\u001b[0m\u001b[0;34m,\u001b[0m \u001b[0my\u001b[0m\u001b[0;34m,\u001b[0m \u001b[0mgroups\u001b[0m\u001b[0;34m)\u001b[0m\u001b[0;34m:\u001b[0m\u001b[0;34m\u001b[0m\u001b[0;34m\u001b[0m\u001b[0m\n\u001b[0m\u001b[1;32m     81\u001b[0m             \u001b[0mtrain_index\u001b[0m \u001b[0;34m=\u001b[0m \u001b[0mindices\u001b[0m\u001b[0;34m[\u001b[0m\u001b[0mnp\u001b[0m\u001b[0;34m.\u001b[0m\u001b[0mlogical_not\u001b[0m\u001b[0;34m(\u001b[0m\u001b[0mtest_index\u001b[0m\u001b[0;34m)\u001b[0m\u001b[0;34m]\u001b[0m\u001b[0;34m\u001b[0m\u001b[0;34m\u001b[0m\u001b[0m\n\u001b[1;32m     82\u001b[0m             \u001b[0mtest_index\u001b[0m \u001b[0;34m=\u001b[0m \u001b[0mindices\u001b[0m\u001b[0;34m[\u001b[0m\u001b[0mtest_index\u001b[0m\u001b[0;34m]\u001b[0m\u001b[0;34m\u001b[0m\u001b[0;34m\u001b[0m\u001b[0m\n",
      "\u001b[0;32m~/anaconda3/lib/python3.7/site-packages/sklearn/model_selection/_split.py\u001b[0m in \u001b[0;36m_iter_test_masks\u001b[0;34m(self, X, y, groups)\u001b[0m\n\u001b[1;32m    690\u001b[0m \u001b[0;34m\u001b[0m\u001b[0m\n\u001b[1;32m    691\u001b[0m     \u001b[0;32mdef\u001b[0m \u001b[0m_iter_test_masks\u001b[0m\u001b[0;34m(\u001b[0m\u001b[0mself\u001b[0m\u001b[0;34m,\u001b[0m \u001b[0mX\u001b[0m\u001b[0;34m,\u001b[0m \u001b[0my\u001b[0m\u001b[0;34m=\u001b[0m\u001b[0;32mNone\u001b[0m\u001b[0;34m,\u001b[0m \u001b[0mgroups\u001b[0m\u001b[0;34m=\u001b[0m\u001b[0;32mNone\u001b[0m\u001b[0;34m)\u001b[0m\u001b[0;34m:\u001b[0m\u001b[0;34m\u001b[0m\u001b[0;34m\u001b[0m\u001b[0m\n\u001b[0;32m--> 692\u001b[0;31m         \u001b[0mtest_folds\u001b[0m \u001b[0;34m=\u001b[0m \u001b[0mself\u001b[0m\u001b[0;34m.\u001b[0m\u001b[0m_make_test_folds\u001b[0m\u001b[0;34m(\u001b[0m\u001b[0mX\u001b[0m\u001b[0;34m,\u001b[0m \u001b[0my\u001b[0m\u001b[0;34m)\u001b[0m\u001b[0;34m\u001b[0m\u001b[0;34m\u001b[0m\u001b[0m\n\u001b[0m\u001b[1;32m    693\u001b[0m         \u001b[0;32mfor\u001b[0m \u001b[0mi\u001b[0m \u001b[0;32min\u001b[0m \u001b[0mrange\u001b[0m\u001b[0;34m(\u001b[0m\u001b[0mself\u001b[0m\u001b[0;34m.\u001b[0m\u001b[0mn_splits\u001b[0m\u001b[0;34m)\u001b[0m\u001b[0;34m:\u001b[0m\u001b[0;34m\u001b[0m\u001b[0;34m\u001b[0m\u001b[0m\n\u001b[1;32m    694\u001b[0m             \u001b[0;32myield\u001b[0m \u001b[0mtest_folds\u001b[0m \u001b[0;34m==\u001b[0m \u001b[0mi\u001b[0m\u001b[0;34m\u001b[0m\u001b[0;34m\u001b[0m\u001b[0m\n",
      "\u001b[0;32m~/anaconda3/lib/python3.7/site-packages/sklearn/model_selection/_split.py\u001b[0m in \u001b[0;36m_make_test_folds\u001b[0;34m(self, X, y)\u001b[0m\n\u001b[1;32m    661\u001b[0m             raise ValueError(\"n_splits=%d cannot be greater than the\"\n\u001b[1;32m    662\u001b[0m                              \u001b[0;34m\" number of members in each class.\"\u001b[0m\u001b[0;34m\u001b[0m\u001b[0;34m\u001b[0m\u001b[0m\n\u001b[0;32m--> 663\u001b[0;31m                              % (self.n_splits))\n\u001b[0m\u001b[1;32m    664\u001b[0m         \u001b[0;32mif\u001b[0m \u001b[0mself\u001b[0m\u001b[0;34m.\u001b[0m\u001b[0mn_splits\u001b[0m \u001b[0;34m>\u001b[0m \u001b[0mmin_groups\u001b[0m\u001b[0;34m:\u001b[0m\u001b[0;34m\u001b[0m\u001b[0;34m\u001b[0m\u001b[0m\n\u001b[1;32m    665\u001b[0m             warnings.warn((\"The least populated class in y has only %d\"\n",
      "\u001b[0;31mValueError\u001b[0m: n_splits=5 cannot be greater than the number of members in each class."
     ]
    }
   ],
   "source": [
    "gs.fit(Z_train, y_train)"
   ]
  },
  {
   "cell_type": "code",
   "execution_count": null,
   "metadata": {
    "hidden": true
   },
   "outputs": [],
   "source": []
  },
  {
   "cell_type": "code",
   "execution_count": null,
   "metadata": {
    "hidden": true
   },
   "outputs": [],
   "source": []
  },
  {
   "cell_type": "code",
   "execution_count": null,
   "metadata": {
    "hidden": true
   },
   "outputs": [],
   "source": []
  },
  {
   "cell_type": "code",
   "execution_count": null,
   "metadata": {
    "hidden": true
   },
   "outputs": [],
   "source": []
  },
  {
   "cell_type": "code",
   "execution_count": null,
   "metadata": {
    "hidden": true
   },
   "outputs": [],
   "source": []
  },
  {
   "cell_type": "code",
   "execution_count": null,
   "metadata": {
    "hidden": true
   },
   "outputs": [],
   "source": []
  },
  {
   "cell_type": "code",
   "execution_count": null,
   "metadata": {
    "hidden": true
   },
   "outputs": [],
   "source": []
  }
 ],
 "metadata": {
  "kernelspec": {
   "display_name": "Python 3",
   "language": "python",
   "name": "python3"
  },
  "language_info": {
   "codemirror_mode": {
    "name": "ipython",
    "version": 3
   },
   "file_extension": ".py",
   "mimetype": "text/x-python",
   "name": "python",
   "nbconvert_exporter": "python",
   "pygments_lexer": "ipython3",
   "version": "3.7.6"
  },
  "toc": {
   "base_numbering": 1,
   "nav_menu": {},
   "number_sections": true,
   "sideBar": true,
   "skip_h1_title": false,
   "title_cell": "Table of Contents",
   "title_sidebar": "Contents",
   "toc_cell": false,
   "toc_position": {},
   "toc_section_display": true,
   "toc_window_display": false
  }
 },
 "nbformat": 4,
 "nbformat_minor": 4
}
