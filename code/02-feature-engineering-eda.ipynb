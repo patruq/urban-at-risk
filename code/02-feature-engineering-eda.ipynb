{
 "cells": [
  {
   "cell_type": "code",
   "execution_count": 2,
   "metadata": {
    "ExecuteTime": {
     "end_time": "2020-06-04T17:05:30.756743Z",
     "start_time": "2020-06-04T17:05:30.407360Z"
    }
   },
   "outputs": [],
   "source": [
    "# STANDARD LIBRARIES\n",
    "import pandas as pd\n",
    "from pandas._testing import assert_series_equal\n",
    "import numpy as np\n",
    "import pickle\n",
    "import datetime as dt\n",
    "\n",
    "# GEOLOCATION\n",
    "import geopandas as gpd\n",
    "from geopandas.tools import geocode\n",
    "from geopy.geocoders import Nominatim\n",
    "from geopy.exc import GeocoderTimedOut\n",
    "from pyzipcode import ZipCodeDatabase\n",
    "\n",
    "\n",
    "# FEATURE ENGINEERING AND PREPROCESSING\n",
    "from sklearn.preprocessing import OneHotEncoder"
   ]
  },
  {
   "cell_type": "markdown",
   "metadata": {},
   "source": [
    "# Read Files"
   ]
  },
  {
   "cell_type": "code",
   "execution_count": 98,
   "metadata": {
    "ExecuteTime": {
     "end_time": "2020-06-04T17:51:29.442386Z",
     "start_time": "2020-06-04T17:51:29.296601Z"
    }
   },
   "outputs": [],
   "source": [
    "# FROM CLEANING NOTEBOOK\n",
    "\n",
    "# data = pd.read_csv(\"../data/clean-data/data-clean.csv\", low_memory=False)\n",
    "# pw_df = pd.read_csv(\"../data/clean-data/pw_df-clean.csv\", low_memory=False)\n",
    "# requests_df = pd.read_csv(\"../data/clean-data/requests_df-clean.csv\")\n",
    "# fire_df = pd.read_csv(\"../data/clean-data/fire_df-clean.csv\")\n",
    "\n",
    "df_list = [\n",
    "#     data,\n",
    "#     pw_df,\n",
    "#     requests_df,\n",
    "#     fire_df\n",
    "]\n",
    "\n",
    "for df in df_list:\n",
    "    try:\n",
    "        df.drop(columns=\"Unnamed: 0\", inplace=True)\n",
    "    except KeyError:\n",
    "        pass"
   ]
  },
  {
   "cell_type": "code",
   "execution_count": 171,
   "metadata": {
    "ExecuteTime": {
     "end_time": "2020-06-04T18:15:56.165540Z",
     "start_time": "2020-06-04T18:15:55.001619Z"
    }
   },
   "outputs": [],
   "source": [
    "# READ ENG FILES:\n",
    "\n",
    "data = pd.read_csv(\"../data/clean-data/data-engineered.csv\")\n",
    "pw_df = pd.read_csv(\"../data/clean-data/pw_df-engineered.csv\")\n",
    "fire_df = pd.read_csv(\"../data/clean-data/fire_df-engineered.csv\")\n",
    "requests_df = pd.read_csv(\"../data/clean-data/requests_df-engineered.csv\")\n",
    "# main = pd.read_csv(\"../data/clean-data/main-engineered.csv\")\n",
    "\n",
    "df_list = [\n",
    "    data,\n",
    "    pw_df,\n",
    "#     requests_df,\n",
    "    fire_df,\n",
    "    main\n",
    "]\n",
    "\n",
    "\n",
    "for df in df_list:\n",
    "    try:\n",
    "        df.drop(columns=\"Unnamed: 0\", inplace=True)\n",
    "    except KeyError:\n",
    "        pass\n",
    "\n",
    "# data_1 = pd.read_csv(\"../data/clean-data/data_1-eng.csv\")"
   ]
  },
  {
   "cell_type": "markdown",
   "metadata": {},
   "source": [
    "# Master Function, Address & Geocodes"
   ]
  },
  {
   "cell_type": "markdown",
   "metadata": {
    "heading_collapsed": true
   },
   "source": [
    "## Edit Function"
   ]
  },
  {
   "cell_type": "code",
   "execution_count": 19,
   "metadata": {
    "ExecuteTime": {
     "end_time": "2020-06-04T00:06:39.841089Z",
     "start_time": "2020-06-04T00:06:39.804807Z"
    },
    "hidden": true
   },
   "outputs": [],
   "source": [
    "def create_address_list(df):\n",
    "    \n",
    "    init_check = input(\"Do you have only one column to create full addresses? Enter 'yes' or 'no': \")\n",
    "    \n",
    "    if init_check.lower() == \"yes\":\n",
    "        status = True\n",
    "        while status:\n",
    "            try:\n",
    "                col = input(\"Enter a column to create address list: \")\n",
    "                address_list = list(df[col])\n",
    "                return address_list\n",
    "            except KeyError:\n",
    "                print(\"Please enter a valid column to create list\") \n",
    "                check_status = input(\"Would you like to continue? Enter 'yes' or 'no'\")\n",
    "                if check_status == \"no\":\n",
    "                    status = False\n",
    "                else:\n",
    "                    status = True\n",
    "    else:\n",
    "        address_list = []\n",
    "        return address_list\n",
    "\n",
    "    \n",
    "# SOME ADDRESSES NEED FURTHER CLEANING\n",
    "def clean_addresses(df, col=\"full_address\"):\n",
    "        \n",
    "    df[col] = df[col].replace({\n",
    "        \" st \": \" street\",\n",
    "        \" pk \": \" park\",\n",
    "        \" av \": \" avenue\",\n",
    "        \" ave \": \" avenue\",\n",
    "        \" ct \": \" court\",\n",
    "        \" dr \": \" drive\",\n",
    "        \" rd \": \" road\",\n",
    "        \" te \": \" terrace\",\n",
    "        \" cir \": \" circle\",\n",
    "        \" sq \": \" square\",\n",
    "        \" a \": \" \",\n",
    "        \" b \": \" \",\n",
    "        \" c \": \" \",\n",
    "        \" d \": \" \",\n",
    "        \" e \": \" \",\n",
    "        \" f \": \" \",\n",
    "        \" g \": \" \",\n",
    "        \" h \": \" \",\n",
    "        \" i \": \" \",\n",
    "        \" j \": \" \",\n",
    "        \" k \": \" \",\n",
    "        \" j \": \" \",\n",
    "        \" k \": \" \",\n",
    "        \" l \": \" \",\n",
    "        \" m \": \" \",\n",
    "        \" n \": \" \",\n",
    "        \" o \": \" \",\n",
    "        \" p \": \" \",\n",
    "        \" q \": \" \",\n",
    "        \" r \": \" \",\n",
    "        \" s \": \" \",\n",
    "        \" t \": \" \",\n",
    "        \" u \": \" \",\n",
    "        \" v \": \" \",\n",
    "        \" w \": \" \",\n",
    "        \" x \": \" \",\n",
    "        \" y \": \" \",\n",
    "        \" z \": \" \"\n",
    "    },\n",
    "    regex=True)\n",
    "    \n",
    "    return df    \n",
    "    \n",
    "\n",
    "\n",
    "def create_address_geolocator(df):\n",
    "    \n",
    "    address_list = create_address_list(df)\n",
    "    \n",
    "    if len(address_list) > 0:\n",
    "        for address in range(len(address_list)):\n",
    "            address_list[address] += \" boston, ma\"\n",
    "        df[\"full_address\"] = address_list\n",
    "    else:\n",
    "        \n",
    "        st_number = input(\"Enter street number column: \")\n",
    "        st_name = input(\"Enter street name column: \")\n",
    "        st_suffix = input(\"Enter street suffix column: \")\n",
    "        \n",
    "        print(st_number)\n",
    "        df[\"full_address\"] = df[st_number] + \" \" +\\\n",
    "                             df[st_name] + \" \" +\\\n",
    "                             df[st_suffix] + \" \" +\\\n",
    "                             \"boston, ma\"\n",
    "    df.drop_duplicates(subset=[\"full_address\"], inplace=True) #\n",
    "    df.reset_index(inplace=True) #\n",
    "    return df[\"full_address\"]\n",
    "\n",
    "\n",
    "\n",
    "def create_address_id(df):\n",
    "    \n",
    "    address_list = create_address_list(df)\n",
    "    \n",
    "    if len(address_list) > 0:\n",
    "#         for address in range(len(address_list)):\n",
    "#             address_list[address] += \" boston, ma\"\n",
    "        df[\"full_address\"] = address_list\n",
    "        df[\"full_address\"] = df[\"full_address\"].str.split()\n",
    "        df[\"full_address\"] = df[\"full_address\"].apply(lambda x: \" \".join(x[:3])) \n",
    "        df[\"full_address\"] = df[\"full_address\"].astype(str) + \" boston, ma\"\n",
    "        # https://stackoverflow.com/questions/45306988/column-of-lists-convert-list-to-string-as-a-new-column\n",
    "    else:\n",
    "        \n",
    "        st_number = input(\"Enter street number column: \")\n",
    "        st_name = input(\"Enter street name column: \")\n",
    "        st_suffix = input(\"Enter street suffix column: \")\n",
    "        \n",
    "        print(st_number)\n",
    "        df[\"full_address\"] = df[st_number] + \" \" +\\\n",
    "                             df[st_name] + \" \" +\\\n",
    "                             df[st_suffix] + \" \" +\\\n",
    "                             \"boston, ma\"\n",
    "    df.drop_duplicates(subset=[\"full_address\"], inplace=True) #\n",
    "    df.reset_index(inplace=True, drop=True) #\n",
    "    return df\n",
    "\n",
    "\n",
    "\n",
    "def combine_lat_long(df):\n",
    "    try:\n",
    "        df[\"location\"] = list(zip(df[\"latitude\"], df[\"longitude\"]))\n",
    "    except KeyError:\n",
    "        df[\"location\"] = list(zip(df[\"lat\"], df[\"long\"]))\n",
    "\n",
    "        \n",
    "def create_geocodes(df):\n",
    "    \n",
    "    geolocator = Nominatim(user_agent=\"my-application\")\n",
    "    geocode_list = []\n",
    "    error_list = []\n",
    "    counter = 0\n",
    "    \n",
    "    addresses = create_address_geolocator(df)\n",
    "    addresses = pd.Series(addresses)\n",
    "    df.drop_duplicates(subset=[\"full_address\"], inplace=True) \n",
    "    \n",
    "    init_check = input(\"Do you have existing lat/long coords\"\\\n",
    "                       \"for this dataframe? Enter yes or no: \")\n",
    "    \n",
    "    if init_check == \"no\":\n",
    "        for address in addresses:\n",
    "#             print(address)\n",
    "            try:\n",
    "                latitude = geolocator.geocode(address).latitude\n",
    "                longitude= geolocator.geocode(address).longitude\n",
    "                geocode_list.append((latitude, longitude))\n",
    "                counter += 1\n",
    "            except AttributeError:\n",
    "                error_list.append(address)\n",
    "                print(f\"Could not create coordindates for {address}\")\n",
    "                pass\n",
    "            except GeocoderTimedOut:\n",
    "                if attempt <= max_attempts:\n",
    "                    get_geocodes(address, attempt=attempt+1)\n",
    "                raise\n",
    "            if counter % 500 == 0:\n",
    "                print(f\"Completed Address Count: {counter}\")\n",
    "                \n",
    "        df[\"location\"] = pd.Series(geocode_list)\n",
    "        \n",
    "    else:\n",
    "        df[\"location\"] = combine_lat_long(df)\n",
    "\n",
    "\n",
    "    return df, error_list\n",
    "    # https://gis.stackexchange.com/questions/173569/avoid-time-out-error-nominatim-geopy-open-street-maps\n"
   ]
  },
  {
   "cell_type": "markdown",
   "metadata": {
    "heading_collapsed": true
   },
   "source": [
    "## Run Functions"
   ]
  },
  {
   "cell_type": "code",
   "execution_count": 20,
   "metadata": {
    "ExecuteTime": {
     "end_time": "2020-06-04T00:06:44.565417Z",
     "start_time": "2020-06-04T00:06:39.842296Z"
    },
    "hidden": true
   },
   "outputs": [
    {
     "ename": "KeyboardInterrupt",
     "evalue": "",
     "output_type": "error",
     "traceback": [
      "\u001b[0;31m---------------------------------------------------------------------------\u001b[0m",
      "\u001b[0;31mKeyboardInterrupt\u001b[0m                         Traceback (most recent call last)",
      "\u001b[0;32m~/anaconda3/lib/python3.7/site-packages/ipykernel/kernelbase.py\u001b[0m in \u001b[0;36m_input_request\u001b[0;34m(self, prompt, ident, parent, password)\u001b[0m\n\u001b[1;32m    883\u001b[0m             \u001b[0;32mtry\u001b[0m\u001b[0;34m:\u001b[0m\u001b[0;34m\u001b[0m\u001b[0;34m\u001b[0m\u001b[0m\n\u001b[0;32m--> 884\u001b[0;31m                 \u001b[0mident\u001b[0m\u001b[0;34m,\u001b[0m \u001b[0mreply\u001b[0m \u001b[0;34m=\u001b[0m \u001b[0mself\u001b[0m\u001b[0;34m.\u001b[0m\u001b[0msession\u001b[0m\u001b[0;34m.\u001b[0m\u001b[0mrecv\u001b[0m\u001b[0;34m(\u001b[0m\u001b[0mself\u001b[0m\u001b[0;34m.\u001b[0m\u001b[0mstdin_socket\u001b[0m\u001b[0;34m,\u001b[0m \u001b[0;36m0\u001b[0m\u001b[0;34m)\u001b[0m\u001b[0;34m\u001b[0m\u001b[0;34m\u001b[0m\u001b[0m\n\u001b[0m\u001b[1;32m    885\u001b[0m             \u001b[0;32mexcept\u001b[0m \u001b[0mException\u001b[0m\u001b[0;34m:\u001b[0m\u001b[0;34m\u001b[0m\u001b[0;34m\u001b[0m\u001b[0m\n",
      "\u001b[0;32m~/anaconda3/lib/python3.7/site-packages/jupyter_client/session.py\u001b[0m in \u001b[0;36mrecv\u001b[0;34m(self, socket, mode, content, copy)\u001b[0m\n\u001b[1;32m    802\u001b[0m         \u001b[0;32mtry\u001b[0m\u001b[0;34m:\u001b[0m\u001b[0;34m\u001b[0m\u001b[0;34m\u001b[0m\u001b[0m\n\u001b[0;32m--> 803\u001b[0;31m             \u001b[0mmsg_list\u001b[0m \u001b[0;34m=\u001b[0m \u001b[0msocket\u001b[0m\u001b[0;34m.\u001b[0m\u001b[0mrecv_multipart\u001b[0m\u001b[0;34m(\u001b[0m\u001b[0mmode\u001b[0m\u001b[0;34m,\u001b[0m \u001b[0mcopy\u001b[0m\u001b[0;34m=\u001b[0m\u001b[0mcopy\u001b[0m\u001b[0;34m)\u001b[0m\u001b[0;34m\u001b[0m\u001b[0;34m\u001b[0m\u001b[0m\n\u001b[0m\u001b[1;32m    804\u001b[0m         \u001b[0;32mexcept\u001b[0m \u001b[0mzmq\u001b[0m\u001b[0;34m.\u001b[0m\u001b[0mZMQError\u001b[0m \u001b[0;32mas\u001b[0m \u001b[0me\u001b[0m\u001b[0;34m:\u001b[0m\u001b[0;34m\u001b[0m\u001b[0;34m\u001b[0m\u001b[0m\n",
      "\u001b[0;32m~/anaconda3/lib/python3.7/site-packages/zmq/sugar/socket.py\u001b[0m in \u001b[0;36mrecv_multipart\u001b[0;34m(self, flags, copy, track)\u001b[0m\n\u001b[1;32m    474\u001b[0m         \"\"\"\n\u001b[0;32m--> 475\u001b[0;31m         \u001b[0mparts\u001b[0m \u001b[0;34m=\u001b[0m \u001b[0;34m[\u001b[0m\u001b[0mself\u001b[0m\u001b[0;34m.\u001b[0m\u001b[0mrecv\u001b[0m\u001b[0;34m(\u001b[0m\u001b[0mflags\u001b[0m\u001b[0;34m,\u001b[0m \u001b[0mcopy\u001b[0m\u001b[0;34m=\u001b[0m\u001b[0mcopy\u001b[0m\u001b[0;34m,\u001b[0m \u001b[0mtrack\u001b[0m\u001b[0;34m=\u001b[0m\u001b[0mtrack\u001b[0m\u001b[0;34m)\u001b[0m\u001b[0;34m]\u001b[0m\u001b[0;34m\u001b[0m\u001b[0;34m\u001b[0m\u001b[0m\n\u001b[0m\u001b[1;32m    476\u001b[0m         \u001b[0;31m# have first part already, only loop while more to receive\u001b[0m\u001b[0;34m\u001b[0m\u001b[0;34m\u001b[0m\u001b[0;34m\u001b[0m\u001b[0m\n",
      "\u001b[0;32mzmq/backend/cython/socket.pyx\u001b[0m in \u001b[0;36mzmq.backend.cython.socket.Socket.recv\u001b[0;34m()\u001b[0m\n",
      "\u001b[0;32mzmq/backend/cython/socket.pyx\u001b[0m in \u001b[0;36mzmq.backend.cython.socket.Socket.recv\u001b[0;34m()\u001b[0m\n",
      "\u001b[0;32mzmq/backend/cython/socket.pyx\u001b[0m in \u001b[0;36mzmq.backend.cython.socket._recv_copy\u001b[0;34m()\u001b[0m\n",
      "\u001b[0;32m~/anaconda3/lib/python3.7/site-packages/zmq/backend/cython/checkrc.pxd\u001b[0m in \u001b[0;36mzmq.backend.cython.checkrc._check_rc\u001b[0;34m()\u001b[0m\n",
      "\u001b[0;31mKeyboardInterrupt\u001b[0m: ",
      "\nDuring handling of the above exception, another exception occurred:\n",
      "\u001b[0;31mKeyboardInterrupt\u001b[0m                         Traceback (most recent call last)",
      "\u001b[0;32m<ipython-input-20-7489a1c2445f>\u001b[0m in \u001b[0;36m<module>\u001b[0;34m\u001b[0m\n\u001b[0;32m----> 1\u001b[0;31m \u001b[0mdata\u001b[0m \u001b[0;34m=\u001b[0m \u001b[0mcreate_address_id\u001b[0m\u001b[0;34m(\u001b[0m\u001b[0mdata\u001b[0m\u001b[0;34m)\u001b[0m\u001b[0;34m\u001b[0m\u001b[0;34m\u001b[0m\u001b[0m\n\u001b[0m\u001b[1;32m      2\u001b[0m \u001b[0;31m# pw_df = create_address_id(pw_df)\u001b[0m\u001b[0;34m\u001b[0m\u001b[0;34m\u001b[0m\u001b[0;34m\u001b[0m\u001b[0m\n\u001b[1;32m      3\u001b[0m \u001b[0;31m# requests_df = create_address_id(requests_df)\u001b[0m\u001b[0;34m\u001b[0m\u001b[0;34m\u001b[0m\u001b[0;34m\u001b[0m\u001b[0m\n",
      "\u001b[0;32m<ipython-input-19-0ae70043128d>\u001b[0m in \u001b[0;36mcreate_address_id\u001b[0;34m(df)\u001b[0m\n\u001b[1;32m     98\u001b[0m \u001b[0;32mdef\u001b[0m \u001b[0mcreate_address_id\u001b[0m\u001b[0;34m(\u001b[0m\u001b[0mdf\u001b[0m\u001b[0;34m)\u001b[0m\u001b[0;34m:\u001b[0m\u001b[0;34m\u001b[0m\u001b[0;34m\u001b[0m\u001b[0m\n\u001b[1;32m     99\u001b[0m \u001b[0;34m\u001b[0m\u001b[0m\n\u001b[0;32m--> 100\u001b[0;31m     \u001b[0maddress_list\u001b[0m \u001b[0;34m=\u001b[0m \u001b[0mcreate_address_list\u001b[0m\u001b[0;34m(\u001b[0m\u001b[0mdf\u001b[0m\u001b[0;34m)\u001b[0m\u001b[0;34m\u001b[0m\u001b[0;34m\u001b[0m\u001b[0m\n\u001b[0m\u001b[1;32m    101\u001b[0m \u001b[0;34m\u001b[0m\u001b[0m\n\u001b[1;32m    102\u001b[0m     \u001b[0;32mif\u001b[0m \u001b[0mlen\u001b[0m\u001b[0;34m(\u001b[0m\u001b[0maddress_list\u001b[0m\u001b[0;34m)\u001b[0m \u001b[0;34m>\u001b[0m \u001b[0;36m0\u001b[0m\u001b[0;34m:\u001b[0m\u001b[0;34m\u001b[0m\u001b[0;34m\u001b[0m\u001b[0m\n",
      "\u001b[0;32m<ipython-input-19-0ae70043128d>\u001b[0m in \u001b[0;36mcreate_address_list\u001b[0;34m(df)\u001b[0m\n\u001b[1;32m      1\u001b[0m \u001b[0;32mdef\u001b[0m \u001b[0mcreate_address_list\u001b[0m\u001b[0;34m(\u001b[0m\u001b[0mdf\u001b[0m\u001b[0;34m)\u001b[0m\u001b[0;34m:\u001b[0m\u001b[0;34m\u001b[0m\u001b[0;34m\u001b[0m\u001b[0m\n\u001b[1;32m      2\u001b[0m \u001b[0;34m\u001b[0m\u001b[0m\n\u001b[0;32m----> 3\u001b[0;31m     \u001b[0minit_check\u001b[0m \u001b[0;34m=\u001b[0m \u001b[0minput\u001b[0m\u001b[0;34m(\u001b[0m\u001b[0;34m\"Do you have only one column to create full addresses? Enter 'yes' or 'no': \"\u001b[0m\u001b[0;34m)\u001b[0m\u001b[0;34m\u001b[0m\u001b[0;34m\u001b[0m\u001b[0m\n\u001b[0m\u001b[1;32m      4\u001b[0m \u001b[0;34m\u001b[0m\u001b[0m\n\u001b[1;32m      5\u001b[0m     \u001b[0;32mif\u001b[0m \u001b[0minit_check\u001b[0m\u001b[0;34m.\u001b[0m\u001b[0mlower\u001b[0m\u001b[0;34m(\u001b[0m\u001b[0;34m)\u001b[0m \u001b[0;34m==\u001b[0m \u001b[0;34m\"yes\"\u001b[0m\u001b[0;34m:\u001b[0m\u001b[0;34m\u001b[0m\u001b[0;34m\u001b[0m\u001b[0m\n",
      "\u001b[0;32m~/anaconda3/lib/python3.7/site-packages/ipykernel/kernelbase.py\u001b[0m in \u001b[0;36mraw_input\u001b[0;34m(self, prompt)\u001b[0m\n\u001b[1;32m    857\u001b[0m             \u001b[0mself\u001b[0m\u001b[0;34m.\u001b[0m\u001b[0m_parent_ident\u001b[0m\u001b[0;34m,\u001b[0m\u001b[0;34m\u001b[0m\u001b[0;34m\u001b[0m\u001b[0m\n\u001b[1;32m    858\u001b[0m             \u001b[0mself\u001b[0m\u001b[0;34m.\u001b[0m\u001b[0m_parent_header\u001b[0m\u001b[0;34m,\u001b[0m\u001b[0;34m\u001b[0m\u001b[0;34m\u001b[0m\u001b[0m\n\u001b[0;32m--> 859\u001b[0;31m             \u001b[0mpassword\u001b[0m\u001b[0;34m=\u001b[0m\u001b[0;32mFalse\u001b[0m\u001b[0;34m,\u001b[0m\u001b[0;34m\u001b[0m\u001b[0;34m\u001b[0m\u001b[0m\n\u001b[0m\u001b[1;32m    860\u001b[0m         )\n\u001b[1;32m    861\u001b[0m \u001b[0;34m\u001b[0m\u001b[0m\n",
      "\u001b[0;32m~/anaconda3/lib/python3.7/site-packages/ipykernel/kernelbase.py\u001b[0m in \u001b[0;36m_input_request\u001b[0;34m(self, prompt, ident, parent, password)\u001b[0m\n\u001b[1;32m    887\u001b[0m             \u001b[0;32mexcept\u001b[0m \u001b[0mKeyboardInterrupt\u001b[0m\u001b[0;34m:\u001b[0m\u001b[0;34m\u001b[0m\u001b[0;34m\u001b[0m\u001b[0m\n\u001b[1;32m    888\u001b[0m                 \u001b[0;31m# re-raise KeyboardInterrupt, to truncate traceback\u001b[0m\u001b[0;34m\u001b[0m\u001b[0;34m\u001b[0m\u001b[0;34m\u001b[0m\u001b[0m\n\u001b[0;32m--> 889\u001b[0;31m                 \u001b[0;32mraise\u001b[0m \u001b[0mKeyboardInterrupt\u001b[0m\u001b[0;34m\u001b[0m\u001b[0;34m\u001b[0m\u001b[0m\n\u001b[0m\u001b[1;32m    890\u001b[0m             \u001b[0;32melse\u001b[0m\u001b[0;34m:\u001b[0m\u001b[0;34m\u001b[0m\u001b[0;34m\u001b[0m\u001b[0m\n\u001b[1;32m    891\u001b[0m                 \u001b[0;32mbreak\u001b[0m\u001b[0;34m\u001b[0m\u001b[0;34m\u001b[0m\u001b[0m\n",
      "\u001b[0;31mKeyboardInterrupt\u001b[0m: "
     ]
    }
   ],
   "source": [
    "data = create_address_id(data)\n",
    "# pw_df = create_address_id(pw_df)\n",
    "# requests_df = create_address_id(requests_df)"
   ]
  },
  {
   "cell_type": "code",
   "execution_count": null,
   "metadata": {
    "ExecuteTime": {
     "end_time": "2020-06-04T00:06:44.567457Z",
     "start_time": "2020-06-04T00:06:39.359Z"
    },
    "hidden": true
   },
   "outputs": [],
   "source": [
    "data.zipcode"
   ]
  },
  {
   "cell_type": "code",
   "execution_count": null,
   "metadata": {
    "ExecuteTime": {
     "end_time": "2020-06-04T00:06:44.567934Z",
     "start_time": "2020-06-04T00:06:39.360Z"
    },
    "hidden": true
   },
   "outputs": [],
   "source": [
    "data = clean_addresses(data, \"full_address\")\n",
    "# pw_df = clean_addresses(pw_df, \"full_address\")\n",
    "# requests_df = clean_addresses(requests_df, \"full_address\")"
   ]
  },
  {
   "cell_type": "code",
   "execution_count": null,
   "metadata": {
    "ExecuteTime": {
     "end_time": "2020-06-04T00:06:44.568549Z",
     "start_time": "2020-06-04T00:06:39.361Z"
    },
    "hidden": true
   },
   "outputs": [],
   "source": [
    "# data = clean_addresses(data, \"st_name_suf\")\n",
    "# pw_df = clean_addresses(pw_df, \"st_name_suf\")"
   ]
  },
  {
   "cell_type": "markdown",
   "metadata": {},
   "source": [
    "# Feature Engineering"
   ]
  },
  {
   "cell_type": "markdown",
   "metadata": {
    "heading_collapsed": true
   },
   "source": [
    "## Protected"
   ]
  },
  {
   "cell_type": "code",
   "execution_count": null,
   "metadata": {
    "ExecuteTime": {
     "end_time": "2020-06-04T00:06:44.569182Z",
     "start_time": "2020-06-04T00:06:39.363Z"
    },
    "hidden": true,
    "scrolled": true
   },
   "outputs": [],
   "source": [
    "# COMPLETED:\n",
    "    # IN ORDER TO EXPEDITE THIS, WILL DIVIDE THE DF UP INTO 10 CHUNKS\n",
    "    # data_1\n",
    "    \n",
    "# data_1, data_2, data_3, data_4,data_5,\\\n",
    "# data_6, data_7, data_8, data_9, data_10,\\\n",
    "# data_11, data_12, data_13, data_14, data_15 = np.array_split(data, 15)\n",
    "\n",
    "# data_2, error_list_2 = create_geocodes(data_2)"
   ]
  },
  {
   "cell_type": "code",
   "execution_count": null,
   "metadata": {
    "ExecuteTime": {
     "end_time": "2020-06-04T00:06:44.569705Z",
     "start_time": "2020-06-04T00:06:39.365Z"
    },
    "hidden": true
   },
   "outputs": [],
   "source": [
    "# error_list_1 = error_list\n",
    "# print(len(error_list_1))\n",
    "# error_list_1"
   ]
  },
  {
   "cell_type": "code",
   "execution_count": null,
   "metadata": {
    "ExecuteTime": {
     "end_time": "2020-06-04T00:06:44.570253Z",
     "start_time": "2020-06-04T00:06:39.366Z"
    },
    "hidden": true,
    "scrolled": true
   },
   "outputs": [],
   "source": [
    "# print(data_1.shape)\n",
    "# data_1.head(20)"
   ]
  },
  {
   "cell_type": "markdown",
   "metadata": {
    "heading_collapsed": true
   },
   "source": [
    "## Encode"
   ]
  },
  {
   "cell_type": "code",
   "execution_count": 100,
   "metadata": {
    "ExecuteTime": {
     "end_time": "2020-06-04T17:51:40.280656Z",
     "start_time": "2020-06-04T17:51:40.277796Z"
    },
    "hidden": true
   },
   "outputs": [],
   "source": [
    "data_encode_list = [\n",
    "    \"lu\"\n",
    "#     \"zipcode\"\n",
    "]\n",
    "\n",
    "pw_df_encode_list = [\n",
    "#     \"status\",\n",
    "    \"description\"\n",
    "]\n",
    "\n",
    "requests_encode_list = [\n",
    "#     \"reason\",\n",
    "    \"source\",\n",
    "]"
   ]
  },
  {
   "cell_type": "code",
   "execution_count": 8,
   "metadata": {
    "ExecuteTime": {
     "end_time": "2020-06-04T17:06:16.471105Z",
     "start_time": "2020-06-04T17:06:16.465291Z"
    },
    "hidden": true
   },
   "outputs": [],
   "source": [
    "# BUG WITH THIS FUNCTION TAKING IN MORE THAN ONE COLUMN FROM LIST\n",
    "\n",
    "def create_encoder(df, col_list):\n",
    "    \n",
    "#     init_check = input(\"Would you like to OneHotEncode this Dataset?\"\\\n",
    "#                         \" Enter 'yes' or 'no': \")\n",
    "    df_encoder_list = []\n",
    "    \n",
    "#     if init_check == \"yes\":\n",
    "    for col in col_list:\n",
    "        df[col] = df[col].astype(\"category\")\n",
    "        df[col + \"_category\"] = df[col].cat.codes\n",
    "        print(f\"Created category column for column: {col}\")\n",
    "\n",
    "        df_encoder_list.append(col + \"_category\") \n",
    "        print(df_encoder_list)\n",
    "\n",
    "        encoder = OneHotEncoder(\n",
    "#             drop=\"first\",\n",
    "            handle_unknown=\"error\"\n",
    "        )\n",
    "            \n",
    "        enc_df = pd.DataFrame(encoder.fit_transform(df[df_encoder_list]).toarray())\n",
    "        enc_df.columns = encoder.get_feature_names(df_encoder_list)\n",
    "            \n",
    "        df = pd.concat([df, enc_df], axis=1)\n",
    "        # https://towardsdatascience.com/categorical-encoding-using-label-encoding-and-one-hot-encoder-911ef77fb5bd\n",
    "            \n",
    "    return df\n",
    "        "
   ]
  },
  {
   "cell_type": "code",
   "execution_count": 101,
   "metadata": {
    "ExecuteTime": {
     "end_time": "2020-06-04T17:51:42.272829Z",
     "start_time": "2020-06-04T17:51:42.208421Z"
    },
    "hidden": true,
    "scrolled": true
   },
   "outputs": [
    {
     "name": "stdout",
     "output_type": "stream",
     "text": [
      "Created category column for column: source\n",
      "['source_category']\n"
     ]
    }
   ],
   "source": [
    "# data = create_encoder(data, data_encode_list)\n",
    "# pw_df = create_encoder(pw_df, pw_df_encode_list)\n",
    "requests_df = create_encoder(requests_df, requests_encode_list)"
   ]
  },
  {
   "cell_type": "markdown",
   "metadata": {
    "heading_collapsed": true
   },
   "source": [
    "## Binarize"
   ]
  },
  {
   "cell_type": "code",
   "execution_count": 32,
   "metadata": {
    "ExecuteTime": {
     "end_time": "2020-06-04T17:10:02.835797Z",
     "start_time": "2020-06-04T17:10:02.822183Z"
    },
    "hidden": true
   },
   "outputs": [],
   "source": [
    "data[\"own_occ\"] = data[\"own_occ\"].map({\"n\": 0, \"y\":1})"
   ]
  },
  {
   "cell_type": "code",
   "execution_count": 33,
   "metadata": {
    "ExecuteTime": {
     "end_time": "2020-06-04T17:10:03.078598Z",
     "start_time": "2020-06-04T17:10:03.070497Z"
    },
    "hidden": true
   },
   "outputs": [],
   "source": [
    "pw_df[\"status\"] = pw_df[\"status\"].map({\"closed\": 0, \"open\": 1})"
   ]
  },
  {
   "cell_type": "code",
   "execution_count": 102,
   "metadata": {
    "ExecuteTime": {
     "end_time": "2020-06-04T17:51:48.703861Z",
     "start_time": "2020-06-04T17:51:48.681060Z"
    },
    "hidden": true
   },
   "outputs": [],
   "source": [
    "requests_df[\"case_status\"] = requests_df[\"case_status\"].map({\"closed\": 0, \"open\": 1})"
   ]
  },
  {
   "cell_type": "markdown",
   "metadata": {},
   "source": [
    "## Columns"
   ]
  },
  {
   "cell_type": "markdown",
   "metadata": {},
   "source": [
    "### data"
   ]
  },
  {
   "cell_type": "code",
   "execution_count": null,
   "metadata": {
    "ExecuteTime": {
     "end_time": "2020-06-04T00:06:44.574212Z",
     "start_time": "2020-06-04T00:06:39.376Z"
    }
   },
   "outputs": [],
   "source": [
    "# =================================="
   ]
  },
  {
   "cell_type": "code",
   "execution_count": 34,
   "metadata": {
    "ExecuteTime": {
     "end_time": "2020-06-04T17:10:09.663231Z",
     "start_time": "2020-06-04T17:10:09.566075Z"
    }
   },
   "outputs": [],
   "source": [
    "data[\"zipcode\"] = data[\"zipcode\"].astype(str)\n",
    "data[\"zipcode\"] = data[\"zipcode\"].apply(lambda x: \"0\" + x[:4])  "
   ]
  },
  {
   "cell_type": "code",
   "execution_count": 35,
   "metadata": {
    "ExecuteTime": {
     "end_time": "2020-06-04T17:10:30.835388Z",
     "start_time": "2020-06-04T17:10:10.190795Z"
    }
   },
   "outputs": [],
   "source": [
    "data[\"num_street\"] = data[[\"st_num\", \"st_name\"]].astype(str).apply(lambda x: ' '.join(pd.unique(' '.join(x).split())),axis=1)\n",
    "data[\"zip_street\"] = data[[\"st_name\", \"zipcode\"]].astype(str).apply(lambda x: ' '.join(pd.unique(' '.join(x).split())),axis=1)\n",
    "data[\"zip_num_street\"] = data[[\"num_street\", \"zipcode\"]].astype(str).apply(lambda x: ' '.join(pd.unique(' '.join(x).split())),axis=1)\n",
    "data[\"land_value\"] = data.groupby(\"zip_num_street\")[\"av_land\"].transform('sum')\n",
    "data[\"bldg_value\"] = data.groupby(\"zip_num_street\")[\"av_bldg\"].transform('sum')\n",
    "data[\"total_value\"] = data.groupby(\"zip_num_street\")[\"av_total\"].transform('sum')\n",
    "data[\"gross_tax_amount\"] = data.groupby(\"zip_num_street\")[\"gross_tax\"].transform('sum')"
   ]
  },
  {
   "cell_type": "code",
   "execution_count": 36,
   "metadata": {
    "ExecuteTime": {
     "end_time": "2020-06-04T17:10:30.838897Z",
     "start_time": "2020-06-04T17:10:30.836380Z"
    }
   },
   "outputs": [],
   "source": [
    "lu_cat_dict = {\n",
    "    0: \"a\",\n",
    "    1: \"ah\",\n",
    "    2: \"c\",\n",
    "    3: \"cc\", \n",
    "    4: \"cd\", \n",
    "    5: \"cl\",\n",
    "    6: \"cm\",\n",
    "    7: \"e\",\n",
    "    8: \"ea\",\n",
    "    9: \"i\",\n",
    "    10: \"r1\",\n",
    "    11: \"r2\",\n",
    "    12: \"r3\",\n",
    "    13: \"r4\",\n",
    "    14: \"rc\",\n",
    "    15: \"rl\"\n",
    "}"
   ]
  },
  {
   "cell_type": "code",
   "execution_count": 37,
   "metadata": {
    "ExecuteTime": {
     "end_time": "2020-06-04T17:10:33.999874Z",
     "start_time": "2020-06-04T17:10:32.558396Z"
    }
   },
   "outputs": [],
   "source": [
    "# GROUPING THE CATEGORICAL VARIABLES BY PROPERTY TOTALS\n",
    "data[\"total_a_prop\"] = data.groupby(\"zip_num_street\")[\"lu_category_0\"].transform('sum')\n",
    "data[\"total_ah_prop\"] = data.groupby(\"zip_num_street\")[\"lu_category_1\"].transform('sum')\n",
    "data[\"total_c_prop\"] = data.groupby(\"zip_num_street\")[\"lu_category_2\"].transform('sum')\n",
    "data[\"total_cc_prop\"] = data.groupby(\"zip_num_street\")[\"lu_category_3\"].transform('sum')\n",
    "data[\"total_cd_prop\"] = data.groupby(\"zip_num_street\")[\"lu_category_4\"].transform('sum')\n",
    "data[\"total_cl_prop\"] = data.groupby(\"zip_num_street\")[\"lu_category_5\"].transform('sum')\n",
    "data[\"total_cm_prop\"] = data.groupby(\"zip_num_street\")[\"lu_category_6\"].transform('sum')\n",
    "data[\"total_e_prop\"] = data.groupby(\"zip_num_street\")[\"lu_category_7\"].transform('sum')\n",
    "data[\"total_ea_prop\"] = data.groupby(\"zip_num_street\")[\"lu_category_8\"].transform('sum')\n",
    "data[\"total_i_prop\"] = data.groupby(\"zip_num_street\")[\"lu_category_9\"].transform('sum')\n",
    "data[\"total_r1_prop\"] = data.groupby(\"zip_num_street\")[\"lu_category_10\"].transform('sum')\n",
    "data[\"total_r2_prop\"] = data.groupby(\"zip_num_street\")[\"lu_category_11\"].transform('sum')\n",
    "data[\"total_r3_prop\"] = data.groupby(\"zip_num_street\")[\"lu_category_12\"].transform('sum')\n",
    "data[\"total_r4_prop\"] = data.groupby(\"zip_num_street\")[\"lu_category_13\"].transform('sum')\n",
    "data[\"total_rc_prop\"] = data.groupby(\"zip_num_street\")[\"lu_category_14\"].transform('sum')\n",
    "data[\"total_rl_prop\"] = data.groupby(\"zip_num_street\")[\"lu_category_15\"].transform('sum')\n",
    "\n",
    "data[\"owner_occ_prop\"] = data.groupby(\"zip_street\")[\"own_occ\"].transform('sum')"
   ]
  },
  {
   "cell_type": "code",
   "execution_count": 194,
   "metadata": {
    "ExecuteTime": {
     "end_time": "2020-06-04T01:06:33.101936Z",
     "start_time": "2020-06-04T01:06:32.653595Z"
    }
   },
   "outputs": [],
   "source": [
    "# GROUPING THE CATEGORICAL VARIABLES BY PROPERTY TOTALS\n",
    "data[\"total_a_street\"] = data.groupby(\"zip_street\")[\"lu_category_0\"].transform('sum')\n",
    "data[\"total_ah_street\"] = data.groupby(\"zip_street\")[\"lu_category_1\"].transform('sum')\n",
    "data[\"total_c_street\"] = data.groupby(\"zip_street\")[\"lu_category_2\"].transform('sum')\n",
    "data[\"total_cc_street\"] = data.groupby(\"zip_street\")[\"lu_category_3\"].transform('sum')\n",
    "data[\"total_cd_street\"] = data.groupby(\"zip_street\")[\"lu_category_4\"].transform('sum')\n",
    "data[\"total_cl_street\"] = data.groupby(\"zip_street\")[\"lu_category_5\"].transform('sum')\n",
    "data[\"total_cm_street\"] = data.groupby(\"zip_street\")[\"lu_category_6\"].transform('sum')\n",
    "data[\"total_e_street\"] = data.groupby(\"zip_street\")[\"lu_category_7\"].transform('sum')\n",
    "data[\"total_ea_street\"] = data.groupby(\"zip_street\")[\"lu_category_8\"].transform('sum')\n",
    "data[\"total_i_street\"] = data.groupby(\"zip_street\")[\"lu_category_9\"].transform('sum')\n",
    "data[\"total_r1_street\"] = data.groupby(\"zip_street\")[\"lu_category_10\"].transform('sum')\n",
    "data[\"total_r2_street\"] = data.groupby(\"zip_street\")[\"lu_category_11\"].transform('sum')\n",
    "data[\"total_r3_street\"] = data.groupby(\"zip_street\")[\"lu_category_12\"].transform('sum')\n",
    "data[\"total_r4_street\"] = data.groupby(\"zip_street\")[\"lu_category_13\"].transform('sum')\n",
    "data[\"total_rc_street\"] = data.groupby(\"zip_street\")[\"lu_category_14\"].transform('sum')\n",
    "data[\"total_rl_street\"] = data.groupby(\"zip_street\")[\"lu_category_15\"].transform('sum')\n",
    "\n",
    "data[\"owner_occ_street\"] = data.groupby(\"zip_street\")[\"own_occ\"].transform('sum')"
   ]
  },
  {
   "cell_type": "code",
   "execution_count": 195,
   "metadata": {
    "ExecuteTime": {
     "end_time": "2020-06-04T01:06:37.471880Z",
     "start_time": "2020-06-04T01:06:37.013201Z"
    }
   },
   "outputs": [],
   "source": [
    "# GROUPING THE CATEGORICAL VARIABLES BY ZIPCODE TOTALS\n",
    "data[\"total_a_zipcode\"] = data.groupby(\"zipcode\")[\"lu_category_0\"].transform('sum')\n",
    "data[\"total_ah_zipcode\"] = data.groupby(\"zipcode\")[\"lu_category_1\"].transform('sum')\n",
    "data[\"total_c_zipcode\"] = data.groupby(\"zipcode\")[\"lu_category_2\"].transform('sum')\n",
    "data[\"total_cc_zipcode\"] = data.groupby(\"zipcode\")[\"lu_category_3\"].transform('sum')\n",
    "data[\"total_cd_zipcode\"] = data.groupby(\"zipcode\")[\"lu_category_4\"].transform('sum')\n",
    "data[\"total_cl_zipcode\"] = data.groupby(\"zipcode\")[\"lu_category_5\"].transform('sum')\n",
    "data[\"total_cm_zipcode\"] = data.groupby(\"zipcode\")[\"lu_category_6\"].transform('sum')\n",
    "data[\"total_e_zipcode\"] = data.groupby(\"zipcode\")[\"lu_category_7\"].transform('sum')\n",
    "data[\"total_ea_zipcode\"] = data.groupby(\"zipcode\")[\"lu_category_8\"].transform('sum')\n",
    "data[\"total_i_zipcode\"] = data.groupby(\"zipcode\")[\"lu_category_9\"].transform('sum')\n",
    "data[\"total_r1_zipcode\"] = data.groupby(\"zipcode\")[\"lu_category_10\"].transform('sum')\n",
    "data[\"total_r2_zipcode\"] = data.groupby(\"zipcode\")[\"lu_category_11\"].transform('sum')\n",
    "data[\"total_r3_zipcode\"] = data.groupby(\"zipcode\")[\"lu_category_12\"].transform('sum')\n",
    "data[\"total_r4_zipcode\"] = data.groupby(\"zipcode\")[\"lu_category_13\"].transform('sum')\n",
    "data[\"total_rc_zipcode\"] = data.groupby(\"zipcode\")[\"lu_category_14\"].transform('sum')\n",
    "data[\"total_rl_zipcode\"] = data.groupby(\"zipcode\")[\"lu_category_15\"].transform('sum')\n",
    "\n",
    "data[\"owner_occ_zipcode\"] = data.groupby(\"zipcode\")[\"own_occ\"].transform('sum')"
   ]
  },
  {
   "cell_type": "code",
   "execution_count": 38,
   "metadata": {
    "ExecuteTime": {
     "end_time": "2020-06-04T17:10:37.463380Z",
     "start_time": "2020-06-04T17:10:37.404274Z"
    },
    "scrolled": true
   },
   "outputs": [],
   "source": [
    "data.drop(columns=[\"gis_id\",\n",
    "                   \"st_num\",\n",
    "                   \"st_name\",\n",
    "                   \"st_name\",\n",
    "                   \"st_name_suf\",\n",
    "                   \"lu\",\n",
    "#                    \"lu_category\",\n",
    "                   \"own_occ\",\n",
    "                   \"av_land\",\n",
    "                   \"av_bldg\",\n",
    "                   \"av_total\",\n",
    "                   \"gross_tax\"], \n",
    "           inplace=True)\n",
    "data = data.drop_duplicates(subset=\"zip_num_street\")\n",
    "data.reset_index(drop=True, inplace=True)"
   ]
  },
  {
   "cell_type": "code",
   "execution_count": 39,
   "metadata": {
    "ExecuteTime": {
     "end_time": "2020-06-04T17:10:38.719762Z",
     "start_time": "2020-06-04T17:10:38.716229Z"
    }
   },
   "outputs": [],
   "source": [
    "data_cols = list(data.columns)\n",
    "\n",
    "filename = \"../assets/variables/data_cols\"\n",
    "outfile = open(filename, \"wb\")\n",
    "pickle.dump(data_cols, outfile)\n",
    "outfile.close()"
   ]
  },
  {
   "cell_type": "code",
   "execution_count": 40,
   "metadata": {
    "ExecuteTime": {
     "end_time": "2020-06-04T17:10:39.598556Z",
     "start_time": "2020-06-04T17:10:39.565551Z"
    }
   },
   "outputs": [
    {
     "data": {
      "text/html": [
       "<div>\n",
       "<style scoped>\n",
       "    .dataframe tbody tr th:only-of-type {\n",
       "        vertical-align: middle;\n",
       "    }\n",
       "\n",
       "    .dataframe tbody tr th {\n",
       "        vertical-align: top;\n",
       "    }\n",
       "\n",
       "    .dataframe thead th {\n",
       "        text-align: right;\n",
       "    }\n",
       "</style>\n",
       "<table border=\"1\" class=\"dataframe\">\n",
       "  <thead>\n",
       "    <tr style=\"text-align: right;\">\n",
       "      <th></th>\n",
       "      <th>zipcode</th>\n",
       "      <th>lu_category</th>\n",
       "      <th>lu_category_0</th>\n",
       "      <th>lu_category_1</th>\n",
       "      <th>lu_category_2</th>\n",
       "      <th>lu_category_3</th>\n",
       "      <th>lu_category_4</th>\n",
       "      <th>lu_category_5</th>\n",
       "      <th>lu_category_6</th>\n",
       "      <th>lu_category_7</th>\n",
       "      <th>...</th>\n",
       "      <th>total_e_prop</th>\n",
       "      <th>total_ea_prop</th>\n",
       "      <th>total_i_prop</th>\n",
       "      <th>total_r1_prop</th>\n",
       "      <th>total_r2_prop</th>\n",
       "      <th>total_r3_prop</th>\n",
       "      <th>total_r4_prop</th>\n",
       "      <th>total_rc_prop</th>\n",
       "      <th>total_rl_prop</th>\n",
       "      <th>owner_occ_prop</th>\n",
       "    </tr>\n",
       "  </thead>\n",
       "  <tbody>\n",
       "    <tr>\n",
       "      <th>0</th>\n",
       "      <td>02108</td>\n",
       "      <td>4</td>\n",
       "      <td>0.0</td>\n",
       "      <td>0.0</td>\n",
       "      <td>0.0</td>\n",
       "      <td>0.0</td>\n",
       "      <td>1.0</td>\n",
       "      <td>0.0</td>\n",
       "      <td>0.0</td>\n",
       "      <td>0.0</td>\n",
       "      <td>...</td>\n",
       "      <td>0.0</td>\n",
       "      <td>0.0</td>\n",
       "      <td>0.0</td>\n",
       "      <td>0.0</td>\n",
       "      <td>0.0</td>\n",
       "      <td>0.0</td>\n",
       "      <td>0.0</td>\n",
       "      <td>0.0</td>\n",
       "      <td>0.0</td>\n",
       "      <td>153</td>\n",
       "    </tr>\n",
       "    <tr>\n",
       "      <th>1</th>\n",
       "      <td>02108</td>\n",
       "      <td>6</td>\n",
       "      <td>0.0</td>\n",
       "      <td>0.0</td>\n",
       "      <td>0.0</td>\n",
       "      <td>0.0</td>\n",
       "      <td>0.0</td>\n",
       "      <td>0.0</td>\n",
       "      <td>1.0</td>\n",
       "      <td>0.0</td>\n",
       "      <td>...</td>\n",
       "      <td>0.0</td>\n",
       "      <td>0.0</td>\n",
       "      <td>0.0</td>\n",
       "      <td>0.0</td>\n",
       "      <td>0.0</td>\n",
       "      <td>0.0</td>\n",
       "      <td>0.0</td>\n",
       "      <td>0.0</td>\n",
       "      <td>0.0</td>\n",
       "      <td>153</td>\n",
       "    </tr>\n",
       "    <tr>\n",
       "      <th>2</th>\n",
       "      <td>02108</td>\n",
       "      <td>0</td>\n",
       "      <td>1.0</td>\n",
       "      <td>0.0</td>\n",
       "      <td>0.0</td>\n",
       "      <td>0.0</td>\n",
       "      <td>0.0</td>\n",
       "      <td>0.0</td>\n",
       "      <td>0.0</td>\n",
       "      <td>0.0</td>\n",
       "      <td>...</td>\n",
       "      <td>0.0</td>\n",
       "      <td>0.0</td>\n",
       "      <td>0.0</td>\n",
       "      <td>0.0</td>\n",
       "      <td>0.0</td>\n",
       "      <td>0.0</td>\n",
       "      <td>0.0</td>\n",
       "      <td>0.0</td>\n",
       "      <td>0.0</td>\n",
       "      <td>153</td>\n",
       "    </tr>\n",
       "    <tr>\n",
       "      <th>3</th>\n",
       "      <td>02108</td>\n",
       "      <td>6</td>\n",
       "      <td>0.0</td>\n",
       "      <td>0.0</td>\n",
       "      <td>0.0</td>\n",
       "      <td>0.0</td>\n",
       "      <td>0.0</td>\n",
       "      <td>0.0</td>\n",
       "      <td>1.0</td>\n",
       "      <td>0.0</td>\n",
       "      <td>...</td>\n",
       "      <td>0.0</td>\n",
       "      <td>0.0</td>\n",
       "      <td>0.0</td>\n",
       "      <td>0.0</td>\n",
       "      <td>0.0</td>\n",
       "      <td>0.0</td>\n",
       "      <td>0.0</td>\n",
       "      <td>0.0</td>\n",
       "      <td>0.0</td>\n",
       "      <td>153</td>\n",
       "    </tr>\n",
       "    <tr>\n",
       "      <th>4</th>\n",
       "      <td>02108</td>\n",
       "      <td>6</td>\n",
       "      <td>0.0</td>\n",
       "      <td>0.0</td>\n",
       "      <td>0.0</td>\n",
       "      <td>0.0</td>\n",
       "      <td>0.0</td>\n",
       "      <td>0.0</td>\n",
       "      <td>1.0</td>\n",
       "      <td>0.0</td>\n",
       "      <td>...</td>\n",
       "      <td>0.0</td>\n",
       "      <td>0.0</td>\n",
       "      <td>0.0</td>\n",
       "      <td>0.0</td>\n",
       "      <td>0.0</td>\n",
       "      <td>0.0</td>\n",
       "      <td>0.0</td>\n",
       "      <td>0.0</td>\n",
       "      <td>0.0</td>\n",
       "      <td>153</td>\n",
       "    </tr>\n",
       "    <tr>\n",
       "      <th>...</th>\n",
       "      <td>...</td>\n",
       "      <td>...</td>\n",
       "      <td>...</td>\n",
       "      <td>...</td>\n",
       "      <td>...</td>\n",
       "      <td>...</td>\n",
       "      <td>...</td>\n",
       "      <td>...</td>\n",
       "      <td>...</td>\n",
       "      <td>...</td>\n",
       "      <td>...</td>\n",
       "      <td>...</td>\n",
       "      <td>...</td>\n",
       "      <td>...</td>\n",
       "      <td>...</td>\n",
       "      <td>...</td>\n",
       "      <td>...</td>\n",
       "      <td>...</td>\n",
       "      <td>...</td>\n",
       "      <td>...</td>\n",
       "      <td>...</td>\n",
       "    </tr>\n",
       "    <tr>\n",
       "      <th>97510</th>\n",
       "      <td>02135</td>\n",
       "      <td>4</td>\n",
       "      <td>0.0</td>\n",
       "      <td>0.0</td>\n",
       "      <td>0.0</td>\n",
       "      <td>0.0</td>\n",
       "      <td>1.0</td>\n",
       "      <td>0.0</td>\n",
       "      <td>0.0</td>\n",
       "      <td>0.0</td>\n",
       "      <td>...</td>\n",
       "      <td>0.0</td>\n",
       "      <td>0.0</td>\n",
       "      <td>0.0</td>\n",
       "      <td>0.0</td>\n",
       "      <td>0.0</td>\n",
       "      <td>0.0</td>\n",
       "      <td>0.0</td>\n",
       "      <td>0.0</td>\n",
       "      <td>0.0</td>\n",
       "      <td>34</td>\n",
       "    </tr>\n",
       "    <tr>\n",
       "      <th>97511</th>\n",
       "      <td>02135</td>\n",
       "      <td>7</td>\n",
       "      <td>0.0</td>\n",
       "      <td>0.0</td>\n",
       "      <td>0.0</td>\n",
       "      <td>0.0</td>\n",
       "      <td>0.0</td>\n",
       "      <td>0.0</td>\n",
       "      <td>0.0</td>\n",
       "      <td>1.0</td>\n",
       "      <td>...</td>\n",
       "      <td>1.0</td>\n",
       "      <td>0.0</td>\n",
       "      <td>0.0</td>\n",
       "      <td>0.0</td>\n",
       "      <td>0.0</td>\n",
       "      <td>0.0</td>\n",
       "      <td>0.0</td>\n",
       "      <td>0.0</td>\n",
       "      <td>0.0</td>\n",
       "      <td>0</td>\n",
       "    </tr>\n",
       "    <tr>\n",
       "      <th>97512</th>\n",
       "      <td>02135</td>\n",
       "      <td>12</td>\n",
       "      <td>0.0</td>\n",
       "      <td>0.0</td>\n",
       "      <td>0.0</td>\n",
       "      <td>0.0</td>\n",
       "      <td>0.0</td>\n",
       "      <td>0.0</td>\n",
       "      <td>0.0</td>\n",
       "      <td>0.0</td>\n",
       "      <td>...</td>\n",
       "      <td>0.0</td>\n",
       "      <td>0.0</td>\n",
       "      <td>0.0</td>\n",
       "      <td>0.0</td>\n",
       "      <td>0.0</td>\n",
       "      <td>1.0</td>\n",
       "      <td>0.0</td>\n",
       "      <td>0.0</td>\n",
       "      <td>0.0</td>\n",
       "      <td>34</td>\n",
       "    </tr>\n",
       "    <tr>\n",
       "      <th>97513</th>\n",
       "      <td>02135</td>\n",
       "      <td>2</td>\n",
       "      <td>0.0</td>\n",
       "      <td>0.0</td>\n",
       "      <td>1.0</td>\n",
       "      <td>0.0</td>\n",
       "      <td>0.0</td>\n",
       "      <td>0.0</td>\n",
       "      <td>0.0</td>\n",
       "      <td>0.0</td>\n",
       "      <td>...</td>\n",
       "      <td>0.0</td>\n",
       "      <td>0.0</td>\n",
       "      <td>0.0</td>\n",
       "      <td>0.0</td>\n",
       "      <td>0.0</td>\n",
       "      <td>0.0</td>\n",
       "      <td>0.0</td>\n",
       "      <td>0.0</td>\n",
       "      <td>0.0</td>\n",
       "      <td>348</td>\n",
       "    </tr>\n",
       "    <tr>\n",
       "      <th>97514</th>\n",
       "      <td>02135</td>\n",
       "      <td>7</td>\n",
       "      <td>0.0</td>\n",
       "      <td>0.0</td>\n",
       "      <td>0.0</td>\n",
       "      <td>0.0</td>\n",
       "      <td>0.0</td>\n",
       "      <td>0.0</td>\n",
       "      <td>0.0</td>\n",
       "      <td>1.0</td>\n",
       "      <td>...</td>\n",
       "      <td>3.0</td>\n",
       "      <td>0.0</td>\n",
       "      <td>0.0</td>\n",
       "      <td>0.0</td>\n",
       "      <td>0.0</td>\n",
       "      <td>0.0</td>\n",
       "      <td>0.0</td>\n",
       "      <td>0.0</td>\n",
       "      <td>0.0</td>\n",
       "      <td>348</td>\n",
       "    </tr>\n",
       "  </tbody>\n",
       "</table>\n",
       "<p>97515 rows × 42 columns</p>\n",
       "</div>"
      ],
      "text/plain": [
       "      zipcode  lu_category  lu_category_0  lu_category_1  lu_category_2  \\\n",
       "0       02108            4            0.0            0.0            0.0   \n",
       "1       02108            6            0.0            0.0            0.0   \n",
       "2       02108            0            1.0            0.0            0.0   \n",
       "3       02108            6            0.0            0.0            0.0   \n",
       "4       02108            6            0.0            0.0            0.0   \n",
       "...       ...          ...            ...            ...            ...   \n",
       "97510   02135            4            0.0            0.0            0.0   \n",
       "97511   02135            7            0.0            0.0            0.0   \n",
       "97512   02135           12            0.0            0.0            0.0   \n",
       "97513   02135            2            0.0            0.0            1.0   \n",
       "97514   02135            7            0.0            0.0            0.0   \n",
       "\n",
       "       lu_category_3  lu_category_4  lu_category_5  lu_category_6  \\\n",
       "0                0.0            1.0            0.0            0.0   \n",
       "1                0.0            0.0            0.0            1.0   \n",
       "2                0.0            0.0            0.0            0.0   \n",
       "3                0.0            0.0            0.0            1.0   \n",
       "4                0.0            0.0            0.0            1.0   \n",
       "...              ...            ...            ...            ...   \n",
       "97510            0.0            1.0            0.0            0.0   \n",
       "97511            0.0            0.0            0.0            0.0   \n",
       "97512            0.0            0.0            0.0            0.0   \n",
       "97513            0.0            0.0            0.0            0.0   \n",
       "97514            0.0            0.0            0.0            0.0   \n",
       "\n",
       "       lu_category_7  ...  total_e_prop  total_ea_prop  total_i_prop  \\\n",
       "0                0.0  ...           0.0            0.0           0.0   \n",
       "1                0.0  ...           0.0            0.0           0.0   \n",
       "2                0.0  ...           0.0            0.0           0.0   \n",
       "3                0.0  ...           0.0            0.0           0.0   \n",
       "4                0.0  ...           0.0            0.0           0.0   \n",
       "...              ...  ...           ...            ...           ...   \n",
       "97510            0.0  ...           0.0            0.0           0.0   \n",
       "97511            1.0  ...           1.0            0.0           0.0   \n",
       "97512            0.0  ...           0.0            0.0           0.0   \n",
       "97513            0.0  ...           0.0            0.0           0.0   \n",
       "97514            1.0  ...           3.0            0.0           0.0   \n",
       "\n",
       "       total_r1_prop  total_r2_prop  total_r3_prop  total_r4_prop  \\\n",
       "0                0.0            0.0            0.0            0.0   \n",
       "1                0.0            0.0            0.0            0.0   \n",
       "2                0.0            0.0            0.0            0.0   \n",
       "3                0.0            0.0            0.0            0.0   \n",
       "4                0.0            0.0            0.0            0.0   \n",
       "...              ...            ...            ...            ...   \n",
       "97510            0.0            0.0            0.0            0.0   \n",
       "97511            0.0            0.0            0.0            0.0   \n",
       "97512            0.0            0.0            1.0            0.0   \n",
       "97513            0.0            0.0            0.0            0.0   \n",
       "97514            0.0            0.0            0.0            0.0   \n",
       "\n",
       "       total_rc_prop total_rl_prop owner_occ_prop  \n",
       "0                0.0           0.0            153  \n",
       "1                0.0           0.0            153  \n",
       "2                0.0           0.0            153  \n",
       "3                0.0           0.0            153  \n",
       "4                0.0           0.0            153  \n",
       "...              ...           ...            ...  \n",
       "97510            0.0           0.0             34  \n",
       "97511            0.0           0.0              0  \n",
       "97512            0.0           0.0             34  \n",
       "97513            0.0           0.0            348  \n",
       "97514            0.0           0.0            348  \n",
       "\n",
       "[97515 rows x 42 columns]"
      ]
     },
     "execution_count": 40,
     "metadata": {},
     "output_type": "execute_result"
    }
   ],
   "source": [
    "data"
   ]
  },
  {
   "cell_type": "code",
   "execution_count": null,
   "metadata": {
    "ExecuteTime": {
     "end_time": "2020-06-04T00:06:44.579539Z",
     "start_time": "2020-06-04T00:06:39.392Z"
    }
   },
   "outputs": [],
   "source": [
    "# =================================="
   ]
  },
  {
   "cell_type": "code",
   "execution_count": null,
   "metadata": {
    "ExecuteTime": {
     "end_time": "2020-06-04T00:06:44.580314Z",
     "start_time": "2020-06-04T00:06:39.393Z"
    }
   },
   "outputs": [],
   "source": [
    "# OLD- THIS APPROACH WAS WHEN ONLY ZIPCODE WAS CONSIDERED"
   ]
  },
  {
   "cell_type": "code",
   "execution_count": null,
   "metadata": {
    "ExecuteTime": {
     "end_time": "2020-06-04T00:06:44.581016Z",
     "start_time": "2020-06-04T00:06:39.394Z"
    }
   },
   "outputs": [],
   "source": [
    "# data[\"zipcode\"] = data[\"zipcode\"].astype(str)\n",
    "# data[\"zipcode\"] = data[\"zipcode\"].apply(lambda x: \"0\" + x[:4])  "
   ]
  },
  {
   "cell_type": "code",
   "execution_count": null,
   "metadata": {
    "ExecuteTime": {
     "end_time": "2020-06-04T00:06:44.581551Z",
     "start_time": "2020-06-04T00:06:39.397Z"
    }
   },
   "outputs": [],
   "source": [
    "# GROUPING THE CONTINUOUS VARIABLES\n",
    "\n",
    "# data[\"zip_av_land\"] = data.groupby(\"zipcode\")[\"av_land\"].transform('sum')\n",
    "# data[\"zip_av_bldg\"] = data.groupby(\"zipcode\")[\"av_bldg\"].transform('sum')\n",
    "# data[\"zip_av_total\"] = data.groupby(\"zipcode\")[\"av_total\"].transform('sum')\n",
    "# data[\"zip_gross_tax\"] = data.groupby(\"zipcode\")[\"gross_tax\"].transform('sum')\n",
    "\n",
    "# INVALUABLE, BUT THE APPROACH SHOULD BE GEOGRAPHIC SPECIFICITY\n",
    "# data[\"zip_street\"] = data[[\"zipcode\", \"st_name\"]].astype(str).apply(lambda x: ' '.join(pd.unique(' '.join(x).split())),axis=1)\n",
    "    # data[\"zip_street_own_occ\"] = data[[\"zip_street\", \"own_occ\"]].astype(str).apply(lambda x: ' '.join(pd.unique(' '.join(x).split())),axis=1)\n",
    "    # data[\"zip_street_lu\"] = data[[\"zip_street\", \"lu\"]].astype(str).apply(lambda x: ' '.join(pd.unique(' '.join(x).split())),axis=1)\n",
    "    # data[\"zip_street_own_occ_lu\"] = data[[\"zip_street_own_occ\", \"lu\"]].astype(str).apply(lambda x: ' '.join(pd.unique(' '.join(x).split())),axis=1)\n",
    "# https://stackoverflow.com/questions/44497671/pandas-combine-columns-without-duplicates-find-unique-words-after-combining\n",
    "# -------------------------------------- "
   ]
  },
  {
   "cell_type": "code",
   "execution_count": null,
   "metadata": {
    "ExecuteTime": {
     "end_time": "2020-06-04T00:06:44.582052Z",
     "start_time": "2020-06-04T00:06:39.399Z"
    }
   },
   "outputs": [],
   "source": [
    "# lu_cat_dict = {\n",
    "#     0: \"a\",\n",
    "#     1: \"ah\",\n",
    "#     2: \"c\",\n",
    "#     3: \"cc\", \n",
    "#     4: \"cd\", \n",
    "#     5: \"cl\",\n",
    "#     6: \"cm\",\n",
    "#     7: \"e\",\n",
    "#     8: \"ea\",\n",
    "#     9: \"i\",\n",
    "#     10: \"r1\",\n",
    "#     11: \"r2\",\n",
    "#     12: \"r3\",\n",
    "#     13: \"r4\",\n",
    "#     14: \"rc\",\n",
    "#     15: \"rl\"\n",
    "# }"
   ]
  },
  {
   "cell_type": "code",
   "execution_count": null,
   "metadata": {
    "ExecuteTime": {
     "end_time": "2020-06-04T00:06:44.582574Z",
     "start_time": "2020-06-04T00:06:39.401Z"
    }
   },
   "outputs": [],
   "source": [
    "# GROUPING THE CATEGORICAL VARIABLES BY ZIPCODE TOTALS\n",
    "# data[\"total_a\"] = data.groupby(\"zipcode\")[\"lu_category_0\"].transform('sum')\n",
    "# data[\"total_ah\"] = data.groupby(\"zipcode\")[\"lu_category_1\"].transform('sum')\n",
    "# data[\"total_c\"] = data.groupby(\"zipcode\")[\"lu_category_2\"].transform('sum')\n",
    "# data[\"total_cc\"] = data.groupby(\"zipcode\")[\"lu_category_3\"].transform('sum')\n",
    "# data[\"total_cd\"] = data.groupby(\"zipcode\")[\"lu_category_4\"].transform('sum')\n",
    "# data[\"total_cl\"] = data.groupby(\"zipcode\")[\"lu_category_5\"].transform('sum')\n",
    "# data[\"total_cm\"] = data.groupby(\"zipcode\")[\"lu_category_6\"].transform('sum')\n",
    "# data[\"total_e\"] = data.groupby(\"zipcode\")[\"lu_category_7\"].transform('sum')\n",
    "# data[\"total_ea\"] = data.groupby(\"zipcode\")[\"lu_category_8\"].transform('sum')\n",
    "# data[\"total_i\"] = data.groupby(\"zipcode\")[\"lu_category_9\"].transform('sum')\n",
    "# data[\"total_r1\"] = data.groupby(\"zipcode\")[\"lu_category_10\"].transform('sum')\n",
    "# data[\"total_r2\"] = data.groupby(\"zipcode\")[\"lu_category_11\"].transform('sum')\n",
    "# data[\"total_r3\"] = data.groupby(\"zipcode\")[\"lu_category_12\"].transform('sum')\n",
    "# data[\"total_r4\"] = data.groupby(\"zipcode\")[\"lu_category_13\"].transform('sum')\n",
    "# data[\"total_rc\"] = data.groupby(\"zipcode\")[\"lu_category_14\"].transform('sum')\n",
    "# data[\"total_rl\"] = data.groupby(\"zipcode\")[\"lu_category_15\"].transform('sum')\n",
    "\n",
    "# data[\"owner_occupied\"] = data.groupby(\"zipcode\")[\"own_occ\"].transform('sum')"
   ]
  },
  {
   "cell_type": "code",
   "execution_count": null,
   "metadata": {
    "ExecuteTime": {
     "end_time": "2020-06-04T00:06:44.583062Z",
     "start_time": "2020-06-04T00:06:39.403Z"
    }
   },
   "outputs": [],
   "source": [
    "# lu_cols = [col for col in data.columns if \"lu_category_\" in col]\n",
    "\n",
    "# for col in lu_cols:\n",
    "# #     data[f\"{col}_total\"] = data.groupby(\"zipcode\")[col].transform('sum')\n",
    "#     data.drop(columns=[col], inplace=True)"
   ]
  },
  {
   "cell_type": "code",
   "execution_count": 87,
   "metadata": {
    "ExecuteTime": {
     "end_time": "2020-06-04T00:28:44.114379Z",
     "start_time": "2020-06-04T00:28:44.112251Z"
    },
    "scrolled": true
   },
   "outputs": [],
   "source": [
    "# data.drop(columns=[\"gis_id\",\n",
    "#                    \"st_num\",\n",
    "#                    \"st_name\",\n",
    "#                    \"st_name\",\n",
    "#                    \"st_name_suf\",\n",
    "#                    \"lu\",\n",
    "#                    \"lu_category\",\n",
    "#                    \"own_occ\",\n",
    "#                    \"av_land\",\n",
    "#                    \"av_bldg\",\n",
    "#                    \"av_total\",\n",
    "#                    \"gross_tax\"], \n",
    "#            inplace=True)\n",
    "# data = data.drop_duplicates(subset=\"zipcode\")\n",
    "# data.reset_index(drop=True, inplace=True)"
   ]
  },
  {
   "cell_type": "code",
   "execution_count": null,
   "metadata": {
    "ExecuteTime": {
     "end_time": "2020-06-04T00:06:44.584031Z",
     "start_time": "2020-06-04T00:06:39.406Z"
    }
   },
   "outputs": [],
   "source": [
    "# data_cols = list(data.columns)\n",
    "\n",
    "# filename = \"../assets/variables/data_cols\"\n",
    "# outfile = open(filename, \"wb\")\n",
    "# pickle.dump(data_cols, outfile)\n",
    "# outfile.close()"
   ]
  },
  {
   "cell_type": "markdown",
   "metadata": {
    "heading_collapsed": true
   },
   "source": [
    "### pw_df"
   ]
  },
  {
   "cell_type": "code",
   "execution_count": null,
   "metadata": {
    "ExecuteTime": {
     "end_time": "2020-06-04T00:06:44.584528Z",
     "start_time": "2020-06-04T00:06:39.408Z"
    },
    "hidden": true
   },
   "outputs": [],
   "source": [
    "# ========================"
   ]
  },
  {
   "cell_type": "code",
   "execution_count": 42,
   "metadata": {
    "ExecuteTime": {
     "end_time": "2020-06-04T17:11:07.314023Z",
     "start_time": "2020-06-04T17:11:01.524128Z"
    },
    "hidden": true
   },
   "outputs": [],
   "source": [
    "pw_df[\"pw_num_street\"] = pw_df[[\"st_num\", \"st_name\"]].astype(str).apply(lambda x: ' '.join(pd.unique(' '.join(x).split())),axis=1)\n",
    "pw_df[\"pw_zip_street\"] = pw_df[[\"st_name\", \"zipcode\"]].astype(str).apply(lambda x: ' '.join(pd.unique(' '.join(x).split())),axis=1)\n",
    "pw_df[\"pw_zip_num_street\"] = pw_df[[\"pw_num_street\", \"zipcode\"]].astype(str).apply(lambda x: ' '.join(pd.unique(' '.join(x).split())),axis=1)"
   ]
  },
  {
   "cell_type": "code",
   "execution_count": 206,
   "metadata": {
    "ExecuteTime": {
     "end_time": "2020-06-04T01:12:30.700396Z",
     "start_time": "2020-06-04T01:12:30.637973Z"
    },
    "hidden": true
   },
   "outputs": [],
   "source": [
    "# CREATE COLUMN OF TOTAL \n",
    "pw_df[\"pw_viol_count_prop\"] = pw_df.groupby(\"pw_zip_num_street\")[\"pw_violation\"].transform('sum')\n",
    "pw_df[\"pw_viol_count_street\"] = pw_df.groupby(\"pw_zip_street\")[\"pw_violation\"].transform('sum')\n",
    "pw_df[\"pw_viol_count_zip\"] = pw_df.groupby(\"zipcode\")[\"pw_violation\"].transform(\"sum\")\n",
    "\n",
    "# GROUPING THE CONTINUOUS VARIABLES\n",
    "pw_df[\"pw_fine_value_prop\"] = pw_df.groupby(\"pw_zip_num_street\")[\"value\"].transform('sum')\n",
    "pw_df[\"pw_fine_value_street\"] = pw_df.groupby(\"pw_zip_street\")[\"value\"].transform('sum')\n",
    "pw_df[\"pw_fine_value_prop\"] = pw_df.groupby(\"zipcode\")[\"value\"].transform('sum')"
   ]
  },
  {
   "cell_type": "code",
   "execution_count": 207,
   "metadata": {
    "ExecuteTime": {
     "end_time": "2020-06-04T01:12:32.042231Z",
     "start_time": "2020-06-04T01:12:32.036564Z"
    },
    "hidden": true
   },
   "outputs": [
    {
     "data": {
      "text/plain": [
       "0    25806\n",
       "1    21792\n",
       "Name: status, dtype: int64"
      ]
     },
     "execution_count": 207,
     "metadata": {},
     "output_type": "execute_result"
    }
   ],
   "source": [
    "pw_df[\"status\"].value_counts()"
   ]
  },
  {
   "cell_type": "code",
   "execution_count": 208,
   "metadata": {
    "ExecuteTime": {
     "end_time": "2020-06-04T01:12:33.941379Z",
     "start_time": "2020-06-04T01:12:33.052833Z"
    },
    "hidden": true
   },
   "outputs": [],
   "source": [
    "pw_df[\"pw_open_status_prop\"] = pw_df.groupby(\"pw_zip_num_street\")[\"status\"].transform('sum')\n",
    "pw_df[\"pw_open_status_street\"] = pw_df.groupby(\"pw_zip_street\")[\"status\"].transform('sum')\n",
    "pw_df[\"pw_open_status_zip\"] = pw_df.groupby(\"zipcode\")[\"status\"].transform('sum')\n",
    "pw_df.rename(columns={\"value\": \"pw_viol_value_prop\"}, inplace=True)\n",
    "\n",
    "description_cols = [col for col in pw_df.columns if \"description_category_\" in col]\n",
    "\n",
    "for col in description_cols:\n",
    "    pw_df[f\"{col}_total\"] = pw_df.groupby(\"pw_zip_num_street\")[col].transform('sum')\n",
    "#     pw_df.drop(columns=[col], inplace=True)\n",
    "\n",
    "pw_df.drop(columns=[\n",
    "    \"st_num\",\n",
    "    \"st_name\",\n",
    "    \"status\",\n",
    "    \"description\",\n",
    "    \"description_category\",\n",
    "    \"pw_violation\"\n",
    "#     \"value\"\n",
    "],\n",
    "          inplace=True)\n",
    "\n",
    "pw_df.zipcode.str.replace(\"2120\", \"02120\")\n",
    "pw_df = pw_df[pw_df[\"zipcode\"] != \" \"]\n",
    "pw_df = pw_df.drop_duplicates(subset=\"pw_zip_num_street\")\n",
    "pw_df.reset_index(drop=True, inplace=True)"
   ]
  },
  {
   "cell_type": "code",
   "execution_count": 209,
   "metadata": {
    "ExecuteTime": {
     "end_time": "2020-06-04T01:12:35.049198Z",
     "start_time": "2020-06-04T01:12:35.046054Z"
    },
    "hidden": true
   },
   "outputs": [],
   "source": [
    "pw_cols = list(pw_df.columns)\n",
    "\n",
    "filename = \"../assets/variables/pw_cols\"\n",
    "outfile = open(filename, \"wb\")\n",
    "pickle.dump(pw_cols, outfile)\n",
    "outfile.close()"
   ]
  },
  {
   "cell_type": "code",
   "execution_count": null,
   "metadata": {
    "ExecuteTime": {
     "end_time": "2020-06-04T00:06:44.586649Z",
     "start_time": "2020-06-04T00:06:39.416Z"
    },
    "hidden": true
   },
   "outputs": [],
   "source": [
    "# ========================"
   ]
  },
  {
   "cell_type": "code",
   "execution_count": null,
   "metadata": {
    "ExecuteTime": {
     "end_time": "2020-06-04T00:06:44.587153Z",
     "start_time": "2020-06-04T00:06:39.418Z"
    },
    "hidden": true
   },
   "outputs": [],
   "source": [
    "# # CREATE COLUMN OF TOTAL ESTIMATED PROPERTY LOSS\n",
    "# pw_df[\"pw_violation_count\"] = pw_df.groupby(\"zipcode\")[\"pw_violation\"].transform('sum')\n",
    "\n",
    "# # GROUPING THE CONTINUOUS VARIABLES\n",
    "\n",
    "# pw_df[\"pw_fine_value\"] = pw_df.groupby(\"zipcode\")[\"value\"].transform('sum')"
   ]
  },
  {
   "cell_type": "code",
   "execution_count": null,
   "metadata": {
    "ExecuteTime": {
     "end_time": "2020-06-04T00:06:44.587674Z",
     "start_time": "2020-06-04T00:06:39.420Z"
    },
    "hidden": true
   },
   "outputs": [],
   "source": [
    "# pw_df[\"status\"].value_counts()"
   ]
  },
  {
   "cell_type": "code",
   "execution_count": null,
   "metadata": {
    "ExecuteTime": {
     "end_time": "2020-06-04T00:06:44.588275Z",
     "start_time": "2020-06-04T00:06:39.421Z"
    },
    "hidden": true
   },
   "outputs": [],
   "source": [
    "# pw_df[\"pw_open_status_total\"] = pw_df.groupby(\"zipcode\")[\"status\"].transform('sum')\n",
    "\n",
    "# description_cols = [col for col in pw_df.columns if \"description_category_\" in col]\n",
    "\n",
    "# for col in description_cols:\n",
    "#     pw_df[f\"{col}_total\"] = pw_df.groupby(\"zipcode\")[col].transform('sum')\n",
    "#     pw_df.drop(columns=[col], inplace=True)\n",
    "\n",
    "# pw_df.drop(columns=[\n",
    "#     \"st_name\",\n",
    "#     \"status\",\n",
    "#     \"description\",\n",
    "#     \"description_category\",\n",
    "#     \"pw_violation\",\n",
    "#     \"value\"\n",
    "# ],\n",
    "#           inplace=True)\n",
    "\n",
    "# pw_df.zipcode.str.replace(\"2120\", \"02120\")\n",
    "# pw_df = pw_df[pw_df[\"zipcode\"] != \" \"]\n",
    "# pw_df = pw_df.drop_duplicates(subset=\"zipcode\")\n",
    "# pw_df.reset_index(drop=True, inplace=True)"
   ]
  },
  {
   "cell_type": "code",
   "execution_count": null,
   "metadata": {
    "ExecuteTime": {
     "end_time": "2020-06-04T00:06:44.588761Z",
     "start_time": "2020-06-04T00:06:39.422Z"
    },
    "hidden": true
   },
   "outputs": [],
   "source": [
    "# pw_cols = list(pw_df.columns)\n",
    "\n",
    "# filename = \"../assets/variables/pw_cols\"\n",
    "# outfile = open(filename, \"wb\")\n",
    "# pickle.dump(pw_cols, outfile)\n",
    "# outfile.close()"
   ]
  },
  {
   "cell_type": "markdown",
   "metadata": {
    "heading_collapsed": true
   },
   "source": [
    "### fire_df"
   ]
  },
  {
   "cell_type": "code",
   "execution_count": null,
   "metadata": {
    "hidden": true
   },
   "outputs": [],
   "source": [
    "# ======================="
   ]
  },
  {
   "cell_type": "code",
   "execution_count": 51,
   "metadata": {
    "ExecuteTime": {
     "end_time": "2020-06-04T17:14:52.944907Z",
     "start_time": "2020-06-04T17:14:52.898941Z"
    },
    "hidden": true
   },
   "outputs": [],
   "source": [
    "fire_df[\"zipcode\"] = fire_df[\"zipcode\"].astype(str)\n",
    "fire_df[\"zipcode\"] = fire_df[\"zipcode\"].apply(lambda x: \"0\" + x)  "
   ]
  },
  {
   "cell_type": "code",
   "execution_count": 52,
   "metadata": {
    "ExecuteTime": {
     "end_time": "2020-06-04T17:14:59.299160Z",
     "start_time": "2020-06-04T17:14:53.417454Z"
    },
    "hidden": true
   },
   "outputs": [],
   "source": [
    "fire_df[\"fire_num_street\"] = fire_df[[\"st_num\", \"st_name\"]].astype(str).apply(lambda x: ' '.join(pd.unique(' '.join(x).split())),axis=1)\n",
    "fire_df[\"fire_zip_street\"] = fire_df[[\"st_name\", \"zipcode\"]].astype(str).apply(lambda x: ' '.join(pd.unique(' '.join(x).split())),axis=1)\n",
    "fire_df[\"fire_zip_num_street\"] = fire_df[[\"fire_num_street\", \"zipcode\"]].astype(str).apply(lambda x: ' '.join(pd.unique(' '.join(x).split())),axis=1)\n",
    "\n",
    "fire_df[\"fire_prop_loss_prop\"] = fire_df.groupby(\"fire_zip_num_street\")[\"estimated property loss\"].transform(\"sum\")\n",
    "fire_df[\"fire_prop_loss_street\"] = fire_df.groupby(\"fire_zip_street\")[\"estimated property loss\"].transform('sum')\n",
    "fire_df[\"fire_prop_loss_zip\"] = fire_df.groupby(\"zipcode\")[\"estimated property loss\"].transform('sum')\n",
    "\n",
    "# fire_df[\"fire_prop_loss_street\"] = fire_df.groupby(\"fire_zip_num_street\")[\"estimated property loss\"].transform(\"sum\")\n",
    "\n",
    "fire_df[\"fire_content_loss_prop\"] = fire_df.groupby(\"fire_zip_num_street\")[\"estimated content loss\"].transform(\"sum\")\n",
    "fire_df[\"fire_content_loss_street\"] = fire_df.groupby(\"fire_zip_street\")[\"estimated content loss\"].transform('sum')\n",
    "fire_df[\"fire_content_loss_zip\"] = fire_df.groupby(\"zipcode\")[\"estimated content loss\"].transform('sum')\n",
    "\n",
    "fire_df = fire_df.drop_duplicates(subset=\"fire_zip_num_street\")\n",
    "fire_df = fire_df.drop(columns=[\"st_name\", \n",
    "                                \"st_num\",\n",
    "                                \"had_incident\"])\n",
    "#                                 \"estimated property loss\",\n",
    "#                                 \"estimated content loss\"])\n",
    "fire_df.reset_index(drop=True, inplace=True)"
   ]
  },
  {
   "cell_type": "code",
   "execution_count": 215,
   "metadata": {
    "ExecuteTime": {
     "end_time": "2020-06-04T01:17:06.287905Z",
     "start_time": "2020-06-04T01:17:06.285817Z"
    },
    "hidden": true
   },
   "outputs": [],
   "source": [
    "fire_cols = list(fire_df.columns)\n",
    "\n",
    "filename = \"../assets/variables/fire_cols\"\n",
    "outfile = open(filename, \"wb\")\n",
    "pickle.dump(fire_cols, outfile)\n",
    "outfile.close()"
   ]
  },
  {
   "cell_type": "code",
   "execution_count": 216,
   "metadata": {
    "ExecuteTime": {
     "end_time": "2020-06-04T01:17:22.334254Z",
     "start_time": "2020-06-04T01:17:22.331080Z"
    },
    "hidden": true
   },
   "outputs": [],
   "source": [
    "fire_cols = list(fire_df.columns)\n",
    "\n",
    "filename = \"../assets/variables/fire_cols\"\n",
    "outfile = open(filename, \"wb\")\n",
    "pickle.dump(fire_cols, outfile)\n",
    "outfile.close()"
   ]
  },
  {
   "cell_type": "code",
   "execution_count": null,
   "metadata": {
    "hidden": true
   },
   "outputs": [],
   "source": [
    "# ============================"
   ]
  },
  {
   "cell_type": "code",
   "execution_count": 140,
   "metadata": {
    "ExecuteTime": {
     "end_time": "2020-06-04T00:50:15.108744Z",
     "start_time": "2020-06-04T00:50:15.063498Z"
    },
    "hidden": true
   },
   "outputs": [],
   "source": [
    "# fire_df[\"zipcode\"] = fire_df[\"zipcode\"].astype(str)\n",
    "# fire_df[\"zipcode\"] = fire_df[\"zipcode\"].apply(lambda x: \"0\" + x)  "
   ]
  },
  {
   "cell_type": "code",
   "execution_count": null,
   "metadata": {
    "ExecuteTime": {
     "end_time": "2020-06-04T00:06:44.589790Z",
     "start_time": "2020-06-04T00:06:39.425Z"
    },
    "hidden": true
   },
   "outputs": [],
   "source": [
    "# # CREATE COLUMN OF TOTAL ESTIMATED PROPERTY LOSS\n",
    "# fire_df[\"fire_property_loss\"] = fire_df.groupby(\"zipcode\")[\"estimated property loss\"].transform('sum')\n",
    "# fire_df[\"fire_content_loss\"] = fire_df.groupby(\"zipcode\")[\"estimated content loss\"].transform('sum')\n",
    "# fire_df[\"total_fire_incidents\"] = fire_df.groupby(\"zipcode\")[\"had_incident\"].transform('sum')\n",
    "\n",
    "# fire_df = fire_df.drop_duplicates(subset=\"zipcode\")\n",
    "# fire_df = fire_df.drop(columns=[\"st_name\", \n",
    "#                                 \"had_incident\",\n",
    "#                                 \"estimated property loss\",\n",
    "#                                 \"estimated content loss\"])\n",
    "# fire_df.reset_index(drop=True, inplace=True)"
   ]
  },
  {
   "cell_type": "code",
   "execution_count": null,
   "metadata": {
    "ExecuteTime": {
     "end_time": "2020-06-04T00:06:44.590295Z",
     "start_time": "2020-06-04T00:06:39.426Z"
    },
    "hidden": true
   },
   "outputs": [],
   "source": [
    "# fire_cols = list(fire_df.columns)\n",
    "\n",
    "# filename = \"../assets/variables/fire_cols\"\n",
    "# outfile = open(filename, \"wb\")\n",
    "# pickle.dump(fire_cols, outfile)\n",
    "# outfile.close()"
   ]
  },
  {
   "cell_type": "markdown",
   "metadata": {
    "heading_collapsed": true
   },
   "source": [
    "### requests_df"
   ]
  },
  {
   "cell_type": "code",
   "execution_count": 103,
   "metadata": {
    "ExecuteTime": {
     "end_time": "2020-06-04T17:52:34.746445Z",
     "start_time": "2020-06-04T17:51:56.689471Z"
    },
    "hidden": true
   },
   "outputs": [],
   "source": [
    "requests_df[\"zipcode\"] = requests_df[\"zipcode\"].astype(str)\n",
    "requests_df[\"zipcode\"] = requests_df[\"zipcode\"].apply(lambda x: \"0\" + x[:4])  \n",
    "\n",
    "requests_df[\"req_num_street\"] = requests_df[[\"st_num\", \"st_name\"]].astype(str).apply(lambda x: ' '.join(pd.unique(' '.join(x).split())),axis=1)\n",
    "requests_df[\"req_zip_street\"] = requests_df[[\"st_name\", \"zipcode\"]].astype(str).apply(lambda x: ' '.join(pd.unique(' '.join(x).split())),axis=1)\n",
    "requests_df[\"req_zip_num_street\"] = requests_df[[\"req_num_street\", \"zipcode\"]].astype(str).apply(lambda x: ' '.join(pd.unique(' '.join(x).split())),axis=1)\n",
    "\n",
    "# CREATE COLUMN OF TOTAL REQUESTS MADE TO THE CITY\n",
    "requests_df[\"requests_total_prop\"] = requests_df.groupby(\"req_zip_num_street\")[\"had_request\"].transform('sum')\n",
    "requests_df[\"requests_total_street\"] = requests_df.groupby(\"req_zip_street\")[\"had_request\"].transform('sum')\n",
    "requests_df[\"requests_total_zip\"] = requests_df.groupby(\"zipcode\")[\"had_request\"].transform('sum')\n",
    "\n",
    "requests_df[\"req_open_status_prop\"] = requests_df.groupby(\"req_zip_num_street\")[\"case_status\"].transform('sum')\n",
    "requests_df[\"req_open_status_street\"] = requests_df.groupby(\"req_zip_street\")[\"case_status\"].transform('sum')\n",
    "requests_df[\"req_open_status_zip\"] = requests_df.groupby(\"zipcode\")[\"case_status\"].transform('sum')\n",
    "\n",
    "reason_col = [col for col in requests_df.columns if \"reason_category_\" in col]\n",
    "source_col = [col for col in requests_df.columns if \"source_category_\" in col]\n",
    "\n",
    "for col in reason_col:\n",
    "    requests_df[f\"req_{col}_total_prop\"] = requests_df.groupby(\"req_zip_num_street\")[col].transform('sum')\n",
    "for col in reason_col:\n",
    "    requests_df[f\"req_{col}_total_street\"] = requests_df.groupby(\"req_zip_street\")[col].transform('sum')\n",
    "for col in reason_col:\n",
    "    requests_df[f\"req_{col}_total_zip\"] = requests_df.groupby(\"zipcode\")[col].transform('sum')\n",
    "#     requests_df.drop(columns=[col], inplace=True)\n",
    "\n",
    "for col in source_col:\n",
    "    requests_df[f\"req_{col}_total_prop\"] = requests_df.groupby(\"req_zip_num_street\")[col].transform('sum')\n",
    "for col in source_col:\n",
    "    requests_df[f\"req_{col}_total_street\"] = requests_df.groupby(\"req_zip_street\")[col].transform('sum')\n",
    "for col in source_col:\n",
    "    requests_df[f\"req_{col}_total_zip\"] = requests_df.groupby(\"zipcode\")[col].transform('sum')\n",
    "#     requests_df.drop(columns=[col], inplace=True)\n",
    "    \n",
    "\n",
    "\n",
    "requests_df= requests_df.drop_duplicates(subset=\"req_zip_num_street\")\n",
    "requests_df.drop(columns=[\n",
    "    \"st_name\",\n",
    "#     \"open_dt\",\n",
    "    \"case_status\",\n",
    "    \"reason\",\n",
    "    \"reason_category\",\n",
    "    \"source\",\n",
    "    \"source_category\",\n",
    "    \"had_request\",\n",
    "],\n",
    "          inplace=True)\n",
    "requests_df.reset_index(drop=True, inplace=True)"
   ]
  },
  {
   "cell_type": "code",
   "execution_count": null,
   "metadata": {
    "ExecuteTime": {
     "end_time": "2020-06-04T00:06:44.592333Z",
     "start_time": "2020-06-04T00:06:39.433Z"
    },
    "hidden": true
   },
   "outputs": [],
   "source": [
    "# requests_list = list(requests_df[\"zipcode\"])\n",
    "# data_list = list(data[\"data_zipcode\"])\n",
    "\n",
    "# for zipcode in requests_list:\n",
    "#     if zipcode not in data_list:\n",
    "#         print(zipcode)"
   ]
  },
  {
   "cell_type": "code",
   "execution_count": 104,
   "metadata": {
    "ExecuteTime": {
     "end_time": "2020-06-04T17:52:35.998392Z",
     "start_time": "2020-06-04T17:52:35.995072Z"
    },
    "hidden": true
   },
   "outputs": [],
   "source": [
    "requests_cols = list(requests_df.columns)\n",
    "\n",
    "filename = \"../assets/variables/requests_cols\"\n",
    "outfile = open(filename, \"wb\")\n",
    "pickle.dump(requests_cols, outfile)\n",
    "outfile.close()"
   ]
  },
  {
   "cell_type": "markdown",
   "metadata": {
    "heading_collapsed": true
   },
   "source": [
    "## Check Files"
   ]
  },
  {
   "cell_type": "markdown",
   "metadata": {
    "heading_collapsed": true,
    "hidden": true
   },
   "source": [
    "### data"
   ]
  },
  {
   "cell_type": "code",
   "execution_count": 58,
   "metadata": {
    "ExecuteTime": {
     "end_time": "2020-06-04T17:15:40.810545Z",
     "start_time": "2020-06-04T17:15:40.768835Z"
    },
    "hidden": true,
    "scrolled": false
   },
   "outputs": [
    {
     "name": "stdout",
     "output_type": "stream",
     "text": [
      "(97515, 76)\n",
      "0\n"
     ]
    },
    {
     "data": {
      "text/html": [
       "<div>\n",
       "<style scoped>\n",
       "    .dataframe tbody tr th:only-of-type {\n",
       "        vertical-align: middle;\n",
       "    }\n",
       "\n",
       "    .dataframe tbody tr th {\n",
       "        vertical-align: top;\n",
       "    }\n",
       "\n",
       "    .dataframe thead th {\n",
       "        text-align: right;\n",
       "    }\n",
       "</style>\n",
       "<table border=\"1\" class=\"dataframe\">\n",
       "  <thead>\n",
       "    <tr style=\"text-align: right;\">\n",
       "      <th></th>\n",
       "      <th>zipcode</th>\n",
       "      <th>lu_category</th>\n",
       "      <th>lu_category_0</th>\n",
       "      <th>lu_category_1</th>\n",
       "      <th>lu_category_2</th>\n",
       "      <th>lu_category_3</th>\n",
       "      <th>lu_category_4</th>\n",
       "      <th>lu_category_5</th>\n",
       "      <th>lu_category_6</th>\n",
       "      <th>lu_category_7</th>\n",
       "      <th>...</th>\n",
       "      <th>total_e_zipcode</th>\n",
       "      <th>total_ea_zipcode</th>\n",
       "      <th>total_i_zipcode</th>\n",
       "      <th>total_r1_zipcode</th>\n",
       "      <th>total_r2_zipcode</th>\n",
       "      <th>total_r3_zipcode</th>\n",
       "      <th>total_r4_zipcode</th>\n",
       "      <th>total_rc_zipcode</th>\n",
       "      <th>total_rl_zipcode</th>\n",
       "      <th>owner_occ_zipcode</th>\n",
       "    </tr>\n",
       "  </thead>\n",
       "  <tbody>\n",
       "    <tr>\n",
       "      <th>0</th>\n",
       "      <td>2108</td>\n",
       "      <td>4</td>\n",
       "      <td>0.0</td>\n",
       "      <td>0.0</td>\n",
       "      <td>0.0</td>\n",
       "      <td>0.0</td>\n",
       "      <td>1.0</td>\n",
       "      <td>0.0</td>\n",
       "      <td>0.0</td>\n",
       "      <td>0.0</td>\n",
       "      <td>...</td>\n",
       "      <td>76.0</td>\n",
       "      <td>0.0</td>\n",
       "      <td>0.0</td>\n",
       "      <td>220.0</td>\n",
       "      <td>23.0</td>\n",
       "      <td>13.0</td>\n",
       "      <td>30.0</td>\n",
       "      <td>41.0</td>\n",
       "      <td>4.0</td>\n",
       "      <td>651</td>\n",
       "    </tr>\n",
       "    <tr>\n",
       "      <th>1</th>\n",
       "      <td>2108</td>\n",
       "      <td>6</td>\n",
       "      <td>0.0</td>\n",
       "      <td>0.0</td>\n",
       "      <td>0.0</td>\n",
       "      <td>0.0</td>\n",
       "      <td>0.0</td>\n",
       "      <td>0.0</td>\n",
       "      <td>1.0</td>\n",
       "      <td>0.0</td>\n",
       "      <td>...</td>\n",
       "      <td>76.0</td>\n",
       "      <td>0.0</td>\n",
       "      <td>0.0</td>\n",
       "      <td>220.0</td>\n",
       "      <td>23.0</td>\n",
       "      <td>13.0</td>\n",
       "      <td>30.0</td>\n",
       "      <td>41.0</td>\n",
       "      <td>4.0</td>\n",
       "      <td>651</td>\n",
       "    </tr>\n",
       "    <tr>\n",
       "      <th>2</th>\n",
       "      <td>2108</td>\n",
       "      <td>0</td>\n",
       "      <td>1.0</td>\n",
       "      <td>0.0</td>\n",
       "      <td>0.0</td>\n",
       "      <td>0.0</td>\n",
       "      <td>0.0</td>\n",
       "      <td>0.0</td>\n",
       "      <td>0.0</td>\n",
       "      <td>0.0</td>\n",
       "      <td>...</td>\n",
       "      <td>76.0</td>\n",
       "      <td>0.0</td>\n",
       "      <td>0.0</td>\n",
       "      <td>220.0</td>\n",
       "      <td>23.0</td>\n",
       "      <td>13.0</td>\n",
       "      <td>30.0</td>\n",
       "      <td>41.0</td>\n",
       "      <td>4.0</td>\n",
       "      <td>651</td>\n",
       "    </tr>\n",
       "    <tr>\n",
       "      <th>3</th>\n",
       "      <td>2108</td>\n",
       "      <td>6</td>\n",
       "      <td>0.0</td>\n",
       "      <td>0.0</td>\n",
       "      <td>0.0</td>\n",
       "      <td>0.0</td>\n",
       "      <td>0.0</td>\n",
       "      <td>0.0</td>\n",
       "      <td>1.0</td>\n",
       "      <td>0.0</td>\n",
       "      <td>...</td>\n",
       "      <td>76.0</td>\n",
       "      <td>0.0</td>\n",
       "      <td>0.0</td>\n",
       "      <td>220.0</td>\n",
       "      <td>23.0</td>\n",
       "      <td>13.0</td>\n",
       "      <td>30.0</td>\n",
       "      <td>41.0</td>\n",
       "      <td>4.0</td>\n",
       "      <td>651</td>\n",
       "    </tr>\n",
       "    <tr>\n",
       "      <th>4</th>\n",
       "      <td>2108</td>\n",
       "      <td>6</td>\n",
       "      <td>0.0</td>\n",
       "      <td>0.0</td>\n",
       "      <td>0.0</td>\n",
       "      <td>0.0</td>\n",
       "      <td>0.0</td>\n",
       "      <td>0.0</td>\n",
       "      <td>1.0</td>\n",
       "      <td>0.0</td>\n",
       "      <td>...</td>\n",
       "      <td>76.0</td>\n",
       "      <td>0.0</td>\n",
       "      <td>0.0</td>\n",
       "      <td>220.0</td>\n",
       "      <td>23.0</td>\n",
       "      <td>13.0</td>\n",
       "      <td>30.0</td>\n",
       "      <td>41.0</td>\n",
       "      <td>4.0</td>\n",
       "      <td>651</td>\n",
       "    </tr>\n",
       "  </tbody>\n",
       "</table>\n",
       "<p>5 rows × 76 columns</p>\n",
       "</div>"
      ],
      "text/plain": [
       "   zipcode  lu_category  lu_category_0  lu_category_1  lu_category_2  \\\n",
       "0     2108            4            0.0            0.0            0.0   \n",
       "1     2108            6            0.0            0.0            0.0   \n",
       "2     2108            0            1.0            0.0            0.0   \n",
       "3     2108            6            0.0            0.0            0.0   \n",
       "4     2108            6            0.0            0.0            0.0   \n",
       "\n",
       "   lu_category_3  lu_category_4  lu_category_5  lu_category_6  lu_category_7  \\\n",
       "0            0.0            1.0            0.0            0.0            0.0   \n",
       "1            0.0            0.0            0.0            1.0            0.0   \n",
       "2            0.0            0.0            0.0            0.0            0.0   \n",
       "3            0.0            0.0            0.0            1.0            0.0   \n",
       "4            0.0            0.0            0.0            1.0            0.0   \n",
       "\n",
       "   ...  total_e_zipcode  total_ea_zipcode  total_i_zipcode  total_r1_zipcode  \\\n",
       "0  ...             76.0               0.0              0.0             220.0   \n",
       "1  ...             76.0               0.0              0.0             220.0   \n",
       "2  ...             76.0               0.0              0.0             220.0   \n",
       "3  ...             76.0               0.0              0.0             220.0   \n",
       "4  ...             76.0               0.0              0.0             220.0   \n",
       "\n",
       "   total_r2_zipcode  total_r3_zipcode  total_r4_zipcode  total_rc_zipcode  \\\n",
       "0              23.0              13.0              30.0              41.0   \n",
       "1              23.0              13.0              30.0              41.0   \n",
       "2              23.0              13.0              30.0              41.0   \n",
       "3              23.0              13.0              30.0              41.0   \n",
       "4              23.0              13.0              30.0              41.0   \n",
       "\n",
       "  total_rl_zipcode owner_occ_zipcode  \n",
       "0              4.0               651  \n",
       "1              4.0               651  \n",
       "2              4.0               651  \n",
       "3              4.0               651  \n",
       "4              4.0               651  \n",
       "\n",
       "[5 rows x 76 columns]"
      ]
     },
     "execution_count": 58,
     "metadata": {},
     "output_type": "execute_result"
    }
   ],
   "source": [
    "print(data.shape)\n",
    "print(data.isna().sum().sum())\n",
    "data.head()"
   ]
  },
  {
   "cell_type": "code",
   "execution_count": 60,
   "metadata": {
    "ExecuteTime": {
     "end_time": "2020-06-04T17:15:54.260076Z",
     "start_time": "2020-06-04T17:15:54.237173Z"
    },
    "hidden": true
   },
   "outputs": [
    {
     "data": {
      "text/plain": [
       "0"
      ]
     },
     "execution_count": 60,
     "metadata": {},
     "output_type": "execute_result"
    }
   ],
   "source": [
    "data.isna().sum().sum()"
   ]
  },
  {
   "cell_type": "markdown",
   "metadata": {
    "heading_collapsed": true,
    "hidden": true
   },
   "source": [
    "### pw violations"
   ]
  },
  {
   "cell_type": "code",
   "execution_count": 45,
   "metadata": {
    "ExecuteTime": {
     "end_time": "2020-06-04T17:11:52.092104Z",
     "start_time": "2020-06-04T17:11:52.067813Z"
    },
    "hidden": true,
    "scrolled": false
   },
   "outputs": [
    {
     "name": "stdout",
     "output_type": "stream",
     "text": [
      "(17629, 93)\n",
      "0\n"
     ]
    },
    {
     "data": {
      "text/html": [
       "<div>\n",
       "<style scoped>\n",
       "    .dataframe tbody tr th:only-of-type {\n",
       "        vertical-align: middle;\n",
       "    }\n",
       "\n",
       "    .dataframe tbody tr th {\n",
       "        vertical-align: top;\n",
       "    }\n",
       "\n",
       "    .dataframe thead th {\n",
       "        text-align: right;\n",
       "    }\n",
       "</style>\n",
       "<table border=\"1\" class=\"dataframe\">\n",
       "  <thead>\n",
       "    <tr style=\"text-align: right;\">\n",
       "      <th></th>\n",
       "      <th>zipcode</th>\n",
       "      <th>pw_viol_value_prop</th>\n",
       "      <th>description_category_0</th>\n",
       "      <th>description_category_1</th>\n",
       "      <th>description_category_2</th>\n",
       "      <th>description_category_3</th>\n",
       "      <th>description_category_4</th>\n",
       "      <th>description_category_5</th>\n",
       "      <th>description_category_6</th>\n",
       "      <th>description_category_7</th>\n",
       "      <th>...</th>\n",
       "      <th>description_category_30_total</th>\n",
       "      <th>description_category_31_total</th>\n",
       "      <th>description_category_32_total</th>\n",
       "      <th>description_category_33_total</th>\n",
       "      <th>description_category_34_total</th>\n",
       "      <th>description_category_35_total</th>\n",
       "      <th>description_category_36_total</th>\n",
       "      <th>description_category_37_total</th>\n",
       "      <th>description_category_38_total</th>\n",
       "      <th>description_category_39_total</th>\n",
       "    </tr>\n",
       "  </thead>\n",
       "  <tbody>\n",
       "    <tr>\n",
       "      <th>0</th>\n",
       "      <td>2118</td>\n",
       "      <td>25</td>\n",
       "      <td>0.0</td>\n",
       "      <td>0.0</td>\n",
       "      <td>0.0</td>\n",
       "      <td>0.0</td>\n",
       "      <td>0.0</td>\n",
       "      <td>0.0</td>\n",
       "      <td>0.0</td>\n",
       "      <td>0.0</td>\n",
       "      <td>...</td>\n",
       "      <td>0.0</td>\n",
       "      <td>0.0</td>\n",
       "      <td>0.0</td>\n",
       "      <td>0.0</td>\n",
       "      <td>0.0</td>\n",
       "      <td>0.0</td>\n",
       "      <td>0.0</td>\n",
       "      <td>0.0</td>\n",
       "      <td>0.0</td>\n",
       "      <td>0.0</td>\n",
       "    </tr>\n",
       "    <tr>\n",
       "      <th>1</th>\n",
       "      <td>2115</td>\n",
       "      <td>25</td>\n",
       "      <td>0.0</td>\n",
       "      <td>0.0</td>\n",
       "      <td>0.0</td>\n",
       "      <td>0.0</td>\n",
       "      <td>0.0</td>\n",
       "      <td>0.0</td>\n",
       "      <td>0.0</td>\n",
       "      <td>0.0</td>\n",
       "      <td>...</td>\n",
       "      <td>0.0</td>\n",
       "      <td>0.0</td>\n",
       "      <td>0.0</td>\n",
       "      <td>0.0</td>\n",
       "      <td>0.0</td>\n",
       "      <td>0.0</td>\n",
       "      <td>0.0</td>\n",
       "      <td>0.0</td>\n",
       "      <td>0.0</td>\n",
       "      <td>0.0</td>\n",
       "    </tr>\n",
       "    <tr>\n",
       "      <th>2</th>\n",
       "      <td>2108</td>\n",
       "      <td>25</td>\n",
       "      <td>0.0</td>\n",
       "      <td>0.0</td>\n",
       "      <td>0.0</td>\n",
       "      <td>0.0</td>\n",
       "      <td>0.0</td>\n",
       "      <td>0.0</td>\n",
       "      <td>0.0</td>\n",
       "      <td>0.0</td>\n",
       "      <td>...</td>\n",
       "      <td>0.0</td>\n",
       "      <td>0.0</td>\n",
       "      <td>0.0</td>\n",
       "      <td>0.0</td>\n",
       "      <td>0.0</td>\n",
       "      <td>0.0</td>\n",
       "      <td>0.0</td>\n",
       "      <td>0.0</td>\n",
       "      <td>0.0</td>\n",
       "      <td>0.0</td>\n",
       "    </tr>\n",
       "    <tr>\n",
       "      <th>3</th>\n",
       "      <td>2114</td>\n",
       "      <td>250</td>\n",
       "      <td>0.0</td>\n",
       "      <td>0.0</td>\n",
       "      <td>0.0</td>\n",
       "      <td>0.0</td>\n",
       "      <td>0.0</td>\n",
       "      <td>0.0</td>\n",
       "      <td>0.0</td>\n",
       "      <td>0.0</td>\n",
       "      <td>...</td>\n",
       "      <td>0.0</td>\n",
       "      <td>0.0</td>\n",
       "      <td>0.0</td>\n",
       "      <td>0.0</td>\n",
       "      <td>0.0</td>\n",
       "      <td>0.0</td>\n",
       "      <td>0.0</td>\n",
       "      <td>0.0</td>\n",
       "      <td>0.0</td>\n",
       "      <td>0.0</td>\n",
       "    </tr>\n",
       "    <tr>\n",
       "      <th>4</th>\n",
       "      <td>2113</td>\n",
       "      <td>25</td>\n",
       "      <td>0.0</td>\n",
       "      <td>0.0</td>\n",
       "      <td>0.0</td>\n",
       "      <td>0.0</td>\n",
       "      <td>0.0</td>\n",
       "      <td>0.0</td>\n",
       "      <td>0.0</td>\n",
       "      <td>0.0</td>\n",
       "      <td>...</td>\n",
       "      <td>0.0</td>\n",
       "      <td>0.0</td>\n",
       "      <td>0.0</td>\n",
       "      <td>0.0</td>\n",
       "      <td>0.0</td>\n",
       "      <td>0.0</td>\n",
       "      <td>0.0</td>\n",
       "      <td>0.0</td>\n",
       "      <td>0.0</td>\n",
       "      <td>0.0</td>\n",
       "    </tr>\n",
       "  </tbody>\n",
       "</table>\n",
       "<p>5 rows × 93 columns</p>\n",
       "</div>"
      ],
      "text/plain": [
       "   zipcode  pw_viol_value_prop  description_category_0  \\\n",
       "0     2118                  25                     0.0   \n",
       "1     2115                  25                     0.0   \n",
       "2     2108                  25                     0.0   \n",
       "3     2114                 250                     0.0   \n",
       "4     2113                  25                     0.0   \n",
       "\n",
       "   description_category_1  description_category_2  description_category_3  \\\n",
       "0                     0.0                     0.0                     0.0   \n",
       "1                     0.0                     0.0                     0.0   \n",
       "2                     0.0                     0.0                     0.0   \n",
       "3                     0.0                     0.0                     0.0   \n",
       "4                     0.0                     0.0                     0.0   \n",
       "\n",
       "   description_category_4  description_category_5  description_category_6  \\\n",
       "0                     0.0                     0.0                     0.0   \n",
       "1                     0.0                     0.0                     0.0   \n",
       "2                     0.0                     0.0                     0.0   \n",
       "3                     0.0                     0.0                     0.0   \n",
       "4                     0.0                     0.0                     0.0   \n",
       "\n",
       "   description_category_7  ...  description_category_30_total  \\\n",
       "0                     0.0  ...                            0.0   \n",
       "1                     0.0  ...                            0.0   \n",
       "2                     0.0  ...                            0.0   \n",
       "3                     0.0  ...                            0.0   \n",
       "4                     0.0  ...                            0.0   \n",
       "\n",
       "   description_category_31_total  description_category_32_total  \\\n",
       "0                            0.0                            0.0   \n",
       "1                            0.0                            0.0   \n",
       "2                            0.0                            0.0   \n",
       "3                            0.0                            0.0   \n",
       "4                            0.0                            0.0   \n",
       "\n",
       "   description_category_33_total  description_category_34_total  \\\n",
       "0                            0.0                            0.0   \n",
       "1                            0.0                            0.0   \n",
       "2                            0.0                            0.0   \n",
       "3                            0.0                            0.0   \n",
       "4                            0.0                            0.0   \n",
       "\n",
       "   description_category_35_total  description_category_36_total  \\\n",
       "0                            0.0                            0.0   \n",
       "1                            0.0                            0.0   \n",
       "2                            0.0                            0.0   \n",
       "3                            0.0                            0.0   \n",
       "4                            0.0                            0.0   \n",
       "\n",
       "   description_category_37_total  description_category_38_total  \\\n",
       "0                            0.0                            0.0   \n",
       "1                            0.0                            0.0   \n",
       "2                            0.0                            0.0   \n",
       "3                            0.0                            0.0   \n",
       "4                            0.0                            0.0   \n",
       "\n",
       "   description_category_39_total  \n",
       "0                            0.0  \n",
       "1                            0.0  \n",
       "2                            0.0  \n",
       "3                            0.0  \n",
       "4                            0.0  \n",
       "\n",
       "[5 rows x 93 columns]"
      ]
     },
     "execution_count": 45,
     "metadata": {},
     "output_type": "execute_result"
    }
   ],
   "source": [
    "print(pw_df.shape)\n",
    "print(pw_df.isna().sum().sum())\n",
    "pw_df.head()"
   ]
  },
  {
   "cell_type": "markdown",
   "metadata": {
    "heading_collapsed": true,
    "hidden": true
   },
   "source": [
    "### fire incidents"
   ]
  },
  {
   "cell_type": "code",
   "execution_count": 54,
   "metadata": {
    "ExecuteTime": {
     "end_time": "2020-06-04T17:15:14.331291Z",
     "start_time": "2020-06-04T17:15:14.313665Z"
    },
    "hidden": true
   },
   "outputs": [
    {
     "name": "stdout",
     "output_type": "stream",
     "text": [
      "(21051, 12)\n",
      "0\n"
     ]
    },
    {
     "data": {
      "text/html": [
       "<div>\n",
       "<style scoped>\n",
       "    .dataframe tbody tr th:only-of-type {\n",
       "        vertical-align: middle;\n",
       "    }\n",
       "\n",
       "    .dataframe tbody tr th {\n",
       "        vertical-align: top;\n",
       "    }\n",
       "\n",
       "    .dataframe thead th {\n",
       "        text-align: right;\n",
       "    }\n",
       "</style>\n",
       "<table border=\"1\" class=\"dataframe\">\n",
       "  <thead>\n",
       "    <tr style=\"text-align: right;\">\n",
       "      <th></th>\n",
       "      <th>zipcode</th>\n",
       "      <th>estimated property loss</th>\n",
       "      <th>estimated content loss</th>\n",
       "      <th>fire_num_street</th>\n",
       "      <th>fire_zip_street</th>\n",
       "      <th>fire_zip_num_street</th>\n",
       "      <th>fire_prop_loss_prop</th>\n",
       "      <th>fire_prop_loss_street</th>\n",
       "      <th>fire_prop_loss_zip</th>\n",
       "      <th>fire_content_loss_prop</th>\n",
       "      <th>fire_content_loss_street</th>\n",
       "      <th>fire_content_loss_zip</th>\n",
       "    </tr>\n",
       "  </thead>\n",
       "  <tbody>\n",
       "    <tr>\n",
       "      <th>0</th>\n",
       "      <td>02120</td>\n",
       "      <td>0.0</td>\n",
       "      <td>0.0</td>\n",
       "      <td>800 parker</td>\n",
       "      <td>parker 02120</td>\n",
       "      <td>800 parker 02120</td>\n",
       "      <td>0.0</td>\n",
       "      <td>0.0</td>\n",
       "      <td>663550.0</td>\n",
       "      <td>0.0</td>\n",
       "      <td>0.0</td>\n",
       "      <td>95020.0</td>\n",
       "    </tr>\n",
       "    <tr>\n",
       "      <th>1</th>\n",
       "      <td>02119</td>\n",
       "      <td>0.0</td>\n",
       "      <td>0.0</td>\n",
       "      <td>39 roxbury</td>\n",
       "      <td>roxbury 02119</td>\n",
       "      <td>39 roxbury 02119</td>\n",
       "      <td>0.0</td>\n",
       "      <td>16250.0</td>\n",
       "      <td>3281551.0</td>\n",
       "      <td>0.0</td>\n",
       "      <td>1750.0</td>\n",
       "      <td>852006.0</td>\n",
       "    </tr>\n",
       "    <tr>\n",
       "      <th>2</th>\n",
       "      <td>02119</td>\n",
       "      <td>0.0</td>\n",
       "      <td>0.0</td>\n",
       "      <td>131 walnut</td>\n",
       "      <td>walnut 02119</td>\n",
       "      <td>131 walnut 02119</td>\n",
       "      <td>2500.0</td>\n",
       "      <td>16500.0</td>\n",
       "      <td>3281551.0</td>\n",
       "      <td>2500.0</td>\n",
       "      <td>9600.0</td>\n",
       "      <td>852006.0</td>\n",
       "    </tr>\n",
       "    <tr>\n",
       "      <th>3</th>\n",
       "      <td>02115</td>\n",
       "      <td>0.0</td>\n",
       "      <td>0.0</td>\n",
       "      <td>90 gainsborough</td>\n",
       "      <td>gainsborough 02115</td>\n",
       "      <td>90 gainsborough 02115</td>\n",
       "      <td>10.0</td>\n",
       "      <td>10.0</td>\n",
       "      <td>112506.0</td>\n",
       "      <td>10.0</td>\n",
       "      <td>10.0</td>\n",
       "      <td>59162.0</td>\n",
       "    </tr>\n",
       "    <tr>\n",
       "      <th>4</th>\n",
       "      <td>02115</td>\n",
       "      <td>0.0</td>\n",
       "      <td>0.0</td>\n",
       "      <td>95 gainsborough</td>\n",
       "      <td>gainsborough 02115</td>\n",
       "      <td>95 gainsborough 02115</td>\n",
       "      <td>0.0</td>\n",
       "      <td>10.0</td>\n",
       "      <td>112506.0</td>\n",
       "      <td>0.0</td>\n",
       "      <td>10.0</td>\n",
       "      <td>59162.0</td>\n",
       "    </tr>\n",
       "  </tbody>\n",
       "</table>\n",
       "</div>"
      ],
      "text/plain": [
       "  zipcode  estimated property loss  estimated content loss  fire_num_street  \\\n",
       "0   02120                      0.0                     0.0       800 parker   \n",
       "1   02119                      0.0                     0.0       39 roxbury   \n",
       "2   02119                      0.0                     0.0       131 walnut   \n",
       "3   02115                      0.0                     0.0  90 gainsborough   \n",
       "4   02115                      0.0                     0.0  95 gainsborough   \n",
       "\n",
       "      fire_zip_street    fire_zip_num_street  fire_prop_loss_prop  \\\n",
       "0        parker 02120       800 parker 02120                  0.0   \n",
       "1       roxbury 02119       39 roxbury 02119                  0.0   \n",
       "2        walnut 02119       131 walnut 02119               2500.0   \n",
       "3  gainsborough 02115  90 gainsborough 02115                 10.0   \n",
       "4  gainsborough 02115  95 gainsborough 02115                  0.0   \n",
       "\n",
       "   fire_prop_loss_street  fire_prop_loss_zip  fire_content_loss_prop  \\\n",
       "0                    0.0            663550.0                     0.0   \n",
       "1                16250.0           3281551.0                     0.0   \n",
       "2                16500.0           3281551.0                  2500.0   \n",
       "3                   10.0            112506.0                    10.0   \n",
       "4                   10.0            112506.0                     0.0   \n",
       "\n",
       "   fire_content_loss_street  fire_content_loss_zip  \n",
       "0                       0.0                95020.0  \n",
       "1                    1750.0               852006.0  \n",
       "2                    9600.0               852006.0  \n",
       "3                      10.0                59162.0  \n",
       "4                      10.0                59162.0  "
      ]
     },
     "execution_count": 54,
     "metadata": {},
     "output_type": "execute_result"
    }
   ],
   "source": [
    "print(fire_df.shape)\n",
    "print(fire_df.isna().sum().sum())\n",
    "fire_df.head()"
   ]
  },
  {
   "cell_type": "code",
   "execution_count": 55,
   "metadata": {
    "ExecuteTime": {
     "end_time": "2020-06-04T17:15:15.691438Z",
     "start_time": "2020-06-04T17:15:15.679759Z"
    },
    "hidden": true
   },
   "outputs": [
    {
     "data": {
      "text/plain": [
       "zipcode                     0\n",
       "estimated property loss     0\n",
       "estimated content loss      0\n",
       "fire_num_street             0\n",
       "fire_zip_street             0\n",
       "fire_zip_num_street         0\n",
       "fire_prop_loss_prop         0\n",
       "fire_prop_loss_street       0\n",
       "fire_prop_loss_zip          0\n",
       "fire_content_loss_prop      0\n",
       "fire_content_loss_street    0\n",
       "fire_content_loss_zip       0\n",
       "dtype: int64"
      ]
     },
     "execution_count": 55,
     "metadata": {},
     "output_type": "execute_result"
    }
   ],
   "source": [
    "fire_df.isna().sum()"
   ]
  },
  {
   "cell_type": "markdown",
   "metadata": {
    "hidden": true
   },
   "source": [
    "### 311 requests"
   ]
  },
  {
   "cell_type": "code",
   "execution_count": 105,
   "metadata": {
    "ExecuteTime": {
     "end_time": "2020-06-04T17:52:43.554582Z",
     "start_time": "2020-06-04T17:52:43.499679Z"
    },
    "hidden": true,
    "scrolled": false
   },
   "outputs": [
    {
     "name": "stdout",
     "output_type": "stream",
     "text": [
      "(68609, 195)\n",
      "0\n"
     ]
    },
    {
     "data": {
      "text/html": [
       "<div>\n",
       "<style scoped>\n",
       "    .dataframe tbody tr th:only-of-type {\n",
       "        vertical-align: middle;\n",
       "    }\n",
       "\n",
       "    .dataframe tbody tr th {\n",
       "        vertical-align: top;\n",
       "    }\n",
       "\n",
       "    .dataframe thead th {\n",
       "        text-align: right;\n",
       "    }\n",
       "</style>\n",
       "<table border=\"1\" class=\"dataframe\">\n",
       "  <thead>\n",
       "    <tr style=\"text-align: right;\">\n",
       "      <th></th>\n",
       "      <th>st_num</th>\n",
       "      <th>zipcode</th>\n",
       "      <th>reason_category_0</th>\n",
       "      <th>reason_category_1</th>\n",
       "      <th>reason_category_2</th>\n",
       "      <th>reason_category_3</th>\n",
       "      <th>reason_category_4</th>\n",
       "      <th>reason_category_5</th>\n",
       "      <th>reason_category_6</th>\n",
       "      <th>reason_category_7</th>\n",
       "      <th>...</th>\n",
       "      <th>req_source_category_2_total_street</th>\n",
       "      <th>req_source_category_3_total_street</th>\n",
       "      <th>req_source_category_4_total_street</th>\n",
       "      <th>req_source_category_5_total_street</th>\n",
       "      <th>req_source_category_0_total_zip</th>\n",
       "      <th>req_source_category_1_total_zip</th>\n",
       "      <th>req_source_category_2_total_zip</th>\n",
       "      <th>req_source_category_3_total_zip</th>\n",
       "      <th>req_source_category_4_total_zip</th>\n",
       "      <th>req_source_category_5_total_zip</th>\n",
       "    </tr>\n",
       "  </thead>\n",
       "  <tbody>\n",
       "    <tr>\n",
       "      <th>0</th>\n",
       "      <td>6-8</td>\n",
       "      <td>02124</td>\n",
       "      <td>0.0</td>\n",
       "      <td>0.0</td>\n",
       "      <td>0.0</td>\n",
       "      <td>0.0</td>\n",
       "      <td>0.0</td>\n",
       "      <td>0.0</td>\n",
       "      <td>0.0</td>\n",
       "      <td>0.0</td>\n",
       "      <td>...</td>\n",
       "      <td>0.0</td>\n",
       "      <td>0.0</td>\n",
       "      <td>0.0</td>\n",
       "      <td>0.0</td>\n",
       "      <td>3798.0</td>\n",
       "      <td>1073.0</td>\n",
       "      <td>8169.0</td>\n",
       "      <td>637.0</td>\n",
       "      <td>788.0</td>\n",
       "      <td>0.0</td>\n",
       "    </tr>\n",
       "    <tr>\n",
       "      <th>1</th>\n",
       "      <td>195</td>\n",
       "      <td>02130</td>\n",
       "      <td>0.0</td>\n",
       "      <td>0.0</td>\n",
       "      <td>0.0</td>\n",
       "      <td>0.0</td>\n",
       "      <td>0.0</td>\n",
       "      <td>0.0</td>\n",
       "      <td>0.0</td>\n",
       "      <td>1.0</td>\n",
       "      <td>...</td>\n",
       "      <td>1.0</td>\n",
       "      <td>0.0</td>\n",
       "      <td>0.0</td>\n",
       "      <td>0.0</td>\n",
       "      <td>4574.0</td>\n",
       "      <td>967.0</td>\n",
       "      <td>4829.0</td>\n",
       "      <td>411.0</td>\n",
       "      <td>705.0</td>\n",
       "      <td>4.0</td>\n",
       "    </tr>\n",
       "    <tr>\n",
       "      <th>2</th>\n",
       "      <td>34</td>\n",
       "      <td>02122</td>\n",
       "      <td>0.0</td>\n",
       "      <td>0.0</td>\n",
       "      <td>0.0</td>\n",
       "      <td>0.0</td>\n",
       "      <td>0.0</td>\n",
       "      <td>0.0</td>\n",
       "      <td>0.0</td>\n",
       "      <td>0.0</td>\n",
       "      <td>...</td>\n",
       "      <td>6.0</td>\n",
       "      <td>0.0</td>\n",
       "      <td>0.0</td>\n",
       "      <td>0.0</td>\n",
       "      <td>2638.0</td>\n",
       "      <td>419.0</td>\n",
       "      <td>3773.0</td>\n",
       "      <td>211.0</td>\n",
       "      <td>396.0</td>\n",
       "      <td>1.0</td>\n",
       "    </tr>\n",
       "    <tr>\n",
       "      <th>3</th>\n",
       "      <td>3</td>\n",
       "      <td>02124</td>\n",
       "      <td>0.0</td>\n",
       "      <td>0.0</td>\n",
       "      <td>0.0</td>\n",
       "      <td>0.0</td>\n",
       "      <td>0.0</td>\n",
       "      <td>0.0</td>\n",
       "      <td>0.0</td>\n",
       "      <td>0.0</td>\n",
       "      <td>...</td>\n",
       "      <td>13.0</td>\n",
       "      <td>0.0</td>\n",
       "      <td>0.0</td>\n",
       "      <td>0.0</td>\n",
       "      <td>3798.0</td>\n",
       "      <td>1073.0</td>\n",
       "      <td>8169.0</td>\n",
       "      <td>637.0</td>\n",
       "      <td>788.0</td>\n",
       "      <td>0.0</td>\n",
       "    </tr>\n",
       "    <tr>\n",
       "      <th>4</th>\n",
       "      <td>22</td>\n",
       "      <td>02127</td>\n",
       "      <td>0.0</td>\n",
       "      <td>0.0</td>\n",
       "      <td>0.0</td>\n",
       "      <td>0.0</td>\n",
       "      <td>0.0</td>\n",
       "      <td>0.0</td>\n",
       "      <td>0.0</td>\n",
       "      <td>0.0</td>\n",
       "      <td>...</td>\n",
       "      <td>0.0</td>\n",
       "      <td>0.0</td>\n",
       "      <td>0.0</td>\n",
       "      <td>0.0</td>\n",
       "      <td>8407.0</td>\n",
       "      <td>900.0</td>\n",
       "      <td>4907.0</td>\n",
       "      <td>324.0</td>\n",
       "      <td>488.0</td>\n",
       "      <td>3.0</td>\n",
       "    </tr>\n",
       "  </tbody>\n",
       "</table>\n",
       "<p>5 rows × 195 columns</p>\n",
       "</div>"
      ],
      "text/plain": [
       "  st_num zipcode  reason_category_0  reason_category_1  reason_category_2  \\\n",
       "0    6-8   02124                0.0                0.0                0.0   \n",
       "1    195   02130                0.0                0.0                0.0   \n",
       "2     34   02122                0.0                0.0                0.0   \n",
       "3      3   02124                0.0                0.0                0.0   \n",
       "4     22   02127                0.0                0.0                0.0   \n",
       "\n",
       "   reason_category_3  reason_category_4  reason_category_5  reason_category_6  \\\n",
       "0                0.0                0.0                0.0                0.0   \n",
       "1                0.0                0.0                0.0                0.0   \n",
       "2                0.0                0.0                0.0                0.0   \n",
       "3                0.0                0.0                0.0                0.0   \n",
       "4                0.0                0.0                0.0                0.0   \n",
       "\n",
       "   reason_category_7  ...  req_source_category_2_total_street  \\\n",
       "0                0.0  ...                                 0.0   \n",
       "1                1.0  ...                                 1.0   \n",
       "2                0.0  ...                                 6.0   \n",
       "3                0.0  ...                                13.0   \n",
       "4                0.0  ...                                 0.0   \n",
       "\n",
       "   req_source_category_3_total_street  req_source_category_4_total_street  \\\n",
       "0                                 0.0                                 0.0   \n",
       "1                                 0.0                                 0.0   \n",
       "2                                 0.0                                 0.0   \n",
       "3                                 0.0                                 0.0   \n",
       "4                                 0.0                                 0.0   \n",
       "\n",
       "   req_source_category_5_total_street  req_source_category_0_total_zip  \\\n",
       "0                                 0.0                           3798.0   \n",
       "1                                 0.0                           4574.0   \n",
       "2                                 0.0                           2638.0   \n",
       "3                                 0.0                           3798.0   \n",
       "4                                 0.0                           8407.0   \n",
       "\n",
       "   req_source_category_1_total_zip  req_source_category_2_total_zip  \\\n",
       "0                           1073.0                           8169.0   \n",
       "1                            967.0                           4829.0   \n",
       "2                            419.0                           3773.0   \n",
       "3                           1073.0                           8169.0   \n",
       "4                            900.0                           4907.0   \n",
       "\n",
       "   req_source_category_3_total_zip  req_source_category_4_total_zip  \\\n",
       "0                            637.0                            788.0   \n",
       "1                            411.0                            705.0   \n",
       "2                            211.0                            396.0   \n",
       "3                            637.0                            788.0   \n",
       "4                            324.0                            488.0   \n",
       "\n",
       "   req_source_category_5_total_zip  \n",
       "0                              0.0  \n",
       "1                              4.0  \n",
       "2                              1.0  \n",
       "3                              0.0  \n",
       "4                              3.0  \n",
       "\n",
       "[5 rows x 195 columns]"
      ]
     },
     "execution_count": 105,
     "metadata": {},
     "output_type": "execute_result"
    }
   ],
   "source": [
    "print(requests_df.shape)\n",
    "print(requests_df.isna().sum().sum())\n",
    "requests_df.head()"
   ]
  },
  {
   "cell_type": "markdown",
   "metadata": {
    "heading_collapsed": true
   },
   "source": [
    "# Combine into One DataFrame"
   ]
  },
  {
   "cell_type": "code",
   "execution_count": 172,
   "metadata": {
    "ExecuteTime": {
     "end_time": "2020-06-04T18:15:57.601929Z",
     "start_time": "2020-06-04T18:15:57.563015Z"
    },
    "hidden": true
   },
   "outputs": [],
   "source": [
    "# RENAME COLUMNS FOR THE MERGE\n",
    "\n",
    "data.rename(columns={\"zipcode\": \"data_zipcode\"}, inplace=True)\n",
    "fire_df.rename(columns={\"zipcode\": \"fire_zipcode\"}, inplace=True)\n",
    "pw_df.rename(columns={\"zipcode\": \"pw_zipcode\"}, inplace=True)\n",
    "requests_df.rename(columns={\"zipcode\": \"requests_zipcode\"}, inplace=True)\n",
    "\n",
    "#=========================================================================================\n",
    "# CHANGE IT ALL BACK\n",
    "\n",
    "# data.rename(columns={\"data_zipcode\": \"zipcode\"}, inplace=True)\n",
    "# fire_df.rename(columns={\"fire_zipcode\": \"zipcode\"}, inplace=True);\n",
    "# pw_df.rename(columns={\"pw_zipcode\": \"zipcode\"}, inplace=True);"
   ]
  },
  {
   "cell_type": "code",
   "execution_count": 173,
   "metadata": {
    "ExecuteTime": {
     "end_time": "2020-06-04T18:15:58.647930Z",
     "start_time": "2020-06-04T18:15:58.323323Z"
    },
    "hidden": true
   },
   "outputs": [],
   "source": [
    "# INSTANTIATE A NEW DATAFRAME TO MERGE INTO\n",
    "main = pd.DataFrame()\n",
    "\n",
    "# MERGE DATA WITH PW VIOLATIONS\n",
    "main = pd.merge(data, pw_df, \n",
    "                   how=\"left\", \n",
    "                   left_on=[\"zip_num_street\"],\n",
    "                   right_on=[\"pw_zip_num_street\"])\n",
    "\n",
    "# MERGE MAIN WITH FIRE INCIDENTS\n",
    "main = pd.merge(main, fire_df,\n",
    "                how=\"left\",\n",
    "                left_on=[\"zip_num_street\"],\n",
    "                right_on=[\"fire_zip_num_street\"])\n",
    "\n",
    "# MERGE MAIN WITH 311 REQUESTS\n",
    "main = pd.merge(main, requests_df,\n",
    "                how=\"left\",\n",
    "                left_on=[\"zip_num_street\"],\n",
    "                right_on=[\"req_zip_num_street\"])"
   ]
  },
  {
   "cell_type": "code",
   "execution_count": 174,
   "metadata": {
    "ExecuteTime": {
     "end_time": "2020-06-04T18:15:59.419575Z",
     "start_time": "2020-06-04T18:15:59.155650Z"
    },
    "hidden": true
   },
   "outputs": [],
   "source": [
    "# main[\"data_zipcode\"] = df[col].cat.codes\n",
    "main[\"label\"] = main[\"data_zipcode\"].astype(\"category\")\n",
    "main[\"label\"] = main[\"label\"].cat.codes + 1 # SHIFTS UP THE LABEL COLUMN UP ONE VALUE\n",
    "main.rename(columns={\"data_zipcode\": \"zipcode\"}, inplace=True);"
   ]
  },
  {
   "cell_type": "code",
   "execution_count": 176,
   "metadata": {
    "ExecuteTime": {
     "end_time": "2020-06-04T18:16:05.606101Z",
     "start_time": "2020-06-04T18:16:05.552763Z"
    },
    "hidden": true
   },
   "outputs": [],
   "source": [
    "main.drop(columns=[\n",
    "    \"st_num\",\n",
    "#     \"st_name\",\n",
    "    \"num_street\",\n",
    "    \"pw_num_street\",\n",
    "    \"pw_zipcode\",\n",
    "    \"pw_zip_street\",\n",
    "    \"pw_zip_num_street\",\n",
    "    \"fire_zipcode\",\n",
    "    \"fire_num_street\",\n",
    "    \"fire_zip_street\",\n",
    "    \"fire_zip_num_street\",\n",
    "    \"requests_zipcode\",\n",
    "    \"req_num_street\",\n",
    "    \"req_zip_street\",\n",
    "    \"req_zip_num_street\"\n",
    "], inplace=True)"
   ]
  },
  {
   "cell_type": "code",
   "execution_count": 177,
   "metadata": {
    "ExecuteTime": {
     "end_time": "2020-06-04T18:16:07.435933Z",
     "start_time": "2020-06-04T18:16:07.383869Z"
    },
    "hidden": true
   },
   "outputs": [],
   "source": [
    "# NEED TO REVISIT THIS\n",
    "main.fillna(value=0, inplace=True);\n",
    "\n",
    "# THE IDEA IS THAT, IN THEORY, IF NAN NOT IN MAIN BUT IN OTHER DF\n",
    "# THEN THERE ARE NO METRICS TO HAVE BEEN REPORTED IN THAT DISTRICT/ZIP"
   ]
  },
  {
   "cell_type": "code",
   "execution_count": 178,
   "metadata": {
    "ExecuteTime": {
     "end_time": "2020-06-04T18:16:08.436392Z",
     "start_time": "2020-06-04T18:16:08.376686Z"
    },
    "hidden": true,
    "scrolled": true
   },
   "outputs": [
    {
     "name": "stdout",
     "output_type": "stream",
     "text": [
      "(97515, 76)\n",
      "(17629, 93)\n",
      "(21051, 12)\n",
      "\n",
      "Number zipcodes not shared in data and pw_df:\n",
      "79886\n",
      "\n",
      "Number zipcodes not shared in data and fire_df:\n",
      "76464\n",
      "\n",
      "Number of null in main:\n",
      "0\n"
     ]
    }
   ],
   "source": [
    "print(data.shape)\n",
    "print(pw_df.shape)\n",
    "print(fire_df.shape)\n",
    "print()\n",
    "print(\"Number zipcodes not shared in data and pw_df:\")\n",
    "print(data.shape[0] - pw_df.shape[0])\n",
    "print()\n",
    "print(\"Number zipcodes not shared in data and fire_df:\")\n",
    "print(data.shape[0] - fire_df.shape[0])\n",
    "print()\n",
    "print(\"Number of null in main:\")\n",
    "print(main.isna().sum().sum())"
   ]
  },
  {
   "cell_type": "code",
   "execution_count": 179,
   "metadata": {
    "ExecuteTime": {
     "end_time": "2020-06-04T18:16:09.164941Z",
     "start_time": "2020-06-04T18:16:09.137620Z"
    },
    "hidden": true,
    "scrolled": true
   },
   "outputs": [
    {
     "data": {
      "text/html": [
       "<div>\n",
       "<style scoped>\n",
       "    .dataframe tbody tr th:only-of-type {\n",
       "        vertical-align: middle;\n",
       "    }\n",
       "\n",
       "    .dataframe tbody tr th {\n",
       "        vertical-align: top;\n",
       "    }\n",
       "\n",
       "    .dataframe thead th {\n",
       "        text-align: right;\n",
       "    }\n",
       "</style>\n",
       "<table border=\"1\" class=\"dataframe\">\n",
       "  <thead>\n",
       "    <tr style=\"text-align: right;\">\n",
       "      <th></th>\n",
       "      <th>zipcode</th>\n",
       "      <th>lu_category</th>\n",
       "      <th>lu_category_0</th>\n",
       "      <th>lu_category_1</th>\n",
       "      <th>lu_category_2</th>\n",
       "      <th>lu_category_3</th>\n",
       "      <th>lu_category_4</th>\n",
       "      <th>lu_category_5</th>\n",
       "      <th>lu_category_6</th>\n",
       "      <th>lu_category_7</th>\n",
       "      <th>...</th>\n",
       "      <th>req_source_category_3_total_street</th>\n",
       "      <th>req_source_category_4_total_street</th>\n",
       "      <th>req_source_category_5_total_street</th>\n",
       "      <th>req_source_category_0_total_zip</th>\n",
       "      <th>req_source_category_1_total_zip</th>\n",
       "      <th>req_source_category_2_total_zip</th>\n",
       "      <th>req_source_category_3_total_zip</th>\n",
       "      <th>req_source_category_4_total_zip</th>\n",
       "      <th>req_source_category_5_total_zip</th>\n",
       "      <th>label</th>\n",
       "    </tr>\n",
       "  </thead>\n",
       "  <tbody>\n",
       "    <tr>\n",
       "      <th>0</th>\n",
       "      <td>2108</td>\n",
       "      <td>4</td>\n",
       "      <td>0.0</td>\n",
       "      <td>0.0</td>\n",
       "      <td>0.0</td>\n",
       "      <td>0.0</td>\n",
       "      <td>1.0</td>\n",
       "      <td>0.0</td>\n",
       "      <td>0.0</td>\n",
       "      <td>0.0</td>\n",
       "      <td>...</td>\n",
       "      <td>0.0</td>\n",
       "      <td>0.0</td>\n",
       "      <td>0.0</td>\n",
       "      <td>0.0</td>\n",
       "      <td>0.0</td>\n",
       "      <td>0.0</td>\n",
       "      <td>0.0</td>\n",
       "      <td>0.0</td>\n",
       "      <td>0.0</td>\n",
       "      <td>1</td>\n",
       "    </tr>\n",
       "    <tr>\n",
       "      <th>1</th>\n",
       "      <td>2108</td>\n",
       "      <td>6</td>\n",
       "      <td>0.0</td>\n",
       "      <td>0.0</td>\n",
       "      <td>0.0</td>\n",
       "      <td>0.0</td>\n",
       "      <td>0.0</td>\n",
       "      <td>0.0</td>\n",
       "      <td>1.0</td>\n",
       "      <td>0.0</td>\n",
       "      <td>...</td>\n",
       "      <td>0.0</td>\n",
       "      <td>0.0</td>\n",
       "      <td>0.0</td>\n",
       "      <td>0.0</td>\n",
       "      <td>0.0</td>\n",
       "      <td>0.0</td>\n",
       "      <td>0.0</td>\n",
       "      <td>0.0</td>\n",
       "      <td>0.0</td>\n",
       "      <td>1</td>\n",
       "    </tr>\n",
       "    <tr>\n",
       "      <th>2</th>\n",
       "      <td>2108</td>\n",
       "      <td>0</td>\n",
       "      <td>1.0</td>\n",
       "      <td>0.0</td>\n",
       "      <td>0.0</td>\n",
       "      <td>0.0</td>\n",
       "      <td>0.0</td>\n",
       "      <td>0.0</td>\n",
       "      <td>0.0</td>\n",
       "      <td>0.0</td>\n",
       "      <td>...</td>\n",
       "      <td>0.0</td>\n",
       "      <td>0.0</td>\n",
       "      <td>0.0</td>\n",
       "      <td>0.0</td>\n",
       "      <td>0.0</td>\n",
       "      <td>0.0</td>\n",
       "      <td>0.0</td>\n",
       "      <td>0.0</td>\n",
       "      <td>0.0</td>\n",
       "      <td>1</td>\n",
       "    </tr>\n",
       "    <tr>\n",
       "      <th>3</th>\n",
       "      <td>2108</td>\n",
       "      <td>6</td>\n",
       "      <td>0.0</td>\n",
       "      <td>0.0</td>\n",
       "      <td>0.0</td>\n",
       "      <td>0.0</td>\n",
       "      <td>0.0</td>\n",
       "      <td>0.0</td>\n",
       "      <td>1.0</td>\n",
       "      <td>0.0</td>\n",
       "      <td>...</td>\n",
       "      <td>0.0</td>\n",
       "      <td>0.0</td>\n",
       "      <td>0.0</td>\n",
       "      <td>0.0</td>\n",
       "      <td>0.0</td>\n",
       "      <td>0.0</td>\n",
       "      <td>0.0</td>\n",
       "      <td>0.0</td>\n",
       "      <td>0.0</td>\n",
       "      <td>1</td>\n",
       "    </tr>\n",
       "    <tr>\n",
       "      <th>4</th>\n",
       "      <td>2108</td>\n",
       "      <td>6</td>\n",
       "      <td>0.0</td>\n",
       "      <td>0.0</td>\n",
       "      <td>0.0</td>\n",
       "      <td>0.0</td>\n",
       "      <td>0.0</td>\n",
       "      <td>0.0</td>\n",
       "      <td>1.0</td>\n",
       "      <td>0.0</td>\n",
       "      <td>...</td>\n",
       "      <td>0.0</td>\n",
       "      <td>0.0</td>\n",
       "      <td>0.0</td>\n",
       "      <td>0.0</td>\n",
       "      <td>0.0</td>\n",
       "      <td>0.0</td>\n",
       "      <td>0.0</td>\n",
       "      <td>0.0</td>\n",
       "      <td>0.0</td>\n",
       "      <td>1</td>\n",
       "    </tr>\n",
       "    <tr>\n",
       "      <th>...</th>\n",
       "      <td>...</td>\n",
       "      <td>...</td>\n",
       "      <td>...</td>\n",
       "      <td>...</td>\n",
       "      <td>...</td>\n",
       "      <td>...</td>\n",
       "      <td>...</td>\n",
       "      <td>...</td>\n",
       "      <td>...</td>\n",
       "      <td>...</td>\n",
       "      <td>...</td>\n",
       "      <td>...</td>\n",
       "      <td>...</td>\n",
       "      <td>...</td>\n",
       "      <td>...</td>\n",
       "      <td>...</td>\n",
       "      <td>...</td>\n",
       "      <td>...</td>\n",
       "      <td>...</td>\n",
       "      <td>...</td>\n",
       "      <td>...</td>\n",
       "    </tr>\n",
       "    <tr>\n",
       "      <th>97510</th>\n",
       "      <td>2135</td>\n",
       "      <td>4</td>\n",
       "      <td>0.0</td>\n",
       "      <td>0.0</td>\n",
       "      <td>0.0</td>\n",
       "      <td>0.0</td>\n",
       "      <td>1.0</td>\n",
       "      <td>0.0</td>\n",
       "      <td>0.0</td>\n",
       "      <td>0.0</td>\n",
       "      <td>...</td>\n",
       "      <td>0.0</td>\n",
       "      <td>0.0</td>\n",
       "      <td>0.0</td>\n",
       "      <td>0.0</td>\n",
       "      <td>0.0</td>\n",
       "      <td>0.0</td>\n",
       "      <td>0.0</td>\n",
       "      <td>0.0</td>\n",
       "      <td>0.0</td>\n",
       "      <td>26</td>\n",
       "    </tr>\n",
       "    <tr>\n",
       "      <th>97511</th>\n",
       "      <td>2135</td>\n",
       "      <td>7</td>\n",
       "      <td>0.0</td>\n",
       "      <td>0.0</td>\n",
       "      <td>0.0</td>\n",
       "      <td>0.0</td>\n",
       "      <td>0.0</td>\n",
       "      <td>0.0</td>\n",
       "      <td>0.0</td>\n",
       "      <td>1.0</td>\n",
       "      <td>...</td>\n",
       "      <td>0.0</td>\n",
       "      <td>0.0</td>\n",
       "      <td>0.0</td>\n",
       "      <td>0.0</td>\n",
       "      <td>0.0</td>\n",
       "      <td>0.0</td>\n",
       "      <td>0.0</td>\n",
       "      <td>0.0</td>\n",
       "      <td>0.0</td>\n",
       "      <td>26</td>\n",
       "    </tr>\n",
       "    <tr>\n",
       "      <th>97512</th>\n",
       "      <td>2135</td>\n",
       "      <td>12</td>\n",
       "      <td>0.0</td>\n",
       "      <td>0.0</td>\n",
       "      <td>0.0</td>\n",
       "      <td>0.0</td>\n",
       "      <td>0.0</td>\n",
       "      <td>0.0</td>\n",
       "      <td>0.0</td>\n",
       "      <td>0.0</td>\n",
       "      <td>...</td>\n",
       "      <td>0.0</td>\n",
       "      <td>0.0</td>\n",
       "      <td>0.0</td>\n",
       "      <td>0.0</td>\n",
       "      <td>0.0</td>\n",
       "      <td>0.0</td>\n",
       "      <td>0.0</td>\n",
       "      <td>0.0</td>\n",
       "      <td>0.0</td>\n",
       "      <td>26</td>\n",
       "    </tr>\n",
       "    <tr>\n",
       "      <th>97513</th>\n",
       "      <td>2135</td>\n",
       "      <td>2</td>\n",
       "      <td>0.0</td>\n",
       "      <td>0.0</td>\n",
       "      <td>1.0</td>\n",
       "      <td>0.0</td>\n",
       "      <td>0.0</td>\n",
       "      <td>0.0</td>\n",
       "      <td>0.0</td>\n",
       "      <td>0.0</td>\n",
       "      <td>...</td>\n",
       "      <td>0.0</td>\n",
       "      <td>0.0</td>\n",
       "      <td>0.0</td>\n",
       "      <td>0.0</td>\n",
       "      <td>0.0</td>\n",
       "      <td>0.0</td>\n",
       "      <td>0.0</td>\n",
       "      <td>0.0</td>\n",
       "      <td>0.0</td>\n",
       "      <td>26</td>\n",
       "    </tr>\n",
       "    <tr>\n",
       "      <th>97514</th>\n",
       "      <td>2135</td>\n",
       "      <td>7</td>\n",
       "      <td>0.0</td>\n",
       "      <td>0.0</td>\n",
       "      <td>0.0</td>\n",
       "      <td>0.0</td>\n",
       "      <td>0.0</td>\n",
       "      <td>0.0</td>\n",
       "      <td>0.0</td>\n",
       "      <td>1.0</td>\n",
       "      <td>...</td>\n",
       "      <td>0.0</td>\n",
       "      <td>0.0</td>\n",
       "      <td>0.0</td>\n",
       "      <td>0.0</td>\n",
       "      <td>0.0</td>\n",
       "      <td>0.0</td>\n",
       "      <td>0.0</td>\n",
       "      <td>0.0</td>\n",
       "      <td>0.0</td>\n",
       "      <td>26</td>\n",
       "    </tr>\n",
       "  </tbody>\n",
       "</table>\n",
       "<p>97515 rows × 364 columns</p>\n",
       "</div>"
      ],
      "text/plain": [
       "       zipcode  lu_category  lu_category_0  lu_category_1  lu_category_2  \\\n",
       "0         2108            4            0.0            0.0            0.0   \n",
       "1         2108            6            0.0            0.0            0.0   \n",
       "2         2108            0            1.0            0.0            0.0   \n",
       "3         2108            6            0.0            0.0            0.0   \n",
       "4         2108            6            0.0            0.0            0.0   \n",
       "...        ...          ...            ...            ...            ...   \n",
       "97510     2135            4            0.0            0.0            0.0   \n",
       "97511     2135            7            0.0            0.0            0.0   \n",
       "97512     2135           12            0.0            0.0            0.0   \n",
       "97513     2135            2            0.0            0.0            1.0   \n",
       "97514     2135            7            0.0            0.0            0.0   \n",
       "\n",
       "       lu_category_3  lu_category_4  lu_category_5  lu_category_6  \\\n",
       "0                0.0            1.0            0.0            0.0   \n",
       "1                0.0            0.0            0.0            1.0   \n",
       "2                0.0            0.0            0.0            0.0   \n",
       "3                0.0            0.0            0.0            1.0   \n",
       "4                0.0            0.0            0.0            1.0   \n",
       "...              ...            ...            ...            ...   \n",
       "97510            0.0            1.0            0.0            0.0   \n",
       "97511            0.0            0.0            0.0            0.0   \n",
       "97512            0.0            0.0            0.0            0.0   \n",
       "97513            0.0            0.0            0.0            0.0   \n",
       "97514            0.0            0.0            0.0            0.0   \n",
       "\n",
       "       lu_category_7  ...  req_source_category_3_total_street  \\\n",
       "0                0.0  ...                                 0.0   \n",
       "1                0.0  ...                                 0.0   \n",
       "2                0.0  ...                                 0.0   \n",
       "3                0.0  ...                                 0.0   \n",
       "4                0.0  ...                                 0.0   \n",
       "...              ...  ...                                 ...   \n",
       "97510            0.0  ...                                 0.0   \n",
       "97511            1.0  ...                                 0.0   \n",
       "97512            0.0  ...                                 0.0   \n",
       "97513            0.0  ...                                 0.0   \n",
       "97514            1.0  ...                                 0.0   \n",
       "\n",
       "       req_source_category_4_total_street  req_source_category_5_total_street  \\\n",
       "0                                     0.0                                 0.0   \n",
       "1                                     0.0                                 0.0   \n",
       "2                                     0.0                                 0.0   \n",
       "3                                     0.0                                 0.0   \n",
       "4                                     0.0                                 0.0   \n",
       "...                                   ...                                 ...   \n",
       "97510                                 0.0                                 0.0   \n",
       "97511                                 0.0                                 0.0   \n",
       "97512                                 0.0                                 0.0   \n",
       "97513                                 0.0                                 0.0   \n",
       "97514                                 0.0                                 0.0   \n",
       "\n",
       "       req_source_category_0_total_zip  req_source_category_1_total_zip  \\\n",
       "0                                  0.0                              0.0   \n",
       "1                                  0.0                              0.0   \n",
       "2                                  0.0                              0.0   \n",
       "3                                  0.0                              0.0   \n",
       "4                                  0.0                              0.0   \n",
       "...                                ...                              ...   \n",
       "97510                              0.0                              0.0   \n",
       "97511                              0.0                              0.0   \n",
       "97512                              0.0                              0.0   \n",
       "97513                              0.0                              0.0   \n",
       "97514                              0.0                              0.0   \n",
       "\n",
       "       req_source_category_2_total_zip  req_source_category_3_total_zip  \\\n",
       "0                                  0.0                              0.0   \n",
       "1                                  0.0                              0.0   \n",
       "2                                  0.0                              0.0   \n",
       "3                                  0.0                              0.0   \n",
       "4                                  0.0                              0.0   \n",
       "...                                ...                              ...   \n",
       "97510                              0.0                              0.0   \n",
       "97511                              0.0                              0.0   \n",
       "97512                              0.0                              0.0   \n",
       "97513                              0.0                              0.0   \n",
       "97514                              0.0                              0.0   \n",
       "\n",
       "       req_source_category_4_total_zip req_source_category_5_total_zip label  \n",
       "0                                  0.0                             0.0     1  \n",
       "1                                  0.0                             0.0     1  \n",
       "2                                  0.0                             0.0     1  \n",
       "3                                  0.0                             0.0     1  \n",
       "4                                  0.0                             0.0     1  \n",
       "...                                ...                             ...   ...  \n",
       "97510                              0.0                             0.0    26  \n",
       "97511                              0.0                             0.0    26  \n",
       "97512                              0.0                             0.0    26  \n",
       "97513                              0.0                             0.0    26  \n",
       "97514                              0.0                             0.0    26  \n",
       "\n",
       "[97515 rows x 364 columns]"
      ]
     },
     "execution_count": 179,
     "metadata": {},
     "output_type": "execute_result"
    }
   ],
   "source": [
    "main"
   ]
  },
  {
   "cell_type": "markdown",
   "metadata": {},
   "source": [
    "# Save Files"
   ]
  },
  {
   "cell_type": "code",
   "execution_count": 107,
   "metadata": {
    "ExecuteTime": {
     "end_time": "2020-06-04T17:53:34.040192Z",
     "start_time": "2020-06-04T17:53:26.425147Z"
    }
   },
   "outputs": [],
   "source": [
    "# data.to_csv(\"../data/clean-data/data-engineered.csv\")\n",
    "# pw_df.to_csv(\"../data/clean-data/pw_df-engineered.csv\")\n",
    "# fire_df.to_csv(\"../data/clean-data/fire_df-engineered.csv\")\n",
    "# requests_df.to_csv(\"../data/clean-data/requests_df-engineered.csv\")"
   ]
  },
  {
   "cell_type": "code",
   "execution_count": null,
   "metadata": {
    "ExecuteTime": {
     "end_time": "2020-06-04T00:06:44.599312Z",
     "start_time": "2020-06-04T00:06:39.452Z"
    }
   },
   "outputs": [],
   "source": [
    "# data_1.to_csv(\"../data/clean-data/data_1-eng.csv\")\n",
    "# pd.read_csv(\"../data/clean-data/data_1-eng.csv\")"
   ]
  },
  {
   "cell_type": "code",
   "execution_count": null,
   "metadata": {},
   "outputs": [],
   "source": []
  },
  {
   "cell_type": "code",
   "execution_count": 180,
   "metadata": {
    "ExecuteTime": {
     "end_time": "2020-06-04T18:16:34.408398Z",
     "start_time": "2020-06-04T18:16:13.681574Z"
    }
   },
   "outputs": [],
   "source": [
    "# THE NEW CLEAN, EDA AND MODEL READY DATAFRAME\n",
    "main.to_csv(\"../data/clean-data/main-engineered.csv\")"
   ]
  }
 ],
 "metadata": {
  "kernelspec": {
   "display_name": "Python 3",
   "language": "python",
   "name": "python3"
  },
  "language_info": {
   "codemirror_mode": {
    "name": "ipython",
    "version": 3
   },
   "file_extension": ".py",
   "mimetype": "text/x-python",
   "name": "python",
   "nbconvert_exporter": "python",
   "pygments_lexer": "ipython3",
   "version": "3.7.6"
  },
  "toc": {
   "base_numbering": 1,
   "nav_menu": {},
   "number_sections": true,
   "sideBar": true,
   "skip_h1_title": false,
   "title_cell": "Table of Contents",
   "title_sidebar": "Contents",
   "toc_cell": false,
   "toc_position": {},
   "toc_section_display": true,
   "toc_window_display": false
  }
 },
 "nbformat": 4,
 "nbformat_minor": 4
}
